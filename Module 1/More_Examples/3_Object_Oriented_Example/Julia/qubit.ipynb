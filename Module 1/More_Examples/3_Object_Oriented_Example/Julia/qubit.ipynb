{
 "cells": [
  {
   "cell_type": "markdown",
   "metadata": {},
   "source": [
    "This is the tutorial for OOP in Julia. Note: in order to run this notebook, you will need to have Julia installed, which you can do [here](https://julialang.org/downloads/). If you don't want to deal with that right now, you will still be able to learn from reading through the code snippets throughout this notebook, but they will not be interactive.\n",
    "\n",
    "First, we recreate our Qubit class:"
   ]
  },
  {
   "cell_type": "code",
   "execution_count": null,
   "metadata": {},
   "outputs": [],
   "source": [
    "mutable struct Qubit\n",
    "    up::Float64\n",
    "    down::Float64\n",
    "end"
   ]
  },
  {
   "cell_type": "markdown",
   "metadata": {},
   "source": [
    "Julia does not have methods associated to a class; instead, we ust define a function which takes a particular object as a parameter."
   ]
  },
  {
   "cell_type": "code",
   "execution_count": null,
   "metadata": {},
   "outputs": [],
   "source": [
    "function X(self::Qubit)\n",
    "    temp = self.up\n",
    "    self.up = self.down\n",
    "    self.down = temp\n",
    "end"
   ]
  },
  {
   "cell_type": "markdown",
   "metadata": {},
   "source": [
    "Finally, we'll use this code and confirm that our simple X gate works:"
   ]
  },
  {
   "cell_type": "code",
   "execution_count": null,
   "metadata": {},
   "outputs": [],
   "source": [
    "function main()\n",
    "    q1 = Qubit(1, 0)\n",
    "    X(q1)\n",
    "    println(q1.up)\n",
    "    println(q1.down)\n",
    "end\n",
    "\n",
    "main()"
   ]
  },
  {
   "cell_type": "markdown",
   "metadata": {},
   "source": [
    "The token stream from our code can be generated easily using `Tokenize`. First, we install it"
   ]
  },
  {
   "cell_type": "code",
   "execution_count": null,
   "metadata": {},
   "outputs": [],
   "source": [
    "using Pkg\n",
    "Pkg.add(\"Tokenize\")"
   ]
  },
  {
   "cell_type": "markdown",
   "metadata": {},
   "source": [
    "And then, we use it like so."
   ]
  },
  {
   "cell_type": "code",
   "execution_count": null,
   "metadata": {},
   "outputs": [],
   "source": [
    "using Tokenize\n",
    "\n",
    "collect(tokenize(\"\n",
    "mutable struct Qubit\n",
    "    up::Float64\n",
    "    down::Float64\n",
    "end\n",
    "\n",
    "function X(self::Qubit)\n",
    "    temp = self.up\n",
    "    self.up = self.down\n",
    "    self.down = temp\n",
    "end\n",
    "\n",
    "function main()\n",
    "    q1 = Qubit(1, 0)\n",
    "    X(q1)\n",
    "    println(q1.up)\n",
    "    println(q1.down)\n",
    "end\"))"
   ]
  },
  {
   "cell_type": "markdown",
   "metadata": {},
   "source": [
    "If you didn't run this code, or don't have Julia installed, here is the token stream for convenience:\n",
    "```Julia\n",
    "93-element Vector{Tokenize.Tokens.Token}:\n",
    " 1,1-2,0          WHITESPACE     \"\\n\"\n",
    " 2,1-2,7          KEYWORD        \"mutable\"\n",
    " 2,8-2,8          WHITESPACE     \" \"\n",
    " 2,9-2,14         KEYWORD        \"struct\"\n",
    " 2,15-2,15        WHITESPACE     \" \"\n",
    " 2,16-2,20        IDENTIFIER     \"Qubit\"\n",
    " 2,21-3,4         WHITESPACE     \"\\n    \"\n",
    " 3,5-3,6          IDENTIFIER     \"up\"\n",
    " 3,7-3,8          OP             \"::\"\n",
    " 3,9-3,15         IDENTIFIER     \"Float64\"\n",
    " 3,16-4,4         WHITESPACE     \"\\n    \"\n",
    " 4,5-4,8          IDENTIFIER     \"down\"\n",
    " 4,9-4,10         OP             \"::\"\n",
    " ⋮\n",
    " 16,16-16,17      IDENTIFIER     \"up\"\n",
    " 16,18-16,18      RPAREN         \")\"\n",
    " 16,19-17,4       WHITESPACE     \"\\n    \"\n",
    " 17,5-17,11       IDENTIFIER     \"println\"\n",
    " 17,12-17,12      LPAREN         \"(\"\n",
    " 17,13-17,14      IDENTIFIER     \"q1\"\n",
    " 17,15-17,15      OP             \".\"\n",
    " 17,16-17,19      IDENTIFIER     \"down\"\n",
    " 17,20-17,20      RPAREN         \")\"\n",
    " 17,21-18,0       WHITESPACE     \"\\n\"\n",
    " 18,1-18,3        KEYWORD        \"end\"\n",
    " 18,4-18,3        ENDMARKER      \"\"\n",
    " ```\n",
    "\n",
    "While many tokens were skipped over in the middle, this is still fairly representative. One thing to note is that this is not **truly** what a lexical analyzer would generate, because it chooses to include newline characters. These are not usually considered meaningful tokens, or else they are tracked simply so that if an error arises, the compiler is able to report on which line it occured.\n",
    "\n",
    "After we have our input tokenized, it is time for the AST to be generated. Julia once again has this easily accessible."
   ]
  },
  {
   "cell_type": "code",
   "execution_count": null,
   "metadata": {},
   "outputs": [],
   "source": [
    "dump(:(\n",
    "mutable struct Qubit\n",
    "    up::Float64\n",
    "    down::Float64\n",
    "end,\n",
    "function X(self::Qubit)\n",
    "    temp = self.up\n",
    "    self.up = self.down\n",
    "    self.down = temp\n",
    "end,\n",
    "function main()\n",
    "    q1 = Qubit(1, 0)\n",
    "    X(q1)\n",
    "    println(q1.up)\n",
    "    println(q1.down)\n",
    "end))"
   ]
  },
  {
   "cell_type": "markdown",
   "metadata": {},
   "source": [
    "The entire AST is attached here for completeness:\n",
    "\n",
    "``` Julia\n",
    "Expr\n",
    "  head: Symbol tuple\n",
    "  args: Array{Any}((3,))\n",
    "    1: Expr\n",
    "      head: Symbol struct\n",
    "      args: Array{Any}((3,))\n",
    "        1: Bool true\n",
    "        2: Symbol Qubit\n",
    "        3: Expr\n",
    "          head: Symbol block\n",
    "          args: Array{Any}((4,))\n",
    "            1: LineNumberNode\n",
    "              line: Int64 3\n",
    "              file: Symbol In[26]\n",
    "            2: Expr\n",
    "              head: Symbol ::\n",
    "              args: Array{Any}((2,))\n",
    "                1: Symbol up\n",
    "                2: Symbol Float64\n",
    "            3: LineNumberNode\n",
    "              line: Int64 4\n",
    "              file: Symbol In[26]\n",
    "            4: Expr\n",
    "              head: Symbol ::\n",
    "              args: Array{Any}((2,))\n",
    "                1: Symbol down\n",
    "                2: Symbol Float64\n",
    "    2: Expr\n",
    "      head: Symbol function\n",
    "      args: Array{Any}((2,))\n",
    "        1: Expr\n",
    "          head: Symbol call\n",
    "          args: Array{Any}((2,))\n",
    "            1: Symbol X\n",
    "            2: Expr\n",
    "              head: Symbol ::\n",
    "              args: Array{Any}((2,))\n",
    "                1: Symbol self\n",
    "                2: Symbol Qubit\n",
    "        2: Expr\n",
    "          head: Symbol block\n",
    "          args: Array{Any}((7,))\n",
    "            1: LineNumberNode\n",
    "              line: Int64 6\n",
    "              file: Symbol In[26]\n",
    "            2: LineNumberNode\n",
    "              line: Int64 7\n",
    "              file: Symbol In[26]\n",
    "            3: Expr\n",
    "              head: Symbol =\n",
    "              args: Array{Any}((2,))\n",
    "                1: Symbol temp\n",
    "                2: Expr\n",
    "            4: LineNumberNode\n",
    "              line: Int64 8\n",
    "              file: Symbol In[26]\n",
    "            5: Expr\n",
    "              head: Symbol =\n",
    "              args: Array{Any}((2,))\n",
    "                1: Expr\n",
    "                2: Expr\n",
    "            6: LineNumberNode\n",
    "              line: Int64 9\n",
    "              file: Symbol In[26]\n",
    "            7: Expr\n",
    "              head: Symbol =\n",
    "              args: Array{Any}((2,))\n",
    "                1: Expr\n",
    "                2: Symbol temp\n",
    "    3: Expr\n",
    "      head: Symbol function\n",
    "      args: Array{Any}((2,))\n",
    "        1: Expr\n",
    "          head: Symbol call\n",
    "          args: Array{Any}((1,))\n",
    "            1: Symbol main\n",
    "        2: Expr\n",
    "          head: Symbol block\n",
    "          args: Array{Any}((9,))\n",
    "            1: LineNumberNode\n",
    "              line: Int64 11\n",
    "              file: Symbol In[26]\n",
    "            2: LineNumberNode\n",
    "              line: Int64 12\n",
    "              file: Symbol In[26]\n",
    "            3: Expr\n",
    "              head: Symbol =\n",
    "              args: Array{Any}((2,))\n",
    "                1: Symbol q1\n",
    "                2: Expr\n",
    "            4: LineNumberNode\n",
    "              line: Int64 13\n",
    "              file: Symbol In[26]\n",
    "            5: Expr\n",
    "              head: Symbol call\n",
    "              args: Array{Any}((2,))\n",
    "                1: Symbol X\n",
    "                2: Symbol q1\n",
    "            6: LineNumberNode\n",
    "              line: Int64 14\n",
    "              file: Symbol In[26]\n",
    "            7: Expr\n",
    "              head: Symbol call\n",
    "              args: Array{Any}((2,))\n",
    "                1: Symbol println\n",
    "                2: Expr\n",
    "            8: LineNumberNode\n",
    "              line: Int64 15\n",
    "              file: Symbol In[26]\n",
    "            9: Expr\n",
    "              head: Symbol call\n",
    "              args: Array{Any}((2,))\n",
    "                1: Symbol println\n",
    "                2: Expr\n",
    "\n",
    "```\n",
    "\n",
    "As can be seen, the Julia AST is among the longer ones we've seen. It's > 100 lines for a fairly short code snippet. However, that is offset by how human-readable it is. It is much more minimal than clang's AST, for example; while that had many different types of nodes, each with many different attributes, Julia internally handles most functionality under the single `Expr` node. For example, both assignment operations and function calls are treated identically as `Expr` subtrees, where the `Head` value specifies the operation to be performed and the arguments (for function calls) or operands (for assignments) are stored as children. Even the struct definition is classified as an `Expr`. Finally, it is worth noting that this AST does indeed make use of all of the `\\n` tokens we saw earlier, and a fair amount of the nodes are `LineNumberNode`s."
   ]
  },
  {
   "cell_type": "markdown",
   "metadata": {},
   "source": [
    "Finally, we want to see the LLVM IR for our Julia code. What if we try to just look at our `main()` function?"
   ]
  },
  {
   "cell_type": "code",
   "execution_count": null,
   "metadata": {},
   "outputs": [],
   "source": [
    "@code_llvm main()"
   ]
  },
  {
   "cell_type": "markdown",
   "metadata": {},
   "source": [
    "(Attached for those who are not running the code)\n",
    "``` Julia\n",
    ";  @ In[27]:1 within `main`\n",
    "; Function Attrs: uwtable\n",
    "define void @julia_main_2232() #0 {\n",
    "top:\n",
    ";  @ In[27]:4 within `main`\n",
    "  call void @j_println_2234(double 0.000000e+00) #0\n",
    ";  @ In[27]:5 within `main`\n",
    "  call void @j_println_2235(double 1.000000e+00) #0\n",
    "  ret void\n",
    "}\n",
    "```\n",
    "\n",
    "Julia has outsmarted us! We can see that ths LLVM is very optimized. The compiler has figured out that there are no conditionals, inputs, or calculations occuring; that our `Qubit` is not used for anything later on, so it's fields don't really matter; and that on every single run through the same result will occur. Accordingly, behind the scenes it has decided NOT to actually `X` our Qubit, but rather skip straight to the answer and simply print 1.0 and 0.0. While this is cool, we would like to see the LLVM for the entire program. Just like a high school math teacher, we will force the compiler to \"show its work\":"
   ]
  },
  {
   "cell_type": "code",
   "execution_count": null,
   "metadata": {},
   "outputs": [],
   "source": [
    "@code_llvm Qubit(1, 0)"
   ]
  },
  {
   "cell_type": "markdown",
   "metadata": {},
   "source": [
    "(Attached for those who do not have Julia installed)\n",
    "``` Julia\n",
    ";  @ In[1]:2 within `Qubit`\n",
    "; Function Attrs: uwtable\n",
    "define nonnull {}* @julia_Qubit_2249(i64 signext %0, i64 signext %1) #0 {\n",
    "top:\n",
    "  %2 = call {}*** inttoptr (i64 34461968 to {}*** ()*)() #3\n",
    "; ┌ @ number.jl:7 within `convert`\n",
    "; │┌ @ float.jl:146 within `Float64`\n",
    "    %3 = sitofp i64 %0 to double\n",
    "    %4 = sitofp i64 %1 to double\n",
    "; └└\n",
    "  %ptls_field3 = getelementptr inbounds {}**, {}*** %2, i64 2305843009213693954\n",
    "  %5 = bitcast {}*** %ptls_field3 to i8**\n",
    "  %ptls_load45 = load i8*, i8** %5, align 8\n",
    "  %6 = call noalias nonnull {}* @jl_gc_pool_alloc(i8* %ptls_load45, i32 1416, i32 32) #4\n",
    "  %7 = bitcast {}* %6 to i64*\n",
    "  %8 = getelementptr inbounds i64, i64* %7, i64 -1\n",
    "  store atomic i64 254227040, i64* %8 unordered, align 8\n",
    "  %9 = bitcast {}* %6 to double*\n",
    "  store double %3, double* %9, align 8\n",
    "  %10 = bitcast {}* %6 to i8*\n",
    "  %11 = getelementptr inbounds i8, i8* %10, i64 8\n",
    "  %12 = bitcast i8* %11 to double*\n",
    "  store double %4, double* %12, align 8\n",
    "  ret {}* %6\n",
    "}\n",
    "```\n",
    "\n",
    "There's the LLVM for the Qubit class. While we saw that its representation in the AST was much simpler than what clang generated for C++, we can see that behind the scenes it is much more similar, as it allocates space and plays with pointers in much the same way. \n",
    "\n",
    "\n",
    "Next, we'll do the same thing for the `X` gate:"
   ]
  },
  {
   "cell_type": "code",
   "execution_count": null,
   "metadata": {},
   "outputs": [],
   "source": [
    "@code_llvm X(Qubit(1, 0))"
   ]
  },
  {
   "cell_type": "markdown",
   "metadata": {},
   "source": [
    "``` Julia\n",
    ";  @ In[3]:1 within `X`\n",
    "; Function Attrs: uwtable\n",
    "define double @julia_X_2251({}* nonnull align 8 dereferenceable(16) %0) #0 {\n",
    "top:\n",
    ";  @ In[3]:2 within `X`\n",
    "; ┌ @ Base.jl:42 within `getproperty`\n",
    "   %1 = bitcast {}* %0 to double*\n",
    "   %2 = load double, double* %1, align 8\n",
    "; └\n",
    ";  @ In[3]:3 within `X`\n",
    "; ┌ @ Base.jl:42 within `getproperty`\n",
    "   %3 = bitcast {}* %0 to i8*\n",
    "   %4 = getelementptr inbounds i8, i8* %3, i64 8\n",
    "   %5 = bitcast i8* %4 to double*\n",
    "   %6 = load double, double* %5, align 8\n",
    "; └\n",
    "; ┌ @ Base.jl:43 within `setproperty!`\n",
    "   store double %6, double* %1, align 8\n",
    "; └\n",
    ";  @ In[3]:4 within `X`\n",
    "; ┌ @ Base.jl:43 within `setproperty!`\n",
    "   store double %2, double* %5, align 8\n",
    "; └\n",
    "  ret double %2\n",
    "}\n",
    "```\n",
    "\n",
    "The annotation Julia does on the LLVM makes it even friendlier and more human readable. The key takeaway is despite superficial differences in coding style and even AST structure, the LLVM representation of OOP in many different languages is robust and similar."
   ]
  }
 ],
 "metadata": {
  "kernelspec": {
   "display_name": "Julia 1.7.3",
   "language": "julia",
   "name": "julia-1.7"
  },
  "language_info": {
   "file_extension": ".jl",
   "mimetype": "application/julia",
   "name": "julia",
   "version": "1.7.3"
  },
  "orig_nbformat": 4
 },
 "nbformat": 4,
 "nbformat_minor": 2
}
