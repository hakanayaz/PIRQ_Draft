{
 "cells": [
  {
   "cell_type": "markdown",
   "metadata": {},
   "source": [
    "# Newton-Raphson: Python to IR\n",
    "Through the course of this notebook, we will translate an implementation of Newton-Raphson iteration written in Python into its IR. First, let's install the packages we'll need to write the code:"
   ]
  },
  {
   "cell_type": "code",
   "execution_count": 1,
   "metadata": {},
   "outputs": [],
   "source": [
    "\n",
    "from scipy import misc"
   ]
  },
  {
   "cell_type": "code",
   "execution_count": 2,
   "metadata": {},
   "outputs": [
    {
     "name": "stdout",
     "output_type": "stream",
     "text": [
      "Iterations = 3.386274509803922\n",
      "Iterations = 2.1940421996902124\n",
      "Iterations = 1.0213612844870927\n",
      "Iterations = -6.064715000477431\n",
      "Iterations = -3.980292142483117\n",
      "Iterations = -2.6545722507864236\n",
      "Iterations = -1.89354698949463\n",
      "Iterations = -1.5723744559981774\n",
      "Iterations = -1.5113165796472743\n",
      "Iterations = -1.509214480427019\n",
      "Iterations = -1.5092120367082593\n",
      "The value of the root is :  -1.5092\n"
     ]
    }
   ],
   "source": [
    "# Newton Raphson Method for extended example of creation IR:\n",
    "# The function is : (4/3)x^3 - (3/2)x^2 + 8\n",
    "def function( x ):\n",
    "    return 4/3*x * x * x - 3/2*x * x + 8\n",
    " \n",
    "# Derivative of the function\n",
    "def derivedFunction( x ):\n",
    "    return 4 * x * x - 3 * x\n",
    " \n",
    "# Function to find the root\n",
    "def newtonIteration( x ):\n",
    "    h = function(x) / derivedFunction(x)\n",
    "    while abs(h) >= 0.0001:\n",
    "        h = function(x)/derivedFunction(x)\n",
    "         \n",
    "        # x(i+1) = x(i) - f(x) / f'(x)\n",
    "        x = x - h\n",
    "        print(\"Iterations =\" ,x)\n",
    "    print(\"The value of the root is : \",\n",
    "                             \"%.4f\"% x)\n",
    "\n",
    "# Testing\n",
    "x0 = 5 # Initial value\n",
    "newtonIteration(x0)\n",
    "# As a results, we'd like to find -1.5092"
   ]
  },
  {
   "cell_type": "markdown",
   "metadata": {},
   "source": [
    "Now that we can see it's working, it's time to look at the lower level representations of our code. Since it's Python, we have the added ability of looking at its bytecode using `dis`, and of course we'll be interested in the AST as well."
   ]
  },
  {
   "cell_type": "code",
   "execution_count": 3,
   "metadata": {},
   "outputs": [],
   "source": [
    "import dis\n",
    "import ast"
   ]
  },
  {
   "cell_type": "markdown",
   "metadata": {},
   "source": [
    "To view the bytecode, we disassemble the main driver function."
   ]
  },
  {
   "cell_type": "code",
   "execution_count": 4,
   "metadata": {},
   "outputs": [
    {
     "name": "stdout",
     "output_type": "stream",
     "text": [
      " 12           0 LOAD_GLOBAL              0 (function)\n",
      "              2 LOAD_FAST                0 (x)\n",
      "              4 CALL_FUNCTION            1\n",
      "              6 LOAD_GLOBAL              1 (derivedFunction)\n",
      "              8 LOAD_FAST                0 (x)\n",
      "             10 CALL_FUNCTION            1\n",
      "             12 BINARY_TRUE_DIVIDE\n",
      "             14 STORE_FAST               1 (h)\n",
      "\n",
      " 13     >>   16 LOAD_GLOBAL              2 (abs)\n",
      "             18 LOAD_FAST                1 (h)\n",
      "             20 CALL_FUNCTION            1\n",
      "             22 LOAD_CONST               1 (0.0001)\n",
      "             24 COMPARE_OP               5 (>=)\n",
      "             26 POP_JUMP_IF_FALSE       64\n",
      "\n",
      " 14          28 LOAD_GLOBAL              0 (function)\n",
      "             30 LOAD_FAST                0 (x)\n",
      "             32 CALL_FUNCTION            1\n",
      "             34 LOAD_GLOBAL              1 (derivedFunction)\n",
      "             36 LOAD_FAST                0 (x)\n",
      "             38 CALL_FUNCTION            1\n",
      "             40 BINARY_TRUE_DIVIDE\n",
      "             42 STORE_FAST               1 (h)\n",
      "\n",
      " 17          44 LOAD_FAST                0 (x)\n",
      "             46 LOAD_FAST                1 (h)\n",
      "             48 BINARY_SUBTRACT\n",
      "             50 STORE_FAST               0 (x)\n",
      "\n",
      " 18          52 LOAD_GLOBAL              3 (print)\n",
      "             54 LOAD_CONST               2 ('Iterations =')\n",
      "             56 LOAD_FAST                0 (x)\n",
      "             58 CALL_FUNCTION            2\n",
      "             60 POP_TOP\n",
      "             62 JUMP_ABSOLUTE           16\n",
      "\n",
      " 19     >>   64 LOAD_GLOBAL              3 (print)\n",
      "             66 LOAD_CONST               3 ('The value of the root is : ')\n",
      "\n",
      " 20          68 LOAD_CONST               4 ('%.4f')\n",
      "             70 LOAD_FAST                0 (x)\n",
      "             72 BINARY_MODULO\n",
      "\n",
      " 19          74 CALL_FUNCTION            2\n",
      "             76 POP_TOP\n",
      "             78 LOAD_CONST               0 (None)\n",
      "             80 RETURN_VALUE\n"
     ]
    }
   ],
   "source": [
    "dis.dis(newtonIteration)"
   ]
  },
  {
   "cell_type": "markdown",
   "metadata": {},
   "source": [
    "The new elements of this example - in particular, function calls - are handled very elegantly in the bytecode. The virtual machine which runs the bytecode for python maintains several stack data structures, so the instruction `CALL_FUNCTION` is as easy as popping the parameters and function name off of the correct stack. The looping is similarly implemented by a pair of `JUMP` instructions, one conditional (instruction 26) and one absolute (not visible in the preview, but instruction 62 in the full output data) which sends us back to instruction 16.\n",
    "\n",
    "Next, the ast package makes it easy for us to view the AST for our code:"
   ]
  },
  {
   "cell_type": "code",
   "execution_count": 7,
   "metadata": {},
   "outputs": [
    {
     "ename": "TypeError",
     "evalue": "dump() got an unexpected keyword argument 'indent'",
     "output_type": "error",
     "traceback": [
      "\u001b[1;31m---------------------------------------------------------------------------\u001b[0m",
      "\u001b[1;31mTypeError\u001b[0m                                 Traceback (most recent call last)",
      "\u001b[1;32mc:\\Users\\piegu\\Documents\\PIRQ\\PIRQ_Draft\\Module 1\\More_Examples\\2_Newton_Raphson\\Python\\Newton_Raphson.ipynb Cell 9'\u001b[0m in \u001b[0;36m<cell line: 1>\u001b[1;34m()\u001b[0m\n\u001b[1;32m----> <a href='vscode-notebook-cell:/c%3A/Users/piegu/Documents/PIRQ/PIRQ_Draft/Module%201/More_Examples/2_Newton_Raphson/Python/Newton_Raphson.ipynb#ch0000007?line=0'>1</a>\u001b[0m \u001b[39mprint\u001b[39m(ast\u001b[39m.\u001b[39;49mdump(ast\u001b[39m.\u001b[39;49mparse(\u001b[39m\"\"\"\u001b[39;49m\n\u001b[0;32m      <a href='vscode-notebook-cell:/c%3A/Users/piegu/Documents/PIRQ/PIRQ_Draft/Module%201/More_Examples/2_Newton_Raphson/Python/Newton_Raphson.ipynb#ch0000007?line=1'>2</a>\u001b[0m \u001b[39m# Newton Raphson Method for extended example of creation IR:\u001b[39;49m\n\u001b[0;32m      <a href='vscode-notebook-cell:/c%3A/Users/piegu/Documents/PIRQ/PIRQ_Draft/Module%201/More_Examples/2_Newton_Raphson/Python/Newton_Raphson.ipynb#ch0000007?line=2'>3</a>\u001b[0m \u001b[39m# The function is : (4/3)x^3 - (3/2)x^2 + 8\u001b[39;49m\n\u001b[0;32m      <a href='vscode-notebook-cell:/c%3A/Users/piegu/Documents/PIRQ/PIRQ_Draft/Module%201/More_Examples/2_Newton_Raphson/Python/Newton_Raphson.ipynb#ch0000007?line=3'>4</a>\u001b[0m \u001b[39mdef function( x ):\u001b[39;49m\n\u001b[0;32m      <a href='vscode-notebook-cell:/c%3A/Users/piegu/Documents/PIRQ/PIRQ_Draft/Module%201/More_Examples/2_Newton_Raphson/Python/Newton_Raphson.ipynb#ch0000007?line=4'>5</a>\u001b[0m \u001b[39m    return 4/3*x * x * x - 3/2*x * x + 8\u001b[39;49m\n\u001b[0;32m      <a href='vscode-notebook-cell:/c%3A/Users/piegu/Documents/PIRQ/PIRQ_Draft/Module%201/More_Examples/2_Newton_Raphson/Python/Newton_Raphson.ipynb#ch0000007?line=5'>6</a>\u001b[0m \u001b[39m \u001b[39;49m\n\u001b[0;32m      <a href='vscode-notebook-cell:/c%3A/Users/piegu/Documents/PIRQ/PIRQ_Draft/Module%201/More_Examples/2_Newton_Raphson/Python/Newton_Raphson.ipynb#ch0000007?line=6'>7</a>\u001b[0m \u001b[39m# Derivative of the function\u001b[39;49m\n\u001b[0;32m      <a href='vscode-notebook-cell:/c%3A/Users/piegu/Documents/PIRQ/PIRQ_Draft/Module%201/More_Examples/2_Newton_Raphson/Python/Newton_Raphson.ipynb#ch0000007?line=7'>8</a>\u001b[0m \u001b[39mdef deriveFunction( x ):\u001b[39;49m\n\u001b[0;32m      <a href='vscode-notebook-cell:/c%3A/Users/piegu/Documents/PIRQ/PIRQ_Draft/Module%201/More_Examples/2_Newton_Raphson/Python/Newton_Raphson.ipynb#ch0000007?line=8'>9</a>\u001b[0m \u001b[39m    return 4 * x * x - 3 * x\u001b[39;49m\n\u001b[0;32m     <a href='vscode-notebook-cell:/c%3A/Users/piegu/Documents/PIRQ/PIRQ_Draft/Module%201/More_Examples/2_Newton_Raphson/Python/Newton_Raphson.ipynb#ch0000007?line=9'>10</a>\u001b[0m \u001b[39m \u001b[39;49m\n\u001b[0;32m     <a href='vscode-notebook-cell:/c%3A/Users/piegu/Documents/PIRQ/PIRQ_Draft/Module%201/More_Examples/2_Newton_Raphson/Python/Newton_Raphson.ipynb#ch0000007?line=10'>11</a>\u001b[0m \u001b[39m# Function to find the root\u001b[39;49m\n\u001b[0;32m     <a href='vscode-notebook-cell:/c%3A/Users/piegu/Documents/PIRQ/PIRQ_Draft/Module%201/More_Examples/2_Newton_Raphson/Python/Newton_Raphson.ipynb#ch0000007?line=11'>12</a>\u001b[0m \u001b[39mdef newtonIteration( x ):\u001b[39;49m\n\u001b[0;32m     <a href='vscode-notebook-cell:/c%3A/Users/piegu/Documents/PIRQ/PIRQ_Draft/Module%201/More_Examples/2_Newton_Raphson/Python/Newton_Raphson.ipynb#ch0000007?line=12'>13</a>\u001b[0m \u001b[39m    h = function(x) / deriveFunction(x)\u001b[39;49m\n\u001b[0;32m     <a href='vscode-notebook-cell:/c%3A/Users/piegu/Documents/PIRQ/PIRQ_Draft/Module%201/More_Examples/2_Newton_Raphson/Python/Newton_Raphson.ipynb#ch0000007?line=13'>14</a>\u001b[0m \u001b[39m    while abs(h) >= 0.0001:\u001b[39;49m\n\u001b[0;32m     <a href='vscode-notebook-cell:/c%3A/Users/piegu/Documents/PIRQ/PIRQ_Draft/Module%201/More_Examples/2_Newton_Raphson/Python/Newton_Raphson.ipynb#ch0000007?line=14'>15</a>\u001b[0m \u001b[39m        h = function(x)/deriveFunction(x)\u001b[39;49m\n\u001b[0;32m     <a href='vscode-notebook-cell:/c%3A/Users/piegu/Documents/PIRQ/PIRQ_Draft/Module%201/More_Examples/2_Newton_Raphson/Python/Newton_Raphson.ipynb#ch0000007?line=15'>16</a>\u001b[0m \u001b[39m         \u001b[39;49m\n\u001b[0;32m     <a href='vscode-notebook-cell:/c%3A/Users/piegu/Documents/PIRQ/PIRQ_Draft/Module%201/More_Examples/2_Newton_Raphson/Python/Newton_Raphson.ipynb#ch0000007?line=16'>17</a>\u001b[0m \u001b[39m        # x(i+1) = x(i) - f(x) / f\u001b[39;49m\u001b[39m'\u001b[39;49m\u001b[39m(x)\u001b[39;49m\n\u001b[0;32m     <a href='vscode-notebook-cell:/c%3A/Users/piegu/Documents/PIRQ/PIRQ_Draft/Module%201/More_Examples/2_Newton_Raphson/Python/Newton_Raphson.ipynb#ch0000007?line=17'>18</a>\u001b[0m \u001b[39m        x = x - h\u001b[39;49m\n\u001b[0;32m     <a href='vscode-notebook-cell:/c%3A/Users/piegu/Documents/PIRQ/PIRQ_Draft/Module%201/More_Examples/2_Newton_Raphson/Python/Newton_Raphson.ipynb#ch0000007?line=18'>19</a>\u001b[0m \u001b[39m        print(\u001b[39;49m\u001b[39m\"\u001b[39;49m\u001b[39mIterations =\u001b[39;49m\u001b[39m\"\u001b[39;49m\u001b[39m ,x)\u001b[39;49m\n\u001b[0;32m     <a href='vscode-notebook-cell:/c%3A/Users/piegu/Documents/PIRQ/PIRQ_Draft/Module%201/More_Examples/2_Newton_Raphson/Python/Newton_Raphson.ipynb#ch0000007?line=19'>20</a>\u001b[0m \u001b[39m    print(\u001b[39;49m\u001b[39m\"\u001b[39;49m\u001b[39mThe value of the root is : \u001b[39;49m\u001b[39m\"\u001b[39;49m\u001b[39m,\u001b[39;49m\n\u001b[0;32m     <a href='vscode-notebook-cell:/c%3A/Users/piegu/Documents/PIRQ/PIRQ_Draft/Module%201/More_Examples/2_Newton_Raphson/Python/Newton_Raphson.ipynb#ch0000007?line=20'>21</a>\u001b[0m \u001b[39m                             \u001b[39;49m\u001b[39m\"\u001b[39;49m\u001b[39m%.4f\u001b[39;49;00m\u001b[39m\"\u001b[39;49m\u001b[39m% x\u001b[39;49;00m\u001b[39m)\u001b[39;49m\n\u001b[0;32m     <a href='vscode-notebook-cell:/c%3A/Users/piegu/Documents/PIRQ/PIRQ_Draft/Module%201/More_Examples/2_Newton_Raphson/Python/Newton_Raphson.ipynb#ch0000007?line=21'>22</a>\u001b[0m \n\u001b[0;32m     <a href='vscode-notebook-cell:/c%3A/Users/piegu/Documents/PIRQ/PIRQ_Draft/Module%201/More_Examples/2_Newton_Raphson/Python/Newton_Raphson.ipynb#ch0000007?line=22'>23</a>\u001b[0m \u001b[39m# Testing\u001b[39;49m\n\u001b[0;32m     <a href='vscode-notebook-cell:/c%3A/Users/piegu/Documents/PIRQ/PIRQ_Draft/Module%201/More_Examples/2_Newton_Raphson/Python/Newton_Raphson.ipynb#ch0000007?line=23'>24</a>\u001b[0m \u001b[39mx0 = 5 # Initial value\u001b[39;49m\n\u001b[0;32m     <a href='vscode-notebook-cell:/c%3A/Users/piegu/Documents/PIRQ/PIRQ_Draft/Module%201/More_Examples/2_Newton_Raphson/Python/Newton_Raphson.ipynb#ch0000007?line=24'>25</a>\u001b[0m \u001b[39mnewtonIteration(x0)\u001b[39;49m\n\u001b[0;32m     <a href='vscode-notebook-cell:/c%3A/Users/piegu/Documents/PIRQ/PIRQ_Draft/Module%201/More_Examples/2_Newton_Raphson/Python/Newton_Raphson.ipynb#ch0000007?line=25'>26</a>\u001b[0m \u001b[39m# As a results we need to find -1.5092\u001b[39;49m\n\u001b[0;32m     <a href='vscode-notebook-cell:/c%3A/Users/piegu/Documents/PIRQ/PIRQ_Draft/Module%201/More_Examples/2_Newton_Raphson/Python/Newton_Raphson.ipynb#ch0000007?line=26'>27</a>\u001b[0m \u001b[39m\"\"\"\u001b[39;49m), indent\u001b[39m=\u001b[39;49m\u001b[39m4\u001b[39;49m))\n",
      "\u001b[1;31mTypeError\u001b[0m: dump() got an unexpected keyword argument 'indent'"
     ]
    }
   ],
   "source": [
    "print(ast.dump(ast.parse(\"\"\"\n",
    "# Newton Raphson Method for extended example of creation IR:\n",
    "# The function is : (4/3)x^3 - (3/2)x^2 + 8\n",
    "def function( x ):\n",
    "    return 4/3*x * x * x - 3/2*x * x + 8\n",
    " \n",
    "# Derivative of the function\n",
    "def deriveFunction( x ):\n",
    "    return 4 * x * x - 3 * x\n",
    " \n",
    "# Function to find the root\n",
    "def newtonIteration( x ):\n",
    "    h = function(x) / deriveFunction(x)\n",
    "    while abs(h) >= 0.0001:\n",
    "        h = function(x)/deriveFunction(x)\n",
    "         \n",
    "        # x(i+1) = x(i) - f(x) / f'(x)\n",
    "        x = x - h\n",
    "        print(\"Iterations =\" ,x)\n",
    "    print(\"The value of the root is : \",\n",
    "                             \"%.4f\"% x)\n",
    "\n",
    "# Testing\n",
    "x0 = 5 # Initial value\n",
    "newtonIteration(x0)\n",
    "# As a results we need to find -1.5092\n",
    "\"\"\"), indent=4))"
   ]
  },
  {
   "cell_type": "markdown",
   "metadata": {},
   "source": [
    "It's not terribly instructive, but gives a good idea of the internal structure which can be imposed on the code."
   ]
  }
 ],
 "metadata": {
  "kernelspec": {
   "display_name": "Python 3.8.3 64-bit",
   "language": "python",
   "name": "python3"
  },
  "language_info": {
   "codemirror_mode": {
    "name": "ipython",
    "version": 3
   },
   "file_extension": ".py",
   "mimetype": "text/x-python",
   "name": "python",
   "nbconvert_exporter": "python",
   "pygments_lexer": "ipython3",
   "version": "3.8.3"
  },
  "orig_nbformat": 4,
  "vscode": {
   "interpreter": {
    "hash": "995d16ebf5e1c92414f66722f6b0c9a85a83273b46dad51bd9b391cad0ce3002"
   }
  }
 },
 "nbformat": 4,
 "nbformat_minor": 2
}
