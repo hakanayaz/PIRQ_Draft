{
 "cells": [
  {
   "cell_type": "markdown",
   "metadata": {},
   "source": [
    "# Newton-Raphson: Python to IR\n",
    "Through the course of this notebook, we will translate an implementation of Newton-Raphson iteration written in Python into its IR. First, let's install the packages we'll need to write the code:"
   ]
  },
  {
   "cell_type": "code",
   "execution_count": null,
   "metadata": {},
   "outputs": [],
   "source": [
    "\n",
    "from scipy import misc"
   ]
  },
  {
   "cell_type": "code",
   "execution_count": null,
   "metadata": {},
   "outputs": [],
   "source": [
    "# Newton Raphson Method for extended example of creation IR:\n",
    "# The function is : (4/3)x^3 - (3/2)x^2 + 8\n",
    "def function( x ):\n",
    "    return 4/3*x * x * x - 3/2*x * x + 8\n",
    " \n",
    "# Derivative of the function\n",
    "def derivedFunction( x ):\n",
    "    return 4 * x * x - 3 * x\n",
    " \n",
    "# Function to find the root\n",
    "def newtonIteration( x ):\n",
    "    h = function(x) / derivedFunction(x)\n",
    "    while abs(h) >= 0.0001:\n",
    "        h = function(x)/derivedFunction(x)\n",
    "         \n",
    "        # x(i+1) = x(i) - f(x) / f'(x)\n",
    "        x = x - h\n",
    "        print(\"Iterations =\" ,x)\n",
    "    print(\"The value of the root is : \",\n",
    "                             \"%.4f\"% x)\n",
    "\n",
    "# Testing\n",
    "x0 = 5 # Initial value\n",
    "newtonIteration(x0)\n",
    "# As a results, we'd like to find -1.5092"
   ]
  },
  {
   "cell_type": "markdown",
   "metadata": {},
   "source": [
    "Now that we can see it's working, it's time to look at the lower level representations of our code. Since it's Python, we have the added ability of looking at its bytecode using `dis`, and of course we'll be interested in the AST as well."
   ]
  },
  {
   "cell_type": "code",
   "execution_count": 2,
   "metadata": {},
   "outputs": [],
   "source": [
    "import dis\n",
    "import ast"
   ]
  },
  {
   "cell_type": "markdown",
   "metadata": {},
   "source": [
    "To view the bytecode, we disassemble the main driver function."
   ]
  },
  {
   "cell_type": "code",
   "execution_count": 3,
   "metadata": {},
   "outputs": [
    {
     "name": "stdout",
     "output_type": "stream",
     "text": [
      " 12           0 LOAD_GLOBAL              0 (function)\n",
      "              2 LOAD_FAST                0 (x)\n",
      "              4 CALL_FUNCTION            1\n",
      "              6 LOAD_GLOBAL              1 (derivedFunction)\n",
      "              8 LOAD_FAST                0 (x)\n",
      "             10 CALL_FUNCTION            1\n",
      "             12 BINARY_TRUE_DIVIDE\n",
      "             14 STORE_FAST               1 (h)\n",
      "\n",
      " 13     >>   16 LOAD_GLOBAL              2 (abs)\n",
      "             18 LOAD_FAST                1 (h)\n",
      "             20 CALL_FUNCTION            1\n",
      "             22 LOAD_CONST               1 (0.0001)\n",
      "             24 COMPARE_OP               5 (>=)\n",
      "             26 POP_JUMP_IF_FALSE       64\n",
      "\n",
      " 14          28 LOAD_GLOBAL              0 (function)\n",
      "             30 LOAD_FAST                0 (x)\n",
      "             32 CALL_FUNCTION            1\n",
      "             34 LOAD_GLOBAL              1 (derivedFunction)\n",
      "             36 LOAD_FAST                0 (x)\n",
      "             38 CALL_FUNCTION            1\n",
      "             40 BINARY_TRUE_DIVIDE\n",
      "             42 STORE_FAST               1 (h)\n",
      "\n",
      " 17          44 LOAD_FAST                0 (x)\n",
      "             46 LOAD_FAST                1 (h)\n",
      "             48 BINARY_SUBTRACT\n",
      "             50 STORE_FAST               0 (x)\n",
      "\n",
      " 18          52 LOAD_GLOBAL              3 (print)\n",
      "             54 LOAD_CONST               2 ('Iterations =')\n",
      "             56 LOAD_FAST                0 (x)\n",
      "             58 CALL_FUNCTION            2\n",
      "             60 POP_TOP\n",
      "             62 JUMP_ABSOLUTE           16\n",
      "\n",
      " 19     >>   64 LOAD_GLOBAL              3 (print)\n",
      "             66 LOAD_CONST               3 ('The value of the root is : ')\n",
      "\n",
      " 20          68 LOAD_CONST               4 ('%.4f')\n",
      "             70 LOAD_FAST                0 (x)\n",
      "             72 BINARY_MODULO\n",
      "\n",
      " 19          74 CALL_FUNCTION            2\n",
      "             76 POP_TOP\n",
      "             78 LOAD_CONST               0 (None)\n",
      "             80 RETURN_VALUE\n"
     ]
    }
   ],
   "source": [
    "dis.dis(newtonIteration)"
   ]
  },
  {
   "cell_type": "markdown",
   "metadata": {},
   "source": [
    "The new elements of this example - in particular, function calls - are handled very elegantly in the bytecode. The virtual machine which runs the bytecode for python maintains several stack data structures, so the instruction `CALL_FUNCTION` is as easy as popping the parameters and function name off of the correct stack. The looping is similarly implemented by a pair of `JUMP` instructions, one conditional (instruction 26) and one absolute (not visible in the preview, but instruction 62 in the full output data) which sends us back to instruction 16.\n",
    "\n",
    "Next, the ast package makes it easy for us to view the AST for our code:"
   ]
  },
  {
   "cell_type": "code",
   "execution_count": null,
   "metadata": {},
   "outputs": [],
   "source": [
    "print(ast.dump(ast.parse(\"\"\"\n",
    "# Newton Raphson Method for extended example of creation IR:\n",
    "# The function is : (4/3)x^3 - (3/2)x^2 + 8\n",
    "def function( x ):\n",
    "    return 4/3*x * x * x - 3/2*x * x + 8\n",
    " \n",
    "# Derivative of the function\n",
    "def deriveFunction( x ):\n",
    "    return 4 * x * x - 3 * x\n",
    " \n",
    "# Function to find the root\n",
    "def newtonIteration( x ):\n",
    "    h = function(x) / deriveFunction(x)\n",
    "    while abs(h) >= 0.0001:\n",
    "        h = function(x)/deriveFunction(x)\n",
    "         \n",
    "        # x(i+1) = x(i) - f(x) / f'(x)\n",
    "        x = x - h\n",
    "        print(\"Iterations =\" ,x)\n",
    "    print(\"The value of the root is : \",\n",
    "                             \"%.4f\"% x)\n",
    "\n",
    "# Testing\n",
    "x0 = 5 # Initial value\n",
    "newtonIteration(x0)\n",
    "# As a results we need to find -1.5092\n",
    "\"\"\"), indent=4))"
   ]
  },
  {
   "cell_type": "markdown",
   "metadata": {},
   "source": [
    "It's not terribly instructive, but gives a good idea of the internal structure which can be imposed on the code. The [Numba](Newton_Raphson.rst) and [LLVM IR](Newton_Raphson.ll) are not very instructive either, but we link to them for the sake of completeness."
   ]
  }
 ],
 "metadata": {
  "kernelspec": {
   "display_name": "Python 3.8.3 64-bit",
   "language": "python",
   "name": "python3"
  },
  "language_info": {
   "codemirror_mode": {
    "name": "ipython",
    "version": 3
   },
   "file_extension": ".py",
   "mimetype": "text/x-python",
   "name": "python",
   "nbconvert_exporter": "python",
   "pygments_lexer": "ipython3",
   "version": "3.8.3"
  },
  "orig_nbformat": 4,
  "vscode": {
   "interpreter": {
    "hash": "995d16ebf5e1c92414f66722f6b0c9a85a83273b46dad51bd9b391cad0ce3002"
   }
  }
 },
 "nbformat": 4,
 "nbformat_minor": 2
}
