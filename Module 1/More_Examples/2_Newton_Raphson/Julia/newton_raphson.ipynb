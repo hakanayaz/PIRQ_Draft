{
 "cells": [
  {
   "cell_type": "markdown",
   "metadata": {},
   "source": [
    "# Newton-Raphson: Julia to IR\n",
    "\n",
    "In this tutorial, we will focus on the Newton-Raphson algorithm written in Julia and create IR for the algorithm.\n",
    "\n",
    "The sample code for the Newton-Raphson algorithm is given below:"
   ]
  },
  {
   "cell_type": "code",
   "execution_count": null,
   "metadata": {},
   "outputs": [],
   "source": [
    "function f(x)\n",
    "    (4/3)x^3 - (3/2)x^2 +8\n",
    "end\n",
    "function g(x)\n",
    "    4x^2 - 3x\n",
    "end\n",
    "function newtoniteration(x)\n",
    "    h = f(x) / g(x)\n",
    "    while abs(h) >= 0.0001\n",
    "        h = f(x) / g(x)\n",
    "        x = x - h\n",
    "        println(\"Iterations : \", x)\n",
    "    end\n",
    "    println(\"The value of the root is : \", x)\n",
    "end\n",
    "x0 = 5\n",
    "newtoniteration(x0)"
   ]
  },
  {
   "cell_type": "markdown",
   "metadata": {},
   "source": [
    "For this example, we will jump straight to the IR. You can imagine what the lexical analysis will look like by now, and we will see better ways of conceptualizing and visualizing this programs structure than a long AST.\n",
    "\n",
    "We generate the IR with the `code_llvm` command: remember, we have to give an initial value, as Julia will emit the LLVM as it is actually running."
   ]
  },
  {
   "cell_type": "code",
   "execution_count": 2,
   "metadata": {},
   "outputs": [
    {
     "name": "stdout",
     "output_type": "stream",
     "text": [
      "\u001b[90m;  @ In[1]:7 within `newtoniteration`\u001b[39m\n",
      "\u001b[90m; Function Attrs: uwtable\u001b[39m\n",
      "\u001b[95mdefine\u001b[39m \u001b[36mvoid\u001b[39m \u001b[93m@julia_newtoniteration_985\u001b[39m\u001b[33m(\u001b[39m\u001b[36mi64\u001b[39m \u001b[95msignext\u001b[39m \u001b[0m%0\u001b[33m)\u001b[39m \u001b[0m#0 \u001b[33m{\u001b[39m\n",
      "\u001b[91mtop:\u001b[39m\n",
      "\u001b[90m;  @ In[1]:8 within `newtoniteration`\u001b[39m\n",
      "\u001b[90m; ┌ @ In[1]:2 within `f`\u001b[39m\n",
      "\u001b[90m; │┌ @ intfuncs.jl:313 within `literal_pow`\u001b[39m\n",
      "\u001b[90m; ││┌ @ operators.jl:655 within `*` @ int.jl:88\u001b[39m\n",
      "     \u001b[0m%1 \u001b[0m= \u001b[96m\u001b[1mmul\u001b[22m\u001b[39m \u001b[36mi64\u001b[39m \u001b[0m%0\u001b[0m, \u001b[0m%0\n",
      "     \u001b[0m%2 \u001b[0m= \u001b[96m\u001b[1mmul\u001b[22m\u001b[39m \u001b[36mi64\u001b[39m \u001b[0m%1\u001b[0m, \u001b[0m%0\n",
      "\u001b[90m; │└└\u001b[39m\n",
      "\u001b[90m; │┌ @ promotion.jl:380 within `*`\u001b[39m\n",
      "\u001b[90m; ││┌ @ promotion.jl:350 within `promote`\u001b[39m\n",
      "\u001b[90m; │││┌ @ promotion.jl:327 within `_promote`\u001b[39m\n",
      "\u001b[90m; ││││┌ @ number.jl:7 within `convert`\u001b[39m\n",
      "\u001b[90m; │││││┌ @ float.jl:146 within `Float64`\u001b[39m\n",
      "        \u001b[0m%3 \u001b[0m= \u001b[96m\u001b[1msitofp\u001b[22m\u001b[39m \u001b[36mi64\u001b[39m \u001b[0m%2 \u001b[95mto\u001b[39m \u001b[36mdouble\u001b[39m\n",
      "\u001b[90m; ││└└└└\u001b[39m\n",
      "\u001b[90m; ││ @ promotion.jl:380 within `*` @ float.jl:405\u001b[39m\n",
      "    \u001b[0m%4 \u001b[0m= \u001b[96m\u001b[1mfmul\u001b[22m\u001b[39m \u001b[36mdouble\u001b[39m \u001b[0m%3\u001b[0m, \u001b[33m0x3FF5555555555555\u001b[39m\n",
      "\u001b[90m; ││ @ promotion.jl:380 within `*`\u001b[39m\n",
      "\u001b[90m; ││┌ @ promotion.jl:350 within `promote`\u001b[39m\n",
      "\u001b[90m; │││┌ @ promotion.jl:327 within `_promote`\u001b[39m\n",
      "\u001b[90m; ││││┌ @ number.jl:7 within `convert`\u001b[39m\n",
      "\u001b[90m; │││││┌ @ float.jl:146 within `Float64`\u001b[39m\n",
      "        \u001b[0m%5 \u001b[0m= \u001b[96m\u001b[1msitofp\u001b[22m\u001b[39m \u001b[36mi64\u001b[39m \u001b[0m%1 \u001b[95mto\u001b[39m \u001b[36mdouble\u001b[39m\n",
      "\u001b[90m; ││└└└└\u001b[39m\n",
      "\u001b[90m; ││ @ promotion.jl:380 within `*` @ float.jl:405\u001b[39m\n",
      "    \u001b[0m%6 \u001b[0m= \u001b[96m\u001b[1mfmul\u001b[22m\u001b[39m \u001b[36mdouble\u001b[39m \u001b[0m%5\u001b[0m, \u001b[33m1.500000e+00\u001b[39m\n",
      "\u001b[90m; │└\u001b[39m\n",
      "\u001b[90m; │┌ @ float.jl:402 within `-`\u001b[39m\n",
      "    \u001b[0m%7 \u001b[0m= \u001b[96m\u001b[1mfsub\u001b[22m\u001b[39m \u001b[36mdouble\u001b[39m \u001b[0m%4\u001b[0m, \u001b[0m%6\n",
      "\u001b[90m; │└\u001b[39m\n",
      "\u001b[90m; │┌ @ promotion.jl:379 within `+` @ float.jl:399\u001b[39m\n",
      "    \u001b[0m%8 \u001b[0m= \u001b[96m\u001b[1mfadd\u001b[22m\u001b[39m \u001b[36mdouble\u001b[39m \u001b[0m%7\u001b[0m, \u001b[33m8.000000e+00\u001b[39m\n",
      "\u001b[90m; └└\u001b[39m\n",
      "\u001b[90m; ┌ @ In[1]:5 within `g`\u001b[39m\n",
      "\u001b[90m; │┌ @ int.jl:88 within `*`\u001b[39m\n",
      "    \u001b[0m%9 \u001b[0m= \u001b[96m\u001b[1mshl\u001b[22m\u001b[39m \u001b[36mi64\u001b[39m \u001b[0m%0\u001b[0m, \u001b[33m2\u001b[39m\n",
      "    \u001b[0m%reass.add \u001b[0m= \u001b[96m\u001b[1madd\u001b[22m\u001b[39m \u001b[36mi64\u001b[39m \u001b[0m%9\u001b[0m, \u001b[33m-3\u001b[39m\n",
      "\u001b[90m; │└\u001b[39m\n",
      "\u001b[90m; │┌ @ int.jl:86 within `-`\u001b[39m\n",
      "    \u001b[0m%reass.mul \u001b[0m= \u001b[96m\u001b[1mmul\u001b[22m\u001b[39m \u001b[36mi64\u001b[39m \u001b[0m%reass.add\u001b[0m, \u001b[0m%0\n",
      "\u001b[90m; └└\u001b[39m\n",
      "\u001b[90m; ┌ @ promotion.jl:382 within `/`\u001b[39m\n",
      "\u001b[90m; │┌ @ promotion.jl:350 within `promote`\u001b[39m\n",
      "\u001b[90m; ││┌ @ promotion.jl:327 within `_promote`\u001b[39m\n",
      "\u001b[90m; │││┌ @ number.jl:7 within `convert`\u001b[39m\n",
      "\u001b[90m; ││││┌ @ float.jl:146 within `Float64`\u001b[39m\n",
      "       \u001b[0m%10 \u001b[0m= \u001b[96m\u001b[1msitofp\u001b[22m\u001b[39m \u001b[36mi64\u001b[39m \u001b[0m%reass.mul \u001b[95mto\u001b[39m \u001b[36mdouble\u001b[39m\n",
      "\u001b[90m; │└└└└\u001b[39m\n",
      "\u001b[90m; │ @ promotion.jl:382 within `/` @ float.jl:408\u001b[39m\n",
      "   \u001b[0m%11 \u001b[0m= \u001b[96m\u001b[1mfdiv\u001b[22m\u001b[39m \u001b[36mdouble\u001b[39m \u001b[0m%8\u001b[0m, \u001b[0m%10\n",
      "\u001b[90m; └\u001b[39m\n",
      "\u001b[90m;  @ In[1]:9 within `newtoniteration`\u001b[39m\n",
      "\u001b[90m; ┌ @ float.jl:524 within `abs`\u001b[39m\n",
      "   \u001b[0m%12 \u001b[0m= \u001b[96m\u001b[1mcall\u001b[22m\u001b[39m \u001b[36mdouble\u001b[39m \u001b[93m@llvm.fabs.f64\u001b[39m\u001b[33m(\u001b[39m\u001b[36mdouble\u001b[39m \u001b[0m%11\u001b[33m)\u001b[39m\n",
      "\u001b[90m; └\u001b[39m\n",
      "\u001b[90m; ┌ @ operators.jl:425 within `>=`\u001b[39m\n",
      "\u001b[90m; │┌ @ float.jl:447 within `<=`\u001b[39m\n",
      "    \u001b[0m%13 \u001b[0m= \u001b[96m\u001b[1mfcmp\u001b[22m\u001b[39m \u001b[96m\u001b[1mult\u001b[22m\u001b[39m \u001b[36mdouble\u001b[39m \u001b[0m%12\u001b[0m, \u001b[33m1.000000e-04\u001b[39m\n",
      "\u001b[90m; └└\u001b[39m\n",
      "  \u001b[96m\u001b[1mbr\u001b[22m\u001b[39m \u001b[36mi1\u001b[39m \u001b[0m%13\u001b[0m, \u001b[36mlabel\u001b[39m \u001b[91m%L105\u001b[39m\u001b[0m, \u001b[36mlabel\u001b[39m \u001b[91m%L21.peel.next\u001b[39m\n",
      "\n",
      "\u001b[91mL21.peel.next:\u001b[39m                                    \u001b[90m; preds = %top\u001b[39m\n",
      "\u001b[90m;  @ In[1]:11 within `newtoniteration`\u001b[39m\n",
      "  \u001b[0m%14 \u001b[0m= \u001b[96m\u001b[1msitofp\u001b[22m\u001b[39m \u001b[36mi64\u001b[39m \u001b[0m%0 \u001b[95mto\u001b[39m \u001b[36mdouble\u001b[39m\n",
      "\u001b[90m;  @ In[1] within `newtoniteration`\u001b[39m\n",
      "  \u001b[0m%value_phi5.peel \u001b[0m= \u001b[96m\u001b[1mfsub\u001b[22m\u001b[39m \u001b[36mdouble\u001b[39m \u001b[0m%14\u001b[0m, \u001b[0m%11\n",
      "\u001b[90m;  @ In[1]:12 within `newtoniteration`\u001b[39m\n",
      "  \u001b[96m\u001b[1mcall\u001b[22m\u001b[39m \u001b[36mvoid\u001b[39m \u001b[93m@j_println_987\u001b[39m\u001b[33m(\u001b[39m\u001b[33m{\u001b[39m\u001b[33m}\u001b[39m\u001b[0m* \u001b[95minttoptr\u001b[39m \u001b[33m(\u001b[39m\u001b[36mi64\u001b[39m \u001b[33m226613936\u001b[39m \u001b[95mto\u001b[39m \u001b[33m{\u001b[39m\u001b[33m}\u001b[39m\u001b[0m*\u001b[33m)\u001b[39m\u001b[0m, \u001b[36mdouble\u001b[39m \u001b[0m%value_phi5.peel\u001b[33m)\u001b[39m \u001b[0m#0\n",
      "\u001b[90m;  @ In[1]:9 within `newtoniteration`\u001b[39m\n",
      "  \u001b[96m\u001b[1mbr\u001b[22m\u001b[39m \u001b[36mlabel\u001b[39m \u001b[91m%L66\u001b[39m\n",
      "\n",
      "\u001b[91mL66:\u001b[39m                                              \u001b[90m; preds = %L66, %L21.peel.next\u001b[39m\n",
      "  \u001b[0m%15 \u001b[0m= \u001b[96m\u001b[1mphi\u001b[22m\u001b[39m \u001b[36mdouble\u001b[39m \u001b[33m[\u001b[39m \u001b[0m%value_phi5.peel\u001b[0m, \u001b[91m%L21.peel.next\u001b[39m \u001b[33m]\u001b[39m\u001b[0m, \u001b[33m[\u001b[39m \u001b[0m%value_phi5\u001b[0m, \u001b[91m%L66\u001b[39m \u001b[33m]\u001b[39m\n",
      "\u001b[90m;  @ In[1]:10 within `newtoniteration`\u001b[39m\n",
      "\u001b[90m; ┌ @ In[1]:2 within `f`\u001b[39m\n",
      "\u001b[90m; │┌ @ intfuncs.jl:313 within `literal_pow`\u001b[39m\n",
      "\u001b[90m; ││┌ @ operators.jl:655 within `*` @ float.jl:405\u001b[39m\n",
      "     \u001b[0m%16 \u001b[0m= \u001b[96m\u001b[1mfmul\u001b[22m\u001b[39m \u001b[36mdouble\u001b[39m \u001b[0m%15\u001b[0m, \u001b[0m%15\n",
      "     \u001b[0m%17 \u001b[0m= \u001b[96m\u001b[1mfmul\u001b[22m\u001b[39m \u001b[36mdouble\u001b[39m \u001b[0m%15\u001b[0m, \u001b[0m%16\n",
      "\u001b[90m; │└└\u001b[39m\n",
      "\u001b[90m; │┌ @ float.jl:405 within `*`\u001b[39m\n",
      "    \u001b[0m%18 \u001b[0m= \u001b[96m\u001b[1mfmul\u001b[22m\u001b[39m \u001b[36mdouble\u001b[39m \u001b[0m%17\u001b[0m, \u001b[33m0x3FF5555555555555\u001b[39m\n",
      "    \u001b[0m%19 \u001b[0m= \u001b[96m\u001b[1mfmul\u001b[22m\u001b[39m \u001b[36mdouble\u001b[39m \u001b[0m%16\u001b[0m, \u001b[33m1.500000e+00\u001b[39m\n",
      "\u001b[90m; │└\u001b[39m\n",
      "\u001b[90m; │┌ @ float.jl:402 within `-`\u001b[39m\n",
      "    \u001b[0m%20 \u001b[0m= \u001b[96m\u001b[1mfsub\u001b[22m\u001b[39m \u001b[36mdouble\u001b[39m \u001b[0m%18\u001b[0m, \u001b[0m%19\n",
      "\u001b[90m; │└\u001b[39m\n",
      "\u001b[90m; │┌ @ promotion.jl:379 within `+` @ float.jl:399\u001b[39m\n",
      "    \u001b[0m%value_phi1 \u001b[0m= \u001b[96m\u001b[1mfadd\u001b[22m\u001b[39m \u001b[36mdouble\u001b[39m \u001b[0m%20\u001b[0m, \u001b[33m8.000000e+00\u001b[39m\n",
      "\u001b[90m; └└\u001b[39m\n",
      "\u001b[90m; ┌ @ In[1]:5 within `g`\u001b[39m\n",
      "\u001b[90m; │┌ @ promotion.jl:380 within `*` @ float.jl:405\u001b[39m\n",
      "    \u001b[0m%21 \u001b[0m= \u001b[96m\u001b[1mfmul\u001b[22m\u001b[39m \u001b[36mdouble\u001b[39m \u001b[0m%16\u001b[0m, \u001b[33m4.000000e+00\u001b[39m\n",
      "    \u001b[0m%22 \u001b[0m= \u001b[96m\u001b[1mfmul\u001b[22m\u001b[39m \u001b[36mdouble\u001b[39m \u001b[0m%15\u001b[0m, \u001b[33m3.000000e+00\u001b[39m\n",
      "\u001b[90m; │└\u001b[39m\n",
      "\u001b[90m; │┌ @ float.jl:402 within `-`\u001b[39m\n",
      "    \u001b[0m%23 \u001b[0m= \u001b[96m\u001b[1mfsub\u001b[22m\u001b[39m \u001b[36mdouble\u001b[39m \u001b[0m%21\u001b[0m, \u001b[0m%22\n",
      "\u001b[90m; └└\u001b[39m\n",
      "\u001b[90m;  @ In[1] within `newtoniteration`\u001b[39m\n",
      "  \u001b[0m%value_phi4 \u001b[0m= \u001b[96m\u001b[1mfdiv\u001b[22m\u001b[39m \u001b[36mdouble\u001b[39m \u001b[0m%value_phi1\u001b[0m, \u001b[0m%23\n",
      "  \u001b[0m%value_phi5 \u001b[0m= \u001b[96m\u001b[1mfsub\u001b[22m\u001b[39m \u001b[36mdouble\u001b[39m \u001b[0m%15\u001b[0m, \u001b[0m%value_phi4\n",
      "\u001b[90m;  @ In[1]:12 within `newtoniteration`\u001b[39m\n",
      "  \u001b[96m\u001b[1mcall\u001b[22m\u001b[39m \u001b[36mvoid\u001b[39m \u001b[93m@j_println_987\u001b[39m\u001b[33m(\u001b[39m\u001b[33m{\u001b[39m\u001b[33m}\u001b[39m\u001b[0m* \u001b[95minttoptr\u001b[39m \u001b[33m(\u001b[39m\u001b[36mi64\u001b[39m \u001b[33m226613936\u001b[39m \u001b[95mto\u001b[39m \u001b[33m{\u001b[39m\u001b[33m}\u001b[39m\u001b[0m*\u001b[33m)\u001b[39m\u001b[0m, \u001b[36mdouble\u001b[39m \u001b[0m%value_phi5\u001b[33m)\u001b[39m \u001b[0m#0\n",
      "\u001b[90m;  @ In[1]:9 within `newtoniteration`\u001b[39m\n",
      "\u001b[90m; ┌ @ float.jl:524 within `abs`\u001b[39m\n",
      "   \u001b[0m%24 \u001b[0m= \u001b[96m\u001b[1mcall\u001b[22m\u001b[39m \u001b[36mdouble\u001b[39m \u001b[93m@llvm.fabs.f64\u001b[39m\u001b[33m(\u001b[39m\u001b[36mdouble\u001b[39m \u001b[0m%value_phi4\u001b[33m)\u001b[39m\n",
      "\u001b[90m; └\u001b[39m\n",
      "\u001b[90m; ┌ @ operators.jl:425 within `>=`\u001b[39m\n",
      "\u001b[90m; │┌ @ float.jl:447 within `<=`\u001b[39m\n",
      "    \u001b[0m%25 \u001b[0m= \u001b[96m\u001b[1mfcmp\u001b[22m\u001b[39m \u001b[96m\u001b[1mult\u001b[22m\u001b[39m \u001b[36mdouble\u001b[39m \u001b[0m%24\u001b[0m, \u001b[33m1.000000e-04\u001b[39m\n",
      "\u001b[90m; └└\u001b[39m\n",
      "  \u001b[96m\u001b[1mbr\u001b[22m\u001b[39m \u001b[36mi1\u001b[39m \u001b[0m%25\u001b[0m, \u001b[36mlabel\u001b[39m \u001b[91m%L100\u001b[39m\u001b[0m, \u001b[36mlabel\u001b[39m \u001b[91m%L66\u001b[39m\n",
      "\n",
      "\u001b[91mL100:\u001b[39m                                             \u001b[90m; preds = %L66\u001b[39m\n",
      "\u001b[90m;  @ In[1]:14 within `newtoniteration`\u001b[39m\n",
      "  \u001b[96m\u001b[1mcall\u001b[22m\u001b[39m \u001b[36mvoid\u001b[39m \u001b[93m@j_println_988\u001b[39m\u001b[33m(\u001b[39m\u001b[33m{\u001b[39m\u001b[33m}\u001b[39m\u001b[0m* \u001b[95minttoptr\u001b[39m \u001b[33m(\u001b[39m\u001b[36mi64\u001b[39m \u001b[33m221817600\u001b[39m \u001b[95mto\u001b[39m \u001b[33m{\u001b[39m\u001b[33m}\u001b[39m\u001b[0m*\u001b[33m)\u001b[39m\u001b[0m, \u001b[36mdouble\u001b[39m \u001b[0m%value_phi5\u001b[33m)\u001b[39m \u001b[0m#0\n",
      "  \u001b[96m\u001b[1mbr\u001b[22m\u001b[39m \u001b[36mlabel\u001b[39m \u001b[91m%L110\u001b[39m\n",
      "\n",
      "\u001b[91mL105:\u001b[39m                                             \u001b[90m; preds = %top\u001b[39m\n",
      "  \u001b[96m\u001b[1mcall\u001b[22m\u001b[39m \u001b[36mvoid\u001b[39m \u001b[93m@j_println_989\u001b[39m\u001b[33m(\u001b[39m\u001b[33m{\u001b[39m\u001b[33m}\u001b[39m\u001b[0m* \u001b[95minttoptr\u001b[39m \u001b[33m(\u001b[39m\u001b[36mi64\u001b[39m \u001b[33m221817600\u001b[39m \u001b[95mto\u001b[39m \u001b[33m{\u001b[39m\u001b[33m}\u001b[39m\u001b[0m*\u001b[33m)\u001b[39m\u001b[0m, \u001b[36mi64\u001b[39m \u001b[95msignext\u001b[39m \u001b[0m%0\u001b[33m)\u001b[39m \u001b[0m#0\n",
      "  \u001b[96m\u001b[1mbr\u001b[22m\u001b[39m \u001b[36mlabel\u001b[39m \u001b[91m%L110\u001b[39m\n",
      "\n",
      "\u001b[91mL110:\u001b[39m                                             \u001b[90m; preds = %L105, %L100\u001b[39m\n",
      "  \u001b[96m\u001b[1mret\u001b[22m\u001b[39m \u001b[36mvoid\u001b[39m\n",
      "\u001b[33m}\u001b[39m\n"
     ]
    }
   ],
   "source": [
    "@code_llvm newtoniteration(5)"
   ]
  },
  {
   "cell_type": "markdown",
   "metadata": {},
   "source": [
    "While Julia gives the most optimized, annotated, and user-friendly IR out of all the high-level languages we've used, at a certain point it just becomes too much. So, we turned to a different way of visualizing.\n",
    "\n",
    "## Visualization of the IR\n",
    "\n",
    "To visualize the IR we will use the \"ShowCode\" package because its easy to represent. To install the package from github you need to use this command given below:"
   ]
  },
  {
   "cell_type": "code",
   "execution_count": null,
   "metadata": {},
   "outputs": [],
   "source": [
    "using Pkg\n",
    "pkg\"add https://github.com/tkf/ShowCode.jl\""
   ]
  },
  {
   "cell_type": "markdown",
   "metadata": {},
   "source": [
    "We will generate LLVM with `@sc_llvm`. Once we have an LLVM code object `c`, we have various options for visualization:\n",
    "``` julia\n",
    "c = @sc_llvm f(args...)\n",
    "\n",
    "c                  # view IR in the REPL\n",
    "display(c)         # (ditto)\n",
    "edit(c)            # open the IR in editor\n",
    "print(c)           # print the IR\n",
    "abspath(c)         # file path to the text containing the IR\n",
    "\n",
    "c.native           # create native code explore\n",
    "c.att              # (ditto)\n",
    "c.intel            # create native code explore in intel syntax\n",
    "eidt(c.native)\n",
    "abspath(c.native)\n",
    "\n",
    "c.cfg              # control-flow graph (CFG) visualizer\n",
    "display(c.cfg)     # display CFG\n",
    "edit(c.cfg.png)    # open PNG file in your editor\n",
    "edit(c.cfg.svg)    # same for SVG\n",
    "abspath(c.cfg.png) # file path to the PNG image\n",
    "c.cfg_only\n",
    "c.dom\n",
    "```\n",
    "\n",
    "We are most interested in the cfg."
   ]
  },
  {
   "cell_type": "code",
   "execution_count": null,
   "metadata": {},
   "outputs": [],
   "source": [
    "using ShowCode\n",
    "\n",
    "c = @sc_llvm newtoniteration(5)\n",
    "\n",
    "display(c.cfg)"
   ]
  },
  {
   "cell_type": "markdown",
   "metadata": {},
   "source": [
    "With this, we can get a nice visualization of the IR.\n",
    "\n",
    "![Newton Raphson CFG - Julia](newton_raphson_julia_cfg.png)\n",
    "\n",
    "We can get an even further simplified version by running"
   ]
  },
  {
   "cell_type": "code",
   "execution_count": null,
   "metadata": {},
   "outputs": [],
   "source": [
    "c.cfg_only"
   ]
  },
  {
   "cell_type": "markdown",
   "metadata": {},
   "source": [
    "![Newton Raphson Simplified CFG - Julia](newton_raphson_julia_cfg_simplified.png)"
   ]
  }
 ],
 "metadata": {
  "kernelspec": {
   "display_name": "Julia 1.7.3",
   "language": "julia",
   "name": "julia-1.7"
  },
  "language_info": {
   "file_extension": ".jl",
   "mimetype": "application/julia",
   "name": "julia",
   "version": "1.7.3"
  },
  "orig_nbformat": 4,
  "vscode": {
   "interpreter": {
    "hash": "995d16ebf5e1c92414f66722f6b0c9a85a83273b46dad51bd9b391cad0ce3002"
   }
  }
 },
 "nbformat": 4,
 "nbformat_minor": 2
}
