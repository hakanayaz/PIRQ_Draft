{
 "cells": [
  {
   "cell_type": "markdown",
   "metadata": {},
   "source": [
    "# Newton-Raphson: Julia to IR\n",
    "\n",
    "In this tutorial, we will focus on the Newton-Raphson algorithm written in Julia and create IR for the algorithm.\n",
    "\n",
    "The sample code for the Newton-Raphson algorithm is given below:"
   ]
  },
  {
   "cell_type": "code",
   "execution_count": 1,
   "metadata": {},
   "outputs": [
    {
     "name": "stdout",
     "output_type": "stream",
     "text": [
      "Iterations : 3.386274509803922\n",
      "Iterations : 2.1940421996902124\n",
      "Iterations : 1.021361284487093\n",
      "Iterations : -6.064715000477422\n",
      "Iterations : -3.9802921424831115\n",
      "Iterations : -2.654572250786421\n",
      "Iterations : -1.8935469894946286\n",
      "Iterations : -1.572374455998177\n",
      "Iterations : -1.5113165796472743\n",
      "Iterations : -1.5092144804270191\n",
      "Iterations : -1.5092120367082595\n",
      "The value of the root is : -1.5092120367082595\n"
     ]
    }
   ],
   "source": [
    "function f(x)\n",
    "    (4/3)x^3 - (3/2)x^2 +8\n",
    "end\n",
    "function g(x)\n",
    "    4x^2 - 3x\n",
    "end\n",
    "function newtoniteration(x)\n",
    "    h = f(x) / g(x)\n",
    "    while abs(h) >= 0.0001\n",
    "        h = f(x) / g(x)\n",
    "        x = x - h\n",
    "        println(\"Iterations : \", x)\n",
    "    end\n",
    "    println(\"The value of the root is : \", x)\n",
    "end\n",
    "x0 = 5\n",
    "newtoniteration(x0)"
   ]
  },
  {
   "cell_type": "markdown",
   "metadata": {},
   "source": [
    "For this example, we will jump straight to the IR. You can imagine what the lexical analysis will look like by now, and we will see better ways of conceptualizing and visualizing this programs structure than a long AST.\n",
    "\n",
    "We generate the IR with the `code_llvm` command: remember, we have to give an initial value, as Julia will emit the LLVM as it is actually running."
   ]
  },
  {
   "cell_type": "code",
   "execution_count": 2,
   "metadata": {},
   "outputs": [
    {
     "name": "stdout",
     "output_type": "stream",
     "text": [
      "\u001b[90m;  @ In[1]:7 within `newtoniteration`\u001b[39m\n",
      "\u001b[90m; Function Attrs: uwtable\u001b[39m\n",
      "\u001b[95mdefine\u001b[39m \u001b[36mvoid\u001b[39m \u001b[93m@julia_newtoniteration_985\u001b[39m\u001b[33m(\u001b[39m\u001b[36mi64\u001b[39m \u001b[95msignext\u001b[39m \u001b[0m%0\u001b[33m)\u001b[39m \u001b[0m#0 \u001b[33m{\u001b[39m\n",
      "\u001b[91mtop:\u001b[39m\n",
      "\u001b[90m;  @ In[1]:8 within `newtoniteration`\u001b[39m\n",
      "\u001b[90m; ┌ @ In[1]:2 within `f`\u001b[39m\n",
      "\u001b[90m; │┌ @ intfuncs.jl:313 within `literal_pow`\u001b[39m\n",
      "\u001b[90m; ││┌ @ operators.jl:655 within `*` @ int.jl:88\u001b[39m\n",
      "     \u001b[0m%1 \u001b[0m= \u001b[96m\u001b[1mmul\u001b[22m\u001b[39m \u001b[36mi64\u001b[39m \u001b[0m%0\u001b[0m, \u001b[0m%0\n",
      "     \u001b[0m%2 \u001b[0m= \u001b[96m\u001b[1mmul\u001b[22m\u001b[39m \u001b[36mi64\u001b[39m \u001b[0m%1\u001b[0m, \u001b[0m%0\n",
      "\u001b[90m; │└└\u001b[39m\n",
      "\u001b[90m; │┌ @ promotion.jl:380 within `*`\u001b[39m\n",
      "\u001b[90m; ││┌ @ promotion.jl:350 within `promote`\u001b[39m\n",
      "\u001b[90m; │││┌ @ promotion.jl:327 within `_promote`\u001b[39m\n",
      "\u001b[90m; ││││┌ @ number.jl:7 within `convert`\u001b[39m\n",
      "\u001b[90m; │││││┌ @ float.jl:146 within `Float64`\u001b[39m\n",
      "        \u001b[0m%3 \u001b[0m= \u001b[96m\u001b[1msitofp\u001b[22m\u001b[39m \u001b[36mi64\u001b[39m \u001b[0m%2 \u001b[95mto\u001b[39m \u001b[36mdouble\u001b[39m\n",
      "\u001b[90m; ││└└└└\u001b[39m\n",
      "\u001b[90m; ││ @ promotion.jl:380 within `*` @ float.jl:405\u001b[39m\n",
      "    \u001b[0m%4 \u001b[0m= \u001b[96m\u001b[1mfmul\u001b[22m\u001b[39m \u001b[36mdouble\u001b[39m \u001b[0m%3\u001b[0m, \u001b[33m0x3FF5555555555555\u001b[39m\n",
      "\u001b[90m; ││ @ promotion.jl:380 within `*`\u001b[39m\n",
      "\u001b[90m; ││┌ @ promotion.jl:350 within `promote`\u001b[39m\n",
      "\u001b[90m; │││┌ @ promotion.jl:327 within `_promote`\u001b[39m\n",
      "\u001b[90m; ││││┌ @ number.jl:7 within `convert`\u001b[39m\n",
      "\u001b[90m; │││││┌ @ float.jl:146 within `Float64`\u001b[39m\n",
      "        \u001b[0m%5 \u001b[0m= \u001b[96m\u001b[1msitofp\u001b[22m\u001b[39m \u001b[36mi64\u001b[39m \u001b[0m%1 \u001b[95mto\u001b[39m \u001b[36mdouble\u001b[39m\n",
      "\u001b[90m; ││└└└└\u001b[39m\n",
      "\u001b[90m; ││ @ promotion.jl:380 within `*` @ float.jl:405\u001b[39m\n",
      "    \u001b[0m%6 \u001b[0m= \u001b[96m\u001b[1mfmul\u001b[22m\u001b[39m \u001b[36mdouble\u001b[39m \u001b[0m%5\u001b[0m, \u001b[33m1.500000e+00\u001b[39m\n",
      "\u001b[90m; │└\u001b[39m\n",
      "\u001b[90m; │┌ @ float.jl:402 within `-`\u001b[39m\n",
      "    \u001b[0m%7 \u001b[0m= \u001b[96m\u001b[1mfsub\u001b[22m\u001b[39m \u001b[36mdouble\u001b[39m \u001b[0m%4\u001b[0m, \u001b[0m%6\n",
      "\u001b[90m; │└\u001b[39m\n",
      "\u001b[90m; │┌ @ promotion.jl:379 within `+` @ float.jl:399\u001b[39m\n",
      "    \u001b[0m%8 \u001b[0m= \u001b[96m\u001b[1mfadd\u001b[22m\u001b[39m \u001b[36mdouble\u001b[39m \u001b[0m%7\u001b[0m, \u001b[33m8.000000e+00\u001b[39m\n",
      "\u001b[90m; └└\u001b[39m\n",
      "\u001b[90m; ┌ @ In[1]:5 within `g`\u001b[39m\n",
      "\u001b[90m; │┌ @ int.jl:88 within `*`\u001b[39m\n",
      "    \u001b[0m%9 \u001b[0m= \u001b[96m\u001b[1mshl\u001b[22m\u001b[39m \u001b[36mi64\u001b[39m \u001b[0m%0\u001b[0m, \u001b[33m2\u001b[39m\n",
      "    \u001b[0m%reass.add \u001b[0m= \u001b[96m\u001b[1madd\u001b[22m\u001b[39m \u001b[36mi64\u001b[39m \u001b[0m%9\u001b[0m, \u001b[33m-3\u001b[39m\n",
      "\u001b[90m; │└\u001b[39m\n",
      "\u001b[90m; │┌ @ int.jl:86 within `-`\u001b[39m\n",
      "    \u001b[0m%reass.mul \u001b[0m= \u001b[96m\u001b[1mmul\u001b[22m\u001b[39m \u001b[36mi64\u001b[39m \u001b[0m%reass.add\u001b[0m, \u001b[0m%0\n",
      "\u001b[90m; └└\u001b[39m\n",
      "\u001b[90m; ┌ @ promotion.jl:382 within `/`\u001b[39m\n",
      "\u001b[90m; │┌ @ promotion.jl:350 within `promote`\u001b[39m\n",
      "\u001b[90m; ││┌ @ promotion.jl:327 within `_promote`\u001b[39m\n",
      "\u001b[90m; │││┌ @ number.jl:7 within `convert`\u001b[39m\n",
      "\u001b[90m; ││││┌ @ float.jl:146 within `Float64`\u001b[39m\n",
      "       \u001b[0m%10 \u001b[0m= \u001b[96m\u001b[1msitofp\u001b[22m\u001b[39m \u001b[36mi64\u001b[39m \u001b[0m%reass.mul \u001b[95mto\u001b[39m \u001b[36mdouble\u001b[39m\n",
      "\u001b[90m; │└└└└\u001b[39m\n",
      "\u001b[90m; │ @ promotion.jl:382 within `/` @ float.jl:408\u001b[39m\n",
      "   \u001b[0m%11 \u001b[0m= \u001b[96m\u001b[1mfdiv\u001b[22m\u001b[39m \u001b[36mdouble\u001b[39m \u001b[0m%8\u001b[0m, \u001b[0m%10\n",
      "\u001b[90m; └\u001b[39m\n",
      "\u001b[90m;  @ In[1]:9 within `newtoniteration`\u001b[39m\n",
      "\u001b[90m; ┌ @ float.jl:524 within `abs`\u001b[39m\n",
      "   \u001b[0m%12 \u001b[0m= \u001b[96m\u001b[1mcall\u001b[22m\u001b[39m \u001b[36mdouble\u001b[39m \u001b[93m@llvm.fabs.f64\u001b[39m\u001b[33m(\u001b[39m\u001b[36mdouble\u001b[39m \u001b[0m%11\u001b[33m)\u001b[39m\n",
      "\u001b[90m; └\u001b[39m\n",
      "\u001b[90m; ┌ @ operators.jl:425 within `>=`\u001b[39m\n",
      "\u001b[90m; │┌ @ float.jl:447 within `<=`\u001b[39m\n",
      "    \u001b[0m%13 \u001b[0m= \u001b[96m\u001b[1mfcmp\u001b[22m\u001b[39m \u001b[96m\u001b[1mult\u001b[22m\u001b[39m \u001b[36mdouble\u001b[39m \u001b[0m%12\u001b[0m, \u001b[33m1.000000e-04\u001b[39m\n",
      "\u001b[90m; └└\u001b[39m\n",
      "  \u001b[96m\u001b[1mbr\u001b[22m\u001b[39m \u001b[36mi1\u001b[39m \u001b[0m%13\u001b[0m, \u001b[36mlabel\u001b[39m \u001b[91m%L105\u001b[39m\u001b[0m, \u001b[36mlabel\u001b[39m \u001b[91m%L21.peel.next\u001b[39m\n",
      "\n",
      "\u001b[91mL21.peel.next:\u001b[39m                                    \u001b[90m; preds = %top\u001b[39m\n",
      "\u001b[90m;  @ In[1]:11 within `newtoniteration`\u001b[39m\n",
      "  \u001b[0m%14 \u001b[0m= \u001b[96m\u001b[1msitofp\u001b[22m\u001b[39m \u001b[36mi64\u001b[39m \u001b[0m%0 \u001b[95mto\u001b[39m \u001b[36mdouble\u001b[39m\n",
      "\u001b[90m;  @ In[1] within `newtoniteration`\u001b[39m\n",
      "  \u001b[0m%value_phi5.peel \u001b[0m= \u001b[96m\u001b[1mfsub\u001b[22m\u001b[39m \u001b[36mdouble\u001b[39m \u001b[0m%14\u001b[0m, \u001b[0m%11\n",
      "\u001b[90m;  @ In[1]:12 within `newtoniteration`\u001b[39m\n",
      "  \u001b[96m\u001b[1mcall\u001b[22m\u001b[39m \u001b[36mvoid\u001b[39m \u001b[93m@j_println_987\u001b[39m\u001b[33m(\u001b[39m\u001b[33m{\u001b[39m\u001b[33m}\u001b[39m\u001b[0m* \u001b[95minttoptr\u001b[39m \u001b[33m(\u001b[39m\u001b[36mi64\u001b[39m \u001b[33m233300304\u001b[39m \u001b[95mto\u001b[39m \u001b[33m{\u001b[39m\u001b[33m}\u001b[39m\u001b[0m*\u001b[33m)\u001b[39m\u001b[0m, \u001b[36mdouble\u001b[39m \u001b[0m%value_phi5.peel\u001b[33m)\u001b[39m \u001b[0m#0\n",
      "\u001b[90m;  @ In[1]:9 within `newtoniteration`\u001b[39m\n",
      "  \u001b[96m\u001b[1mbr\u001b[22m\u001b[39m \u001b[36mlabel\u001b[39m \u001b[91m%L66\u001b[39m\n",
      "\n",
      "\u001b[91mL66:\u001b[39m                                              \u001b[90m; preds = %L66, %L21.peel.next\u001b[39m\n",
      "  \u001b[0m%15 \u001b[0m= \u001b[96m\u001b[1mphi\u001b[22m\u001b[39m \u001b[36mdouble\u001b[39m \u001b[33m[\u001b[39m \u001b[0m%value_phi5.peel\u001b[0m, \u001b[91m%L21.peel.next\u001b[39m \u001b[33m]\u001b[39m\u001b[0m, \u001b[33m[\u001b[39m \u001b[0m%value_phi5\u001b[0m, \u001b[91m%L66\u001b[39m \u001b[33m]\u001b[39m\n",
      "\u001b[90m;  @ In[1]:10 within `newtoniteration`\u001b[39m\n",
      "\u001b[90m; ┌ @ In[1]:2 within `f`\u001b[39m\n",
      "\u001b[90m; │┌ @ intfuncs.jl:313 within `literal_pow`\u001b[39m\n",
      "\u001b[90m; ││┌ @ operators.jl:655 within `*` @ float.jl:405\u001b[39m\n",
      "     \u001b[0m%16 \u001b[0m= \u001b[96m\u001b[1mfmul\u001b[22m\u001b[39m \u001b[36mdouble\u001b[39m \u001b[0m%15\u001b[0m, \u001b[0m%15\n",
      "     \u001b[0m%17 \u001b[0m= \u001b[96m\u001b[1mfmul\u001b[22m\u001b[39m \u001b[36mdouble\u001b[39m \u001b[0m%15\u001b[0m, \u001b[0m%16\n",
      "\u001b[90m; │└└\u001b[39m\n",
      "\u001b[90m; │┌ @ float.jl:405 within `*`\u001b[39m\n",
      "    \u001b[0m%18 \u001b[0m= \u001b[96m\u001b[1mfmul\u001b[22m\u001b[39m \u001b[36mdouble\u001b[39m \u001b[0m%17\u001b[0m, \u001b[33m0x3FF5555555555555\u001b[39m\n",
      "    \u001b[0m%19 \u001b[0m= \u001b[96m\u001b[1mfmul\u001b[22m\u001b[39m \u001b[36mdouble\u001b[39m \u001b[0m%16\u001b[0m, \u001b[33m1.500000e+00\u001b[39m\n",
      "\u001b[90m; │└\u001b[39m\n",
      "\u001b[90m; │┌ @ float.jl:402 within `-`\u001b[39m\n",
      "    \u001b[0m%20 \u001b[0m= \u001b[96m\u001b[1mfsub\u001b[22m\u001b[39m \u001b[36mdouble\u001b[39m \u001b[0m%18\u001b[0m, \u001b[0m%19\n",
      "\u001b[90m; │└\u001b[39m\n",
      "\u001b[90m; │┌ @ promotion.jl:379 within `+` @ float.jl:399\u001b[39m\n",
      "    \u001b[0m%value_phi1 \u001b[0m= \u001b[96m\u001b[1mfadd\u001b[22m\u001b[39m \u001b[36mdouble\u001b[39m \u001b[0m%20\u001b[0m, \u001b[33m8.000000e+00\u001b[39m\n",
      "\u001b[90m; └└\u001b[39m\n",
      "\u001b[90m; ┌ @ In[1]:5 within `g`\u001b[39m\n",
      "\u001b[90m; │┌ @ promotion.jl:380 within `*` @ float.jl:405\u001b[39m\n",
      "    \u001b[0m%21 \u001b[0m= \u001b[96m\u001b[1mfmul\u001b[22m\u001b[39m \u001b[36mdouble\u001b[39m \u001b[0m%16\u001b[0m, \u001b[33m4.000000e+00\u001b[39m\n",
      "    \u001b[0m%22 \u001b[0m= \u001b[96m\u001b[1mfmul\u001b[22m\u001b[39m \u001b[36mdouble\u001b[39m \u001b[0m%15\u001b[0m, \u001b[33m3.000000e+00\u001b[39m\n",
      "\u001b[90m; │└\u001b[39m\n",
      "\u001b[90m; │┌ @ float.jl:402 within `-`\u001b[39m\n",
      "    \u001b[0m%23 \u001b[0m= \u001b[96m\u001b[1mfsub\u001b[22m\u001b[39m \u001b[36mdouble\u001b[39m \u001b[0m%21\u001b[0m, \u001b[0m%22\n",
      "\u001b[90m; └└\u001b[39m\n",
      "\u001b[90m;  @ In[1] within `newtoniteration`\u001b[39m\n",
      "  \u001b[0m%value_phi4 \u001b[0m= \u001b[96m\u001b[1mfdiv\u001b[22m\u001b[39m \u001b[36mdouble\u001b[39m \u001b[0m%value_phi1\u001b[0m, \u001b[0m%23\n",
      "  \u001b[0m%value_phi5 \u001b[0m= \u001b[96m\u001b[1mfsub\u001b[22m\u001b[39m \u001b[36mdouble\u001b[39m \u001b[0m%15\u001b[0m, \u001b[0m%value_phi4\n",
      "\u001b[90m;  @ In[1]:12 within `newtoniteration`\u001b[39m\n",
      "  \u001b[96m\u001b[1mcall\u001b[22m\u001b[39m \u001b[36mvoid\u001b[39m \u001b[93m@j_println_987\u001b[39m\u001b[33m(\u001b[39m\u001b[33m{\u001b[39m\u001b[33m}\u001b[39m\u001b[0m* \u001b[95minttoptr\u001b[39m \u001b[33m(\u001b[39m\u001b[36mi64\u001b[39m \u001b[33m233300304\u001b[39m \u001b[95mto\u001b[39m \u001b[33m{\u001b[39m\u001b[33m}\u001b[39m\u001b[0m*\u001b[33m)\u001b[39m\u001b[0m, \u001b[36mdouble\u001b[39m \u001b[0m%value_phi5\u001b[33m)\u001b[39m \u001b[0m#0\n",
      "\u001b[90m;  @ In[1]:9 within `newtoniteration`\u001b[39m\n",
      "\u001b[90m; ┌ @ float.jl:524 within `abs`\u001b[39m\n",
      "   \u001b[0m%24 \u001b[0m= \u001b[96m\u001b[1mcall\u001b[22m\u001b[39m \u001b[36mdouble\u001b[39m \u001b[93m@llvm.fabs.f64\u001b[39m\u001b[33m(\u001b[39m\u001b[36mdouble\u001b[39m \u001b[0m%value_phi4\u001b[33m)\u001b[39m\n",
      "\u001b[90m; └\u001b[39m\n",
      "\u001b[90m; ┌ @ operators.jl:425 within `>=`\u001b[39m\n",
      "\u001b[90m; │┌ @ float.jl:447 within `<=`\u001b[39m\n",
      "    \u001b[0m%25 \u001b[0m= \u001b[96m\u001b[1mfcmp\u001b[22m\u001b[39m \u001b[96m\u001b[1mult\u001b[22m\u001b[39m \u001b[36mdouble\u001b[39m \u001b[0m%24\u001b[0m, \u001b[33m1.000000e-04\u001b[39m\n",
      "\u001b[90m; └└\u001b[39m\n",
      "  \u001b[96m\u001b[1mbr\u001b[22m\u001b[39m \u001b[36mi1\u001b[39m \u001b[0m%25\u001b[0m, \u001b[36mlabel\u001b[39m \u001b[91m%L100\u001b[39m\u001b[0m, \u001b[36mlabel\u001b[39m \u001b[91m%L66\u001b[39m\n",
      "\n",
      "\u001b[91mL100:\u001b[39m                                             \u001b[90m; preds = %L66\u001b[39m\n",
      "\u001b[90m;  @ In[1]:14 within `newtoniteration`\u001b[39m\n",
      "  \u001b[96m\u001b[1mcall\u001b[22m\u001b[39m \u001b[36mvoid\u001b[39m \u001b[93m@j_println_988\u001b[39m\u001b[33m(\u001b[39m\u001b[33m{\u001b[39m\u001b[33m}\u001b[39m\u001b[0m* \u001b[95minttoptr\u001b[39m \u001b[33m(\u001b[39m\u001b[36mi64\u001b[39m \u001b[33m206975088\u001b[39m \u001b[95mto\u001b[39m \u001b[33m{\u001b[39m\u001b[33m}\u001b[39m\u001b[0m*\u001b[33m)\u001b[39m\u001b[0m, \u001b[36mdouble\u001b[39m \u001b[0m%value_phi5\u001b[33m)\u001b[39m \u001b[0m#0\n",
      "  \u001b[96m\u001b[1mbr\u001b[22m\u001b[39m \u001b[36mlabel\u001b[39m \u001b[91m%L110\u001b[39m\n",
      "\n",
      "\u001b[91mL105:\u001b[39m                                             \u001b[90m; preds = %top\u001b[39m\n",
      "  \u001b[96m\u001b[1mcall\u001b[22m\u001b[39m \u001b[36mvoid\u001b[39m \u001b[93m@j_println_989\u001b[39m\u001b[33m(\u001b[39m\u001b[33m{\u001b[39m\u001b[33m}\u001b[39m\u001b[0m* \u001b[95minttoptr\u001b[39m \u001b[33m(\u001b[39m\u001b[36mi64\u001b[39m \u001b[33m206975088\u001b[39m \u001b[95mto\u001b[39m \u001b[33m{\u001b[39m\u001b[33m}\u001b[39m\u001b[0m*\u001b[33m)\u001b[39m\u001b[0m, \u001b[36mi64\u001b[39m \u001b[95msignext\u001b[39m \u001b[0m%0\u001b[33m)\u001b[39m \u001b[0m#0\n",
      "  \u001b[96m\u001b[1mbr\u001b[22m\u001b[39m \u001b[36mlabel\u001b[39m \u001b[91m%L110\u001b[39m\n",
      "\n",
      "\u001b[91mL110:\u001b[39m                                             \u001b[90m; preds = %L105, %L100\u001b[39m\n",
      "  \u001b[96m\u001b[1mret\u001b[22m\u001b[39m \u001b[36mvoid\u001b[39m\n",
      "\u001b[33m}\u001b[39m\n"
     ]
    }
   ],
   "source": [
    "@code_llvm newtoniteration(5)"
   ]
  },
  {
   "cell_type": "markdown",
   "metadata": {},
   "source": [
    "While Julia gives the most optimized, annotated, and user-friendly IR out of all the high-level languages we've used, at a certain point it just becomes too much. So, we turned to a different way of visualizing.\n",
    "\n",
    "## Visualization of the IR\n",
    "\n",
    "To visualize the IR we will use the \"ShowCode\" package because its easy to represent. To install the package from github you need to use this command given below:"
   ]
  },
  {
   "cell_type": "code",
   "execution_count": 14,
   "metadata": {},
   "outputs": [
    {
     "name": "stderr",
     "output_type": "stream",
     "text": [
      "\u001b[32m\u001b[1m    Updating\u001b[22m\u001b[39m git-repo `https://github.com/tkf/ShowCode.jl`\n",
      "\u001b[32m\u001b[1m   Resolving\u001b[22m\u001b[39m package versions...\n",
      "\u001b[32m\u001b[1m    Updating\u001b[22m\u001b[39m `C:\\Users\\piegu\\.julia\\environments\\v1.7\\Project.toml`\n",
      " \u001b[90m [c14aca87] \u001b[39m\u001b[92m+ ShowCode v0.1.0 `https://github.com/tkf/ShowCode.jl#master`\u001b[39m\n",
      "\u001b[32m\u001b[1m    Updating\u001b[22m\u001b[39m `C:\\Users\\piegu\\.julia\\environments\\v1.7\\Manifest.toml`\n",
      " \u001b[90m [1520ce14] \u001b[39m\u001b[92m+ AbstractTrees v0.4.0\u001b[39m\n",
      " \u001b[90m [7d9f7c33] \u001b[39m\u001b[92m+ Accessors v0.1.13\u001b[39m\n",
      " \u001b[90m [a33af91c] \u001b[39m\u001b[92m+ CompositionsBase v0.1.1\u001b[39m\n",
      " \u001b[90m [187b0558] \u001b[39m\u001b[92m+ ConstructionBase v1.3.0\u001b[39m\n",
      " \u001b[90m [3587e190] \u001b[39m\u001b[92m+ InverseFunctions v0.1.7\u001b[39m\n",
      " \u001b[90m [ae029012] \u001b[39m\u001b[92m+ Requires v1.3.0\u001b[39m\n",
      " \u001b[90m [c14aca87] \u001b[39m\u001b[92m+ ShowCode v0.1.0 `https://github.com/tkf/ShowCode.jl#master`\u001b[39m\n",
      " \u001b[90m [3a884ed6] \u001b[39m\u001b[92m+ UnPack v1.0.2\u001b[39m\n",
      " \u001b[90m [86de99a1] \u001b[39m\u001b[92m+ LLVM_jll v12.0.1+4\u001b[39m\n",
      " \u001b[90m [9fa8497b] \u001b[39m\u001b[92m+ Future\u001b[39m\n",
      " \u001b[90m [8f36deef] \u001b[39m\u001b[92m+ libLLVM_jll\u001b[39m\n"
     ]
    }
   ],
   "source": [
    "using Pkg\n",
    "pkg\"add https://github.com/tkf/ShowCode.jl\""
   ]
  },
  {
   "cell_type": "markdown",
   "metadata": {},
   "source": [
    "We will generate LLVM with `@sc_llvm`. Once we have an LLVM code object `c`, we have various options for visualization:\n",
    "``` julia\n",
    "c = @sc_llvm f(args...)\n",
    "\n",
    "c                  # view IR in the REPL\n",
    "display(c)         # (ditto)\n",
    "edit(c)            # open the IR in editor\n",
    "print(c)           # print the IR\n",
    "abspath(c)         # file path to the text containing the IR\n",
    "\n",
    "c.native           # create native code explore\n",
    "c.att              # (ditto)\n",
    "c.intel            # create native code explore in intel syntax\n",
    "eidt(c.native)\n",
    "abspath(c.native)\n",
    "\n",
    "c.cfg              # control-flow graph (CFG) visualizer\n",
    "display(c.cfg)     # display CFG\n",
    "edit(c.cfg.png)    # open PNG file in your editor\n",
    "edit(c.cfg.svg)    # same for SVG\n",
    "abspath(c.cfg.png) # file path to the PNG image\n",
    "c.cfg_only\n",
    "c.dom\n",
    "```\n",
    "\n",
    "We are most interested in the cfg."
   ]
  },
  {
   "cell_type": "code",
   "execution_count": 15,
   "metadata": {},
   "outputs": [
    {
     "name": "stderr",
     "output_type": "stream",
     "text": [
      "┌ Info: Precompiling ShowCode [c14aca87-bccd-473b-bf6f-1f278cb6ee85]\n",
      "└ @ Base loading.jl:1423\n",
      "\u001b[91m\u001b[1mERROR: \u001b[22m\u001b[39mLoadError: UndefVarError: treekind not defined\n",
      "Stacktrace:\n",
      "  [1] \u001b[0m\u001b[1mgetproperty\u001b[22m\u001b[0m\u001b[1m(\u001b[22m\u001b[90mx\u001b[39m::\u001b[0mModule, \u001b[90mf\u001b[39m::\u001b[0mSymbol\u001b[0m\u001b[1m)\u001b[22m\n",
      "\u001b[90m    @ \u001b[39m\u001b[90mBase\u001b[39m \u001b[90m.\\\u001b[39m\u001b[90m\u001b[4mBase.jl:35\u001b[24m\u001b[39m\n",
      "  [2] top-level scope\n",
      "\u001b[90m    @ \u001b[39m\u001b[90mC:\\Users\\piegu\\.julia\\packages\\ShowCode\\yzPKY\\src\\\u001b[39m\u001b[90m\u001b[4mircode.jl:358\u001b[24m\u001b[39m\n",
      "  [3] \u001b[0m\u001b[1minclude\u001b[22m\u001b[0m\u001b[1m(\u001b[22m\u001b[90mmod\u001b[39m::\u001b[0mModule, \u001b[90m_path\u001b[39m::\u001b[0mString\u001b[0m\u001b[1m)\u001b[22m\n",
      "\u001b[90m    @ \u001b[39m\u001b[90mBase\u001b[39m \u001b[90m.\\\u001b[39m\u001b[90m\u001b[4mBase.jl:418\u001b[24m\u001b[39m\n",
      "  [4] \u001b[0m\u001b[1minclude\u001b[22m\u001b[0m\u001b[1m(\u001b[22m\u001b[90mx\u001b[39m::\u001b[0mString\u001b[0m\u001b[1m)\u001b[22m\n",
      "\u001b[90m    @ \u001b[39m\u001b[35mShowCode.Implementations\u001b[39m \u001b[90mC:\\Users\\piegu\\.julia\\packages\\ShowCode\\yzPKY\\src\\\u001b[39m\u001b[90m\u001b[4mShowCode.jl:30\u001b[24m\u001b[39m\n",
      "  [5] top-level scope\n",
      "\u001b[90m    @ \u001b[39m\u001b[90mC:\\Users\\piegu\\.julia\\packages\\ShowCode\\yzPKY\\src\\\u001b[39m\u001b[90m\u001b[4mShowCode.jl:79\u001b[24m\u001b[39m\n",
      "  [6] \u001b[0m\u001b[1minclude\u001b[22m\n",
      "\u001b[90m    @ \u001b[39m\u001b[90m.\\\u001b[39m\u001b[90m\u001b[4mBase.jl:418\u001b[24m\u001b[39m\u001b[90m [inlined]\u001b[39m\n",
      "  [7] \u001b[0m\u001b[1minclude_package_for_output\u001b[22m\u001b[0m\u001b[1m(\u001b[22m\u001b[90mpkg\u001b[39m::\u001b[0mBase.PkgId, \u001b[90minput\u001b[39m::\u001b[0mString, \u001b[90mdepot_path\u001b[39m::\u001b[0mVector\u001b[90m{String}\u001b[39m, \u001b[90mdl_load_path\u001b[39m::\u001b[0mVector\u001b[90m{String}\u001b[39m, \u001b[90mload_path\u001b[39m::\u001b[0mVector\u001b[90m{String}\u001b[39m, \u001b[90mconcrete_deps\u001b[39m::\u001b[0mVector\u001b[90m{Pair{Base.PkgId, UInt64}}\u001b[39m, \u001b[90msource\u001b[39m::\u001b[0mNothing\u001b[0m\u001b[1m)\u001b[22m\n",
      "\u001b[90m    @ \u001b[39m\u001b[90mBase\u001b[39m \u001b[90m.\\\u001b[39m\u001b[90m\u001b[4mloading.jl:1318\u001b[24m\u001b[39m\n",
      "  [8] top-level scope\n",
      "\u001b[90m    @ \u001b[39m\u001b[90m\u001b[4mnone:1\u001b[24m\u001b[39m\n",
      "  [9] \u001b[0m\u001b[1meval\u001b[22m\n",
      "\u001b[90m    @ \u001b[39m\u001b[90m.\\\u001b[39m\u001b[90m\u001b[4mboot.jl:373\u001b[24m\u001b[39m\u001b[90m [inlined]\u001b[39m\n",
      " [10] \u001b[0m\u001b[1meval\u001b[22m\u001b[0m\u001b[1m(\u001b[22m\u001b[90mx\u001b[39m::\u001b[0mExpr\u001b[0m\u001b[1m)\u001b[22m\n",
      "\u001b[90m    @ \u001b[39m\u001b[90mBase.MainInclude\u001b[39m \u001b[90m.\\\u001b[39m\u001b[90m\u001b[4mclient.jl:453\u001b[24m\u001b[39m\n",
      " [11] top-level scope\n",
      "\u001b[90m    @ \u001b[39m\u001b[90m\u001b[4mnone:1\u001b[24m\u001b[39m\n",
      "in expression starting at C:\\Users\\piegu\\.julia\\packages\\ShowCode\\yzPKY\\src\\ircode.jl:358\n",
      "in expression starting at C:\\Users\\piegu\\.julia\\packages\\ShowCode\\yzPKY\\src\\ShowCode.jl:1\n"
     ]
    },
    {
     "ename": "LoadError",
     "evalue": "Failed to precompile ShowCode [c14aca87-bccd-473b-bf6f-1f278cb6ee85] to C:\\Users\\piegu\\.julia\\compiled\\v1.7\\ShowCode\\jl_C7ED.tmp.",
     "output_type": "error",
     "traceback": [
      "Failed to precompile ShowCode [c14aca87-bccd-473b-bf6f-1f278cb6ee85] to C:\\Users\\piegu\\.julia\\compiled\\v1.7\\ShowCode\\jl_C7ED.tmp.",
      "",
      "Stacktrace:",
      " [1] error(s::String)",
      "   @ Base .\\error.jl:33",
      " [2] compilecache(pkg::Base.PkgId, path::String, internal_stderr::IO, internal_stdout::IO, ignore_loaded_modules::Bool)",
      "   @ Base .\\loading.jl:1466",
      " [3] compilecache(pkg::Base.PkgId, path::String)",
      "   @ Base .\\loading.jl:1410",
      " [4] _require(pkg::Base.PkgId)",
      "   @ Base .\\loading.jl:1120",
      " [5] require(uuidkey::Base.PkgId)",
      "   @ Base .\\loading.jl:1013",
      " [6] require(into::Module, mod::Symbol)",
      "   @ Base .\\loading.jl:997",
      " [7] eval",
      "   @ .\\boot.jl:373 [inlined]",
      " [8] include_string(mapexpr::typeof(REPL.softscope), mod::Module, code::String, filename::String)",
      "   @ Base .\\loading.jl:1196"
     ]
    }
   ],
   "source": [
    "using ShowCode\n",
    "\n",
    "c = @sc_llvm newtoniteration(5)\n",
    "\n",
    "display(c.cfg)"
   ]
  },
  {
   "cell_type": "markdown",
   "metadata": {},
   "source": [
    "With this, we can get a nice visualization of the IR.\n",
    "\n",
    "![Newton Raphson CFG - Julia](newton_raphson_julia_cfg.png)\n",
    "\n",
    "We can get an even further simplified version by running"
   ]
  },
  {
   "cell_type": "code",
   "execution_count": null,
   "metadata": {},
   "outputs": [],
   "source": [
    "c.cfg_only"
   ]
  },
  {
   "cell_type": "markdown",
   "metadata": {},
   "source": [
    "![Newton Raphson Simplified CFG - Julia](newton_raphson_julia_cfg_simplified.png)"
   ]
  }
 ],
 "metadata": {
  "kernelspec": {
   "display_name": "Julia 1.7.3",
   "language": "julia",
   "name": "julia-1.7"
  },
  "language_info": {
   "file_extension": ".jl",
   "mimetype": "application/julia",
   "name": "julia",
   "version": "1.7.3"
  },
  "orig_nbformat": 4,
  "vscode": {
   "interpreter": {
    "hash": "995d16ebf5e1c92414f66722f6b0c9a85a83273b46dad51bd9b391cad0ce3002"
   }
  }
 },
 "nbformat": 4,
 "nbformat_minor": 2
}
