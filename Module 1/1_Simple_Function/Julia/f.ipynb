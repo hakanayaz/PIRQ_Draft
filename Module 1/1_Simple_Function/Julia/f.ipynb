{
 "cells": [
  {
   "cell_type": "markdown",
   "metadata": {},
   "source": [
    "### Example Code\n",
    "\n",
    "Our sample code will be the same algorithm we've used in the other examples. In Julia, this is implemented by"
   ]
  },
  {
   "cell_type": "code",
   "execution_count": null,
   "metadata": {},
   "outputs": [],
   "source": [
    "function f(a,b)\n",
    "    x = a\n",
    "    if a>b\n",
    "        x+=20\n",
    "    else\n",
    "        x+=b\n",
    "    end\n",
    "    return x\n",
    "end"
   ]
  },
  {
   "cell_type": "markdown",
   "metadata": {},
   "source": [
    "### Lexical Analysis\n",
    "\n",
    "We will use the `Tokenize` package to analyze our code. We can install this package like so:"
   ]
  },
  {
   "cell_type": "code",
   "execution_count": null,
   "metadata": {},
   "outputs": [],
   "source": [
    "using Pkg\n",
    "Pkg.add(\"Tokenize\")"
   ]
  },
  {
   "cell_type": "markdown",
   "metadata": {},
   "source": [
    "Then we can use this code to see the token stream outputted by lexical analysis. Try it for yourself!\n"
   ]
  },
  {
   "cell_type": "code",
   "execution_count": 1,
   "metadata": {},
   "outputs": [
    {
     "data": {
      "text/plain": [
       "39-element Vector{Tokenize.Tokens.Token}:\n",
       " 1,1-1,8          KEYWORD        \"function\"\n",
       " 1,9-1,9          WHITESPACE     \" \"\n",
       " 1,10-1,10        IDENTIFIER     \"f\"\n",
       " 1,11-1,11        LPAREN         \"(\"\n",
       " 1,12-1,12        IDENTIFIER     \"a\"\n",
       " 1,13-1,13        COMMA          \",\"\n",
       " 1,14-1,14        IDENTIFIER     \"b\"\n",
       " 1,15-1,15        RPAREN         \")\"\n",
       " 1,16-2,4         WHITESPACE     \"\\n    \"\n",
       " 2,5-2,5          IDENTIFIER     \"x\"\n",
       " 2,6-2,6          WHITESPACE     \" \"\n",
       " 2,7-2,7          OP             \"=\"\n",
       " 2,8-2,8          WHITESPACE     \" \"\n",
       " ⋮\n",
       " 6,9-6,9          IDENTIFIER     \"x\"\n",
       " 6,10-6,11        OP             \"+=\"\n",
       " 6,12-6,12        IDENTIFIER     \"b\"\n",
       " 6,13-7,4         WHITESPACE     \"\\n    \"\n",
       " 7,5-7,7          KEYWORD        \"end\"\n",
       " 7,8-8,4          WHITESPACE     \"\\n    \"\n",
       " 8,5-8,10         KEYWORD        \"return\"\n",
       " 8,11-8,11        WHITESPACE     \" \"\n",
       " 8,12-8,12        IDENTIFIER     \"x\"\n",
       " 8,13-9,0         WHITESPACE     \"\\n\"\n",
       " 9,1-9,3          KEYWORD        \"end\"\n",
       " 9,4-9,3          ENDMARKER      \"\""
      ]
     },
     "execution_count": 1,
     "metadata": {},
     "output_type": "execute_result"
    }
   ],
   "source": [
    "using Tokenize\n",
    "\n",
    "collect(tokenize(\"function f(a,b)\n",
    "    x = a\n",
    "    if a>b\n",
    "        x+=20\n",
    "    else\n",
    "        x+=b\n",
    "    end\n",
    "    return x\n",
    "end\"))"
   ]
  },
  {
   "cell_type": "markdown",
   "metadata": {},
   "source": [
    "### Abstract Syntax Tree (AST)\n",
    "\n",
    "To create the AST of our function we simply use the dump function:"
   ]
  },
  {
   "cell_type": "code",
   "execution_count": null,
   "metadata": {},
   "outputs": [],
   "source": [
    "dump(:(function f(a,b)\n",
    "    x = a\n",
    "    if a>b\n",
    "        x+=20\n",
    "    else\n",
    "        x+=b\n",
    "    end\n",
    "    return x\n",
    "end))"
   ]
  },
  {
   "cell_type": "markdown",
   "metadata": {},
   "source": [
    "Since this is a long output, it is attached here for convenience\n",
    "``` julia\n",
    "Expr\n",
    "  head: Symbol function\n",
    "  args: Array{Any}((2,))\n",
    "    1: Expr\n",
    "      head: Symbol call\n",
    "      args: Array{Any}((3,))\n",
    "        1: Symbol f\n",
    "        2: Symbol a\n",
    "        3: Symbol b\n",
    "    2: Expr\n",
    "      head: Symbol block\n",
    "      args: Array{Any}((7,))\n",
    "        1: LineNumberNode\n",
    "          line: Int64 1\n",
    "          file: Symbol In[20]\n",
    "        2: LineNumberNode\n",
    "          line: Int64 2\n",
    "          file: Symbol In[20]\n",
    "        3: Expr\n",
    "          head: Symbol =\n",
    "          args: Array{Any}((2,))\n",
    "            1: Symbol x\n",
    "            2: Symbol a\n",
    "        4: LineNumberNode\n",
    "          line: Int64 3\n",
    "          file: Symbol In[20]\n",
    "        5: Expr\n",
    "          head: Symbol if\n",
    "          args: Array{Any}((3,))\n",
    "            1: Expr\n",
    "              head: Symbol call\n",
    "              args: Array{Any}((3,))\n",
    "                1: Symbol >\n",
    "                2: Symbol a\n",
    "                3: Symbol b\n",
    "            2: Expr\n",
    "              head: Symbol block\n",
    "              args: Array{Any}((2,))\n",
    "                1: LineNumberNode\n",
    "                2: Expr\n",
    "            3: Expr\n",
    "              head: Symbol block\n",
    "              args: Array{Any}((2,))\n",
    "                1: LineNumberNode\n",
    "                2: Expr\n",
    "        6: LineNumberNode\n",
    "          line: Int64 8\n",
    "          file: Symbol In[20]\n",
    "        7: Expr\n",
    "          head: Symbol return\n",
    "          args: Array{Any}((1,))\n",
    "            1: Symbol x\n",
    "```\n",
    "As we can see, Julia's AST is long but quite intuitive to read. For more information, you can use this link: [Julia ASTs](https://julia-doc.readthedocs.io/en/latest/devdocs/ast/).\n",
    "\n",
    "### Intermediate Representation\n",
    "\n",
    "The next step is creating the LLVM IR. We can print this out pretty easily"
   ]
  },
  {
   "cell_type": "code",
   "execution_count": 4,
   "metadata": {},
   "outputs": [
    {
     "name": "stdout",
     "output_type": "stream",
     "text": [
      "\u001b[90m;  @ In[3]:1 within `f`\u001b[39m\n",
      "\u001b[90m; Function Attrs: uwtable\u001b[39m\n",
      "\u001b[95mdefine\u001b[39m \u001b[36mi64\u001b[39m \u001b[93m@julia_f_1485\u001b[39m\u001b[33m(\u001b[39m\u001b[36mi64\u001b[39m \u001b[95msignext\u001b[39m \u001b[0m%0\u001b[0m, \u001b[36mi64\u001b[39m \u001b[95msignext\u001b[39m \u001b[0m%1\u001b[33m)\u001b[39m \u001b[0m#0 \u001b[33m{\u001b[39m\n",
      "\u001b[91mtop:\u001b[39m\n",
      "\u001b[90m;  @ In[3]:3 within `f`\u001b[39m\n",
      "\u001b[90m; ┌ @ operators.jl:378 within `>`\u001b[39m\n",
      "\u001b[90m; │┌ @ int.jl:83 within `<`\u001b[39m\n",
      "    \u001b[0m%.not \u001b[0m= \u001b[96m\u001b[1micmp\u001b[22m\u001b[39m \u001b[96m\u001b[1mslt\u001b[22m\u001b[39m \u001b[36mi64\u001b[39m \u001b[0m%1\u001b[0m, \u001b[0m%0\n",
      "\u001b[90m; └└\u001b[39m\n",
      "  \u001b[0m%value_phi.v \u001b[0m= \u001b[96m\u001b[1mselect\u001b[22m\u001b[39m \u001b[36mi1\u001b[39m \u001b[0m%.not\u001b[0m, \u001b[36mi64\u001b[39m \u001b[33m20\u001b[39m\u001b[0m, \u001b[36mi64\u001b[39m \u001b[0m%1\n",
      "  \u001b[0m%value_phi \u001b[0m= \u001b[96m\u001b[1madd\u001b[22m\u001b[39m \u001b[36mi64\u001b[39m \u001b[0m%value_phi.v\u001b[0m, \u001b[0m%0\n",
      "\u001b[90m;  @ In[3]:8 within `f`\u001b[39m\n",
      "  \u001b[96m\u001b[1mret\u001b[22m\u001b[39m \u001b[36mi64\u001b[39m \u001b[0m%value_phi\n",
      "\u001b[33m}\u001b[39m\n"
     ]
    }
   ],
   "source": [
    "@code_llvm f(3,4)"
   ]
  },
  {
   "cell_type": "markdown",
   "metadata": {},
   "source": [
    "One thing to note is that for this to work, you need to run the example code once and give the program some concrete input to work through. Once you run it, however, the Julia IR is a little bit more optimized and easier to read compared to the other languages LLVM IR results.\n"
   ]
  }
 ],
 "metadata": {
  "kernelspec": {
   "display_name": "Julia 1.8.0-rc1",
   "language": "julia",
   "name": "julia-1.8"
  },
  "language_info": {
   "file_extension": ".jl",
   "mimetype": "application/julia",
   "name": "julia",
   "version": "1.7.3"
  },
  "orig_nbformat": 4
 },
 "nbformat": 4,
 "nbformat_minor": 2
}
