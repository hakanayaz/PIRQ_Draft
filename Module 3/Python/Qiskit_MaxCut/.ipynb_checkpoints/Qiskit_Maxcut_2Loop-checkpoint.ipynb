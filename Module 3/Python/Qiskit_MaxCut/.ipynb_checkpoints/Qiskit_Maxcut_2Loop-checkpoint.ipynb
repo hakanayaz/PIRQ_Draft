{
 "cells": [
  {
   "cell_type": "markdown",
   "id": "af89df85",
   "metadata": {},
   "source": [
    "# Max Cut QAOA - Qiskit"
   ]
  },
  {
   "cell_type": "markdown",
   "id": "5fb7f4b9",
   "metadata": {},
   "source": [
    "Four Node Maxcut Graph with solutions of \"0101\" and \"1010\".\n",
    "\n",
    "1. \"0\" is red.\n",
    "2. \"1\" is blue."
   ]
  },
  {
   "cell_type": "code",
   "execution_count": 1,
   "id": "cb906c0f",
   "metadata": {},
   "outputs": [
    {
     "data": {
      "image/png": "[encoded data removed]",
      "text/plain": [
       "<Figure size 432x288 with 1 Axes>"
      ]
     },
     "metadata": {},
     "output_type": "display_data"
    }
   ],
   "source": [
    "import networkx as nx\n",
    "import matplotlib.pyplot as plt\n",
    "\n",
    "\n",
    "G = nx.Graph()\n",
    "G.add_nodes_from([0, 1, 2, 3])\n",
    "G.add_edges_from([(0, 1), (1, 2), (2, 3), (3, 0)])\n",
    "nx.draw(G, with_labels=True, alpha=0.8, node_size=250)"
   ]
  },
  {
   "cell_type": "markdown",
   "id": "8c6b4d51",
   "metadata": {},
   "source": [
    "# Maxcut 1 Loop\n",
    "\n",
    "### **Part A: Without Transpilation**\n",
    "\n",
    "0. Create QAOA Circuit\n",
    "1. Initialize Betta and Gamma parameters.\n",
    "2. Save OpenQASM3 file\n",
    "3. Execute Circuit on fake backend to get measurement results. \n",
    "4. Compute expectation value using the measurement results.\n",
    "5. Use Classical Optimizer to find new set of parameters using classical optimization algorithm\n",
    "6. Create new circuit with new set of parameters and then make OpenQASM3 file.\n",
    "\n",
    "\n",
    "These are the basic steps. The following code has been **slightly** modified from Qiskits website. In the code you will see multiple comments stating,\n",
    "```python\n",
    "#STEP\n",
    "```\n",
    "to indicate which part of the code corresponds to the steps listed above. \n",
    "\n",
    "\n",
    "**Note: For more information about the Qiskit code for the Maxcut problem, click [HERE](https://qiskit.org/textbook/ch-applications/qaoa.html).**\n",
    "\n",
    "\n"
   ]
  },
  {
   "cell_type": "markdown",
   "id": "61ea5082",
   "metadata": {},
   "source": [
    "### What does our QAOA circuit for the maxcut problem look like? \n",
    "1. What are the parameters that we are updating? **The parameters are Beta and Gamma**"
   ]
  },
  {
   "cell_type": "code",
   "execution_count": 2,
   "id": "e99b1970",
   "metadata": {},
   "outputs": [],
   "source": [
    "from qiskit import QuantumCircuit, ClassicalRegister, QuantumRegister\n",
    "from qiskit import Aer, execute\n",
    "from qiskit.circuit import Parameter\n",
    "\n",
    "def create_qaoa_circ(G, theta):\n",
    "    \n",
    "    \"\"\"\n",
    "    Creates a parametrized qaoa circuit\n",
    "    \n",
    "    Args:  \n",
    "        G: networkx graph\n",
    "        theta: list\n",
    "               unitary parameters\n",
    "                     \n",
    "    Returns:\n",
    "        qc: qiskit circuit\n",
    "    \"\"\"\n",
    "    \n",
    "    nqubits = len(G.nodes())\n",
    "    p = len(theta)//2  # number of alternating unitaries\n",
    "    qc = QuantumCircuit(nqubits)\n",
    "    \n",
    "    beta = theta[:p]\n",
    "    gamma = theta[p:]\n",
    "    \n",
    "    # initial_state\n",
    "    for i in range(0, nqubits):\n",
    "        qc.h(i)\n",
    "    qc.barrier()\n",
    "    \n",
    "    for irep in range(0, p):\n",
    "        \n",
    "        # problem unitary\n",
    "        for pair in list(G.edges()):\n",
    "            qc.rzz(2 * gamma[irep], pair[0], pair[1])\n",
    "            qc.barrier()\n",
    "\n",
    "        # mixer unitary\n",
    "        for i in range(0, nqubits):\n",
    "            qc.rx(2 * beta[irep], i)\n",
    "            \n",
    "    qc.measure_all()\n",
    "        \n",
    "    return qc\n",
    "\n",
    "\n",
    "beta = Parameter(\"$\\\\beta$\")\n",
    "gamma = Parameter(\"$\\\\gamma$\")\n",
    "\n",
    "qc_paramNone_untranspiled = create_qaoa_circ(G, [beta, gamma])\n",
    "qc_paramNone_untranspiled.decompose().draw(\"mpl\").savefig(\"Images/MaxCut_paramNone_untranspiled_SC.jpg\")"
   ]
  },
  {
   "cell_type": "markdown",
   "id": "d9f1232a",
   "metadata": {},
   "source": [
    "### Initializing the circuit with initial values of Beta and Gamma parameters"
   ]
  },
  {
   "cell_type": "code",
   "execution_count": 3,
   "id": "c0f61def",
   "metadata": {},
   "outputs": [],
   "source": [
    "# STEP 0: Create QAOA Circuit \n",
    "# AND \n",
    "# STEP 1: Initialize Betta and Gamma parameters using theta.\n",
    "beta = 1\n",
    "gamma = 1\n",
    "qc_param1_untranspiled = create_qaoa_circ(G, [beta, gamma])\n",
    "qc_param1_untranspiled.decompose().draw(\"mpl\").savefig(\"Images/MaxCut_param1_untranspiled_SC.jpg\")\n",
    "\n",
    "\n",
    "#STEP 2: Save OpenQASM3 file\n",
    "from qiskit import qasm3\n",
    "#print(qasm3.dumps(qc_param1_untranspiled))\n",
    "# Dump to file\n",
    "with open(\"Images/MaxCut_param1_untranspiled_SC.qasm\", 'w+') as fp:\n",
    "    qasm3.dump(qc_param1_untranspiled, fp)"
   ]
  },
  {
   "cell_type": "markdown",
   "id": "7b7a5c49",
   "metadata": {},
   "source": [
    "### Defining several functions "
   ]
  },
  {
   "cell_type": "code",
   "execution_count": 4,
   "id": "23bb50d8",
   "metadata": {},
   "outputs": [],
   "source": [
    "from qiskit import QuantumCircuit, ClassicalRegister, QuantumRegister\n",
    "from qiskit import Aer, execute\n",
    "from qiskit.circuit import Parameter\n",
    "\n",
    "def maxcut_obj(x, G):\n",
    "    \"\"\"\n",
    "    Given a bitstring as a solution, this function returns\n",
    "    the number of edges shared between the two partitions\n",
    "    of the graph.\n",
    "    \n",
    "    Args:\n",
    "        x: str\n",
    "           solution bitstring\n",
    "           \n",
    "        G: networkx graph\n",
    "        \n",
    "    Returns:\n",
    "        obj: float\n",
    "             Objective\n",
    "    \"\"\"\n",
    "    obj = 0\n",
    "    for i, j in G.edges():\n",
    "        if x[i] != x[j]:\n",
    "            obj -= 1\n",
    "            \n",
    "    return obj\n",
    "\n",
    "\n",
    "def compute_expectation(counts, G):\n",
    "    \n",
    "    \"\"\"\n",
    "    Computes expectation value based on measurement results\n",
    "    \n",
    "    Args:\n",
    "        counts: dict\n",
    "                key as bitstring, val as count\n",
    "           \n",
    "        G: networkx graph\n",
    "        \n",
    "    Returns:\n",
    "        avg: float\n",
    "             expectation value\n",
    "    \"\"\"\n",
    "    \n",
    "    avg = 0\n",
    "    sum_count = 0\n",
    "    for bitstring, count in counts.items():\n",
    "        \n",
    "        obj = maxcut_obj(bitstring, G)\n",
    "        avg += obj * count\n",
    "        sum_count += count\n",
    "        \n",
    "    return avg/sum_count\n",
    "\n",
    "\n",
    "\n",
    "# Finally we write a function that executes the circuit on the chosen backend\n",
    "def get_expectation(G, p, shots=512):\n",
    "    \n",
    "    \"\"\"\n",
    "    Runs parametrized circuit\n",
    "    \n",
    "    Args:\n",
    "        G: networkx graph\n",
    "        p: int,\n",
    "           Number of repetitions of unitaries\n",
    "    \"\"\"\n",
    "    \n",
    "    backend = Aer.get_backend('qasm_simulator')\n",
    "    backend.shots = shots\n",
    "    \n",
    "    def execute_circ(theta):        \n",
    "        # STEP 0: Create QAOA Circuit \n",
    "        # AND \n",
    "        # STEP 1: Initialize Betta and Gamma parameters using theta.\n",
    "        qc_param1_untranspiled = create_qaoa_circ(G, theta) \n",
    "        \n",
    "        \n",
    "        #(Optional): Can print/save circuit for each iteration. After each iteration the circuit will have updated betta and gamma parameters. \n",
    "        #qc_param1_untranspiled.decompose().draw(output='mpl').savefig(\"Images/MaxCut_param1_untranspiled_SC.jpg\")\n",
    "\n",
    "        \n",
    "        #(Optional): Can print/save the OpenQASM3 file for each iteration.\n",
    "        '''\n",
    "        from qiskit import qasm3\n",
    "        print(qasm3.dumps(qc_param1_untranspiled))\n",
    "        # Dump to file\n",
    "        with open(\"Images/MaxCut_param1_untranspiled_SC.qasm\", 'w+') as fp:\n",
    "            qasm3.dump(qc_param1_untranspiled, fp)\n",
    "        '''\n",
    "        \n",
    "        #STEP 3: Execute Circuit on fake backend to get measurement results. \n",
    "        counts = backend.run(qc_param1_untranspiled, seed_simulator=10, \n",
    "                             nshots=512).result().get_counts()\n",
    "        \n",
    "        \n",
    "        # STEP 4: Compute expectation value using the measurement results.\n",
    "        return compute_expectation(counts, G)\n",
    "    \n",
    "    return execute_circ"
   ]
  },
  {
   "cell_type": "markdown",
   "id": "069653d2",
   "metadata": {},
   "source": [
    "### Using a Classical Optimizer"
   ]
  },
  {
   "cell_type": "code",
   "execution_count": 5,
   "id": "68e95b6a",
   "metadata": {},
   "outputs": [
    {
     "name": "stdout",
     "output_type": "stream",
     "text": [
      "     fun: -2.7578125\n",
      "   maxcv: 0.0\n",
      " message: 'Maximum number of function evaluations has been exceeded.'\n",
      "    nfev: 2\n",
      "  status: 2\n",
      " success: False\n",
      "       x: array([2., 1.]) \n",
      "\n",
      "New Beta:  2.0 \n",
      "New Gamma:  1.0\n"
     ]
    }
   ],
   "source": [
    "from scipy.optimize import minimize\n",
    "\n",
    "\n",
    "expectation = get_expectation(G, p=1)\n",
    "\n",
    "# STEP 5: Use Classical Optimizer to find new set of parameters using classical optimization algorithm\n",
    "res = minimize(expectation, \n",
    "                      [1.0, 1.0], #STEP 1: Initialize Betta and Gamma parameters.\n",
    "                      method='COBYLA',\n",
    "                      options={\"maxiter\":2})\n",
    "\n",
    "new_parameters = res.x\n",
    "print(res, \"\\n\")\n",
    "print(\"New Beta: \", res.x[0], \"\\nNew Gamma: \", res.x[1])"
   ]
  },
  {
   "cell_type": "markdown",
   "id": "1cede275",
   "metadata": {},
   "source": [
    "### Reinitializing the circuit with the updated Beta and Gamma parameters"
   ]
  },
  {
   "cell_type": "code",
   "execution_count": 6,
   "id": "65b9caa0",
   "metadata": {},
   "outputs": [],
   "source": [
    "#STEP 6: Create new circuit with new set of parameters and then make OpenQASM3 file.\n",
    "qc_param2_untranspiled = create_qaoa_circ(G, new_parameters)\n",
    "qc_param2_untranspiled.decompose().draw(output='mpl').savefig(\"Images/MaxCut_param2_untranspiled_SC.jpg\")\n",
    "\n",
    "\n",
    "from qiskit import qasm3\n",
    "# Qiskit -> OpenQASM3\n",
    "#print(qasm3.dumps(qc_param2_transpiled3))\n",
    "\n",
    "# Dump OpenQASM3 to file\n",
    "with open(\"Images/MaxCut_param2_untranspiled_SC.qasm\", 'w+') as fp:\n",
    "    qasm3.dump(qc_param2_untranspiled, fp)"
   ]
  },
  {
   "cell_type": "markdown",
   "id": "9e341e65",
   "metadata": {},
   "source": [
    "\n",
    "### **Part B: With Transpilation**\n",
    "\n",
    "0. Create QAOA Circuit with specific backend.\n",
    "1. Transpile with Qiskit\n",
    "2. Initialize Betta and Gamma parameters.\n",
    "3. Save OpenQASM3 file\n",
    "4. Execute Circuit on fake backend to get measurement results. \n",
    "5. Compute expectation value using the measurement results.\n",
    "6. Use Classical Optimizer to find new set of parameters using classical optimization algorithm\n",
    "7. Create new OpenQASM3 file with new set of parameters.\n",
    "\n",
    "\n",
    "These are the basic steps. The following code has been **slightly** modified from Qiskits website. In the code you will see multiple comments stating,\n",
    "```python\n",
    "#STEP\n",
    "```\n",
    "to indicate which part of the code corresponds to the steps listed above. \n",
    "\n",
    "**Note: For more information about the Qiskit code for the Maxcut problem, click [HERE](https://qiskit.org/textbook/ch-applications/qaoa.html).**\n",
    "\n",
    "\n",
    "#### Substep 1) Choose a Backend"
   ]
  },
  {
   "cell_type": "code",
   "execution_count": 7,
   "id": "8a561107",
   "metadata": {},
   "outputs": [
    {
     "name": "stdout",
     "output_type": "stream",
     "text": [
      "---------------------------------Backend Configuration---------------------------------\n",
      "This backend is called fake_melbourne, and is on version 0.0.0. \n",
      "It has 14 qubits. \n",
      "It does not support OpenPulse programs. \n",
      "The basis gates supported on this device are ['u1', 'u2', 'u3', 'cx', 'id']. \n",
      "Coupling Map: [[1, 0], [1, 2], [2, 3], [4, 3], [4, 10], [5, 4], [5, 6], [5, 9], [6, 8], [7, 8], [9, 8], [9, 10], [11, 3], [11, 10], [11, 12], [12, 2], [13, 1], [13, 12]]\n",
      "\n",
      "\n",
      "---------------------------------Backend Properties---------------------------------\n"
     ]
    }
   ],
   "source": [
    "from qiskit import IBMQ\n",
    "from qiskit.tools.jupyter import *\n",
    "from qiskit.providers.fake_provider import FakeMelbourne#, FakeBoeblingen, FakeGuadalupe\n",
    "from qiskit.transpiler import CouplingMap\n",
    "import pprint\n",
    "pp = pprint.PrettyPrinter(indent=4)\n",
    "\n",
    "# Define a simulated noisy backend\n",
    "backend = FakeMelbourne()\n",
    "\n",
    "\n",
    "# Print out basic features of this backend. \n",
    "print(\"---------------------------------Backend Configuration---------------------------------\")\n",
    "\n",
    "config = backend.configuration()\n",
    "#pp.pprint(config.to_dict())\n",
    "\n",
    "print(\"This backend is called {0}, and is on version {1}. \\nIt has {2} qubit{3}. \\nIt \"\n",
    "      \"{4} OpenPulse programs. \\nThe basis gates supported on this device are {5}. \\nCoupling Map: {6}\\n\\n\"\n",
    "      \"\".format(config.backend_name,\n",
    "                config.backend_version,\n",
    "                config.n_qubits,\n",
    "                '' if config.n_qubits == 1 else 's',\n",
    "                'supports' if config.open_pulse else 'does not support',\n",
    "                config.basis_gates,\n",
    "                config.coupling_map))\n",
    "\n",
    "\n",
    "print(\"---------------------------------Backend Properties---------------------------------\")\n",
    "# Print out information about the Properties of the backend.\n",
    "properties = backend.properties()\n",
    "#pp.pprint(properties.to_dict())\n"
   ]
  },
  {
   "cell_type": "code",
   "execution_count": 8,
   "id": "e46613d7",
   "metadata": {},
   "outputs": [
    {
     "data": {
      "image/png": "[encoded data removed]",
      "text/plain": [
       "<PIL.PngImagePlugin.PngImageFile image mode=RGBA size=545x688 at 0x1B5386667C0>"
      ]
     },
     "execution_count": 8,
     "metadata": {},
     "output_type": "execute_result"
    }
   ],
   "source": [
    "# Print Coupling Map\n",
    "cm = CouplingMap(config.coupling_map)\n",
    "cm.draw()"
   ]
  },
  {
   "cell_type": "markdown",
   "id": "89112cc1",
   "metadata": {},
   "source": [
    "### Initializing the circuit with initial values of Beta and Gamma parameters"
   ]
  },
  {
   "cell_type": "code",
   "execution_count": 9,
   "id": "1d7311bb",
   "metadata": {},
   "outputs": [],
   "source": [
    "from qiskit import QuantumCircuit, ClassicalRegister, QuantumRegister\n",
    "from qiskit import Aer, execute\n",
    "from qiskit import transpile\n",
    "\n",
    "# ALREADY DEFINED IN PREVIOUS CELL.\n",
    "# def create_qaoa_circ(G, theta):\n",
    "\n",
    "\n",
    "# STEP 0: Create QAOA Circuit \n",
    "# AND \n",
    "# STEP 1: Initialize Betta and Gamma parameters using theta.\n",
    "beta = 1\n",
    "gamma = 1\n",
    "qc_param1_untranspiled = create_qaoa_circ(G, [beta, gamma])\n",
    "qc_param1_transpiled3 = transpile(qc_param1_untranspiled, backend, optimization_level=3)\n",
    "qc_param1_transpiled3.decompose().draw(\"mpl\").savefig(\"Images/MaxCut_param1_transpiled3_SC.jpg\")\n",
    "\n",
    "\n",
    "#STEP 2: Save OpenQASM3 file\n",
    "from qiskit import qasm3\n",
    "#print(qasm3.dumps(qc_param1_transpiled3))\n",
    "# Dump to file\n",
    "with open(\"Images/MaxCut_param1_transpiled3_SC.qasm\", 'w+') as fp:\n",
    "    qasm3.dump(qc_param1_transpiled3, fp)"
   ]
  },
  {
   "cell_type": "markdown",
   "id": "8f1ade81",
   "metadata": {},
   "source": [
    "### Defining several functions "
   ]
  },
  {
   "cell_type": "code",
   "execution_count": 10,
   "id": "febba1b8",
   "metadata": {},
   "outputs": [],
   "source": [
    "from qiskit import QuantumCircuit, ClassicalRegister, QuantumRegister\n",
    "from qiskit import Aer, execute\n",
    "from qiskit.circuit import Parameter\n",
    "\n",
    "# ALREADY DEFINED IN PREVIOUS CELL.\n",
    "#def maxcut_obj(x, G):\n",
    "\n",
    "\n",
    "# ALREADY DEFINED IN PREVIOUS CELL.\n",
    "#def compute_expectation(counts, G):\n",
    "\n",
    "# SLIGHTLY MODIFIED. Creates new circuit with updated parameters, THEN transpiles circuit with fake superconducting backend.\n",
    "# Finally we write a function that executes the circuit on the chosen backend\n",
    "def get_expectation(G, p, shots=512):\n",
    "    \n",
    "    \"\"\"\n",
    "    Runs parametrized circuit\n",
    "    \n",
    "    Args:\n",
    "        G: networkx graph\n",
    "        p: int,\n",
    "           Number of repetitions of unitaries\n",
    "    \"\"\"\n",
    "    \n",
    "    backend = FakeMelbourne()\n",
    "    backend.shots = shots\n",
    "    \n",
    "    def execute_circ(theta):        \n",
    "        # STEP 0: Create QAOA Circuit \n",
    "        # AND \n",
    "        # STEP 1: Initialize Betta and Gamma parameters using theta.\n",
    "        qc_param1_untranspiled = create_qaoa_circ(G, theta) \n",
    "        qc_param1_transpiled3 = transpile(qc_param1_untranspiled, backend, optimization_level=3)\n",
    "\n",
    "        \n",
    "        #(Optional): Can print/save circuit for each iteration. After each iteration the circuit will have updated betta and gamma parameters. \n",
    "        #qc_param1_transpiled3.decompose().draw(output='mpl').savefig(\"Images/MaxCut_param1_transpiled3_SC.jpg\")\n",
    "\n",
    "        \n",
    "        #(Optional): Can print/save the OpenQASM3 file for each iteration.\n",
    "        '''\n",
    "        from qiskit import qasm3\n",
    "        print(qasm3.dumps(qc_param1_transpiled3))\n",
    "        # Dump to file\n",
    "        with open(\"Images/MaxCut_param1_transpiled3_SC.qasm\", 'w+') as fp:\n",
    "            qasm3.dump(qc_param1_transpiled3, fp)\n",
    "        '''\n",
    "        \n",
    "        #STEP 3: Execute Circuit on fake backend to get measurement results. \n",
    "        counts = backend.run(qc_param1_transpiled3, seed_simulator=10, \n",
    "                             nshots=512).result().get_counts()\n",
    "        \n",
    "        \n",
    "        # STEP 4: Compute expectation value using the measurement results.\n",
    "        return compute_expectation(counts, G)\n",
    "    \n",
    "    return execute_circ"
   ]
  },
  {
   "cell_type": "markdown",
   "id": "c5b152c1",
   "metadata": {},
   "source": [
    "### Using a Classical Optimizer"
   ]
  },
  {
   "cell_type": "code",
   "execution_count": 11,
   "id": "187386c6",
   "metadata": {},
   "outputs": [
    {
     "name": "stdout",
     "output_type": "stream",
     "text": [
      "     fun: -2.548828125\n",
      "   maxcv: 0.0\n",
      " message: 'Maximum number of function evaluations has been exceeded.'\n",
      "    nfev: 2\n",
      "  status: 2\n",
      " success: False\n",
      "       x: array([2., 1.]) \n",
      "\n",
      "New Beta:  2.0 \n",
      "New Gamma:  1.0\n"
     ]
    }
   ],
   "source": [
    "from scipy.optimize import minimize\n",
    "\n",
    "\n",
    "expectation = get_expectation(G, p=1)\n",
    "\n",
    "# STEP 5: Use Classical Optimizer to find new set of parameters using classical optimization algorithm\n",
    "res = minimize(expectation, \n",
    "                      [1.0, 1.0], #STEP 1: Initialize Betta and Gamma parameters.\n",
    "                      method='COBYLA',\n",
    "                      options={\"maxiter\":2})\n",
    "\n",
    "new_parameters = res.x\n",
    "print(res, \"\\n\")\n",
    "print(\"New Beta: \", res.x[0], \"\\nNew Gamma: \", res.x[1])"
   ]
  },
  {
   "cell_type": "markdown",
   "id": "c142421e",
   "metadata": {},
   "source": [
    "### Reinitializing the circuit with the updated Beta and Gamma parameters"
   ]
  },
  {
   "cell_type": "code",
   "execution_count": 12,
   "id": "d0cf7074",
   "metadata": {},
   "outputs": [],
   "source": [
    "#STEP 6: Create new circuit with new set of parameters and then make OpenQASM3 file.\n",
    "qc_param2_untranspiled = create_qaoa_circ(G, new_parameters)\n",
    "qc_param2_transpiled3 = transpile(qc_param2_untranspiled, backend, optimization_level=3)\n",
    "qc_param2_transpiled3.decompose().draw(output='mpl').savefig(\"Images/MaxCut_param2_transpiled3_SC.jpg\")\n",
    "\n",
    "\n",
    "from qiskit import qasm3\n",
    "# Qiskit -> OpenQASM3\n",
    "#print(qasm3.dumps(qc_param2_transpiled3))\n",
    "\n",
    "# Dump OpenQASM3 to file\n",
    "with open(\"Images/MaxCut_param2_transpiled3_SC.qasm\", 'w+') as fp:\n",
    "    qasm3.dump(qc_param2_transpiled3, fp)"
   ]
  },
  {
   "cell_type": "code",
   "execution_count": null,
   "id": "a5390120",
   "metadata": {},
   "outputs": [],
   "source": []
  },
  {
   "cell_type": "code",
   "execution_count": null,
   "id": "9eb2893f",
   "metadata": {},
   "outputs": [],
   "source": []
  },
  {
   "cell_type": "code",
   "execution_count": null,
   "id": "1318132f",
   "metadata": {},
   "outputs": [],
   "source": []
  },
  {
   "cell_type": "markdown",
   "id": "ca46aa90",
   "metadata": {},
   "source": [
    "# Keeping for reference, but DO NOT use. OLD Way of doing steps."
   ]
  },
  {
   "cell_type": "markdown",
   "id": "b6ea1d13",
   "metadata": {},
   "source": [
    "### Step 0) Create QAOA circuit"
   ]
  },
  {
   "cell_type": "code",
   "execution_count": null,
   "id": "15388a53",
   "metadata": {},
   "outputs": [],
   "source": [
    "from qiskit import QuantumCircuit, ClassicalRegister, QuantumRegister\n",
    "from qiskit import Aer, execute\n",
    "from qiskit.circuit import Parameter\n",
    "\n",
    "def create_qaoa_circ(G, theta):\n",
    "    \n",
    "    \"\"\"\n",
    "    Creates a parametrized qaoa circuit\n",
    "    \n",
    "    Args:  \n",
    "        G: networkx graph\n",
    "        theta: list\n",
    "               unitary parameters\n",
    "                     \n",
    "    Returns:\n",
    "        qc: qiskit circuit\n",
    "    \"\"\"\n",
    "    \n",
    "    nqubits = len(G.nodes())\n",
    "    p = len(theta)//2  # number of alternating unitaries\n",
    "    qc = QuantumCircuit(nqubits)\n",
    "    \n",
    "    beta = theta[:p]\n",
    "    gamma = theta[p:]\n",
    "    \n",
    "    # initial_state\n",
    "    for i in range(0, nqubits):\n",
    "        qc.h(i)\n",
    "    qc.barrier()\n",
    "    \n",
    "    for irep in range(0, p):\n",
    "        \n",
    "        # problem unitary\n",
    "        for pair in list(G.edges()):\n",
    "            qc.rzz(2 * gamma[irep], pair[0], pair[1])\n",
    "            qc.barrier()\n",
    "\n",
    "        # mixer unitary\n",
    "        for i in range(0, nqubits):\n",
    "            qc.rx(2 * beta[irep], i)\n",
    "            \n",
    "    qc.measure_all()\n",
    "        \n",
    "    return qc\n",
    "\n",
    "\n",
    "beta = Parameter(\"$\\\\beta$\")\n",
    "gamma = Parameter(\"$\\\\gamma$\")\n",
    "\n",
    "qc_paramNone_untranspiled = create_qaoa_circ(G, [beta, gamma])\n",
    "qc_paramNone_untranspiled.decompose().draw(\"mpl\")#.savefig(\"Images/MaxCut_paramNone_untranspiled_SC.jpg\")"
   ]
  },
  {
   "cell_type": "code",
   "execution_count": null,
   "id": "c66e2d1b",
   "metadata": {},
   "outputs": [],
   "source": [
    "'''\n",
    "# Qiskit Circuit  <-->  .qasm file\n",
    "from qiskit import qasm3\n",
    "\n",
    "# Qiskit -> OpenQASM3\n",
    "# Print\n",
    "print(qasm3.dumps(qc_paramNone_untranspiled))\n",
    "# Dump to file\n",
    "with open(\"Images/MaxCut_paramNone_untranspiled_SC.qasm\", 'w+') as fp:\n",
    "    qasm3.dump(qc_paramNone_untranspiled.decompose(), fp)\n",
    "'''"
   ]
  },
  {
   "cell_type": "markdown",
   "id": "99021e45",
   "metadata": {},
   "source": [
    "### Step 1) Transpile with Qiskit\n",
    "1. Choose A backend\n",
    "2. Do optimization_level=3 transpilation with the backend.\n",
    "\n",
    "\n",
    "#### Substep 1) Choose a Backend"
   ]
  },
  {
   "cell_type": "code",
   "execution_count": null,
   "id": "1eda1aa3",
   "metadata": {},
   "outputs": [],
   "source": [
    "from qiskit import IBMQ\n",
    "from qiskit.tools.jupyter import *\n",
    "from qiskit.test.mock import FakeMelbourne#, FakeBoeblingen, FakeGuadalupe\n",
    "from qiskit.transpiler import CouplingMap\n",
    "import pprint\n",
    "pp = pprint.PrettyPrinter(indent=4)\n",
    "\n",
    "# Define a simulated noisy backend\n",
    "backend = FakeMelbourne()\n",
    "\n",
    "\n",
    "\n",
    "\n",
    "# Print out basic features of this backend. \n",
    "print(\"---------------------------------Backend Configuration---------------------------------\")\n",
    "\n",
    "config = backend.configuration()\n",
    "pp.pprint(config.to_dict())\n",
    "\n",
    "print(\"This backend is called {0}, and is on version {1}. \\nIt has {2} qubit{3}. \\nIt \"\n",
    "      \"{4} OpenPulse programs. \\nThe basis gates supported on this device are {5}. \\nCoupling Map: {6}\\n\\n\"\n",
    "      \"\".format(config.backend_name,\n",
    "                config.backend_version,\n",
    "                config.n_qubits,\n",
    "                '' if config.n_qubits == 1 else 's',\n",
    "                'supports' if config.open_pulse else 'does not support',\n",
    "                config.basis_gates,\n",
    "                config.coupling_map))\n",
    "\n",
    "\n",
    "print(\"---------------------------------Backend Properties---------------------------------\")\n",
    "# Print out information about the Properties of the backend.\n",
    "properties = backend.properties()\n",
    "pp.pprint(properties.to_dict())\n"
   ]
  },
  {
   "cell_type": "code",
   "execution_count": null,
   "id": "491663e1",
   "metadata": {},
   "outputs": [],
   "source": [
    "# Print Coupling Map\n",
    "cm = CouplingMap(config.coupling_map)\n",
    "cm.draw()"
   ]
  },
  {
   "cell_type": "markdown",
   "id": "42977fa0",
   "metadata": {},
   "source": [
    "#### Substep 2) Do optimization_level=3 transpilation with the backend."
   ]
  },
  {
   "cell_type": "code",
   "execution_count": null,
   "id": "3f717ecb",
   "metadata": {},
   "outputs": [],
   "source": [
    "from qiskit import transpile\n",
    "    \n",
    "qc_paramNone_transpiled3 = transpile(qc_paramNone_untranspiled, backend, optimization_level=3)\n",
    "qc_paramNone_transpiled3.draw(output='mpl')#.savefig(\"Images/MaxCut_paramNone_transpiled3_SC.jpg\")"
   ]
  },
  {
   "cell_type": "markdown",
   "id": "0a8793d9",
   "metadata": {},
   "source": [
    "### (Skip) Step 2) Initialize Beta and Gamma Parameters"
   ]
  },
  {
   "cell_type": "code",
   "execution_count": null,
   "id": "b4c12d79",
   "metadata": {},
   "outputs": [],
   "source": [
    "#qc_basis = create_qaoa_circ(G, [1.0, 1.0])\n",
    "#qc_basis.decompose().draw(\"mpl\")"
   ]
  },
  {
   "cell_type": "markdown",
   "id": "8118a5dd",
   "metadata": {},
   "source": [
    "### Step 3) Save OpenQASM3 file"
   ]
  },
  {
   "cell_type": "code",
   "execution_count": null,
   "id": "f472a5ab",
   "metadata": {},
   "outputs": [],
   "source": [
    "'''\n",
    "# Qiskit Circuit  <-->  .qasm file\n",
    "from qiskit import qasm3\n",
    "\n",
    "# Qiskit -> OpenQASM3\n",
    "# Print\n",
    "print(qasm3.dumps(qc_paramNone_transpiled3))\n",
    "# Dump to file\n",
    "with open(\"Images/MaxCut_paramNone_transpiled3_SC.qasm\", 'w+') as fp:\n",
    "    qasm3.dump(qc_paramNone_transpiled3, fp)\n",
    "'''"
   ]
  },
  {
   "cell_type": "markdown",
   "id": "7ad451d0",
   "metadata": {},
   "source": [
    "### Step 4)  Execute Circuit on fake backend to get measurement results. \n"
   ]
  },
  {
   "cell_type": "code",
   "execution_count": null,
   "id": "8482fdf5",
   "metadata": {},
   "outputs": [],
   "source": [
    "# A function that executes the circuit on the chosen backend\n",
    "def get_expectation(G, p, shots=512):\n",
    "    \n",
    "    \"\"\"\n",
    "    Runs parametrized circuit\n",
    "    \n",
    "    Args:\n",
    "        G: networkx graph\n",
    "        p: int,\n",
    "           Number of repetitions of unitaries\n",
    "    \"\"\"\n",
    "    \n",
    "    backend = FakeMelbourne()\n",
    "    backend.shots = shots\n",
    "    \n",
    "    def execute_circ(theta):\n",
    "        \n",
    "        #qc = create_qaoa_circ(G, theta)\n",
    "        \n",
    "        \n",
    "        qc_param1_untranspiled = create_qaoa_circ(G, theta)\n",
    "        #qc_param1_untranspiled.decompose().draw(output='mpl').savefig(\"Images/MaxCut_param1_untranspiled_SC.jpg\")\n",
    "\n",
    "        qc_param1_transpiled3 = transpile(qc_param1_untranspiled, backend, optimization_level=3)\n",
    "        qc_param1_transpiled3.draw(output='mpl').savefig(\"Images/MaxCut_param1_transpiled3_SC.jpg\")\n",
    "        \n",
    "        \n",
    "        from qiskit import qasm3\n",
    "        print(qasm3.dumps(qc_param1_transpiled3))\n",
    "        # Dump to file\n",
    "        with open(\"Images/MaxCut_param1_transpiled3_SC.qasm\", 'w+') as fp:\n",
    "            qasm3.dump(qc_param1_transpiled3, fp)\n",
    "        \n",
    "        \n",
    "        counts = backend.run(qc_param1_transpiled3, seed_simulator=10, \n",
    "                             nshots=512).result().get_counts()\n",
    "        \n",
    "        \n",
    "        #counts = backend.run(qc, seed_simulator=10, \n",
    "        #                     nshots=512).result().get_counts()\n",
    "        \n",
    "        return compute_expectation(counts, G)\n",
    "    \n",
    "    return execute_circ"
   ]
  },
  {
   "cell_type": "markdown",
   "id": "2e4c6bc1",
   "metadata": {},
   "source": [
    "### Step 5) Compute expectation value using the measurement results.\n"
   ]
  },
  {
   "cell_type": "code",
   "execution_count": null,
   "id": "a732f1b2",
   "metadata": {},
   "outputs": [],
   "source": [
    "def maxcut_obj(x, G):\n",
    "    \"\"\"\n",
    "    Given a bitstring as a solution, this function returns\n",
    "    the number of edges shared between the two partitions\n",
    "    of the graph.\n",
    "    \n",
    "    Args:\n",
    "        x: str\n",
    "           solution bitstring\n",
    "           \n",
    "        G: networkx graph\n",
    "        \n",
    "    Returns:\n",
    "        obj: float\n",
    "             Objective\n",
    "    \"\"\"\n",
    "    obj = 0\n",
    "    for i, j in G.edges():\n",
    "        if x[i] != x[j]:\n",
    "            obj -= 1\n",
    "            \n",
    "    return obj\n",
    "\n",
    "def compute_expectation(counts, G):\n",
    "    \n",
    "    \"\"\"\n",
    "    Computes expectation value based on measurement results\n",
    "    \n",
    "    Args:\n",
    "        counts: dict\n",
    "                key as bitstring, val as count\n",
    "           \n",
    "        G: networkx graph\n",
    "        \n",
    "    Returns:\n",
    "        avg: float\n",
    "             expectation value\n",
    "    \"\"\"\n",
    "    \n",
    "    avg = 0\n",
    "    sum_count = 0\n",
    "    for bitstring, count in counts.items():\n",
    "        \n",
    "        obj = maxcut_obj(bitstring, G)\n",
    "        avg += obj * count\n",
    "        sum_count += count\n",
    "        \n",
    "    return avg/sum_count"
   ]
  },
  {
   "cell_type": "markdown",
   "id": "4fe78acb",
   "metadata": {},
   "source": [
    "### Step 6) Use Classical Optimizer to find new set of parameters using classical optimization algorithm\n",
    "\n",
    "**Note: For more information about the classical optimizer, click [HERE](https://docs.scipy.org/doc/scipy/reference/generated/scipy.optimize.minimize.html).**\n",
    "\n"
   ]
  },
  {
   "cell_type": "code",
   "execution_count": null,
   "id": "565bace9",
   "metadata": {
    "scrolled": false
   },
   "outputs": [],
   "source": [
    "from scipy.optimize import minimize\n",
    "\n",
    "\n",
    "expectation = get_expectation(G, p=1)\n",
    "\n",
    "# method = 'COBYLA' is the classical optimizer method\n",
    "res = minimize(expectation, \n",
    "                      [1.0, 2.0], \n",
    "                      method='COBYLA',\n",
    "                      options={\"maxiter\":1})\n",
    "\n",
    "new_parameters = res.x\n",
    "print(res, \"\\n\")\n",
    "print(\"New Beta: \", res.x[0], \"\\nNew Gamma: \", res.x[1])"
   ]
  },
  {
   "cell_type": "markdown",
   "id": "a9b20405",
   "metadata": {},
   "source": [
    "### Step 7) Create new OpenQASM3 file with new set of parameters."
   ]
  },
  {
   "cell_type": "code",
   "execution_count": null,
   "id": "0218a995",
   "metadata": {},
   "outputs": [],
   "source": [
    "qc_param2_untranspiled = create_qaoa_circ(G, new_parameters)\n",
    "\n",
    "qc_param2_transpiled3 = transpile(qc_param2_untranspiled, backend, optimization_level=3)\n",
    "qc_param2_transpiled3.decompose().draw(output='mpl').savefig(\"Images/MaxCut_param2_transpiled3_SC.jpg\")\n",
    "\n",
    "#qc_param2_transpiled3.decompose().draw('mpl')"
   ]
  },
  {
   "cell_type": "code",
   "execution_count": null,
   "id": "10aa5008",
   "metadata": {},
   "outputs": [],
   "source": [
    "# Qiskit Circuit  <-->  .qasm file\n",
    "from qiskit import qasm3\n",
    "\n",
    "# Qiskit -> OpenQASM3\n",
    "# Print\n",
    "print(qasm3.dumps(qc_param2_transpiled3))\n",
    "# Dump to file\n",
    "with open(\"Images/MaxCut_param2_transpiled3_SC.qasm\", 'w+') as fp:\n",
    "    qasm3.dump(qc_param2_transpiled3, fp)"
   ]
  }
 ],
 "metadata": {
  "kernelspec": {
   "display_name": "Python 3",
   "language": "python",
   "name": "python3"
  },
  "language_info": {
   "codemirror_mode": {
    "name": "ipython",
    "version": 3
   },
   "file_extension": ".py",
   "mimetype": "text/x-python",
   "name": "python",
   "nbconvert_exporter": "python",
   "pygments_lexer": "ipython3",
   "version": "3.8.8"
  }
 },
 "nbformat": 4,
 "nbformat_minor": 5
}
