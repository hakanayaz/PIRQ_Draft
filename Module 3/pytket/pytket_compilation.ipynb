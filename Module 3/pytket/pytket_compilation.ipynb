{
 "cells": [
  {
   "cell_type": "markdown",
   "id": "c882a102",
   "metadata": {},
   "source": [
    "### Running B-V circuit on ion trap hardware\n",
    "In this tutorial we will define the B-V for a 3 bit hidden string s using pytket, then run it on Quantinuums ion trap hardware.\n",
    "1. Define B-V for a 3 bit hidden string s in Qiskit.\n",
    "2. Convert from Qiskit to pytket.\n",
    "3. Run on Quantinuum ion trap hardware.\n",
    "\n",
    "**Step 1: We begin with a small circuit that implements the BV algorithm for a 3 bit hidden string s, using Qiskit.**"
   ]
  },
  {
   "cell_type": "code",
   "execution_count": 1,
   "id": "f8d899aa",
   "metadata": {},
   "outputs": [
    {
     "name": "stdout",
     "output_type": "stream",
     "text": [
      "Requirement already satisfied: pytket in /Users/hakanayaz/opt/anaconda3/lib/python3.9/site-packages (1.3.0)\n",
      "Requirement already satisfied: lark-parser~=0.7 in /Users/hakanayaz/opt/anaconda3/lib/python3.9/site-packages (from pytket) (0.12.0)\n",
      "Requirement already satisfied: networkx~=2.4 in /Users/hakanayaz/opt/anaconda3/lib/python3.9/site-packages (from pytket) (2.7.1)\n",
      "Requirement already satisfied: scipy<2.0,>=1.7.2 in /Users/hakanayaz/opt/anaconda3/lib/python3.9/site-packages (from pytket) (1.7.3)\n",
      "Requirement already satisfied: sympy~=1.6 in /Users/hakanayaz/opt/anaconda3/lib/python3.9/site-packages (from pytket) (1.9)\n",
      "Requirement already satisfied: graphviz~=0.14 in /Users/hakanayaz/opt/anaconda3/lib/python3.9/site-packages (from pytket) (0.20)\n",
      "Requirement already satisfied: jinja2~=3.0 in /Users/hakanayaz/opt/anaconda3/lib/python3.9/site-packages (from pytket) (3.1.2)\n",
      "Requirement already satisfied: typing-extensions~=4.2 in /Users/hakanayaz/opt/anaconda3/lib/python3.9/site-packages (from pytket) (4.3.0)\n",
      "Requirement already satisfied: types-pkg-resources in /Users/hakanayaz/opt/anaconda3/lib/python3.9/site-packages (from pytket) (0.1.3)\n",
      "Requirement already satisfied: numpy<2.0,>=1.21.4 in /Users/hakanayaz/opt/anaconda3/lib/python3.9/site-packages (from pytket) (1.21.4)\n",
      "Requirement already satisfied: MarkupSafe>=2.0 in /Users/hakanayaz/opt/anaconda3/lib/python3.9/site-packages (from jinja2~=3.0->pytket) (2.0.1)\n",
      "Requirement already satisfied: mpmath>=0.19 in /Users/hakanayaz/opt/anaconda3/lib/python3.9/site-packages (from sympy~=1.6->pytket) (1.2.1)\n",
      "Note: you may need to restart the kernel to use updated packages.\n"
     ]
    }
   ],
   "source": [
    "pip install pytket"
   ]
  },
  {
   "cell_type": "code",
   "execution_count": 2,
   "id": "e2832608",
   "metadata": {},
   "outputs": [
    {
     "name": "stdout",
     "output_type": "stream",
     "text": [
      "Collecting daal==2021.4.0\n",
      "  Using cached daal-2021.4.0-py2.py3-none-macosx_10_15_x86_64.macosx_11_0_x86_64.whl (189.9 MB)\n",
      "Collecting tbb==2021.*\n",
      "  Using cached tbb-2021.6.0-py2.py3-none-macosx_10_15_x86_64.macosx_11_0_x86_64.whl (1.0 MB)\n",
      "Installing collected packages: tbb, daal\n",
      "  Attempting uninstall: tbb\n",
      "    Found existing installation: TBB 0.2\n",
      "\u001b[31mERROR: Cannot uninstall 'TBB'. It is a distutils installed project and thus we cannot accurately determine which files belong to it which would lead to only a partial uninstall.\u001b[0m\n",
      "Note: you may need to restart the kernel to use updated packages.\n"
     ]
    }
   ],
   "source": [
    "pip install daal==2021.4.0"
   ]
  },
  {
   "cell_type": "code",
   "execution_count": 3,
   "id": "7c07f838",
   "metadata": {},
   "outputs": [
    {
     "name": "stdout",
     "output_type": "stream",
     "text": [
      "Requirement already satisfied: numpy==1.21.4 in /Users/hakanayaz/opt/anaconda3/lib/python3.9/site-packages (1.21.4)\n",
      "Note: you may need to restart the kernel to use updated packages.\n"
     ]
    }
   ],
   "source": [
    "pip install numpy==1.21.4"
   ]
  },
  {
   "cell_type": "code",
   "execution_count": 4,
   "id": "f841addb",
   "metadata": {},
   "outputs": [
    {
     "name": "stdout",
     "output_type": "stream",
     "text": [
      "Requirement already satisfied: pytket-qiskit in /Users/hakanayaz/opt/anaconda3/lib/python3.9/site-packages (0.26.0)\n",
      "Requirement already satisfied: qiskit~=0.36.0 in /Users/hakanayaz/opt/anaconda3/lib/python3.9/site-packages (from pytket-qiskit) (0.36.2)\n",
      "Requirement already satisfied: pytket~=1.3 in /Users/hakanayaz/opt/anaconda3/lib/python3.9/site-packages (from pytket-qiskit) (1.3.0)\n",
      "Requirement already satisfied: sympy~=1.6 in /Users/hakanayaz/opt/anaconda3/lib/python3.9/site-packages (from pytket~=1.3->pytket-qiskit) (1.9)\n",
      "Requirement already satisfied: types-pkg-resources in /Users/hakanayaz/opt/anaconda3/lib/python3.9/site-packages (from pytket~=1.3->pytket-qiskit) (0.1.3)\n",
      "Requirement already satisfied: numpy<2.0,>=1.21.4 in /Users/hakanayaz/opt/anaconda3/lib/python3.9/site-packages (from pytket~=1.3->pytket-qiskit) (1.21.4)\n",
      "Requirement already satisfied: jinja2~=3.0 in /Users/hakanayaz/opt/anaconda3/lib/python3.9/site-packages (from pytket~=1.3->pytket-qiskit) (3.1.2)\n",
      "Requirement already satisfied: typing-extensions~=4.2 in /Users/hakanayaz/opt/anaconda3/lib/python3.9/site-packages (from pytket~=1.3->pytket-qiskit) (4.3.0)\n",
      "Requirement already satisfied: lark-parser~=0.7 in /Users/hakanayaz/opt/anaconda3/lib/python3.9/site-packages (from pytket~=1.3->pytket-qiskit) (0.12.0)\n",
      "Requirement already satisfied: graphviz~=0.14 in /Users/hakanayaz/opt/anaconda3/lib/python3.9/site-packages (from pytket~=1.3->pytket-qiskit) (0.20)\n",
      "Requirement already satisfied: networkx~=2.4 in /Users/hakanayaz/opt/anaconda3/lib/python3.9/site-packages (from pytket~=1.3->pytket-qiskit) (2.7.1)\n",
      "Requirement already satisfied: scipy<2.0,>=1.7.2 in /Users/hakanayaz/opt/anaconda3/lib/python3.9/site-packages (from pytket~=1.3->pytket-qiskit) (1.7.3)\n",
      "Requirement already satisfied: MarkupSafe>=2.0 in /Users/hakanayaz/opt/anaconda3/lib/python3.9/site-packages (from jinja2~=3.0->pytket~=1.3->pytket-qiskit) (2.0.1)\n",
      "Requirement already satisfied: qiskit-ignis==0.7.1 in /Users/hakanayaz/opt/anaconda3/lib/python3.9/site-packages (from qiskit~=0.36.0->pytket-qiskit) (0.7.1)\n",
      "Requirement already satisfied: qiskit-aer==0.10.4 in /Users/hakanayaz/opt/anaconda3/lib/python3.9/site-packages (from qiskit~=0.36.0->pytket-qiskit) (0.10.4)\n",
      "Requirement already satisfied: qiskit-terra==0.20.2 in /Users/hakanayaz/opt/anaconda3/lib/python3.9/site-packages (from qiskit~=0.36.0->pytket-qiskit) (0.20.2)\n",
      "Requirement already satisfied: qiskit-ibmq-provider==0.19.1 in /Users/hakanayaz/opt/anaconda3/lib/python3.9/site-packages (from qiskit~=0.36.0->pytket-qiskit) (0.19.1)\n",
      "Requirement already satisfied: python-dateutil>=2.8.0 in /Users/hakanayaz/opt/anaconda3/lib/python3.9/site-packages (from qiskit-ibmq-provider==0.19.1->qiskit~=0.36.0->pytket-qiskit) (2.8.2)\n",
      "Requirement already satisfied: websockets>=10.0 in /Users/hakanayaz/opt/anaconda3/lib/python3.9/site-packages (from qiskit-ibmq-provider==0.19.1->qiskit~=0.36.0->pytket-qiskit) (10.3)\n",
      "Requirement already satisfied: requests>=2.19 in /Users/hakanayaz/opt/anaconda3/lib/python3.9/site-packages (from qiskit-ibmq-provider==0.19.1->qiskit~=0.36.0->pytket-qiskit) (2.27.1)\n",
      "Requirement already satisfied: requests-ntlm>=1.1.0 in /Users/hakanayaz/opt/anaconda3/lib/python3.9/site-packages (from qiskit-ibmq-provider==0.19.1->qiskit~=0.36.0->pytket-qiskit) (1.1.0)\n",
      "Requirement already satisfied: urllib3>=1.21.1 in /Users/hakanayaz/opt/anaconda3/lib/python3.9/site-packages (from qiskit-ibmq-provider==0.19.1->qiskit~=0.36.0->pytket-qiskit) (1.26.9)\n",
      "Requirement already satisfied: websocket-client>=1.0.1 in /Users/hakanayaz/opt/anaconda3/lib/python3.9/site-packages (from qiskit-ibmq-provider==0.19.1->qiskit~=0.36.0->pytket-qiskit) (1.3.3)\n",
      "Requirement already satisfied: retworkx>=0.8.0 in /Users/hakanayaz/opt/anaconda3/lib/python3.9/site-packages (from qiskit-ignis==0.7.1->qiskit~=0.36.0->pytket-qiskit) (0.11.0)\n",
      "Requirement already satisfied: setuptools>=40.1.0 in /Users/hakanayaz/opt/anaconda3/lib/python3.9/site-packages (from qiskit-ignis==0.7.1->qiskit~=0.36.0->pytket-qiskit) (61.2.0)\n",
      "Requirement already satisfied: python-constraint>=1.4 in /Users/hakanayaz/opt/anaconda3/lib/python3.9/site-packages (from qiskit-terra==0.20.2->qiskit~=0.36.0->pytket-qiskit) (1.4.0)\n",
      "Requirement already satisfied: ply>=3.10 in /Users/hakanayaz/opt/anaconda3/lib/python3.9/site-packages (from qiskit-terra==0.20.2->qiskit~=0.36.0->pytket-qiskit) (3.11)\n",
      "Requirement already satisfied: psutil>=5 in /Users/hakanayaz/opt/anaconda3/lib/python3.9/site-packages (from qiskit-terra==0.20.2->qiskit~=0.36.0->pytket-qiskit) (5.8.0)\n",
      "Requirement already satisfied: symengine>=0.9 in /Users/hakanayaz/opt/anaconda3/lib/python3.9/site-packages (from qiskit-terra==0.20.2->qiskit~=0.36.0->pytket-qiskit) (0.9.2)\n",
      "Requirement already satisfied: dill>=0.3 in /Users/hakanayaz/opt/anaconda3/lib/python3.9/site-packages (from qiskit-terra==0.20.2->qiskit~=0.36.0->pytket-qiskit) (0.3.5.1)\n",
      "Requirement already satisfied: stevedore>=3.0.0 in /Users/hakanayaz/opt/anaconda3/lib/python3.9/site-packages (from qiskit-terra==0.20.2->qiskit~=0.36.0->pytket-qiskit) (3.5.0)\n",
      "Requirement already satisfied: tweedledum<2.0,>=1.1 in /Users/hakanayaz/opt/anaconda3/lib/python3.9/site-packages (from qiskit-terra==0.20.2->qiskit~=0.36.0->pytket-qiskit) (1.1.1)\n",
      "Requirement already satisfied: six>=1.5 in /Users/hakanayaz/opt/anaconda3/lib/python3.9/site-packages (from python-dateutil>=2.8.0->qiskit-ibmq-provider==0.19.1->qiskit~=0.36.0->pytket-qiskit) (1.16.0)\n",
      "Requirement already satisfied: charset-normalizer~=2.0.0 in /Users/hakanayaz/opt/anaconda3/lib/python3.9/site-packages (from requests>=2.19->qiskit-ibmq-provider==0.19.1->qiskit~=0.36.0->pytket-qiskit) (2.0.4)\n",
      "Requirement already satisfied: certifi>=2017.4.17 in /Users/hakanayaz/opt/anaconda3/lib/python3.9/site-packages (from requests>=2.19->qiskit-ibmq-provider==0.19.1->qiskit~=0.36.0->pytket-qiskit) (2021.5.30)\n",
      "Requirement already satisfied: idna<4,>=2.5 in /Users/hakanayaz/opt/anaconda3/lib/python3.9/site-packages (from requests>=2.19->qiskit-ibmq-provider==0.19.1->qiskit~=0.36.0->pytket-qiskit) (2.10)\n",
      "Requirement already satisfied: cryptography>=1.3 in /Users/hakanayaz/opt/anaconda3/lib/python3.9/site-packages (from requests-ntlm>=1.1.0->qiskit-ibmq-provider==0.19.1->qiskit~=0.36.0->pytket-qiskit) (3.4.8)\n",
      "Requirement already satisfied: ntlm-auth>=1.0.2 in /Users/hakanayaz/opt/anaconda3/lib/python3.9/site-packages (from requests-ntlm>=1.1.0->qiskit-ibmq-provider==0.19.1->qiskit~=0.36.0->pytket-qiskit) (1.5.0)\n",
      "Requirement already satisfied: cffi>=1.12 in /Users/hakanayaz/opt/anaconda3/lib/python3.9/site-packages (from cryptography>=1.3->requests-ntlm>=1.1.0->qiskit-ibmq-provider==0.19.1->qiskit~=0.36.0->pytket-qiskit) (1.15.0)\n",
      "Requirement already satisfied: pycparser in /Users/hakanayaz/opt/anaconda3/lib/python3.9/site-packages (from cffi>=1.12->cryptography>=1.3->requests-ntlm>=1.1.0->qiskit-ibmq-provider==0.19.1->qiskit~=0.36.0->pytket-qiskit) (2.21)\n",
      "Requirement already satisfied: pbr!=2.1.0,>=2.0.0 in /Users/hakanayaz/opt/anaconda3/lib/python3.9/site-packages (from stevedore>=3.0.0->qiskit-terra==0.20.2->qiskit~=0.36.0->pytket-qiskit) (5.9.0)\n",
      "Requirement already satisfied: mpmath>=0.19 in /Users/hakanayaz/opt/anaconda3/lib/python3.9/site-packages (from sympy~=1.6->pytket~=1.3->pytket-qiskit) (1.2.1)\n",
      "Note: you may need to restart the kernel to use updated packages.\n"
     ]
    }
   ],
   "source": [
    "pip install pytket-qiskit"
   ]
  },
  {
   "cell_type": "code",
   "execution_count": 5,
   "id": "d0cec448",
   "metadata": {},
   "outputs": [
    {
     "name": "stdout",
     "output_type": "stream",
     "text": [
      "No Optimization\n",
      "Depth: 6\n",
      "Gate counts: OrderedDict([('h', 7), ('measure', 3), ('barrier', 2), ('cx', 2), ('z', 1), ('id', 1)])\n"
     ]
    },
    {
     "data": {
      "text/html": [
       "<pre style=\"word-wrap: normal;white-space: pre;background: #fff0;line-height: 1.1;font-family: &quot;Courier New&quot;,Courier,monospace\">     ┌───┐      ░                 ░ ┌───┐┌─┐      \n",
       "q_0: ┤ H ├──────░───■─────────────░─┤ H ├┤M├──────\n",
       "     ├───┤      ░   │             ░ ├───┤└╥┘┌─┐   \n",
       "q_1: ┤ H ├──────░───┼─────────■───░─┤ H ├─╫─┤M├───\n",
       "     ├───┤      ░   │  ┌───┐  │   ░ ├───┤ ║ └╥┘┌─┐\n",
       "q_2: ┤ H ├──────░───┼──┤ I ├──┼───░─┤ H ├─╫──╫─┤M├\n",
       "     ├───┤┌───┐ ░ ┌─┴─┐└───┘┌─┴─┐ ░ └───┘ ║  ║ └╥┘\n",
       "q_3: ┤ H ├┤ Z ├─░─┤ X ├─────┤ X ├─░───────╫──╫──╫─\n",
       "     └───┘└───┘ ░ └───┘     └───┘ ░       ║  ║  ║ \n",
       "c: 3/═════════════════════════════════════╩══╩══╩═\n",
       "                                          0  1  2 </pre>"
      ],
      "text/plain": [
       "     ┌───┐      ░                 ░ ┌───┐┌─┐      \n",
       "q_0: ┤ H ├──────░───■─────────────░─┤ H ├┤M├──────\n",
       "     ├───┤      ░   │             ░ ├───┤└╥┘┌─┐   \n",
       "q_1: ┤ H ├──────░───┼─────────■───░─┤ H ├─╫─┤M├───\n",
       "     ├───┤      ░   │  ┌───┐  │   ░ ├───┤ ║ └╥┘┌─┐\n",
       "q_2: ┤ H ├──────░───┼──┤ I ├──┼───░─┤ H ├─╫──╫─┤M├\n",
       "     ├───┤┌───┐ ░ ┌─┴─┐└───┘┌─┴─┐ ░ └───┘ ║  ║ └╥┘\n",
       "q_3: ┤ H ├┤ Z ├─░─┤ X ├─────┤ X ├─░───────╫──╫──╫─\n",
       "     └───┘└───┘ ░ └───┘     └───┘ ░       ║  ║  ║ \n",
       "c: 3/═════════════════════════════════════╩══╩══╩═\n",
       "                                          0  1  2 "
      ]
     },
     "execution_count": 5,
     "metadata": {},
     "output_type": "execute_result"
    }
   ],
   "source": [
    "from qiskit import QuantumCircuit\n",
    "from qiskit.visualization import circuit_drawer\n",
    "from qiskit.compiler import transpile\n",
    "\n",
    "\n",
    "### Lets defined a new circuit of your choice with no measurements\n",
    "\n",
    "s = '011'   # the hidden binary string\n",
    "n = 3 # number of bits used to represent s\n",
    "\n",
    "\n",
    "# We need a circuit with n qubits, plus one auxiliary qubit\n",
    "# We also need n classical bits to write the output to\n",
    "untranspiled_qc = QuantumCircuit(n+1, n)\n",
    "\n",
    "# Put auxiliary in the minus state |->\n",
    "# We leave the other n qubits in just |0>\n",
    "untranspiled_qc.h(n)\n",
    "untranspiled_qc.z(n)\n",
    "\n",
    "# Apply Hadamard gates to each of the n \"main\" qubits (excluding the auxiliary)\n",
    "# before querying the oracle\n",
    "for i in range(n):\n",
    "    untranspiled_qc.h(i)\n",
    "    \n",
    "# Apply barrier\n",
    "untranspiled_qc.barrier()\n",
    "\n",
    "# Apply the inner-product oracle\n",
    "s = s[::-1] # reverse s to fit qiskit's qubit ordering\n",
    "for q in range(n):\n",
    "    if s[q] == '0':\n",
    "        untranspiled_qc.i(q)\n",
    "    else:\n",
    "        untranspiled_qc.cx(q, n)\n",
    "        \n",
    "# Apply barrier\n",
    "untranspiled_qc.barrier()\n",
    "\n",
    "# Apply Hadamard gates after querying the oracle\n",
    "for i in range(n):\n",
    "    untranspiled_qc.h(i)\n",
    "\n",
    "\n",
    "# Measurement\n",
    "for i in range(n):\n",
    "    untranspiled_qc.measure(i, i)\n",
    "\n",
    "\n",
    "untranspiled_qc = transpile(untranspiled_qc, backend=None)  # No Optimization and no mapping because we have not specified a backend.\n",
    "print('No Optimization')\n",
    "print('Depth:', untranspiled_qc.depth())\n",
    "print('Gate counts:', untranspiled_qc.count_ops())\n",
    "untranspiled_qc.draw()"
   ]
  },
  {
   "cell_type": "markdown",
   "id": "7173480f",
   "metadata": {},
   "source": [
    "**Step 2: Convert from Qiskit to pytket.**"
   ]
  },
  {
   "cell_type": "code",
   "execution_count": 8,
   "id": "b5522fc3",
   "metadata": {},
   "outputs": [
    {
     "data": {
      "image/svg+xml": [
       "<?xml version=\"1.0\" encoding=\"UTF-8\" standalone=\"no\"?>\n",
       "<!DOCTYPE svg PUBLIC \"-//W3C//DTD SVG 1.1//EN\"\n",
       " \"http://www.w3.org/Graphics/SVG/1.1/DTD/svg11.dtd\">\n",
       "<!-- Generated by graphviz version 3.0.0 (20220226.1711)\n",
       " -->\n",
       "<!-- Title: Qubit connectivity Pages: 1 -->\n",
       "<svg width=\"142pt\" height=\"142pt\"\n",
       " viewBox=\"0.00 0.00 142.21 142.28\" xmlns=\"http://www.w3.org/2000/svg\" xmlns:xlink=\"http://www.w3.org/1999/xlink\">\n",
       "<g id=\"graph0\" class=\"graph\" transform=\"scale(1 1) rotate(0) translate(4 138.28)\">\n",
       "<title>Qubit connectivity</title>\n",
       "<polygon fill=\"white\" stroke=\"transparent\" points=\"-4,4 -4,-138.28 138.21,-138.28 138.21,4 -4,4\"/>\n",
       "<!-- q[0] -->\n",
       "<g id=\"node1\" class=\"node\">\n",
       "<title>q[0]</title>\n",
       "<ellipse fill=\"none\" stroke=\"blue\" cx=\"24.14\" cy=\"-60.77\" rx=\"24.27\" ry=\"24.27\"/>\n",
       "<text text-anchor=\"middle\" x=\"24.14\" y=\"-58.27\" font-family=\"Courier,monospace\" font-size=\"10.00\">q[0]</text>\n",
       "</g>\n",
       "<!-- q[1] -->\n",
       "<g id=\"node2\" class=\"node\">\n",
       "<title>q[1]</title>\n",
       "<ellipse fill=\"none\" stroke=\"blue\" cx=\"110.07\" cy=\"-73.49\" rx=\"24.27\" ry=\"24.27\"/>\n",
       "<text text-anchor=\"middle\" x=\"110.07\" y=\"-70.99\" font-family=\"Courier,monospace\" font-size=\"10.00\">q[1]</text>\n",
       "</g>\n",
       "<!-- q[0]&#45;&#45;q[1] -->\n",
       "<g id=\"edge1\" class=\"edge\">\n",
       "<title>q[0]&#45;&#45;q[1]</title>\n",
       "<path fill=\"none\" stroke=\"black\" d=\"M48.07,-64.31C59.89,-66.06 74.12,-68.17 85.96,-69.92\"/>\n",
       "</g>\n",
       "<!-- q[2] -->\n",
       "<g id=\"node3\" class=\"node\">\n",
       "<title>q[2]</title>\n",
       "<ellipse fill=\"none\" stroke=\"blue\" cx=\"73.43\" cy=\"-24.14\" rx=\"24.27\" ry=\"24.27\"/>\n",
       "<text text-anchor=\"middle\" x=\"73.43\" y=\"-21.64\" font-family=\"Courier,monospace\" font-size=\"10.00\">q[2]</text>\n",
       "</g>\n",
       "<!-- q[0]&#45;&#45;q[2] -->\n",
       "<g id=\"edge2\" class=\"edge\">\n",
       "<title>q[0]&#45;&#45;q[2]</title>\n",
       "<path fill=\"none\" stroke=\"black\" d=\"M43.62,-46.29C46.95,-43.81 50.42,-41.23 53.76,-38.75\"/>\n",
       "</g>\n",
       "<!-- q[3] -->\n",
       "<g id=\"node4\" class=\"node\">\n",
       "<title>q[3]</title>\n",
       "<ellipse fill=\"none\" stroke=\"blue\" cx=\"60.69\" cy=\"-110.15\" rx=\"24.27\" ry=\"24.27\"/>\n",
       "<text text-anchor=\"middle\" x=\"60.69\" y=\"-107.65\" font-family=\"Courier,monospace\" font-size=\"10.00\">q[3]</text>\n",
       "</g>\n",
       "<!-- q[0]&#45;&#45;q[3] -->\n",
       "<g id=\"edge3\" class=\"edge\">\n",
       "<title>q[0]&#45;&#45;q[3]</title>\n",
       "<path fill=\"none\" stroke=\"black\" d=\"M38.58,-80.28C41.06,-83.63 43.63,-87.1 46.11,-90.45\"/>\n",
       "</g>\n",
       "<!-- q[1]&#45;&#45;q[2] -->\n",
       "<g id=\"edge4\" class=\"edge\">\n",
       "<title>q[1]&#45;&#45;q[2]</title>\n",
       "<path fill=\"none\" stroke=\"black\" d=\"M95.59,-53.98C93.11,-50.64 90.53,-47.17 88.04,-43.82\"/>\n",
       "</g>\n",
       "<!-- q[1]&#45;&#45;q[3] -->\n",
       "<g id=\"edge5\" class=\"edge\">\n",
       "<title>q[1]&#45;&#45;q[3]</title>\n",
       "<path fill=\"none\" stroke=\"black\" d=\"M90.55,-87.98C87.21,-90.46 83.74,-93.04 80.39,-95.52\"/>\n",
       "</g>\n",
       "<!-- q[2]&#45;&#45;q[3] -->\n",
       "<g id=\"edge6\" class=\"edge\">\n",
       "<title>q[2]&#45;&#45;q[3]</title>\n",
       "<path fill=\"none\" stroke=\"black\" d=\"M69.88,-48.09C68.13,-59.93 66.02,-74.17 64.26,-86.02\"/>\n",
       "</g>\n",
       "</g>\n",
       "</svg>\n"
      ],
      "text/plain": [
       "<graphviz.graphs.Graph at 0x7fbae4220cd0>"
      ]
     },
     "execution_count": 8,
     "metadata": {},
     "output_type": "execute_result"
    }
   ],
   "source": [
    "from pytket.extensions.qiskit import qiskit_to_tk\n",
    "from pytket.utils import Graph\n",
    "\n",
    "pytket_untranspiled_qc = qiskit_to_tk(untranspiled_qc)\n",
    "Graph(pytket_untranspiled_qc).save_DAG(name=\"pytket_B-V_untranspiled\", fmt=\"png\") \n",
    "#Graph(pytket_untranspiled_qc).get_qubit_graph()"
   ]
  },
  {
   "cell_type": "markdown",
   "id": "28fccca7",
   "metadata": {},
   "source": [
    "**Step 3: Run pytket circuit on IonQ or Quantinuum ion trap hardware.**"
   ]
  },
  {
   "cell_type": "code",
   "execution_count": 7,
   "id": "89d57248",
   "metadata": {},
   "outputs": [
    {
     "ename": "ModuleNotFoundError",
     "evalue": "No module named 'pytket.extensions.ionq'",
     "output_type": "error",
     "traceback": [
      "\u001b[0;31m---------------------------------------------------------------------------\u001b[0m",
      "\u001b[0;31mModuleNotFoundError\u001b[0m                       Traceback (most recent call last)",
      "Input \u001b[0;32mIn [7]\u001b[0m, in \u001b[0;36m<cell line: 13>\u001b[0;34m()\u001b[0m\n\u001b[1;32m      2\u001b[0m \u001b[38;5;124;03m\"\"\"\u001b[39;00m\n\u001b[1;32m      3\u001b[0m \u001b[38;5;124;03mfrom pytket.extensions.quantinuum import QuantinuumBackend\u001b[39;00m\n\u001b[1;32m      4\u001b[0m \n\u001b[0;32m   (...)\u001b[0m\n\u001b[1;32m      8\u001b[0m \u001b[38;5;124;03mquantinuum_iontrap_backend.login()\u001b[39;00m\n\u001b[1;32m      9\u001b[0m \u001b[38;5;124;03m\"\"\"\u001b[39;00m\n\u001b[1;32m     12\u001b[0m \u001b[38;5;66;03m# IonQ Backend\u001b[39;00m\n\u001b[0;32m---> 13\u001b[0m \u001b[38;5;28;01mfrom\u001b[39;00m \u001b[38;5;21;01mpytket\u001b[39;00m\u001b[38;5;21;01m.\u001b[39;00m\u001b[38;5;21;01mextensions\u001b[39;00m\u001b[38;5;21;01m.\u001b[39;00m\u001b[38;5;21;01mionq\u001b[39;00m \u001b[38;5;28;01mimport\u001b[39;00m IonQBackend\n\u001b[1;32m     14\u001b[0m ionq_iontrap_backend \u001b[38;5;241m=\u001b[39m IonQBackend()\n",
      "\u001b[0;31mModuleNotFoundError\u001b[0m: No module named 'pytket.extensions.ionq'"
     ]
    }
   ],
   "source": [
    "# Quantinuum Backend\n",
    "\"\"\"\n",
    "from pytket.extensions.quantinuum import QuantinuumBackend\n",
    "\n",
    "quantinuum_iontrap_backend = QuantinuumBackend(\"Example\")\n",
    "\n",
    "# Login to your Quantinuum account.\n",
    "quantinuum_iontrap_backend.login()\n",
    "\"\"\"\n",
    "\n",
    "\n",
    "# IonQ Backend\n",
    "from pytket.extensions.ionq import IonQBackend\n",
    "ionq_iontrap_backend = IonQBackend()"
   ]
  },
  {
   "cell_type": "code",
   "execution_count": null,
   "id": "69580d57",
   "metadata": {},
   "outputs": [],
   "source": []
  }
 ],
 "metadata": {
  "kernelspec": {
   "display_name": "Python 3 (ipykernel)",
   "language": "python",
   "name": "python3"
  },
  "language_info": {
   "codemirror_mode": {
    "name": "ipython",
    "version": 3
   },
   "file_extension": ".py",
   "mimetype": "text/x-python",
   "name": "python",
   "nbconvert_exporter": "python",
   "pygments_lexer": "ipython3",
   "version": "3.9.12"
  }
 },
 "nbformat": 4,
 "nbformat_minor": 5
}
