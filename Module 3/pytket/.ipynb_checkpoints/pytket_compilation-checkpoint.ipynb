{
 "cells": [
  {
   "cell_type": "markdown",
   "id": "c882a102",
   "metadata": {},
   "source": [
    "### Running B-V circuit on ion trap hardware\n",
    "In this tutorial we will define the B-V for a 3 bit hidden string s using pytket, then run it on Quantinuums ion trap hardware.\n",
    "1. Define B-V for a 3 bit hidden string s in Qiskit.\n",
    "2. Convert from Qiskit to pytket.\n",
    "3. Run on Quantinuum ion trap hardware.\n",
    "\n",
    "**Step 1: We begin with a small circuit that implements the BV algorithm for a 3 bit hidden string s, using Qiskit.**"
   ]
  },
  {
   "cell_type": "code",
   "execution_count": 4,
   "id": "d0cec448",
   "metadata": {},
   "outputs": [
    {
     "name": "stdout",
     "output_type": "stream",
     "text": [
      "No Optimization\n",
      "Depth: 6\n",
      "Gate counts: OrderedDict([('h', 7), ('measure', 3), ('barrier', 2), ('cx', 2), ('z', 1), ('id', 1)])\n"
     ]
    },
    {
     "ename": "AttributeError",
     "evalue": "'QuantumCircuit' object has no attribute 'save'",
     "output_type": "error",
     "traceback": [
      "\u001b[1;31m---------------------------------------------------------------------------\u001b[0m",
      "\u001b[1;31mAttributeError\u001b[0m                            Traceback (most recent call last)",
      "\u001b[1;32m<ipython-input-4-c87772a621b3>\u001b[0m in \u001b[0;36m<module>\u001b[1;34m\u001b[0m\n\u001b[0;32m     52\u001b[0m \u001b[0mprint\u001b[0m\u001b[1;33m(\u001b[0m\u001b[1;34m'Depth:'\u001b[0m\u001b[1;33m,\u001b[0m \u001b[0muntranspiled_qc\u001b[0m\u001b[1;33m.\u001b[0m\u001b[0mdepth\u001b[0m\u001b[1;33m(\u001b[0m\u001b[1;33m)\u001b[0m\u001b[1;33m)\u001b[0m\u001b[1;33m\u001b[0m\u001b[1;33m\u001b[0m\u001b[0m\n\u001b[0;32m     53\u001b[0m \u001b[0mprint\u001b[0m\u001b[1;33m(\u001b[0m\u001b[1;34m'Gate counts:'\u001b[0m\u001b[1;33m,\u001b[0m \u001b[0muntranspiled_qc\u001b[0m\u001b[1;33m.\u001b[0m\u001b[0mcount_ops\u001b[0m\u001b[1;33m(\u001b[0m\u001b[1;33m)\u001b[0m\u001b[1;33m)\u001b[0m\u001b[1;33m\u001b[0m\u001b[1;33m\u001b[0m\u001b[0m\n\u001b[1;32m---> 54\u001b[1;33m \u001b[0muntranspiled_qc\u001b[0m\u001b[1;33m.\u001b[0m\u001b[0msave\u001b[0m\u001b[1;33m(\u001b[0m\u001b[1;34m\"mpl\"\u001b[0m\u001b[1;33m)\u001b[0m\u001b[1;33m\u001b[0m\u001b[1;33m\u001b[0m\u001b[0m\n\u001b[0m",
      "\u001b[1;31mAttributeError\u001b[0m: 'QuantumCircuit' object has no attribute 'save'"
     ]
    }
   ],
   "source": [
    "from qiskit import QuantumCircuit\n",
    "from qiskit.visualization import circuit_drawer\n",
    "from qiskit.compiler import transpile\n",
    "\n",
    "\n",
    "### Lets defined a new circuit of your choice with no measurements\n",
    "\n",
    "s = '011'   # the hidden binary string\n",
    "n = 3 # number of bits used to represent s\n",
    "\n",
    "\n",
    "# We need a circuit with n qubits, plus one auxiliary qubit\n",
    "# We also need n classical bits to write the output to\n",
    "untranspiled_qc = QuantumCircuit(n+1, n)\n",
    "\n",
    "# Put auxiliary in the minus state |->\n",
    "# We leave the other n qubits in just |0>\n",
    "untranspiled_qc.h(n)\n",
    "untranspiled_qc.z(n)\n",
    "\n",
    "# Apply Hadamard gates to each of the n \"main\" qubits (excluding the auxiliary)\n",
    "# before querying the oracle\n",
    "for i in range(n):\n",
    "    untranspiled_qc.h(i)\n",
    "    \n",
    "# Apply barrier\n",
    "untranspiled_qc.barrier()\n",
    "\n",
    "# Apply the inner-product oracle\n",
    "s = s[::-1] # reverse s to fit qiskit's qubit ordering\n",
    "for q in range(n):\n",
    "    if s[q] == '0':\n",
    "        untranspiled_qc.i(q)\n",
    "    else:\n",
    "        untranspiled_qc.cx(q, n)\n",
    "        \n",
    "# Apply barrier\n",
    "untranspiled_qc.barrier()\n",
    "\n",
    "# Apply Hadamard gates after querying the oracle\n",
    "for i in range(n):\n",
    "    untranspiled_qc.h(i)\n",
    "\n",
    "\n",
    "# Measurement\n",
    "for i in range(n):\n",
    "    untranspiled_qc.measure(i, i)\n",
    "\n",
    "\n",
    "untranspiled_qc = transpile(untranspiled_qc, backend=None)  # No Optimization and no mapping because we have not specified a backend.\n",
    "print('No Optimization')\n",
    "print('Depth:', untranspiled_qc.depth())\n",
    "print('Gate counts:', untranspiled_qc.count_ops())\n",
    "untranspiled_qc.draw()"
   ]
  },
  {
   "cell_type": "markdown",
   "id": "7173480f",
   "metadata": {},
   "source": [
    "**Step 2: Convert from Qiskit to pytket.**"
   ]
  },
  {
   "cell_type": "code",
   "execution_count": 3,
   "id": "b5522fc3",
   "metadata": {},
   "outputs": [],
   "source": [
    "from pytket.extensions.qiskit import qiskit_to_tk\n",
    "from pytket.utils import Graph\n",
    "\n",
    "pytket_untranspiled_qc = qiskit_to_tk(untranspiled_qc)\n",
    "Graph(pytket_untranspiled_qc).save_DAG(name=\"pytket_B-V_untranspiled\", fmt=\"PNG\") \n",
    "#Graph(pytket_untranspiled_qc).get_qubit_graph()"
   ]
  },
  {
   "cell_type": "markdown",
   "id": "28fccca7",
   "metadata": {},
   "source": [
    "**Step 3: Run pytket circuit on IonQ or Quantinuum ion trap hardware.**"
   ]
  },
  {
   "cell_type": "code",
   "execution_count": null,
   "id": "89d57248",
   "metadata": {},
   "outputs": [],
   "source": [
    "# Quantinuum Backend\n",
    "\"\"\"\n",
    "from pytket.extensions.quantinuum import QuantinuumBackend\n",
    "\n",
    "quantinuum_iontrap_backend = QuantinuumBackend(\"Example\")\n",
    "\n",
    "# Login to your Quantinuum account.\n",
    "quantinuum_iontrap_backend.login()\n",
    "\"\"\"\n",
    "\n",
    "\n",
    "# IonQ Backend\n",
    "from pytket.extensions.ionq import IonQBackend\n",
    "ionq_iontrap_backend = IonQBackend()"
   ]
  },
  {
   "cell_type": "code",
   "execution_count": null,
   "id": "69580d57",
   "metadata": {},
   "outputs": [],
   "source": []
  }
 ],
 "metadata": {
  "kernelspec": {
   "display_name": "Python 3",
   "language": "python",
   "name": "python3"
  },
  "language_info": {
   "codemirror_mode": {
    "name": "ipython",
    "version": 3
   },
   "file_extension": ".py",
   "mimetype": "text/x-python",
   "name": "python",
   "nbconvert_exporter": "python",
   "pygments_lexer": "ipython3",
   "version": "3.8.8"
  }
 },
 "nbformat": 4,
 "nbformat_minor": 5
}
