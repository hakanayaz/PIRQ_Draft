{
 "cells": [
  {
   "cell_type": "markdown",
   "metadata": {},
   "source": [
    "# Qiskit to LLVM IR\n",
    "\n",
    "We want to examine how we can bring a Qiskit circuit down into LLVM IR. We will do this via qcor, and follow the following pipeline:\n",
    "```\n",
    "Qiskit Circuit --> OpenQASM3 --> MLIR --> QIR / LLVM\n",
    "```\n",
    "\n",
    "First, we define and transpile our circuit"
   ]
  },
  {
   "cell_type": "code",
   "execution_count": 1,
   "metadata": {},
   "outputs": [],
   "source": [
    "from qiskit import QuantumCircuit\n",
    "from qiskit.test.mock import FakeBoeblingen\n",
    "from qiskit.compiler import transpile\n",
    "\n",
    "\n",
    "s = '011'   # the hidden binary string\n",
    "n = 3 # number of bits used to represent s\n",
    "\n",
    "\n",
    "# We need a circuit with n qubits, plus one auxiliary qubit\n",
    "# We also need n classical bits to receive the output\n",
    "qc = QuantumCircuit(n+1, n)\n",
    "\n",
    "# Put auxiliary in the minus state |->\n",
    "# We leave the other n qubits in just |0>\n",
    "qc.h(n)\n",
    "qc.z(n)\n",
    "\n",
    "# Apply Hadamard gates to each of the n \"main\" qubits (excluding the auxiliary)\n",
    "# before querying the oracle\n",
    "for i in range(n):\n",
    "    qc.h(i)\n",
    "    \n",
    "# Apply barrier\n",
    "qc.barrier()\n",
    "\n",
    "# Apply the inner-product oracle\n",
    "s = s[::-1] # reverse s to fit qiskit's qubit ordering\n",
    "for q in range(n):\n",
    "    if s[q] == '0':\n",
    "        qc.i(q)\n",
    "    else:\n",
    "        qc.cx(q, n)\n",
    "        \n",
    "# Apply barrier\n",
    "qc.barrier()\n",
    "\n",
    "# Apply Hadamard gates after querying the oracle\n",
    "for i in range(n):\n",
    "    qc.h(i)\n",
    "\n",
    "\n",
    "# Measurement\n",
    "for i in range(n):\n",
    "    qc.measure(i, i)\n",
    "\n",
    "\n",
    "qc.draw()\n",
    "\n",
    "simulated_backend = FakeBoeblingen()\n",
    "transpiled_qc3 = transpile(qc, simulated_backend, optimization_level=3)"
   ]
  },
  {
   "cell_type": "markdown",
   "metadata": {},
   "source": [
    "Now that we have a transpiler circuit, we can go ahead and dump it into OpenQASM. From there, the process will look very similar to what we saw in the [OpenQASM example](../../OpenQASM/)."
   ]
  },
  {
   "cell_type": "code",
   "execution_count": 2,
   "metadata": {},
   "outputs": [
    {
     "name": "stdout",
     "output_type": "stream",
     "text": [
      "OPENQASM 3;\n",
      "include \"stdgates.inc\";\n",
      "bit[3] c;\n",
      "u2(0, pi) $0;\n",
      "u2(-pi, -pi) $1;\n",
      "u2(0, pi) $6;\n",
      "u2(0, pi) $15;\n",
      "barrier $6, $0, $15, $1;\n",
      "cx $6, $1;\n",
      "cx $0, $1;\n",
      "barrier $6, $0, $15, $1;\n",
      "u2(0, pi) $0;\n",
      "u2(0, pi) $15;\n",
      "u2(0, pi) $6;\n",
      "c[0] = measure $6;\n",
      "c[1] = measure $0;\n",
      "c[2] = measure $15;\n",
      "\n"
     ]
    }
   ],
   "source": [
    "# Qiskit Circuit  <-->  .qasm file\n",
    "from qiskit import qasm3\n",
    "\n",
    "# Qiskit -> OpenQASM3\n",
    "# Print\n",
    "print(qasm3.dumps(transpiled_qc3))\n",
    "# Dump to file\n",
    "with open(\"Bernstein_Vazirani.qasm\", 'w+') as fp:\n",
    "   qasm3.dump(transpiled_qc3, fp)\n",
    "\n",
    "# Qiskit <- OpenQASM3 support?\n",
    "\n",
    "# ----------------------------------------------------------------------------\n",
    "\n",
    "# Deprecated\n",
    "\n",
    "# Qiskit -> OpenQASM2\n",
    "# transpiled_qc3.qasm(formatted=True, filename='Bernstein_Vazirani.qasm')\n",
    "# Qiskit <- OpenQASM2\n",
    "# new_qc = QuantumCircuit.from_qasm_file('Bernstein_Vazirani.qasm')"
   ]
  },
  {
   "cell_type": "markdown",
   "metadata": {},
   "source": [
    "### Caveat\n",
    "\n",
    "Due to several nuances with qcor, some changes need to be made to the above raw OpenQASM dump before it can be converted to LLVM. Namely,\n",
    "\n",
    "+ OpenQASM2 syntax must be used (i.e. creg c[3] instead of bit[3] c)\n",
    "+ However, the version statement must be kept at OPENQASM3.0\n",
    "+ All references to physical qubits ($ and then a number) must be replaced with virtual qubits (define qreg q[20] at the top and replace $x with q[x])\n",
    "+ qcor has no implicit casting so replace any integers with floats (i.e. replace each 0 with 0.0)"
   ]
  },
  {
   "cell_type": "markdown",
   "metadata": {},
   "source": [
    "# OpenQASM3 to LLVM IR\n",
    "\n",
    "Here is where qcor comes in. We will not give an in depth tutorial on setting up qcor here: for resources, see [their documentation](https://qcor.readthedocs.io/en/latest/install.html). We recommend using the Docker image.\n",
    "\n",
    "Once this is set up, we will use the `qcor-mlir-tool` to gain insight into the intermediate stages of compilation.\n",
    "\n",
    "### MLIR and LLVM\n",
    "\n",
    "[MLIR](https://mlir.llvm.org/) is a much broader LLVM project, and mostly out of our scope. It has a multitude of uses. For our purposes, we are interested in how it can be leveraged to compile quantum code. qcor leverages MLIR as a way to lower OpenQASM code to LLVM (technically, [QIR](https://devblogs.microsoft.com/qsharp/introducing-quantum-intermediate-representation-qir/), which adds several necessary features to LLVM for quantum programming). For information about that, see [this presentation](https://mlir.llvm.org/OpenMeetings/2021-05-27-Quantum-Classical-Compilation-with-MLIR.pdf).\n",
    "\n",
    "We will use the `qcor-mlir-tool`. It has a flag `-emit` with three settings:\n",
    "``` terminal\n",
    "--emit=<value>                                       - Select the kind of output desired\n",
    "    =mlir                                              -   output the MLIR dump\n",
    "    =llvm                                              -   output the LLVM IR dump\n",
    "    =mlir-llvm                                         -   output the MLIR LLVM Dialect dump\n",
    "```\n",
    "After running on our `Bernstein_Vazirani.qasm` file, we receive the following outputs: \n",
    "+ [MLIR](Bernstein_Vazirani.mlir)\n",
    "+ [LLVM](Bernstein_Vazirani.ll)\n",
    "+ [MLIR-LLVM](Bernstein_Vazirani-ll.mlir)"
   ]
  }
 ],
 "metadata": {
  "kernelspec": {
   "display_name": "Python 3.8.3 64-bit",
   "language": "python",
   "name": "python3"
  },
  "language_info": {
   "codemirror_mode": {
    "name": "ipython",
    "version": 3
   },
   "file_extension": ".py",
   "mimetype": "text/x-python",
   "name": "python",
   "nbconvert_exporter": "python",
   "pygments_lexer": "ipython3",
   "version": "3.8.3"
  },
  "orig_nbformat": 4,
  "vscode": {
   "interpreter": {
    "hash": "995d16ebf5e1c92414f66722f6b0c9a85a83273b46dad51bd9b391cad0ce3002"
   }
  }
 },
 "nbformat": 4,
 "nbformat_minor": 2
}
