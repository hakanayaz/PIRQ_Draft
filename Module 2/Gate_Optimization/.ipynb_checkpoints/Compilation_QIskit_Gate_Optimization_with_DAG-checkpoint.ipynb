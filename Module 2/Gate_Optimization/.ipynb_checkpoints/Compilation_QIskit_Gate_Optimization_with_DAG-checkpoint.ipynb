{
 "cells": [
  {
   "cell_type": "code",
   "execution_count": 1,
   "metadata": {
    "colab": {
     "base_uri": "https://localhost:8080/"
    },
    "id": "EK4n4Brxb4Ly",
    "outputId": "fd5658b7-1923-423b-f180-24a53624c363"
   },
   "outputs": [
    {
     "name": "stdout",
     "output_type": "stream",
     "text": [
      "Requirement already satisfied: qiskit in /Users/hakanayaz/opt/anaconda3/lib/python3.9/site-packages (0.36.2)\n",
      "Requirement already satisfied: qiskit-ibmq-provider==0.19.1 in /Users/hakanayaz/opt/anaconda3/lib/python3.9/site-packages (from qiskit) (0.19.1)\n",
      "Requirement already satisfied: qiskit-terra==0.20.2 in /Users/hakanayaz/opt/anaconda3/lib/python3.9/site-packages (from qiskit) (0.20.2)\n",
      "Requirement already satisfied: qiskit-aer==0.10.4 in /Users/hakanayaz/opt/anaconda3/lib/python3.9/site-packages (from qiskit) (0.10.4)\n",
      "Requirement already satisfied: qiskit-ignis==0.7.1 in /Users/hakanayaz/opt/anaconda3/lib/python3.9/site-packages (from qiskit) (0.7.1)\n",
      "Requirement already satisfied: scipy>=1.0 in /Users/hakanayaz/opt/anaconda3/lib/python3.9/site-packages (from qiskit-aer==0.10.4->qiskit) (1.7.3)\n",
      "Requirement already satisfied: numpy>=1.16.3 in /Users/hakanayaz/opt/anaconda3/lib/python3.9/site-packages (from qiskit-aer==0.10.4->qiskit) (1.21.5)\n",
      "Requirement already satisfied: requests-ntlm>=1.1.0 in /Users/hakanayaz/opt/anaconda3/lib/python3.9/site-packages (from qiskit-ibmq-provider==0.19.1->qiskit) (1.1.0)\n",
      "Requirement already satisfied: urllib3>=1.21.1 in /Users/hakanayaz/opt/anaconda3/lib/python3.9/site-packages (from qiskit-ibmq-provider==0.19.1->qiskit) (1.26.9)\n",
      "Requirement already satisfied: python-dateutil>=2.8.0 in /Users/hakanayaz/opt/anaconda3/lib/python3.9/site-packages (from qiskit-ibmq-provider==0.19.1->qiskit) (2.8.2)\n",
      "Requirement already satisfied: websocket-client>=1.0.1 in /Users/hakanayaz/opt/anaconda3/lib/python3.9/site-packages (from qiskit-ibmq-provider==0.19.1->qiskit) (1.3.3)\n",
      "Requirement already satisfied: websockets>=10.0 in /Users/hakanayaz/opt/anaconda3/lib/python3.9/site-packages (from qiskit-ibmq-provider==0.19.1->qiskit) (10.3)\n",
      "Requirement already satisfied: requests>=2.19 in /Users/hakanayaz/opt/anaconda3/lib/python3.9/site-packages (from qiskit-ibmq-provider==0.19.1->qiskit) (2.27.1)\n",
      "Requirement already satisfied: retworkx>=0.8.0 in /Users/hakanayaz/opt/anaconda3/lib/python3.9/site-packages (from qiskit-ignis==0.7.1->qiskit) (0.11.0)\n",
      "Requirement already satisfied: setuptools>=40.1.0 in /Users/hakanayaz/opt/anaconda3/lib/python3.9/site-packages (from qiskit-ignis==0.7.1->qiskit) (61.2.0)\n",
      "Requirement already satisfied: stevedore>=3.0.0 in /Users/hakanayaz/opt/anaconda3/lib/python3.9/site-packages (from qiskit-terra==0.20.2->qiskit) (3.5.0)\n",
      "Requirement already satisfied: python-constraint>=1.4 in /Users/hakanayaz/opt/anaconda3/lib/python3.9/site-packages (from qiskit-terra==0.20.2->qiskit) (1.4.0)\n",
      "Requirement already satisfied: symengine>=0.9 in /Users/hakanayaz/opt/anaconda3/lib/python3.9/site-packages (from qiskit-terra==0.20.2->qiskit) (0.9.2)\n",
      "Requirement already satisfied: tweedledum<2.0,>=1.1 in /Users/hakanayaz/opt/anaconda3/lib/python3.9/site-packages (from qiskit-terra==0.20.2->qiskit) (1.1.1)\n",
      "Requirement already satisfied: psutil>=5 in /Users/hakanayaz/opt/anaconda3/lib/python3.9/site-packages (from qiskit-terra==0.20.2->qiskit) (5.8.0)\n",
      "Requirement already satisfied: ply>=3.10 in /Users/hakanayaz/opt/anaconda3/lib/python3.9/site-packages (from qiskit-terra==0.20.2->qiskit) (3.11)\n",
      "Requirement already satisfied: sympy>=1.3 in /Users/hakanayaz/opt/anaconda3/lib/python3.9/site-packages (from qiskit-terra==0.20.2->qiskit) (1.10.1)\n",
      "Requirement already satisfied: dill>=0.3 in /Users/hakanayaz/opt/anaconda3/lib/python3.9/site-packages (from qiskit-terra==0.20.2->qiskit) (0.3.5.1)\n",
      "Requirement already satisfied: six>=1.5 in /Users/hakanayaz/opt/anaconda3/lib/python3.9/site-packages (from python-dateutil>=2.8.0->qiskit-ibmq-provider==0.19.1->qiskit) (1.16.0)\n",
      "Requirement already satisfied: idna<4,>=2.5 in /Users/hakanayaz/opt/anaconda3/lib/python3.9/site-packages (from requests>=2.19->qiskit-ibmq-provider==0.19.1->qiskit) (3.3)\n",
      "Requirement already satisfied: charset-normalizer~=2.0.0 in /Users/hakanayaz/opt/anaconda3/lib/python3.9/site-packages (from requests>=2.19->qiskit-ibmq-provider==0.19.1->qiskit) (2.0.4)\n",
      "Requirement already satisfied: certifi>=2017.4.17 in /Users/hakanayaz/opt/anaconda3/lib/python3.9/site-packages (from requests>=2.19->qiskit-ibmq-provider==0.19.1->qiskit) (2021.10.8)\n",
      "Requirement already satisfied: ntlm-auth>=1.0.2 in /Users/hakanayaz/opt/anaconda3/lib/python3.9/site-packages (from requests-ntlm>=1.1.0->qiskit-ibmq-provider==0.19.1->qiskit) (1.5.0)\n",
      "Requirement already satisfied: cryptography>=1.3 in /Users/hakanayaz/opt/anaconda3/lib/python3.9/site-packages (from requests-ntlm>=1.1.0->qiskit-ibmq-provider==0.19.1->qiskit) (3.4.8)\n",
      "Requirement already satisfied: cffi>=1.12 in /Users/hakanayaz/opt/anaconda3/lib/python3.9/site-packages (from cryptography>=1.3->requests-ntlm>=1.1.0->qiskit-ibmq-provider==0.19.1->qiskit) (1.15.0)\n",
      "Requirement already satisfied: pycparser in /Users/hakanayaz/opt/anaconda3/lib/python3.9/site-packages (from cffi>=1.12->cryptography>=1.3->requests-ntlm>=1.1.0->qiskit-ibmq-provider==0.19.1->qiskit) (2.21)\n",
      "Requirement already satisfied: pbr!=2.1.0,>=2.0.0 in /Users/hakanayaz/opt/anaconda3/lib/python3.9/site-packages (from stevedore>=3.0.0->qiskit-terra==0.20.2->qiskit) (5.9.0)\n",
      "Requirement already satisfied: mpmath>=0.19 in /Users/hakanayaz/opt/anaconda3/lib/python3.9/site-packages (from sympy>=1.3->qiskit-terra==0.20.2->qiskit) (1.2.1)\n",
      "Note: you may need to restart the kernel to use updated packages.\n"
     ]
    }
   ],
   "source": [
    "pip install qiskit"
   ]
  },
  {
   "cell_type": "code",
   "execution_count": 2,
   "metadata": {
    "colab": {
     "base_uri": "https://localhost:8080/",
     "height": 125
    },
    "id": "WLdH1wbDbpTg",
    "outputId": "ee8eaefa-5d17-4d84-a06f-d77ef5b345ff"
   },
   "outputs": [
    {
     "data": {
      "text/html": [
       "<pre style=\"word-wrap: normal;white-space: pre;background: #fff0;line-height: 1.1;font-family: &quot;Courier New&quot;,Courier,monospace\">        ┌───┐      ░ ┌─┐   \n",
       "   q_0: ┤ H ├──■───░─┤M├───\n",
       "        └───┘┌─┴─┐ ░ └╥┘┌─┐\n",
       "   q_1: ─────┤ X ├─░──╫─┤M├\n",
       "             └───┘ ░  ║ └╥┘\n",
       "meas: 2/══════════════╩══╩═\n",
       "                      0  1 </pre>"
      ],
      "text/plain": [
       "        ┌───┐      ░ ┌─┐   \n",
       "   q_0: ┤ H ├──■───░─┤M├───\n",
       "        └───┘┌─┴─┐ ░ └╥┘┌─┐\n",
       "   q_1: ─────┤ X ├─░──╫─┤M├\n",
       "             └───┘ ░  ║ └╥┘\n",
       "meas: 2/══════════════╩══╩═\n",
       "                      0  1 "
      ]
     },
     "execution_count": 2,
     "metadata": {},
     "output_type": "execute_result"
    }
   ],
   "source": [
    "# Qiskit Circuit\n",
    "from qiskit import QuantumCircuit\n",
    "qc = QuantumCircuit(2)\n",
    "qc.h(0)\n",
    "qc.cx(0, 1)\n",
    "qc.measure_all()\n",
    "qc.draw()"
   ]
  },
  {
   "cell_type": "code",
   "execution_count": 3,
   "metadata": {
    "colab": {
     "base_uri": "https://localhost:8080/",
     "height": 217
    },
    "id": "f0nWCcRKb3YM",
    "outputId": "9cf23bc1-6cca-40be-b460-f3030a338dd7"
   },
   "outputs": [
    {
     "data": {
      "text/html": [
       "<pre style=\"word-wrap: normal;white-space: pre;background: #fff0;line-height: 1.1;font-family: &quot;Courier New&quot;,Courier,monospace\">        ┌───┐                     ░ ┌─┐            \n",
       "   q_0: ┤ H ├──■────■────■────■───░─┤M├────────────\n",
       "        └───┘┌─┴─┐  │    │    │   ░ └╥┘┌─┐         \n",
       "   q_1: ─────┤ X ├──┼────┼────┼───░──╫─┤M├─────────\n",
       "             └───┘┌─┴─┐  │    │   ░  ║ └╥┘┌─┐      \n",
       "   q_2: ──────────┤ X ├──┼────┼───░──╫──╫─┤M├──────\n",
       "                  └───┘┌─┴─┐  │   ░  ║  ║ └╥┘┌─┐   \n",
       "   q_3: ───────────────┤ X ├──┼───░──╫──╫──╫─┤M├───\n",
       "                       └───┘┌─┴─┐ ░  ║  ║  ║ └╥┘┌─┐\n",
       "   q_4: ────────────────────┤ X ├─░──╫──╫──╫──╫─┤M├\n",
       "                            └───┘ ░  ║  ║  ║  ║ └╥┘\n",
       "meas: 5/═════════════════════════════╩══╩══╩══╩══╩═\n",
       "                                     0  1  2  3  4 </pre>"
      ],
      "text/plain": [
       "        ┌───┐                     ░ ┌─┐            \n",
       "   q_0: ┤ H ├──■────■────■────■───░─┤M├────────────\n",
       "        └───┘┌─┴─┐  │    │    │   ░ └╥┘┌─┐         \n",
       "   q_1: ─────┤ X ├──┼────┼────┼───░──╫─┤M├─────────\n",
       "             └───┘┌─┴─┐  │    │   ░  ║ └╥┘┌─┐      \n",
       "   q_2: ──────────┤ X ├──┼────┼───░──╫──╫─┤M├──────\n",
       "                  └───┘┌─┴─┐  │   ░  ║  ║ └╥┘┌─┐   \n",
       "   q_3: ───────────────┤ X ├──┼───░──╫──╫──╫─┤M├───\n",
       "                       └───┘┌─┴─┐ ░  ║  ║  ║ └╥┘┌─┐\n",
       "   q_4: ────────────────────┤ X ├─░──╫──╫──╫──╫─┤M├\n",
       "                            └───┘ ░  ║  ║  ║  ║ └╥┘\n",
       "meas: 5/═════════════════════════════╩══╩══╩══╩══╩═\n",
       "                                     0  1  2  3  4 "
      ]
     },
     "execution_count": 3,
     "metadata": {},
     "output_type": "execute_result"
    }
   ],
   "source": [
    "from qiskit import QuantumCircuit\n",
    "from qiskit.visualization import circuit_drawer\n",
    "\n",
    "# 1) Lets create a simple quantum circuit.\n",
    "qc = QuantumCircuit(5)\n",
    "qc.h(0)\n",
    "qc.cx(0,range(1,5))\n",
    "qc.measure_all()\n",
    "qc.draw()"
   ]
  },
  {
   "cell_type": "code",
   "execution_count": 4,
   "metadata": {
    "id": "ezBVp67gdoMb"
   },
   "outputs": [],
   "source": [
    "from qiskit.test.mock import FakeBoeblingen\n",
    "from qiskit.compiler import transpile\n",
    "\n",
    "# 2) Lets transpile the circuit on a simulated noisy quantum hardware backend (More on this later).\n",
    "simulated_backend = FakeBoeblingen()\n",
    "transpiled_qc = transpile(qc, simulated_backend)"
   ]
  },
  {
   "cell_type": "code",
   "execution_count": 5,
   "metadata": {
    "id": "bM9ebKCwhrWu"
   },
   "outputs": [],
   "source": [
    "import numpy as np\n",
    "\n",
    "# Import Qiskit\n",
    "from qiskit import QuantumCircuit\n",
    "from qiskit import Aer, transpile\n",
    "from qiskit.tools.visualization import plot_histogram, plot_state_city\n",
    "import qiskit.quantum_info as qi"
   ]
  },
  {
   "cell_type": "code",
   "execution_count": 6,
   "metadata": {
    "id": "jCdiJQGphwPq"
   },
   "outputs": [],
   "source": [
    "simulator = Aer.get_backend('aer_simulator')"
   ]
  },
  {
   "cell_type": "code",
   "execution_count": 7,
   "metadata": {
    "id": "agj-hCxjdtzt"
   },
   "outputs": [],
   "source": [
    "# 3) Lets execute the transpiled circuit on the simulated noisy backend\n",
    "results = simulator.run(transpiled_qc).result()\n",
    "\n",
    "# Note: For more information about simulated noiseless backend please visit:\n",
    "# https://qiskit.org/documentation/tutorials/simulators/2_device_noise_simulation.html"
   ]
  },
  {
   "cell_type": "code",
   "execution_count": 8,
   "metadata": {
    "colab": {
     "base_uri": "https://localhost:8080/",
     "height": 358
    },
    "id": "fLzqkhtjg6T9",
    "outputId": "35969909-1f0f-4a63-f529-b37e9a1b065e"
   },
   "outputs": [
    {
     "data": {
      "image/png": "[encoded data removed]",
      "text/plain": [
       "<Figure size 504x360 with 1 Axes>"
      ]
     },
     "execution_count": 8,
     "metadata": {},
     "output_type": "execute_result"
    }
   ],
   "source": [
    "# 4) Lets get the results of the executed circuit\n",
    "counts = results.get_counts()\n",
    "plot_histogram(counts)"
   ]
  },
  {
   "cell_type": "code",
   "execution_count": 9,
   "metadata": {
    "colab": {
     "base_uri": "https://localhost:8080/",
     "height": 186
    },
    "id": "85qLW7vph2ZW",
    "outputId": "7674a3b9-244c-48fe-8a2a-1cf95fe4b47a"
   },
   "outputs": [
    {
     "data": {
      "text/html": [
       "<pre style=\"word-wrap: normal;white-space: pre;background: #fff0;line-height: 1.1;font-family: &quot;Courier New&quot;,Courier,monospace\">     ┌───┐      ░                 ░ ┌───┐\n",
       "q_0: ┤ H ├──────░───■─────────────░─┤ H ├\n",
       "     ├───┤      ░   │             ░ ├───┤\n",
       "q_1: ┤ H ├──────░───┼─────────■───░─┤ H ├\n",
       "     ├───┤      ░   │  ┌───┐  │   ░ ├───┤\n",
       "q_2: ┤ H ├──────░───┼──┤ I ├──┼───░─┤ H ├\n",
       "     ├───┤┌───┐ ░ ┌─┴─┐└───┘┌─┴─┐ ░ └───┘\n",
       "q_3: ┤ H ├┤ Z ├─░─┤ X ├─────┤ X ├─░──────\n",
       "     └───┘└───┘ ░ └───┘     └───┘ ░      \n",
       "c: 3/════════════════════════════════════\n",
       "                                         </pre>"
      ],
      "text/plain": [
       "     ┌───┐      ░                 ░ ┌───┐\n",
       "q_0: ┤ H ├──────░───■─────────────░─┤ H ├\n",
       "     ├───┤      ░   │             ░ ├───┤\n",
       "q_1: ┤ H ├──────░───┼─────────■───░─┤ H ├\n",
       "     ├───┤      ░   │  ┌───┐  │   ░ ├───┤\n",
       "q_2: ┤ H ├──────░───┼──┤ I ├──┼───░─┤ H ├\n",
       "     ├───┤┌───┐ ░ ┌─┴─┐└───┘┌─┴─┐ ░ └───┘\n",
       "q_3: ┤ H ├┤ Z ├─░─┤ X ├─────┤ X ├─░──────\n",
       "     └───┘└───┘ ░ └───┘     └───┘ ░      \n",
       "c: 3/════════════════════════════════════\n",
       "                                         "
      ]
     },
     "execution_count": 9,
     "metadata": {},
     "output_type": "execute_result"
    }
   ],
   "source": [
    "### Lets defined a new circuit of your choice with no measurements\n",
    "\n",
    "n = 3 # number of qubits used to represent s\n",
    "s = '011'   # the hidden binary string\n",
    "\n",
    "\n",
    "# We need a circuit with n qubits, plus one auxiliary qubit\n",
    "# Also need n classical bits to write the output to\n",
    "qc = QuantumCircuit(n+1, n)\n",
    "\n",
    "# put auxiliary in state |->\n",
    "qc.h(n)\n",
    "qc.z(n)\n",
    "\n",
    "# Apply Hadamard gates before querying the oracle\n",
    "for i in range(n):\n",
    "    qc.h(i)\n",
    "    \n",
    "# Apply barrier \n",
    "qc.barrier()\n",
    "\n",
    "# Apply the inner-product oracle\n",
    "s = s[::-1] # reverse s to fit qiskit's qubit ordering\n",
    "for q in range(n):\n",
    "    if s[q] == '0':\n",
    "        qc.i(q)\n",
    "    else:\n",
    "        qc.cx(q, n)\n",
    "        \n",
    "# Apply barrier \n",
    "qc.barrier()\n",
    "\n",
    "#Apply Hadamard gates after querying the oracle\n",
    "for i in range(n):\n",
    "    qc.h(i)\n",
    "\n",
    "'''    \n",
    "# Measurement\n",
    "for i in range(n):\n",
    "    qc.measure(i, i)\n",
    "'''\n",
    "qc.draw()"
   ]
  },
  {
   "cell_type": "code",
   "execution_count": 10,
   "metadata": {
    "colab": {
     "base_uri": "https://localhost:8080/",
     "height": 1000
    },
    "id": "BAH9gtEwiGHk",
    "outputId": "371f6522-96c9-441a-eced-8bbee7a2027c"
   },
   "outputs": [
    {
     "name": "stdout",
     "output_type": "stream",
     "text": [
      "Optimization Level 0\n",
      "Depth: 11\n",
      "Gate counts: OrderedDict([('cx', 11), ('u2', 7), ('barrier', 2), ('u1', 1), ('id', 1)])\n"
     ]
    },
    {
     "data": {
      "text/html": [
       "<pre style=\"word-wrap: normal;white-space: pre;background: #fff0;line-height: 1.1;font-family: &quot;Courier New&quot;,Courier,monospace\">                 ┌─────────┐          ░      ┌───┐                         »\n",
       "        q_0 -> 0 ┤ U2(0,π) ├──────────░───■──┤ X ├──■──────────────────────»\n",
       "                 ├─────────┤          ░ ┌─┴─┐└─┬─┘┌─┴─┐          ┌───┐     »\n",
       "        q_1 -> 1 ┤ U2(0,π) ├──────────░─┤ X ├──■──┤ X ├──■────■──┤ X ├──■──»\n",
       "                 ├─────────┤          ░ └───┘┌───┐└───┘┌─┴─┐┌─┴─┐└─┬─┘┌─┴─┐»\n",
       "        q_2 -> 2 ┤ U2(0,π) ├──────────░───■──┤ X ├──■──┤ X ├┤ X ├──■──┤ X ├»\n",
       "                 ├─────────┤┌───────┐ ░ ┌─┴─┐└─┬─┘┌─┴─┐├───┤└───┘     └───┘»\n",
       "        q_3 -> 3 ┤ U2(0,π) ├┤ U1(π) ├─░─┤ X ├──■──┤ X ├┤ I ├───────────────»\n",
       "                 └─────────┘└───────┘ ░ └───┘     └───┘└───┘               »\n",
       "  ancilla_0 -> 4 ──────────────────────────────────────────────────────────»\n",
       "                                                                           »\n",
       "  ancilla_1 -> 5 ──────────────────────────────────────────────────────────»\n",
       "                                                                           »\n",
       "  ancilla_2 -> 6 ──────────────────────────────────────────────────────────»\n",
       "                                                                           »\n",
       "  ancilla_3 -> 7 ──────────────────────────────────────────────────────────»\n",
       "                                                                           »\n",
       "  ancilla_4 -> 8 ──────────────────────────────────────────────────────────»\n",
       "                                                                           »\n",
       "  ancilla_5 -> 9 ──────────────────────────────────────────────────────────»\n",
       "                                                                           »\n",
       " ancilla_6 -> 10 ──────────────────────────────────────────────────────────»\n",
       "                                                                           »\n",
       " ancilla_7 -> 11 ──────────────────────────────────────────────────────────»\n",
       "                                                                           »\n",
       " ancilla_8 -> 12 ──────────────────────────────────────────────────────────»\n",
       "                                                                           »\n",
       " ancilla_9 -> 13 ──────────────────────────────────────────────────────────»\n",
       "                                                                           »\n",
       "ancilla_10 -> 14 ──────────────────────────────────────────────────────────»\n",
       "                                                                           »\n",
       "ancilla_11 -> 15 ──────────────────────────────────────────────────────────»\n",
       "                                                                           »\n",
       "ancilla_12 -> 16 ──────────────────────────────────────────────────────────»\n",
       "                                                                           »\n",
       "ancilla_13 -> 17 ──────────────────────────────────────────────────────────»\n",
       "                                                                           »\n",
       "ancilla_14 -> 18 ──────────────────────────────────────────────────────────»\n",
       "                                                                           »\n",
       "ancilla_15 -> 19 ──────────────────────────────────────────────────────────»\n",
       "                                                                           »\n",
       "            c: 3/══════════════════════════════════════════════════════════»\n",
       "                                                                           »\n",
       "«                       ░ ┌─────────┐\n",
       "«        q_0 -> 0 ──■───░─┤ U2(0,π) ├\n",
       "«                 ┌─┴─┐ ░ └─────────┘\n",
       "«        q_1 -> 1 ┤ X ├─░────────────\n",
       "«                 └───┘ ░ ┌─────────┐\n",
       "«        q_2 -> 2 ──────░─┤ U2(0,π) ├\n",
       "«                       ░ ├─────────┤\n",
       "«        q_3 -> 3 ──────░─┤ U2(0,π) ├\n",
       "«                       ░ └─────────┘\n",
       "«  ancilla_0 -> 4 ───────────────────\n",
       "«                                    \n",
       "«  ancilla_1 -> 5 ───────────────────\n",
       "«                                    \n",
       "«  ancilla_2 -> 6 ───────────────────\n",
       "«                                    \n",
       "«  ancilla_3 -> 7 ───────────────────\n",
       "«                                    \n",
       "«  ancilla_4 -> 8 ───────────────────\n",
       "«                                    \n",
       "«  ancilla_5 -> 9 ───────────────────\n",
       "«                                    \n",
       "« ancilla_6 -> 10 ───────────────────\n",
       "«                                    \n",
       "« ancilla_7 -> 11 ───────────────────\n",
       "«                                    \n",
       "« ancilla_8 -> 12 ───────────────────\n",
       "«                                    \n",
       "« ancilla_9 -> 13 ───────────────────\n",
       "«                                    \n",
       "«ancilla_10 -> 14 ───────────────────\n",
       "«                                    \n",
       "«ancilla_11 -> 15 ───────────────────\n",
       "«                                    \n",
       "«ancilla_12 -> 16 ───────────────────\n",
       "«                                    \n",
       "«ancilla_13 -> 17 ───────────────────\n",
       "«                                    \n",
       "«ancilla_14 -> 18 ───────────────────\n",
       "«                                    \n",
       "«ancilla_15 -> 19 ───────────────────\n",
       "«                                    \n",
       "«            c: 3/═══════════════════\n",
       "«                                    </pre>"
      ],
      "text/plain": [
       "                 ┌─────────┐          ░      ┌───┐                         »\n",
       "        q_0 -> 0 ┤ U2(0,π) ├──────────░───■──┤ X ├──■──────────────────────»\n",
       "                 ├─────────┤          ░ ┌─┴─┐└─┬─┘┌─┴─┐          ┌───┐     »\n",
       "        q_1 -> 1 ┤ U2(0,π) ├──────────░─┤ X ├──■──┤ X ├──■────■──┤ X ├──■──»\n",
       "                 ├─────────┤          ░ └───┘┌───┐└───┘┌─┴─┐┌─┴─┐└─┬─┘┌─┴─┐»\n",
       "        q_2 -> 2 ┤ U2(0,π) ├──────────░───■──┤ X ├──■──┤ X ├┤ X ├──■──┤ X ├»\n",
       "                 ├─────────┤┌───────┐ ░ ┌─┴─┐└─┬─┘┌─┴─┐├───┤└───┘     └───┘»\n",
       "        q_3 -> 3 ┤ U2(0,π) ├┤ U1(π) ├─░─┤ X ├──■──┤ X ├┤ I ├───────────────»\n",
       "                 └─────────┘└───────┘ ░ └───┘     └───┘└───┘               »\n",
       "  ancilla_0 -> 4 ──────────────────────────────────────────────────────────»\n",
       "                                                                           »\n",
       "  ancilla_1 -> 5 ──────────────────────────────────────────────────────────»\n",
       "                                                                           »\n",
       "  ancilla_2 -> 6 ──────────────────────────────────────────────────────────»\n",
       "                                                                           »\n",
       "  ancilla_3 -> 7 ──────────────────────────────────────────────────────────»\n",
       "                                                                           »\n",
       "  ancilla_4 -> 8 ──────────────────────────────────────────────────────────»\n",
       "                                                                           »\n",
       "  ancilla_5 -> 9 ──────────────────────────────────────────────────────────»\n",
       "                                                                           »\n",
       " ancilla_6 -> 10 ──────────────────────────────────────────────────────────»\n",
       "                                                                           »\n",
       " ancilla_7 -> 11 ──────────────────────────────────────────────────────────»\n",
       "                                                                           »\n",
       " ancilla_8 -> 12 ──────────────────────────────────────────────────────────»\n",
       "                                                                           »\n",
       " ancilla_9 -> 13 ──────────────────────────────────────────────────────────»\n",
       "                                                                           »\n",
       "ancilla_10 -> 14 ──────────────────────────────────────────────────────────»\n",
       "                                                                           »\n",
       "ancilla_11 -> 15 ──────────────────────────────────────────────────────────»\n",
       "                                                                           »\n",
       "ancilla_12 -> 16 ──────────────────────────────────────────────────────────»\n",
       "                                                                           »\n",
       "ancilla_13 -> 17 ──────────────────────────────────────────────────────────»\n",
       "                                                                           »\n",
       "ancilla_14 -> 18 ──────────────────────────────────────────────────────────»\n",
       "                                                                           »\n",
       "ancilla_15 -> 19 ──────────────────────────────────────────────────────────»\n",
       "                                                                           »\n",
       "            c: 3/══════════════════════════════════════════════════════════»\n",
       "                                                                           »\n",
       "«                       ░ ┌─────────┐\n",
       "«        q_0 -> 0 ──■───░─┤ U2(0,π) ├\n",
       "«                 ┌─┴─┐ ░ └─────────┘\n",
       "«        q_1 -> 1 ┤ X ├─░────────────\n",
       "«                 └───┘ ░ ┌─────────┐\n",
       "«        q_2 -> 2 ──────░─┤ U2(0,π) ├\n",
       "«                       ░ ├─────────┤\n",
       "«        q_3 -> 3 ──────░─┤ U2(0,π) ├\n",
       "«                       ░ └─────────┘\n",
       "«  ancilla_0 -> 4 ───────────────────\n",
       "«                                    \n",
       "«  ancilla_1 -> 5 ───────────────────\n",
       "«                                    \n",
       "«  ancilla_2 -> 6 ───────────────────\n",
       "«                                    \n",
       "«  ancilla_3 -> 7 ───────────────────\n",
       "«                                    \n",
       "«  ancilla_4 -> 8 ───────────────────\n",
       "«                                    \n",
       "«  ancilla_5 -> 9 ───────────────────\n",
       "«                                    \n",
       "« ancilla_6 -> 10 ───────────────────\n",
       "«                                    \n",
       "« ancilla_7 -> 11 ───────────────────\n",
       "«                                    \n",
       "« ancilla_8 -> 12 ───────────────────\n",
       "«                                    \n",
       "« ancilla_9 -> 13 ───────────────────\n",
       "«                                    \n",
       "«ancilla_10 -> 14 ───────────────────\n",
       "«                                    \n",
       "«ancilla_11 -> 15 ───────────────────\n",
       "«                                    \n",
       "«ancilla_12 -> 16 ───────────────────\n",
       "«                                    \n",
       "«ancilla_13 -> 17 ───────────────────\n",
       "«                                    \n",
       "«ancilla_14 -> 18 ───────────────────\n",
       "«                                    \n",
       "«ancilla_15 -> 19 ───────────────────\n",
       "«                                    \n",
       "«            c: 3/═══════════════════\n",
       "«                                    "
      ]
     },
     "execution_count": 10,
     "metadata": {},
     "output_type": "execute_result"
    }
   ],
   "source": [
    "# Define a simulated noisy backend\n",
    "simulated_backend = FakeBoeblingen()\n",
    "\n",
    "transpiled_qc0 = transpile(qc, simulated_backend, optimization_level=0)  # No Optimization\n",
    "print('Optimization Level 0')\n",
    "print('Depth:', transpiled_qc0.depth())\n",
    "print('Gate counts:', transpiled_qc0.count_ops())\n",
    "transpiled_qc0.draw()"
   ]
  },
  {
   "cell_type": "code",
   "execution_count": 15,
   "metadata": {
    "id": "qR1QyF9diITH"
   },
   "outputs": [],
   "source": [
    "from qiskit import QuantumRegister, ClassicalRegister, QuantumCircuit\n",
    "from qiskit.dagcircuit import DAGCircuit\n",
    "from qiskit.converters import circuit_to_dag\n",
    "from qiskit.tools.visualization import dag_drawer"
   ]
  },
  {
   "cell_type": "code",
   "execution_count": 17,
   "metadata": {},
   "outputs": [
    {
     "name": "stdout",
     "output_type": "stream",
     "text": [
      "Collecting pydot\n",
      "  Downloading pydot-1.4.2-py2.py3-none-any.whl (21 kB)\n",
      "Requirement already satisfied: pyparsing>=2.1.4 in /Users/hakanayaz/opt/anaconda3/lib/python3.9/site-packages (from pydot) (3.0.4)\n",
      "Installing collected packages: pydot\n",
      "Successfully installed pydot-1.4.2\n",
      "Note: you may need to restart the kernel to use updated packages.\n"
     ]
    }
   ],
   "source": [
    "pip install pydot"
   ]
  },
  {
   "cell_type": "code",
   "execution_count": 18,
   "metadata": {
    "colab": {
     "base_uri": "https://localhost:8080/",
     "height": 1000
    },
    "id": "Ad3u8cq3icem",
    "outputId": "5a7b814b-d158-4e29-93e3-8c5a519ee718"
   },
   "outputs": [
    {
     "ename": "MissingOptionalLibraryError",
     "evalue": "\"The 'pydot' library is required to use 'dag_drawer'. You can install it with 'pip install pydot'.\"",
     "output_type": "error",
     "traceback": [
      "\u001b[0;31m---------------------------------------------------------------------------\u001b[0m",
      "\u001b[0;31mMissingOptionalLibraryError\u001b[0m               Traceback (most recent call last)",
      "Input \u001b[0;32mIn [18]\u001b[0m, in \u001b[0;36m<cell line: 2>\u001b[0;34m()\u001b[0m\n\u001b[1;32m      1\u001b[0m dag \u001b[38;5;241m=\u001b[39m circuit_to_dag(transpiled_qc0)\n\u001b[0;32m----> 2\u001b[0m \u001b[43mdag_drawer\u001b[49m\u001b[43m(\u001b[49m\u001b[43mdag\u001b[49m\u001b[43m)\u001b[49m\n",
      "File \u001b[0;32m~/opt/anaconda3/lib/python3.9/site-packages/qiskit/utils/lazy_tester.py:164\u001b[0m, in \u001b[0;36mLazyDependencyManager.require_in_call.<locals>.out\u001b[0;34m(*args, **kwargs)\u001b[0m\n\u001b[1;32m    162\u001b[0m \u001b[38;5;129m@functools\u001b[39m\u001b[38;5;241m.\u001b[39mwraps(function)\n\u001b[1;32m    163\u001b[0m \u001b[38;5;28;01mdef\u001b[39;00m \u001b[38;5;21mout\u001b[39m(\u001b[38;5;241m*\u001b[39margs, \u001b[38;5;241m*\u001b[39m\u001b[38;5;241m*\u001b[39mkwargs):\n\u001b[0;32m--> 164\u001b[0m     \u001b[38;5;28;43mself\u001b[39;49m\u001b[38;5;241;43m.\u001b[39;49m\u001b[43mrequire_now\u001b[49m\u001b[43m(\u001b[49m\u001b[43mfeature\u001b[49m\u001b[43m)\u001b[49m\n\u001b[1;32m    165\u001b[0m     \u001b[38;5;28;01mreturn\u001b[39;00m function(\u001b[38;5;241m*\u001b[39margs, \u001b[38;5;241m*\u001b[39m\u001b[38;5;241m*\u001b[39mkwargs)\n",
      "File \u001b[0;32m~/opt/anaconda3/lib/python3.9/site-packages/qiskit/utils/lazy_tester.py:223\u001b[0m, in \u001b[0;36mLazyDependencyManager.require_now\u001b[0;34m(self, feature)\u001b[0m\n\u001b[1;32m    221\u001b[0m \u001b[38;5;28;01mif\u001b[39;00m \u001b[38;5;28mself\u001b[39m:\n\u001b[1;32m    222\u001b[0m     \u001b[38;5;28;01mreturn\u001b[39;00m\n\u001b[0;32m--> 223\u001b[0m \u001b[38;5;28;01mraise\u001b[39;00m MissingOptionalLibraryError(\n\u001b[1;32m    224\u001b[0m     libname\u001b[38;5;241m=\u001b[39m\u001b[38;5;28mself\u001b[39m\u001b[38;5;241m.\u001b[39m_name, name\u001b[38;5;241m=\u001b[39mfeature, pip_install\u001b[38;5;241m=\u001b[39m\u001b[38;5;28mself\u001b[39m\u001b[38;5;241m.\u001b[39m_install, msg\u001b[38;5;241m=\u001b[39m\u001b[38;5;28mself\u001b[39m\u001b[38;5;241m.\u001b[39m_msg\n\u001b[1;32m    225\u001b[0m )\n",
      "\u001b[0;31mMissingOptionalLibraryError\u001b[0m: \"The 'pydot' library is required to use 'dag_drawer'. You can install it with 'pip install pydot'.\""
     ]
    }
   ],
   "source": [
    "dag = circuit_to_dag(transpiled_qc0)\n",
    "dag_drawer(dag)"
   ]
  },
  {
   "cell_type": "code",
   "execution_count": 13,
   "metadata": {
    "colab": {
     "base_uri": "https://localhost:8080/",
     "height": 733
    },
    "id": "MLyxwD6qirv6",
    "outputId": "bc1bc17a-0210-4a46-ad6b-995d5664e354"
   },
   "outputs": [
    {
     "name": "stdout",
     "output_type": "stream",
     "text": [
      "Optimization Level 1\n",
      "Depth: 4\n",
      "Gate counts: OrderedDict([('u2', 7), ('barrier', 2), ('cx', 2)])\n"
     ]
    },
    {
     "data": {
      "text/html": [
       "<pre style=\"word-wrap: normal;white-space: pre;background: #fff0;line-height: 1.1;font-family: &quot;Courier New&quot;,Courier,monospace\">                                                         \n",
       "  ancilla_0 -> 0 ────────────────────────────────────────\n",
       "                                                         \n",
       "  ancilla_1 -> 1 ────────────────────────────────────────\n",
       "                                                         \n",
       "  ancilla_2 -> 2 ────────────────────────────────────────\n",
       "                                                         \n",
       "  ancilla_3 -> 3 ────────────────────────────────────────\n",
       "                                                         \n",
       "  ancilla_4 -> 4 ────────────────────────────────────────\n",
       "                                                         \n",
       "  ancilla_5 -> 5 ────────────────────────────────────────\n",
       "                                                         \n",
       "  ancilla_6 -> 6 ────────────────────────────────────────\n",
       "                                                         \n",
       "  ancilla_7 -> 7 ────────────────────────────────────────\n",
       "                                                         \n",
       "  ancilla_8 -> 8 ────────────────────────────────────────\n",
       "                                                         \n",
       "  ancilla_9 -> 9 ────────────────────────────────────────\n",
       "                                                         \n",
       "ancilla_10 -> 10 ────────────────────────────────────────\n",
       "                                                         \n",
       "ancilla_11 -> 11 ────────────────────────────────────────\n",
       "                  ┌─────────┐  ░            ░ ┌─────────┐\n",
       "       q_0 -> 12 ─┤ U2(0,π) ├──░───■────────░─┤ U2(0,π) ├\n",
       "                 ┌┴─────────┴┐ ░ ┌─┴─┐┌───┐ ░ └─────────┘\n",
       "       q_3 -> 13 ┤ U2(-π,-π) ├─░─┤ X ├┤ X ├─░────────────\n",
       "                 └┬─────────┬┘ ░ └───┘└─┬─┘ ░ ┌─────────┐\n",
       "       q_1 -> 14 ─┤ U2(0,π) ├──░────────■───░─┤ U2(0,π) ├\n",
       "                  ├─────────┤  ░            ░ ├─────────┤\n",
       "       q_2 -> 15 ─┤ U2(0,π) ├──░────────────░─┤ U2(0,π) ├\n",
       "                  └─────────┘  ░            ░ └─────────┘\n",
       "ancilla_12 -> 16 ────────────────────────────────────────\n",
       "                                                         \n",
       "ancilla_13 -> 17 ────────────────────────────────────────\n",
       "                                                         \n",
       "ancilla_14 -> 18 ────────────────────────────────────────\n",
       "                                                         \n",
       "ancilla_15 -> 19 ────────────────────────────────────────\n",
       "                                                         \n",
       "            c: 3/════════════════════════════════════════\n",
       "                                                         </pre>"
      ],
      "text/plain": [
       "                                                         \n",
       "  ancilla_0 -> 0 ────────────────────────────────────────\n",
       "                                                         \n",
       "  ancilla_1 -> 1 ────────────────────────────────────────\n",
       "                                                         \n",
       "  ancilla_2 -> 2 ────────────────────────────────────────\n",
       "                                                         \n",
       "  ancilla_3 -> 3 ────────────────────────────────────────\n",
       "                                                         \n",
       "  ancilla_4 -> 4 ────────────────────────────────────────\n",
       "                                                         \n",
       "  ancilla_5 -> 5 ────────────────────────────────────────\n",
       "                                                         \n",
       "  ancilla_6 -> 6 ────────────────────────────────────────\n",
       "                                                         \n",
       "  ancilla_7 -> 7 ────────────────────────────────────────\n",
       "                                                         \n",
       "  ancilla_8 -> 8 ────────────────────────────────────────\n",
       "                                                         \n",
       "  ancilla_9 -> 9 ────────────────────────────────────────\n",
       "                                                         \n",
       "ancilla_10 -> 10 ────────────────────────────────────────\n",
       "                                                         \n",
       "ancilla_11 -> 11 ────────────────────────────────────────\n",
       "                  ┌─────────┐  ░            ░ ┌─────────┐\n",
       "       q_0 -> 12 ─┤ U2(0,π) ├──░───■────────░─┤ U2(0,π) ├\n",
       "                 ┌┴─────────┴┐ ░ ┌─┴─┐┌───┐ ░ └─────────┘\n",
       "       q_3 -> 13 ┤ U2(-π,-π) ├─░─┤ X ├┤ X ├─░────────────\n",
       "                 └┬─────────┬┘ ░ └───┘└─┬─┘ ░ ┌─────────┐\n",
       "       q_1 -> 14 ─┤ U2(0,π) ├──░────────■───░─┤ U2(0,π) ├\n",
       "                  ├─────────┤  ░            ░ ├─────────┤\n",
       "       q_2 -> 15 ─┤ U2(0,π) ├──░────────────░─┤ U2(0,π) ├\n",
       "                  └─────────┘  ░            ░ └─────────┘\n",
       "ancilla_12 -> 16 ────────────────────────────────────────\n",
       "                                                         \n",
       "ancilla_13 -> 17 ────────────────────────────────────────\n",
       "                                                         \n",
       "ancilla_14 -> 18 ────────────────────────────────────────\n",
       "                                                         \n",
       "ancilla_15 -> 19 ────────────────────────────────────────\n",
       "                                                         \n",
       "            c: 3/════════════════════════════════════════\n",
       "                                                         "
      ]
     },
     "execution_count": 13,
     "metadata": {},
     "output_type": "execute_result"
    }
   ],
   "source": [
    "# Define a simulated noisy backend\n",
    "simulated_backend = FakeBoeblingen()\n",
    "\n",
    "transpiled_qc1 = transpile(qc, simulated_backend, optimization_level=1)  # No Optimization\n",
    "print('Optimization Level 1')\n",
    "print('Depth:', transpiled_qc1.depth())\n",
    "print('Gate counts:', transpiled_qc1.count_ops())\n",
    "transpiled_qc1.draw()"
   ]
  },
  {
   "cell_type": "code",
   "execution_count": 14,
   "metadata": {
    "colab": {
     "base_uri": "https://localhost:8080/",
     "height": 522
    },
    "id": "iJEmRdUaitA3",
    "outputId": "18ab7d0d-573b-40f2-b0d1-a7cf510ce1d9"
   },
   "outputs": [
    {
     "ename": "MissingOptionalLibraryError",
     "evalue": "\"The 'pydot' library is required to use 'dag_drawer'. You can install it with 'pip install pydot'.\"",
     "output_type": "error",
     "traceback": [
      "\u001b[0;31m---------------------------------------------------------------------------\u001b[0m",
      "\u001b[0;31mMissingOptionalLibraryError\u001b[0m               Traceback (most recent call last)",
      "Input \u001b[0;32mIn [14]\u001b[0m, in \u001b[0;36m<cell line: 2>\u001b[0;34m()\u001b[0m\n\u001b[1;32m      1\u001b[0m dag \u001b[38;5;241m=\u001b[39m circuit_to_dag(transpiled_qc1)\n\u001b[0;32m----> 2\u001b[0m \u001b[43mdag_drawer\u001b[49m\u001b[43m(\u001b[49m\u001b[43mdag\u001b[49m\u001b[43m)\u001b[49m\n",
      "File \u001b[0;32m~/opt/anaconda3/lib/python3.9/site-packages/qiskit/utils/lazy_tester.py:164\u001b[0m, in \u001b[0;36mLazyDependencyManager.require_in_call.<locals>.out\u001b[0;34m(*args, **kwargs)\u001b[0m\n\u001b[1;32m    162\u001b[0m \u001b[38;5;129m@functools\u001b[39m\u001b[38;5;241m.\u001b[39mwraps(function)\n\u001b[1;32m    163\u001b[0m \u001b[38;5;28;01mdef\u001b[39;00m \u001b[38;5;21mout\u001b[39m(\u001b[38;5;241m*\u001b[39margs, \u001b[38;5;241m*\u001b[39m\u001b[38;5;241m*\u001b[39mkwargs):\n\u001b[0;32m--> 164\u001b[0m     \u001b[38;5;28;43mself\u001b[39;49m\u001b[38;5;241;43m.\u001b[39;49m\u001b[43mrequire_now\u001b[49m\u001b[43m(\u001b[49m\u001b[43mfeature\u001b[49m\u001b[43m)\u001b[49m\n\u001b[1;32m    165\u001b[0m     \u001b[38;5;28;01mreturn\u001b[39;00m function(\u001b[38;5;241m*\u001b[39margs, \u001b[38;5;241m*\u001b[39m\u001b[38;5;241m*\u001b[39mkwargs)\n",
      "File \u001b[0;32m~/opt/anaconda3/lib/python3.9/site-packages/qiskit/utils/lazy_tester.py:223\u001b[0m, in \u001b[0;36mLazyDependencyManager.require_now\u001b[0;34m(self, feature)\u001b[0m\n\u001b[1;32m    221\u001b[0m \u001b[38;5;28;01mif\u001b[39;00m \u001b[38;5;28mself\u001b[39m:\n\u001b[1;32m    222\u001b[0m     \u001b[38;5;28;01mreturn\u001b[39;00m\n\u001b[0;32m--> 223\u001b[0m \u001b[38;5;28;01mraise\u001b[39;00m MissingOptionalLibraryError(\n\u001b[1;32m    224\u001b[0m     libname\u001b[38;5;241m=\u001b[39m\u001b[38;5;28mself\u001b[39m\u001b[38;5;241m.\u001b[39m_name, name\u001b[38;5;241m=\u001b[39mfeature, pip_install\u001b[38;5;241m=\u001b[39m\u001b[38;5;28mself\u001b[39m\u001b[38;5;241m.\u001b[39m_install, msg\u001b[38;5;241m=\u001b[39m\u001b[38;5;28mself\u001b[39m\u001b[38;5;241m.\u001b[39m_msg\n\u001b[1;32m    225\u001b[0m )\n",
      "\u001b[0;31mMissingOptionalLibraryError\u001b[0m: \"The 'pydot' library is required to use 'dag_drawer'. You can install it with 'pip install pydot'.\""
     ]
    }
   ],
   "source": [
    "dag = circuit_to_dag(transpiled_qc1)\n",
    "dag_drawer(dag)"
   ]
  },
  {
   "cell_type": "code",
   "execution_count": null,
   "metadata": {
    "colab": {
     "base_uri": "https://localhost:8080/",
     "height": 733
    },
    "id": "ap_iD7CTiwZY",
    "outputId": "6263a449-6063-4840-ad45-b1239f5b3d1d"
   },
   "outputs": [],
   "source": [
    "# Define a simulated noisy backend\n",
    "simulated_backend = FakeBoeblingen()\n",
    "\n",
    "transpiled_qc2 = transpile(qc, simulated_backend, optimization_level=2)  # No Optimization\n",
    "print('Optimization Level 2')\n",
    "print('Depth:', transpiled_qc2.depth())\n",
    "print('Gate counts:', transpiled_qc2.count_ops())\n",
    "transpiled_qc2.draw()"
   ]
  },
  {
   "cell_type": "code",
   "execution_count": null,
   "metadata": {
    "colab": {
     "base_uri": "https://localhost:8080/",
     "height": 522
    },
    "id": "YiOSgh4Sizr4",
    "outputId": "e4805adc-9ad9-48db-b85b-8e373e49709f"
   },
   "outputs": [],
   "source": [
    "dag = circuit_to_dag(transpiled_qc2)\n",
    "dag_drawer(dag)"
   ]
  },
  {
   "cell_type": "code",
   "execution_count": null,
   "metadata": {
    "colab": {
     "base_uri": "https://localhost:8080/",
     "height": 733
    },
    "id": "IUH9nFGEi28j",
    "outputId": "9b8d7888-ccdc-4650-da6d-796705b0428c"
   },
   "outputs": [],
   "source": [
    "# Define a simulated noisy backend\n",
    "simulated_backend = FakeBoeblingen()\n",
    "\n",
    "transpiled_qc3 = transpile(qc, simulated_backend, optimization_level=3)  # No Optimization\n",
    "print('Optimization Level 3')\n",
    "print('Depth:', transpiled_qc3.depth())\n",
    "print('Gate counts:', transpiled_qc3.count_ops())\n",
    "transpiled_qc3.draw()"
   ]
  },
  {
   "cell_type": "code",
   "execution_count": null,
   "metadata": {
    "colab": {
     "base_uri": "https://localhost:8080/",
     "height": 522
    },
    "id": "wOVRj1gri-ZH",
    "outputId": "5a92f2ae-643e-45a8-a0d3-0a7520b4d76b"
   },
   "outputs": [],
   "source": [
    "dag = circuit_to_dag(transpiled_qc3)\n",
    "dag_drawer(dag)"
   ]
  },
  {
   "cell_type": "code",
   "execution_count": null,
   "metadata": {
    "colab": {
     "base_uri": "https://localhost:8080/",
     "height": 125
    },
    "id": "RqNuuEk4jB7F",
    "outputId": "545f46d0-8639-4c6f-94ab-c835cd887406"
   },
   "outputs": [],
   "source": [
    "sub_circuit = QuantumCircuit(3, name='toggle_cx')\n",
    "sub_circuit.cx(0,1)\n",
    "sub_circuit.cx(1,2)\n",
    "sub_circuit.cx(0,1)\n",
    "sub_circuit.cx(1,2)\n",
    "\n",
    "sub_circuit.draw()"
   ]
  },
  {
   "cell_type": "code",
   "execution_count": null,
   "metadata": {
    "colab": {
     "base_uri": "https://localhost:8080/",
     "height": 702
    },
    "id": "8cre-EeRotI_",
    "outputId": "337c7282-61ce-4320-e9a0-606b1617b1a0"
   },
   "outputs": [],
   "source": [
    "# Define a simulated noisy backend\n",
    "simulated_backend = FakeBoeblingen()\n",
    "\n",
    "transpiled_toggle_cx = transpile(sub_circuit, simulated_backend, optimization_level=3)\n",
    "print('Optimization Level 0 Toggle Cx')\n",
    "print('Depth:', transpiled_toggle_cx.depth())\n",
    "print('Gate counts:', transpiled_toggle_cx.count_ops())\n",
    "transpiled_toggle_cx.draw()"
   ]
  },
  {
   "cell_type": "code",
   "execution_count": null,
   "metadata": {
    "colab": {
     "base_uri": "https://localhost:8080/",
     "height": 450
    },
    "id": "pgWbboNApIiD",
    "outputId": "c8cb6a26-387e-4ff1-f558-978ea68ce320"
   },
   "outputs": [],
   "source": [
    "dag = circuit_to_dag(transpiled_toggle_cx)\n",
    "dag_drawer(dag)"
   ]
  },
  {
   "cell_type": "code",
   "execution_count": null,
   "metadata": {
    "id": "q5CtXou_peaj"
   },
   "outputs": [],
   "source": []
  }
 ],
 "metadata": {
  "colab": {
   "collapsed_sections": [],
   "name": "Compilation_QIskit_Gate_Optimization with DAG.ipynb",
   "provenance": []
  },
  "kernelspec": {
   "display_name": "Python 3 (ipykernel)",
   "language": "python",
   "name": "python3"
  },
  "language_info": {
   "codemirror_mode": {
    "name": "ipython",
    "version": 3
   },
   "file_extension": ".py",
   "mimetype": "text/x-python",
   "name": "python",
   "nbconvert_exporter": "python",
   "pygments_lexer": "ipython3",
   "version": "3.9.12"
  }
 },
 "nbformat": 4,
 "nbformat_minor": 1
}
