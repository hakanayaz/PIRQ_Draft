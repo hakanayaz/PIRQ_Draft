{
 "cells": [
  {
   "cell_type": "markdown",
   "id": "b870ca5b",
   "metadata": {},
   "source": [
    "# Executing a Simple Quantum Circuit with Qiskit\n",
    "Qiskit abstracts many aspects of the quantum compilation process, allowing us to interface with complex systems with a bit of simple python. To use Qiskit, a user would typically:\n",
    "1. Create a quantum circuit\n",
    "2. Transpile the circuit onto a backend of choice (either a simulated backend or real quantum hardware)\n",
    "3. Execute the circuit on the chosen backend\n",
    "4. Get the results of the executed quantum circuit.\n",
    "\n",
    "It all starts with first installing the Qiskit package:"
   ]
  },
  {
   "cell_type": "code",
   "execution_count": null,
   "id": "a69df896",
   "metadata": {},
   "outputs": [],
   "source": [
    "pip install qiskit"
   ]
  },
  {
   "cell_type": "code",
   "execution_count": 6,
   "id": "7c75b86f",
   "metadata": {},
   "outputs": [
    {
     "data": {
      "text/html": [
       "<pre style=\"word-wrap: normal;white-space: pre;background: #fff0;line-height: 1.1;font-family: &quot;Courier New&quot;,Courier,monospace\">        ┌───┐                     ░ ┌─┐            \n",
       "   q_0: ┤ H ├──■────■────■────■───░─┤M├────────────\n",
       "        └───┘┌─┴─┐  │    │    │   ░ └╥┘┌─┐         \n",
       "   q_1: ─────┤ X ├──┼────┼────┼───░──╫─┤M├─────────\n",
       "             └───┘┌─┴─┐  │    │   ░  ║ └╥┘┌─┐      \n",
       "   q_2: ──────────┤ X ├──┼────┼───░──╫──╫─┤M├──────\n",
       "                  └───┘┌─┴─┐  │   ░  ║  ║ └╥┘┌─┐   \n",
       "   q_3: ───────────────┤ X ├──┼───░──╫──╫──╫─┤M├───\n",
       "                       └───┘┌─┴─┐ ░  ║  ║  ║ └╥┘┌─┐\n",
       "   q_4: ────────────────────┤ X ├─░──╫──╫──╫──╫─┤M├\n",
       "                            └───┘ ░  ║  ║  ║  ║ └╥┘\n",
       "meas: 5/═════════════════════════════╩══╩══╩══╩══╩═\n",
       "                                     0  1  2  3  4 </pre>"
      ],
      "text/plain": [
       "        ┌───┐                     ░ ┌─┐            \n",
       "   q_0: ┤ H ├──■────■────■────■───░─┤M├────────────\n",
       "        └───┘┌─┴─┐  │    │    │   ░ └╥┘┌─┐         \n",
       "   q_1: ─────┤ X ├──┼────┼────┼───░──╫─┤M├─────────\n",
       "             └───┘┌─┴─┐  │    │   ░  ║ └╥┘┌─┐      \n",
       "   q_2: ──────────┤ X ├──┼────┼───░──╫──╫─┤M├──────\n",
       "                  └───┘┌─┴─┐  │   ░  ║  ║ └╥┘┌─┐   \n",
       "   q_3: ───────────────┤ X ├──┼───░──╫──╫──╫─┤M├───\n",
       "                       └───┘┌─┴─┐ ░  ║  ║  ║ └╥┘┌─┐\n",
       "   q_4: ────────────────────┤ X ├─░──╫──╫──╫──╫─┤M├\n",
       "                            └───┘ ░  ║  ║  ║  ║ └╥┘\n",
       "meas: 5/═════════════════════════════╩══╩══╩══╩══╩═\n",
       "                                     0  1  2  3  4 "
      ]
     },
     "execution_count": 6,
     "metadata": {},
     "output_type": "execute_result"
    }
   ],
   "source": [
    "from qiskit import QuantumCircuit\n",
    "from qiskit.visualization import circuit_drawer\n",
    "\n",
    "# 1) Lets create a simple quantum circuit.\n",
    "qc = QuantumCircuit(5)\n",
    "qc.h(0)\n",
    "qc.cx(0,range(1,5))\n",
    "qc.measure_all()\n",
    "qc.draw()"
   ]
  },
  {
   "cell_type": "code",
   "execution_count": 8,
   "id": "13d1285a",
   "metadata": {},
   "outputs": [],
   "source": [
    "from qiskit.test.mock import FakeBoeblingen\n",
    "from qiskit.compiler import transpile\n",
    "\n",
    "# 2) Lets transpile the circuit on a simulated noisy quantum hardware backend (more on this step later).\n",
    "simulated_backend = FakeBoeblingen()\n",
    "transpiled_qc = transpile(qc, simulated_backend)"
   ]
  },
  {
   "cell_type": "code",
   "execution_count": 12,
   "id": "fa0db393",
   "metadata": {},
   "outputs": [],
   "source": [
    "# 3) Lets execute the transpiled circuit on the simulated noisy backend\n",
    "results = simulated_backend.run(transpiled_qc).result()\n",
    "\n",
    "# Note: For more information about simulated noisy backends, please visit:\n",
    "# https://qiskit.org/documentation/tutorials/simulators/2_device_noise_simulation.html"
   ]
  },
  {
   "cell_type": "code",
   "execution_count": 13,
   "id": "fc67ca4e",
   "metadata": {},
   "outputs": [
    {
     "data": {
      "image/png": "[encoded data removed]",
      "text/plain": [
       "<Figure size 504x360 with 1 Axes>"
      ]
     },
     "execution_count": 13,
     "metadata": {},
     "output_type": "execute_result"
    }
   ],
   "source": [
    "from qiskit.tools.visualization import plot_histogram\n",
    "\n",
    "# 4) Lets get the results of the executed circuit\n",
    "counts = results.get_counts()\n",
    "plot_histogram(counts)"
   ]
  },
  {
   "cell_type": "markdown",
   "id": "4e85f197",
   "metadata": {},
   "source": [
    "Here we simply created a circuit, transpiled the circuit, executed the circuit on a backend, and printed the results. A key step in that process was step 2, the transpilation. In the rest of this tutorial we will focus on the transpilation process and what goes on behind the scenes in this step. "
   ]
  },
  {
   "cell_type": "markdown",
   "id": "4a8ce92d",
   "metadata": {},
   "source": [
    "# Transpilation Process\n",
    "\n",
    "The goal of the transpilation process is to injest a quantum circuit and spit out an optimized quantum circuit after having performed several transformative passes.\n",
    "\n",
    "![Transpilation Passes](transpiling_core_steps.png)\n",
    "\n",
    "\n",
    "Note: See [here](https://qiskit.org/documentation/apidoc/transpiler.html) For more information about the transpilation process.\n",
    "\n",
    "###  Back to our example\n",
    "This is exactly what we did in step 2 earlier,\n",
    "```{python}\n",
    "simulated_backend = FakeBoeblingen()\n",
    "transpiled_qc = transpile(qc, simulated_backend)\n",
    "```\n",
    "The transpile function uses the ``backend`` parameter to optimize the quantum circuit according to the particular hardware the quantum circuit will be running on, therefore, the transpilation process is **\"hardware aware\"**.\n",
    "\n",
    "### What other parameters does the `transpile()` function use?\n",
    "The `transpile()` function has another parameter called `optimization_level`, which specifies a predefined transpilation process. As shown earlier, the transpilation process involves gate optimization, device connectivity optimization, and more - in fact, it's a somewhat daunting list. Again, Qiskit abstracts these concepts away and allows a quantum programmer to use one of four predefined transpilation processes without fiddling with the details. By default `optimization_level = 1`, but we can set it to four different values as shown here:\n",
    "```{python}\n",
    "simulated_backend = Aer.get_backend('aer_simulator')\n",
    "transpiled_qc0 = transpile(qc, simulated_backend, optimization_level=0)  # No Optimization\n",
    "transpiled_qc1 = transpile(qc, simulated_backend, optimization_level=1)  # Some Optimization\n",
    "transpiled_qc2 = transpile(qc, simulated_backend, optimization_level=2)  # More Optimization\n",
    "transpiled_qc3 = transpile(qc, simulated_backend, optimization_level=3)  # Maximum Optimization\n",
    "```\n",
    "\n",
    "Note: See [here](https://qiskit.org/documentation/stubs/qiskit.compiler.transpile.html) For more information about the traspiler parameters."
   ]
  },
  {
   "cell_type": "markdown",
   "id": "3014a3e9",
   "metadata": {},
   "source": [
    "# Bernstein-Vazirani Circuit for 3 bit hidden string s"
   ]
  },
  {
   "cell_type": "code",
   "execution_count": 15,
   "id": "f8230381",
   "metadata": {},
   "outputs": [
    {
     "data": {
      "text/html": [
       "<pre style=\"word-wrap: normal;white-space: pre;background: #fff0;line-height: 1.1;font-family: &quot;Courier New&quot;,Courier,monospace\">     ┌───┐      ░                 ░ ┌───┐┌─┐      \n",
       "q_0: ┤ H ├──────░───■─────────────░─┤ H ├┤M├──────\n",
       "     ├───┤      ░   │             ░ ├───┤└╥┘┌─┐   \n",
       "q_1: ┤ H ├──────░───┼─────────■───░─┤ H ├─╫─┤M├───\n",
       "     ├───┤      ░   │  ┌───┐  │   ░ ├───┤ ║ └╥┘┌─┐\n",
       "q_2: ┤ H ├──────░───┼──┤ I ├──┼───░─┤ H ├─╫──╫─┤M├\n",
       "     ├───┤┌───┐ ░ ┌─┴─┐└───┘┌─┴─┐ ░ └───┘ ║  ║ └╥┘\n",
       "q_3: ┤ H ├┤ Z ├─░─┤ X ├─────┤ X ├─░───────╫──╫──╫─\n",
       "     └───┘└───┘ ░ └───┘     └───┘ ░       ║  ║  ║ \n",
       "c: 3/═════════════════════════════════════╩══╩══╩═\n",
       "                                          0  1  2 </pre>"
      ],
      "text/plain": [
       "     ┌───┐      ░                 ░ ┌───┐┌─┐      \n",
       "q_0: ┤ H ├──────░───■─────────────░─┤ H ├┤M├──────\n",
       "     ├───┤      ░   │             ░ ├───┤└╥┘┌─┐   \n",
       "q_1: ┤ H ├──────░───┼─────────■───░─┤ H ├─╫─┤M├───\n",
       "     ├───┤      ░   │  ┌───┐  │   ░ ├───┤ ║ └╥┘┌─┐\n",
       "q_2: ┤ H ├──────░───┼──┤ I ├──┼───░─┤ H ├─╫──╫─┤M├\n",
       "     ├───┤┌───┐ ░ ┌─┴─┐└───┘┌─┴─┐ ░ └───┘ ║  ║ └╥┘\n",
       "q_3: ┤ H ├┤ Z ├─░─┤ X ├─────┤ X ├─░───────╫──╫──╫─\n",
       "     └───┘└───┘ ░ └───┘     └───┘ ░       ║  ║  ║ \n",
       "c: 3/═════════════════════════════════════╩══╩══╩═\n",
       "                                          0  1  2 "
      ]
     },
     "execution_count": 15,
     "metadata": {},
     "output_type": "execute_result"
    }
   ],
   "source": [
    "### Lets defined a new circuit of your choice with no measurements\n",
    "\n",
    "s = '011'   # the hidden binary string\n",
    "n = 3 # number of bits used to represent s\n",
    "\n",
    "\n",
    "# We need a circuit with n qubits, plus one auxiliary qubit\n",
    "# We also need n classical bits to write the output to\n",
    "qc = QuantumCircuit(n+1, n)\n",
    "\n",
    "# Put auxiliary in the minus state |->\n",
    "# We leave the other n qubits in just |0>\n",
    "qc.h(n)\n",
    "qc.z(n)\n",
    "\n",
    "# Apply Hadamard gates to each of the n \"main\" qubits (excluding the auxiliary)\n",
    "# before querying the oracle\n",
    "for i in range(n):\n",
    "    qc.h(i)\n",
    "    \n",
    "# Apply barrier\n",
    "qc.barrier()\n",
    "\n",
    "# Apply the inner-product oracle\n",
    "s = s[::-1] # reverse s to fit qiskit's qubit ordering\n",
    "for q in range(n):\n",
    "    if s[q] == '0':\n",
    "        qc.i(q)\n",
    "    else:\n",
    "        qc.cx(q, n)\n",
    "        \n",
    "# Apply barrier\n",
    "qc.barrier()\n",
    "\n",
    "# Apply Hadamard gates after querying the oracle\n",
    "for i in range(n):\n",
    "    qc.h(i)\n",
    "\n",
    "'''\n",
    "# Measurement\n",
    "for i in range(n):\n",
    "    qc.measure(i, i)\n",
    "'''\n",
    "\n",
    "qc.draw()"
   ]
  },
  {
   "cell_type": "markdown",
   "id": "d482f7da",
   "metadata": {},
   "source": [
    "### Optimization_level=0\n",
    "This option does no optimization, so you end up using your input circuit on your hardware exactly as its been defined. This will give bad results, because your circuit does not even consider the device connectivity, there is no reduction of swap gates, etc."
   ]
  },
  {
   "cell_type": "code",
   "execution_count": 19,
   "id": "6164fafb",
   "metadata": {},
   "outputs": [
    {
     "name": "stdout",
     "output_type": "stream",
     "text": [
      "Optimization Level 0\n",
      "Depth: 12\n",
      "Gate counts: OrderedDict([('cx', 11), ('u2', 7), ('barrier', 3), ('measure', 3), ('u1', 1), ('id', 1)])\n"
     ]
    },
    {
     "data": {
      "text/html": [
       "<pre style=\"word-wrap: normal;white-space: pre;background: #fff0;line-height: 1.1;font-family: &quot;Courier New&quot;,Courier,monospace\">                 ┌─────────┐          ░      ┌───┐               ┌───┐     »\n",
       "        q_0 -> 0 ┤ U2(0,π) ├──────────░───■──┤ X ├──■─────────■──┤ X ├──■──»\n",
       "                 ├─────────┤          ░ ┌─┴─┐└─┬─┘┌─┴─┐     ┌─┴─┐└─┬─┘┌─┴─┐»\n",
       "        q_1 -> 1 ┤ U2(0,π) ├──────────░─┤ X ├──■──┤ X ├──■──┤ X ├──■──┤ X ├»\n",
       "                 ├─────────┤          ░ └───┘┌───┐└───┘┌─┴─┐└───┘     └───┘»\n",
       "        q_2 -> 2 ┤ U2(0,π) ├──────────░───■──┤ X ├──■──┤ X ├───────────────»\n",
       "                 ├─────────┤┌───────┐ ░ ┌─┴─┐└─┬─┘┌─┴─┐├───┤               »\n",
       "        q_3 -> 3 ┤ U2(0,π) ├┤ U1(π) ├─░─┤ X ├──■──┤ X ├┤ I ├───────────────»\n",
       "                 └─────────┘└───────┘ ░ └───┘     └───┘└───┘               »\n",
       "  ancilla_0 -> 4 ──────────────────────────────────────────────────────────»\n",
       "                                                                           »\n",
       "  ancilla_1 -> 5 ──────────────────────────────────────────────────────────»\n",
       "                                                                           »\n",
       "  ancilla_2 -> 6 ──────────────────────────────────────────────────────────»\n",
       "                                                                           »\n",
       "  ancilla_3 -> 7 ──────────────────────────────────────────────────────────»\n",
       "                                                                           »\n",
       "  ancilla_4 -> 8 ──────────────────────────────────────────────────────────»\n",
       "                                                                           »\n",
       "  ancilla_5 -> 9 ──────────────────────────────────────────────────────────»\n",
       "                                                                           »\n",
       " ancilla_6 -> 10 ──────────────────────────────────────────────────────────»\n",
       "                                                                           »\n",
       " ancilla_7 -> 11 ──────────────────────────────────────────────────────────»\n",
       "                                                                           »\n",
       " ancilla_8 -> 12 ──────────────────────────────────────────────────────────»\n",
       "                                                                           »\n",
       " ancilla_9 -> 13 ──────────────────────────────────────────────────────────»\n",
       "                                                                           »\n",
       "ancilla_10 -> 14 ──────────────────────────────────────────────────────────»\n",
       "                                                                           »\n",
       "ancilla_11 -> 15 ──────────────────────────────────────────────────────────»\n",
       "                                                                           »\n",
       "ancilla_12 -> 16 ──────────────────────────────────────────────────────────»\n",
       "                                                                           »\n",
       "ancilla_13 -> 17 ──────────────────────────────────────────────────────────»\n",
       "                                                                           »\n",
       "ancilla_14 -> 18 ──────────────────────────────────────────────────────────»\n",
       "                                                                           »\n",
       "ancilla_15 -> 19 ──────────────────────────────────────────────────────────»\n",
       "                                                                           »\n",
       "            c: 3/══════════════════════════════════════════════════════════»\n",
       "                                                                           »\n",
       "«                       ░ ┌─────────┐ ░ ┌─┐      \n",
       "«        q_0 -> 0 ──────░─┤ U2(0,π) ├─░─┤M├──────\n",
       "«                       ░ ├─────────┤ ░ └╥┘┌─┐   \n",
       "«        q_1 -> 1 ──■───░─┤ U2(0,π) ├─░──╫─┤M├───\n",
       "«                 ┌─┴─┐ ░ └─────────┘ ░  ║ └╥┘   \n",
       "«        q_2 -> 2 ┤ X ├─░─────────────░──╫──╫────\n",
       "«                 └───┘ ░ ┌─────────┐ ░  ║  ║ ┌─┐\n",
       "«        q_3 -> 3 ──────░─┤ U2(0,π) ├─░──╫──╫─┤M├\n",
       "«                       ░ └─────────┘ ░  ║  ║ └╥┘\n",
       "«  ancilla_0 -> 4 ────────────────────░──╫──╫──╫─\n",
       "«                                     ░  ║  ║  ║ \n",
       "«  ancilla_1 -> 5 ────────────────────░──╫──╫──╫─\n",
       "«                                     ░  ║  ║  ║ \n",
       "«  ancilla_2 -> 6 ────────────────────░──╫──╫──╫─\n",
       "«                                     ░  ║  ║  ║ \n",
       "«  ancilla_3 -> 7 ────────────────────░──╫──╫──╫─\n",
       "«                                     ░  ║  ║  ║ \n",
       "«  ancilla_4 -> 8 ────────────────────░──╫──╫──╫─\n",
       "«                                     ░  ║  ║  ║ \n",
       "«  ancilla_5 -> 9 ────────────────────░──╫──╫──╫─\n",
       "«                                     ░  ║  ║  ║ \n",
       "« ancilla_6 -> 10 ────────────────────░──╫──╫──╫─\n",
       "«                                     ░  ║  ║  ║ \n",
       "« ancilla_7 -> 11 ────────────────────░──╫──╫──╫─\n",
       "«                                     ░  ║  ║  ║ \n",
       "« ancilla_8 -> 12 ────────────────────░──╫──╫──╫─\n",
       "«                                     ░  ║  ║  ║ \n",
       "« ancilla_9 -> 13 ────────────────────░──╫──╫──╫─\n",
       "«                                     ░  ║  ║  ║ \n",
       "«ancilla_10 -> 14 ────────────────────░──╫──╫──╫─\n",
       "«                                     ░  ║  ║  ║ \n",
       "«ancilla_11 -> 15 ────────────────────░──╫──╫──╫─\n",
       "«                                     ░  ║  ║  ║ \n",
       "«ancilla_12 -> 16 ────────────────────░──╫──╫──╫─\n",
       "«                                     ░  ║  ║  ║ \n",
       "«ancilla_13 -> 17 ────────────────────░──╫──╫──╫─\n",
       "«                                     ░  ║  ║  ║ \n",
       "«ancilla_14 -> 18 ────────────────────░──╫──╫──╫─\n",
       "«                                     ░  ║  ║  ║ \n",
       "«ancilla_15 -> 19 ────────────────────░──╫──╫──╫─\n",
       "«                                     ░  ║  ║  ║ \n",
       "«            c: 3/═══════════════════════╩══╩══╩═\n",
       "«                                        0  1  2 </pre>"
      ],
      "text/plain": [
       "                 ┌─────────┐          ░      ┌───┐               ┌───┐     »\n",
       "        q_0 -> 0 ┤ U2(0,π) ├──────────░───■──┤ X ├──■─────────■──┤ X ├──■──»\n",
       "                 ├─────────┤          ░ ┌─┴─┐└─┬─┘┌─┴─┐     ┌─┴─┐└─┬─┘┌─┴─┐»\n",
       "        q_1 -> 1 ┤ U2(0,π) ├──────────░─┤ X ├──■──┤ X ├──■──┤ X ├──■──┤ X ├»\n",
       "                 ├─────────┤          ░ └───┘┌───┐└───┘┌─┴─┐└───┘     └───┘»\n",
       "        q_2 -> 2 ┤ U2(0,π) ├──────────░───■──┤ X ├──■──┤ X ├───────────────»\n",
       "                 ├─────────┤┌───────┐ ░ ┌─┴─┐└─┬─┘┌─┴─┐├───┤               »\n",
       "        q_3 -> 3 ┤ U2(0,π) ├┤ U1(π) ├─░─┤ X ├──■──┤ X ├┤ I ├───────────────»\n",
       "                 └─────────┘└───────┘ ░ └───┘     └───┘└───┘               »\n",
       "  ancilla_0 -> 4 ──────────────────────────────────────────────────────────»\n",
       "                                                                           »\n",
       "  ancilla_1 -> 5 ──────────────────────────────────────────────────────────»\n",
       "                                                                           »\n",
       "  ancilla_2 -> 6 ──────────────────────────────────────────────────────────»\n",
       "                                                                           »\n",
       "  ancilla_3 -> 7 ──────────────────────────────────────────────────────────»\n",
       "                                                                           »\n",
       "  ancilla_4 -> 8 ──────────────────────────────────────────────────────────»\n",
       "                                                                           »\n",
       "  ancilla_5 -> 9 ──────────────────────────────────────────────────────────»\n",
       "                                                                           »\n",
       " ancilla_6 -> 10 ──────────────────────────────────────────────────────────»\n",
       "                                                                           »\n",
       " ancilla_7 -> 11 ──────────────────────────────────────────────────────────»\n",
       "                                                                           »\n",
       " ancilla_8 -> 12 ──────────────────────────────────────────────────────────»\n",
       "                                                                           »\n",
       " ancilla_9 -> 13 ──────────────────────────────────────────────────────────»\n",
       "                                                                           »\n",
       "ancilla_10 -> 14 ──────────────────────────────────────────────────────────»\n",
       "                                                                           »\n",
       "ancilla_11 -> 15 ──────────────────────────────────────────────────────────»\n",
       "                                                                           »\n",
       "ancilla_12 -> 16 ──────────────────────────────────────────────────────────»\n",
       "                                                                           »\n",
       "ancilla_13 -> 17 ──────────────────────────────────────────────────────────»\n",
       "                                                                           »\n",
       "ancilla_14 -> 18 ──────────────────────────────────────────────────────────»\n",
       "                                                                           »\n",
       "ancilla_15 -> 19 ──────────────────────────────────────────────────────────»\n",
       "                                                                           »\n",
       "            c: 3/══════════════════════════════════════════════════════════»\n",
       "                                                                           »\n",
       "«                       ░ ┌─────────┐ ░ ┌─┐      \n",
       "«        q_0 -> 0 ──────░─┤ U2(0,π) ├─░─┤M├──────\n",
       "«                       ░ ├─────────┤ ░ └╥┘┌─┐   \n",
       "«        q_1 -> 1 ──■───░─┤ U2(0,π) ├─░──╫─┤M├───\n",
       "«                 ┌─┴─┐ ░ └─────────┘ ░  ║ └╥┘   \n",
       "«        q_2 -> 2 ┤ X ├─░─────────────░──╫──╫────\n",
       "«                 └───┘ ░ ┌─────────┐ ░  ║  ║ ┌─┐\n",
       "«        q_3 -> 3 ──────░─┤ U2(0,π) ├─░──╫──╫─┤M├\n",
       "«                       ░ └─────────┘ ░  ║  ║ └╥┘\n",
       "«  ancilla_0 -> 4 ────────────────────░──╫──╫──╫─\n",
       "«                                     ░  ║  ║  ║ \n",
       "«  ancilla_1 -> 5 ────────────────────░──╫──╫──╫─\n",
       "«                                     ░  ║  ║  ║ \n",
       "«  ancilla_2 -> 6 ────────────────────░──╫──╫──╫─\n",
       "«                                     ░  ║  ║  ║ \n",
       "«  ancilla_3 -> 7 ────────────────────░──╫──╫──╫─\n",
       "«                                     ░  ║  ║  ║ \n",
       "«  ancilla_4 -> 8 ────────────────────░──╫──╫──╫─\n",
       "«                                     ░  ║  ║  ║ \n",
       "«  ancilla_5 -> 9 ────────────────────░──╫──╫──╫─\n",
       "«                                     ░  ║  ║  ║ \n",
       "« ancilla_6 -> 10 ────────────────────░──╫──╫──╫─\n",
       "«                                     ░  ║  ║  ║ \n",
       "« ancilla_7 -> 11 ────────────────────░──╫──╫──╫─\n",
       "«                                     ░  ║  ║  ║ \n",
       "« ancilla_8 -> 12 ────────────────────░──╫──╫──╫─\n",
       "«                                     ░  ║  ║  ║ \n",
       "« ancilla_9 -> 13 ────────────────────░──╫──╫──╫─\n",
       "«                                     ░  ║  ║  ║ \n",
       "«ancilla_10 -> 14 ────────────────────░──╫──╫──╫─\n",
       "«                                     ░  ║  ║  ║ \n",
       "«ancilla_11 -> 15 ────────────────────░──╫──╫──╫─\n",
       "«                                     ░  ║  ║  ║ \n",
       "«ancilla_12 -> 16 ────────────────────░──╫──╫──╫─\n",
       "«                                     ░  ║  ║  ║ \n",
       "«ancilla_13 -> 17 ────────────────────░──╫──╫──╫─\n",
       "«                                     ░  ║  ║  ║ \n",
       "«ancilla_14 -> 18 ────────────────────░──╫──╫──╫─\n",
       "«                                     ░  ║  ║  ║ \n",
       "«ancilla_15 -> 19 ────────────────────░──╫──╫──╫─\n",
       "«                                     ░  ║  ║  ║ \n",
       "«            c: 3/═══════════════════════╩══╩══╩═\n",
       "«                                        0  1  2 "
      ]
     },
     "execution_count": 19,
     "metadata": {},
     "output_type": "execute_result"
    }
   ],
   "source": [
    "# Define a simulated noisy backend\n",
    "simulated_backend = FakeBoeblingen()\n",
    "\n",
    "transpiled_qc0 = transpile(qc, simulated_backend, optimization_level=0)  # No Optimization\n",
    "print('Optimization Level 0')\n",
    "print('Depth:', transpiled_qc0.depth())\n",
    "print('Gate counts:', transpiled_qc0.count_ops())\n",
    "transpiled_qc0.draw()"
   ]
  },
  {
   "cell_type": "markdown",
   "id": "ae1f3da1",
   "metadata": {},
   "source": [
    "### Optimization_level=1\n"
   ]
  },
  {
   "cell_type": "code",
   "execution_count": 18,
   "id": "34e48536",
   "metadata": {},
   "outputs": [
    {
     "name": "stdout",
     "output_type": "stream",
     "text": [
      "Optimization Level 1\n",
      "Depth: 5\n",
      "Gate counts: OrderedDict([('u2', 7), ('measure', 3), ('barrier', 2), ('cx', 2)])\n"
     ]
    },
    {
     "data": {
      "text/html": [
       "<pre style=\"word-wrap: normal;white-space: pre;background: #fff0;line-height: 1.1;font-family: &quot;Courier New&quot;,Courier,monospace\">                                                                  \n",
       "  ancilla_0 -> 0 ─────────────────────────────────────────────────\n",
       "                                                                  \n",
       "  ancilla_1 -> 1 ─────────────────────────────────────────────────\n",
       "                                                                  \n",
       "  ancilla_2 -> 2 ─────────────────────────────────────────────────\n",
       "                                                                  \n",
       "  ancilla_3 -> 3 ─────────────────────────────────────────────────\n",
       "                                                                  \n",
       "  ancilla_4 -> 4 ─────────────────────────────────────────────────\n",
       "                                                                  \n",
       "  ancilla_5 -> 5 ─────────────────────────────────────────────────\n",
       "                                                                  \n",
       "  ancilla_6 -> 6 ─────────────────────────────────────────────────\n",
       "                  ┌─────────┐  ░            ░ ┌─────────┐   ┌─┐   \n",
       "        q_1 -> 7 ─┤ U2(0,π) ├──░────────■───░─┤ U2(0,π) ├───┤M├───\n",
       "                  └─────────┘  ░        │   ░ └─────────┘   └╥┘   \n",
       "  ancilla_7 -> 8 ───────────────────────┼────────────────────╫────\n",
       "                                        │                    ║    \n",
       "  ancilla_8 -> 9 ───────────────────────┼────────────────────╫────\n",
       "                                        │                    ║    \n",
       " ancilla_9 -> 10 ───────────────────────┼────────────────────╫────\n",
       "                  ┌─────────┐  ░        │   ░ ┌─────────┐┌─┐ ║    \n",
       "       q_0 -> 11 ─┤ U2(0,π) ├──░───■────┼───░─┤ U2(0,π) ├┤M├─╫────\n",
       "                 ┌┴─────────┴┐ ░ ┌─┴─┐┌─┴─┐ ░ └─────────┘└╥┘ ║    \n",
       "       q_3 -> 12 ┤ U2(-π,-π) ├─░─┤ X ├┤ X ├─░─────────────╫──╫────\n",
       "                 └───────────┘ ░ └───┘└───┘ ░             ║  ║    \n",
       "ancilla_10 -> 13 ─────────────────────────────────────────╫──╫────\n",
       "                                                          ║  ║    \n",
       "ancilla_11 -> 14 ─────────────────────────────────────────╫──╫────\n",
       "                  ┌─────────┐  ░            ░ ┌─────────┐ ║  ║ ┌─┐\n",
       "       q_2 -> 15 ─┤ U2(0,π) ├──░────────────░─┤ U2(0,π) ├─╫──╫─┤M├\n",
       "                  └─────────┘  ░            ░ └─────────┘ ║  ║ └╥┘\n",
       "ancilla_12 -> 16 ─────────────────────────────────────────╫──╫──╫─\n",
       "                                                          ║  ║  ║ \n",
       "ancilla_13 -> 17 ─────────────────────────────────────────╫──╫──╫─\n",
       "                                                          ║  ║  ║ \n",
       "ancilla_14 -> 18 ─────────────────────────────────────────╫──╫──╫─\n",
       "                                                          ║  ║  ║ \n",
       "ancilla_15 -> 19 ─────────────────────────────────────────╫──╫──╫─\n",
       "                                                          ║  ║  ║ \n",
       "            c: 3/═════════════════════════════════════════╩══╩══╩═\n",
       "                                                          0  1  2 </pre>"
      ],
      "text/plain": [
       "                                                                  \n",
       "  ancilla_0 -> 0 ─────────────────────────────────────────────────\n",
       "                                                                  \n",
       "  ancilla_1 -> 1 ─────────────────────────────────────────────────\n",
       "                                                                  \n",
       "  ancilla_2 -> 2 ─────────────────────────────────────────────────\n",
       "                                                                  \n",
       "  ancilla_3 -> 3 ─────────────────────────────────────────────────\n",
       "                                                                  \n",
       "  ancilla_4 -> 4 ─────────────────────────────────────────────────\n",
       "                                                                  \n",
       "  ancilla_5 -> 5 ─────────────────────────────────────────────────\n",
       "                                                                  \n",
       "  ancilla_6 -> 6 ─────────────────────────────────────────────────\n",
       "                  ┌─────────┐  ░            ░ ┌─────────┐   ┌─┐   \n",
       "        q_1 -> 7 ─┤ U2(0,π) ├──░────────■───░─┤ U2(0,π) ├───┤M├───\n",
       "                  └─────────┘  ░        │   ░ └─────────┘   └╥┘   \n",
       "  ancilla_7 -> 8 ───────────────────────┼────────────────────╫────\n",
       "                                        │                    ║    \n",
       "  ancilla_8 -> 9 ───────────────────────┼────────────────────╫────\n",
       "                                        │                    ║    \n",
       " ancilla_9 -> 10 ───────────────────────┼────────────────────╫────\n",
       "                  ┌─────────┐  ░        │   ░ ┌─────────┐┌─┐ ║    \n",
       "       q_0 -> 11 ─┤ U2(0,π) ├──░───■────┼───░─┤ U2(0,π) ├┤M├─╫────\n",
       "                 ┌┴─────────┴┐ ░ ┌─┴─┐┌─┴─┐ ░ └─────────┘└╥┘ ║    \n",
       "       q_3 -> 12 ┤ U2(-π,-π) ├─░─┤ X ├┤ X ├─░─────────────╫──╫────\n",
       "                 └───────────┘ ░ └───┘└───┘ ░             ║  ║    \n",
       "ancilla_10 -> 13 ─────────────────────────────────────────╫──╫────\n",
       "                                                          ║  ║    \n",
       "ancilla_11 -> 14 ─────────────────────────────────────────╫──╫────\n",
       "                  ┌─────────┐  ░            ░ ┌─────────┐ ║  ║ ┌─┐\n",
       "       q_2 -> 15 ─┤ U2(0,π) ├──░────────────░─┤ U2(0,π) ├─╫──╫─┤M├\n",
       "                  └─────────┘  ░            ░ └─────────┘ ║  ║ └╥┘\n",
       "ancilla_12 -> 16 ─────────────────────────────────────────╫──╫──╫─\n",
       "                                                          ║  ║  ║ \n",
       "ancilla_13 -> 17 ─────────────────────────────────────────╫──╫──╫─\n",
       "                                                          ║  ║  ║ \n",
       "ancilla_14 -> 18 ─────────────────────────────────────────╫──╫──╫─\n",
       "                                                          ║  ║  ║ \n",
       "ancilla_15 -> 19 ─────────────────────────────────────────╫──╫──╫─\n",
       "                                                          ║  ║  ║ \n",
       "            c: 3/═════════════════════════════════════════╩══╩══╩═\n",
       "                                                          0  1  2 "
      ]
     },
     "execution_count": 18,
     "metadata": {},
     "output_type": "execute_result"
    }
   ],
   "source": [
    "# Define a simulated noisy backend\n",
    "simulated_backend = FakeBoeblingen()\n",
    "\n",
    "transpiled_qc1 = transpile(qc, simulated_backend, optimization_level=1)  # Some Optimization\n",
    "print('Optimization Level 1')\n",
    "print('Depth:', transpiled_qc1.depth())\n",
    "print('Gate counts:', transpiled_qc1.count_ops())\n",
    "transpiled_qc1.draw()"
   ]
  },
  {
   "cell_type": "markdown",
   "id": "6f57d091",
   "metadata": {},
   "source": [
    "### Optimization_level=2\n"
   ]
  },
  {
   "cell_type": "code",
   "execution_count": 21,
   "id": "667aec21",
   "metadata": {},
   "outputs": [],
   "source": [
    "# Define a simulated noisy backend\n",
    "simulated_backend = FakeBoeblingen()\n",
    "\n",
    "transpiled_qc2 = transpile(qc, simulated_backend, optimization_level=2)  # More Optimization\n",
    "print('Optimization Level 2')\n",
    "print('Depth:', transpiled_qc2.depth())\n",
    "print('Gate counts:', transpiled_qc2.count_ops())\n",
    "transpiled_qc2.draw()"
   ]
  },
  {
   "cell_type": "markdown",
   "id": "47d54ec5",
   "metadata": {},
   "source": [
    "### Optimization_level=3\n"
   ]
  },
  {
   "cell_type": "code",
   "execution_count": null,
   "id": "bd15f2dd",
   "metadata": {},
   "outputs": [
    {
     "name": "stdout",
     "output_type": "stream",
     "text": [
      "Optimization Level 3\n",
      "Depth: 7\n",
      "Gate counts: OrderedDict([('cx', 5), ('measure', 5), ('u2', 1), ('barrier', 1)])\n"
     ]
    },
    {
     "data": {
      "text/html": [
       "<pre style=\"word-wrap: normal;white-space: pre;background: #fff0;line-height: 1.1;font-family: &quot;Courier New&quot;,Courier,monospace\">                                                      ░                \n",
       "  ancilla_0 -> 0 ─────────────────────────────────────░────────────────\n",
       "                                                      ░                \n",
       "  ancilla_1 -> 1 ─────────────────────────────────────░────────────────\n",
       "                                                      ░                \n",
       "  ancilla_2 -> 2 ─────────────────────────────────────░────────────────\n",
       "                                                      ░                \n",
       "  ancilla_3 -> 3 ─────────────────────────────────────░────────────────\n",
       "                                                      ░                \n",
       "  ancilla_4 -> 4 ─────────────────────────────────────░────────────────\n",
       "                                                      ░                \n",
       "  ancilla_5 -> 5 ─────────────────────────────────────░────────────────\n",
       "                                                      ░                \n",
       "  ancilla_6 -> 6 ─────────────────────────────────────░────────────────\n",
       "                                                      ░                \n",
       "  ancilla_7 -> 7 ─────────────────────────────────────░────────────────\n",
       "                                                      ░                \n",
       "  ancilla_8 -> 8 ─────────────────────────────────────░────────────────\n",
       "                                                      ░                \n",
       "  ancilla_9 -> 9 ─────────────────────────────────────░────────────────\n",
       "                                                      ░                \n",
       "ancilla_10 -> 10 ─────────────────────────────────────░────────────────\n",
       "                                                      ░                \n",
       "ancilla_11 -> 11 ─────────────────────────────────────░────────────────\n",
       "                            ┌───┐                     ░       ┌─┐      \n",
       "       q_2 -> 12 ───────────┤ X ├─────────────────────░───────┤M├──────\n",
       "                 ┌─────────┐└─┬─┘     ┌───┐           ░    ┌─┐└╥┘      \n",
       "       q_0 -> 13 ┤ U2(0,π) ├──■────■──┤ X ├──■────────░────┤M├─╫───────\n",
       "                 └─────────┘     ┌─┴─┐└─┬─┘  │        ░    └╥┘ ║ ┌─┐   \n",
       "       q_3 -> 14 ────────────────┤ X ├──┼────┼────────░─────╫──╫─┤M├───\n",
       "                                 └───┘  │    │        ░     ║  ║ └╥┘   \n",
       "ancilla_12 -> 15 ───────────────────────┼────┼────────░─────╫──╫──╫────\n",
       "                                        │    │        ░     ║  ║  ║    \n",
       "ancilla_13 -> 16 ───────────────────────┼────┼────────░─────╫──╫──╫────\n",
       "                                        │    │        ░     ║  ║  ║    \n",
       "ancilla_14 -> 17 ───────────────────────┼────┼────────░─────╫──╫──╫────\n",
       "                                        │  ┌─┴─┐      ░ ┌─┐ ║  ║  ║    \n",
       "       q_1 -> 18 ───────────────────────■──┤ X ├──■───░─┤M├─╫──╫──╫────\n",
       "                                           └───┘┌─┴─┐ ░ └╥┘ ║  ║  ║ ┌─┐\n",
       "       q_4 -> 19 ───────────────────────────────┤ X ├─░──╫──╫──╫──╫─┤M├\n",
       "                                                └───┘ ░  ║  ║  ║  ║ └╥┘\n",
       "         meas: 5/════════════════════════════════════════╩══╩══╩══╩══╩═\n",
       "                                                         0  1  2  3  4 </pre>"
      ],
      "text/plain": [
       "                                                      ░                \n",
       "  ancilla_0 -> 0 ─────────────────────────────────────░────────────────\n",
       "                                                      ░                \n",
       "  ancilla_1 -> 1 ─────────────────────────────────────░────────────────\n",
       "                                                      ░                \n",
       "  ancilla_2 -> 2 ─────────────────────────────────────░────────────────\n",
       "                                                      ░                \n",
       "  ancilla_3 -> 3 ─────────────────────────────────────░────────────────\n",
       "                                                      ░                \n",
       "  ancilla_4 -> 4 ─────────────────────────────────────░────────────────\n",
       "                                                      ░                \n",
       "  ancilla_5 -> 5 ─────────────────────────────────────░────────────────\n",
       "                                                      ░                \n",
       "  ancilla_6 -> 6 ─────────────────────────────────────░────────────────\n",
       "                                                      ░                \n",
       "  ancilla_7 -> 7 ─────────────────────────────────────░────────────────\n",
       "                                                      ░                \n",
       "  ancilla_8 -> 8 ─────────────────────────────────────░────────────────\n",
       "                                                      ░                \n",
       "  ancilla_9 -> 9 ─────────────────────────────────────░────────────────\n",
       "                                                      ░                \n",
       "ancilla_10 -> 10 ─────────────────────────────────────░────────────────\n",
       "                                                      ░                \n",
       "ancilla_11 -> 11 ─────────────────────────────────────░────────────────\n",
       "                            ┌───┐                     ░       ┌─┐      \n",
       "       q_2 -> 12 ───────────┤ X ├─────────────────────░───────┤M├──────\n",
       "                 ┌─────────┐└─┬─┘     ┌───┐           ░    ┌─┐└╥┘      \n",
       "       q_0 -> 13 ┤ U2(0,π) ├──■────■──┤ X ├──■────────░────┤M├─╫───────\n",
       "                 └─────────┘     ┌─┴─┐└─┬─┘  │        ░    └╥┘ ║ ┌─┐   \n",
       "       q_3 -> 14 ────────────────┤ X ├──┼────┼────────░─────╫──╫─┤M├───\n",
       "                                 └───┘  │    │        ░     ║  ║ └╥┘   \n",
       "ancilla_12 -> 15 ───────────────────────┼────┼────────░─────╫──╫──╫────\n",
       "                                        │    │        ░     ║  ║  ║    \n",
       "ancilla_13 -> 16 ───────────────────────┼────┼────────░─────╫──╫──╫────\n",
       "                                        │    │        ░     ║  ║  ║    \n",
       "ancilla_14 -> 17 ───────────────────────┼────┼────────░─────╫──╫──╫────\n",
       "                                        │  ┌─┴─┐      ░ ┌─┐ ║  ║  ║    \n",
       "       q_1 -> 18 ───────────────────────■──┤ X ├──■───░─┤M├─╫──╫──╫────\n",
       "                                           └───┘┌─┴─┐ ░ └╥┘ ║  ║  ║ ┌─┐\n",
       "       q_4 -> 19 ───────────────────────────────┤ X ├─░──╫──╫──╫──╫─┤M├\n",
       "                                                └───┘ ░  ║  ║  ║  ║ └╥┘\n",
       "         meas: 5/════════════════════════════════════════╩══╩══╩══╩══╩═\n",
       "                                                         0  1  2  3  4 "
      ]
     },
     "execution_count": 156,
     "metadata": {},
     "output_type": "execute_result"
    }
   ],
   "source": [
    "# Define a simulated noisy backend\n",
    "simulated_backend = FakeBoeblingen()\n",
    "\n",
    "transpiled_qc3 = transpile(qc, simulated_backend, optimization_level=3)  # MAXIMUM Optimization!!!\n",
    "print('Optimization Level 3')\n",
    "print('Depth:', transpiled_qc3.depth())\n",
    "print('Gate counts:', transpiled_qc3.count_ops())\n",
    "transpiled_qc3.draw()"
   ]
  },
  {
   "cell_type": "code",
   "execution_count": null,
   "id": "97f7ff48",
   "metadata": {},
   "outputs": [],
   "source": []
  },
  {
   "cell_type": "code",
   "execution_count": null,
   "id": "53419026",
   "metadata": {},
   "outputs": [],
   "source": []
  },
  {
   "cell_type": "code",
   "execution_count": null,
   "id": "ece9c2a3",
   "metadata": {},
   "outputs": [],
   "source": []
  },
  {
   "cell_type": "code",
   "execution_count": null,
   "id": "6d367942",
   "metadata": {},
   "outputs": [],
   "source": []
  },
  {
   "cell_type": "code",
   "execution_count": null,
   "id": "f506e16c",
   "metadata": {},
   "outputs": [],
   "source": []
  },
  {
   "cell_type": "code",
   "execution_count": null,
   "id": "049bec29",
   "metadata": {},
   "outputs": [],
   "source": []
  },
  {
   "cell_type": "code",
   "execution_count": null,
   "id": "bcf5539e",
   "metadata": {},
   "outputs": [],
   "source": []
  },
  {
   "cell_type": "markdown",
   "id": "4bb66693",
   "metadata": {},
   "source": [
    "# Extra Miscellaneous"
   ]
  },
  {
   "cell_type": "markdown",
   "id": "9abc17c0",
   "metadata": {},
   "source": [
    "Qiskit allows the user to create a Quantum Circuit with any quantum gate(unitary operation) they want. However,  \n",
    "\n",
    "\n",
    "Before we begin with Gate Optimization of a Quantum Circuit in Qiskit, we must establish a few things first:\n",
    "1. \n",
    "2. "
   ]
  },
  {
   "cell_type": "markdown",
   "id": "63c6a9d5",
   "metadata": {},
   "source": [
    "\n",
    "This is very important because an optimized circuit for, say, a 5 qubit quantum processor, will not be optimized for another quantum processor. Differences between quantum processors are:\n",
    "1. Device Connectivity\n",
    "2. etc.\n",
    "\n"
   ]
  },
  {
   "cell_type": "markdown",
   "id": "4c6f3c60",
   "metadata": {},
   "source": [
    "import numpy as np\n",
    "from qiskit import Aer, transpile\n",
    "from qiskit.tools.visualization import plot_histogram, plot_state_city\n",
    "import qiskit.quantum_info as qi\n",
    "\n",
    "# Transpile for simulator\n",
    "simulator = Aer.get_backend('aer_simulator')\n",
    "circ = transpile(qc, simulator)\n",
    "\n",
    "'''\n",
    "for i in circ:\n",
    "    print(i)\n",
    "dag = circuit_to_dag(circ)\n",
    "dag_drawer(circ)\n",
    "'''\n",
    "\n",
    "\n",
    "\n",
    "# Run and get counts\n",
    "print(\"    Transpile: \", circ)\n",
    "print(\"Simulator Run: \", simulator.run(circ))\n",
    "\n",
    "'''\n",
    "result = simulator.run(circ).result()\n",
    "counts = result.get_counts(circ)\n",
    "plot_histogram(counts, title='Bell-State counts')\n",
    "'''"
   ]
  }
 ],
 "metadata": {
  "kernelspec": {
   "display_name": "Python 3.8.3 64-bit",
   "language": "python",
   "name": "python3"
  },
  "language_info": {
   "codemirror_mode": {
    "name": "ipython",
    "version": 3
   },
   "file_extension": ".py",
   "mimetype": "text/x-python",
   "name": "python",
   "nbconvert_exporter": "python",
   "pygments_lexer": "ipython3",
   "version": "3.8.3"
  },
  "vscode": {
   "interpreter": {
    "hash": "995d16ebf5e1c92414f66722f6b0c9a85a83273b46dad51bd9b391cad0ce3002"
   }
  }
 },
 "nbformat": 4,
 "nbformat_minor": 5
}
