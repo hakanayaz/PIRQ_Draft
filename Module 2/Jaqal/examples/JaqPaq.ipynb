{
 "cells": [
  {
   "cell_type": "markdown",
   "metadata": {},
   "source": [
    "# Jaqal to IR\n",
    "\n",
    "In this tutorial we will examine Jaqal. [Jaqal](https://www.sandia.gov/quantum/quantum-information-sciences/projects/qscout-jaqal/) (Just Another Quantum Assembly Language) is the QASM built by Sandia Labs for the [QSCOUT](https://www.sandia.gov/quantum/quantum-information-sciences/projects/qscout/) trapped-ion backend.\n",
    "\n",
    "## JaqalPaq\n",
    "\n",
    "We will primarily be using [JaqalPaq](https://gitlab.com/jaqal/jaqalpaq), the python package for Jaqal meta-programming. For details about JaqalPaq installation, see their [guide](https://gitlab.com/jaqal/jaqalpaq).\n",
    "\n",
    "## Basic Usage Example\n",
    "\n",
    "We've provided the `Sxx_circuit.jaqal` file in this repository: to confirm that your installation is valid, run the following code cell. You should see an idealized result array from the noiseless emulator: 50% |00>, 50% |11>"
   ]
  },
  {
   "cell_type": "code",
   "execution_count": null,
   "metadata": {},
   "outputs": [
    {
     "ename": "",
     "evalue": "",
     "output_type": "error",
     "traceback": [
      "\u001b[1;31mRunning cells with 'Python 3.8.3 ('jaqal': venv)' requires ipykernel package.\n",
      "Run the following command to install 'ipykernel' into the Python environment. \n",
      "Command: '\"c:/users/piegu/documents/pirq/pirq_draft/module 2/jaqal/scripts/python.exe\" -m pip install ipykernel -U --force-reinstall'"
     ]
    }
   ],
   "source": [
    "import jaqalpaq\n",
    "from jaqalpaq.parser import parse_jaqal_file\n",
    "from jaqalpaq.emulator import run_jaqal_circuit\n",
    "from jaqalpaq.generator import generate_jaqal_program\n",
    "\n",
    "JaqalCircuitObject = parse_jaqal_file(\"Sxx_circuit.jaqal\")\n",
    "JaqalCircuitResults = run_jaqal_circuit(JaqalCircuitObject)\n",
    "print(f\"Probabilities: {JaqalCircuitResults.subcircuits[0].probability_by_str}\")\n",
    "JaqalProgram = generate_jaqal_program(JaqalCircuitObject)"
   ]
  },
  {
   "cell_type": "markdown",
   "metadata": {},
   "source": [
    "## Translating, Transpiling, and Lowering from Jaqal\n",
    "\n",
    "In order to bring Jaqal to LLVM IR, we will leverage the built in capability of JaqalPaq to export a Jaqal program to a Qiskit circuit. Then, we can transpile, export as OpenQASM, and lower to IR using qcor as we've done previously. We will recreate the Bernstein-Vazirani circuit we've been using this far in `bernstein_vazirani.jaqal`."
   ]
  },
  {
   "cell_type": "code",
   "execution_count": 20,
   "metadata": {},
   "outputs": [
    {
     "name": "stdout",
     "output_type": "stream",
     "text": [
      "['__call__', '__class__', '__delattr__', '__dict__', '__dir__', '__doc__', '__eq__', '__format__', '__ge__', '__getattribute__', '__gt__', '__hash__', '__init__', '__init_subclass__', '__le__', '__lt__', '__module__', '__ne__', '__new__', '__reduce__', '__reduce_ex__', '__repr__', '__setattr__', '__sizeof__', '__str__', '__subclasshook__', '__weakref__', '_basis_gates', '_equiv_lib', '_hash', 'is_analysis_pass', 'is_transformation_pass', 'name', 'preserves', 'property_set', 'requires', 'run']\n",
      "<qiskit.circuit.equivalence.EquivalenceLibrary object at 0x0000028EEEBC5250>\n"
     ]
    }
   ],
   "source": [
    "from qiskit import QuantumCircuit\n",
    "from jaqalpaq.transpilers.qiskit import ion_pass_manager, jaqal_circuit_from_qiskit_circuit\n",
    "\n",
    "\n",
    "### Lets defined a new circuit of your choice with no measurements\n",
    "\n",
    "s = '011'   # the hidden binary string\n",
    "n = 3 # number of bits used to represent s\n",
    "\n",
    "\n",
    "# We need a circuit with n qubits, plus one auxiliary qubit\n",
    "# We also need n classical bits to write the output to\n",
    "qc = QuantumCircuit(n+1, n)\n",
    "\n",
    "# Put auxiliary in the minus state |->\n",
    "# We leave the other n qubits in just |0>\n",
    "qc.h(n)\n",
    "qc.z(n)\n",
    "\n",
    "# Apply Hadamard gates to each of the n \"main\" qubits (excluding the auxiliary)\n",
    "# before querying the oracle\n",
    "for i in range(n):\n",
    "    qc.h(i)\n",
    "    \n",
    "# Apply barrier\n",
    "qc.barrier()\n",
    "\n",
    "# Apply the inner-product oracle\n",
    "s = s[::-1] # reverse s to fit qiskit's qubit ordering\n",
    "for q in range(n):\n",
    "    if s[q] == '0':\n",
    "        qc.i(q)\n",
    "    else:\n",
    "        qc.cx(q, n)\n",
    "        \n",
    "# Apply barrier\n",
    "qc.barrier()\n",
    "\n",
    "# Apply Hadamard gates after querying the oracle\n",
    "for i in range(n):\n",
    "    qc.h(i)\n",
    "\n",
    "\n",
    "# Measurement\n",
    "for i in range(n):\n",
    "    qc.measure(i, i)\n",
    "\n",
    "\n",
    "# This is supposed to unroll a qiskit circuit to Jaqal gates, however it struggles\n",
    "# with Qiskit 'I' gate\n",
    "pm = ion_pass_manager()\n",
    "\n",
    "# In order to deal with I, we need to add a relation to the Equivalence Library\n",
    "# of a pass called 'Unroll Custom Definitions'. To get at that pass:\n",
    "passes_array_dict_array = pm.passes()\n",
    "passes_array_dict = passes_array_dict_array[0]\n",
    "passes_array = passes_array_dict['passes']\n",
    "unroll_custom_defs = passes_array[0]\n",
    "\n",
    "\n",
    "# Now, we get the equivalence library and add the relation\n",
    "# I_Px (Jaqal Identity gate with same duration as Px) = I\n",
    "equiv_lib = unroll_custom_defs._equiv_lib\n",
    "equiv_lib.add_equivalence()\n",
    "\n",
    "\n",
    "\n",
    "\n",
    "#pm._equiv_lib.append()\n",
    "#jaq_compat = pm.run(qc)\n",
    "\n",
    "#jaqc = jaqal_circuit_from_qiskit_circuit(jaq_compat) #qc, qiskit_to_jaq_map)\n",
    "#print(generate_jaqal_program(jaqc))\n",
    "\n"
   ]
  }
 ],
 "metadata": {
  "kernelspec": {
   "display_name": "jaqpaq",
   "language": "python",
   "name": "jaqpaq"
  },
  "language_info": {
   "codemirror_mode": {
    "name": "ipython",
    "version": 3
   },
   "file_extension": ".py",
   "mimetype": "text/x-python",
   "name": "python",
   "nbconvert_exporter": "python",
   "pygments_lexer": "ipython3",
   "version": "3.8.3"
  },
  "orig_nbformat": 4,
  "vscode": {
   "interpreter": {
    "hash": "995d16ebf5e1c92414f66722f6b0c9a85a83273b46dad51bd9b391cad0ce3002"
   }
  }
 },
 "nbformat": 4,
 "nbformat_minor": 2
}
