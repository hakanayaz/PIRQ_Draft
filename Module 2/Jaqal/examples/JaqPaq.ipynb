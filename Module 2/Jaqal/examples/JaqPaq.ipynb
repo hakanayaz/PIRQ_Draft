{
 "cells": [
  {
   "cell_type": "markdown",
   "metadata": {},
   "source": [
    "# Jaqal to IR\n",
    "\n",
    "In this tutorial we will examine Jaqal. [Jaqal](https://www.sandia.gov/quantum/quantum-information-sciences/projects/qscout-jaqal/) (Just Another Quantum Assembly Language) is the QASM built by Sandia Labs for the [QSCOUT](https://www.sandia.gov/quantum/quantum-information-sciences/projects/qscout/) trapped-ion backend.\n",
    "\n",
    "## JaqalPaq\n",
    "\n",
    "We will primarily be using [JaqalPaq](https://gitlab.com/jaqal/jaqalpaq), the python package for Jaqal meta-programming. For details about JaqalPaq installation, see their [guide](https://gitlab.com/jaqal/jaqalpaq).\n",
    "\n",
    "## Basic Usage Example\n",
    "\n",
    "We've provided the `Sxx_circuit.jaqal` file in this repository: to confirm that your installation is valid, run the following code cell. You should see an idealized result array from the noiseless emulator: 50% |00>, 50% |11>"
   ]
  },
  {
   "cell_type": "code",
   "execution_count": 1,
   "metadata": {},
   "outputs": [
    {
     "name": "stderr",
     "output_type": "stream",
     "text": [
      "c:\\Users\\piegu\\AppData\\Local\\Programs\\Python\\Python38\\lib\\site-packages\\pygsti\\objects\\replib\\__init__.py:29: UserWarning: \n",
      "An optimized Cython-based implementation of `pygsti.objects.replib` is available as\n",
      "an extension, but couldn't be imported. This might happen if the\n",
      "extension has not been built. `pip install cython`, then reinstall\n",
      "pyGSTi to build Cython extensions. Alternatively, setting the\n",
      "environment variable `PYGSTI_NO_CYTHON_WARNING` will suppress this\n",
      "message.\n",
      "\n",
      "  _warnings.warn(warn_msg)\n",
      "c:\\Users\\piegu\\AppData\\Local\\Programs\\Python\\Python38\\lib\\site-packages\\pygsti\\objects\\opcalc\\__init__.py:31: UserWarning: \n",
      "An optimized Cython-based implementation of `pygsti.objects.opcalc` is available as\n",
      "an extension, but couldn't be imported. This might happen if the\n",
      "extension has not been built. `pip install cython`, then reinstall\n",
      "pyGSTi to build Cython extensions. Alternatively, setting the\n",
      "environment variable `PYGSTI_NO_CYTHON_WARNING` will suppress this\n",
      "message.\n",
      "\n",
      "  _warnings.warn(warn_msg)\n",
      "c:\\Users\\piegu\\AppData\\Local\\Programs\\Python\\Python38\\lib\\site-packages\\pygsti\\io\\circuitparser\\__init__.py:60: UserWarning: \n",
      "An optimized Cython-based implementation of `pygsti.io.circuitparser` is available as\n",
      "an extension, but couldn't be imported. This might happen if the\n",
      "extension has not been built. `pip install cython`, then reinstall\n",
      "pyGSTi to build Cython extensions. Alternatively, setting the\n",
      "environment variable `PYGSTI_NO_CYTHON_WARNING` will suppress this\n",
      "message.\n",
      "\n",
      "  _warnings.warn(warn_msg)\n"
     ]
    },
    {
     "name": "stdout",
     "output_type": "stream",
     "text": [
      "Probabilities: OrderedDict([('00', 0.5000000000000001), ('10', 0.0), ('01', 0.0), ('11', 0.5000000000000001)])\n"
     ]
    }
   ],
   "source": [
    "import jaqalpaq\n",
    "from jaqalpaq.parser import parse_jaqal_file\n",
    "from jaqalpaq.emulator import run_jaqal_circuit\n",
    "from jaqalpaq.generator import generate_jaqal_program\n",
    "\n",
    "JaqalCircuitObject = parse_jaqal_file(\"Sxx_circuit.jaqal\")\n",
    "JaqalCircuitResults = run_jaqal_circuit(JaqalCircuitObject)\n",
    "print(f\"Probabilities: {JaqalCircuitResults.subcircuits[0].probability_by_str}\")\n",
    "JaqalProgram = generate_jaqal_program(JaqalCircuitObject)"
   ]
  },
  {
   "cell_type": "markdown",
   "metadata": {},
   "source": [
    "## Translating to Jaqal\n",
    "\n",
    "Jaqal has built in capability to take circuits from a variety of widly used languages (Qiskit, Quil, pytket, Cirq) and turn them into Jaqal code which can run on QSCOUT. We will walk through the transpilation of our Bernstein-Vazirani circuit from Qiskit into `bernstein_vazirani.jaqal`."
   ]
  },
  {
   "cell_type": "code",
   "execution_count": 3,
   "metadata": {},
   "outputs": [
    {
     "data": {
      "text/html": [
       "<pre style=\"word-wrap: normal;white-space: pre;background: #fff0;line-height: 1.1;font-family: &quot;Courier New&quot;,Courier,monospace\">     ┌───┐      ░                 ░ ┌───┐┌─┐      \n",
       "q_0: ┤ H ├──────░───■─────────────░─┤ H ├┤M├──────\n",
       "     ├───┤      ░   │             ░ ├───┤└╥┘┌─┐   \n",
       "q_1: ┤ H ├──────░───┼─────────■───░─┤ H ├─╫─┤M├───\n",
       "     ├───┤      ░   │  ┌───┐  │   ░ ├───┤ ║ └╥┘┌─┐\n",
       "q_2: ┤ H ├──────░───┼──┤ I ├──┼───░─┤ H ├─╫──╫─┤M├\n",
       "     ├───┤┌───┐ ░ ┌─┴─┐└───┘┌─┴─┐ ░ └───┘ ║  ║ └╥┘\n",
       "q_3: ┤ H ├┤ Z ├─░─┤ X ├─────┤ X ├─░───────╫──╫──╫─\n",
       "     └───┘└───┘ ░ └───┘     └───┘ ░       ║  ║  ║ \n",
       "c: 3/═════════════════════════════════════╩══╩══╩═\n",
       "                                          0  1  2 </pre>"
      ],
      "text/plain": [
       "     ┌───┐      ░                 ░ ┌───┐┌─┐      \n",
       "q_0: ┤ H ├──────░───■─────────────░─┤ H ├┤M├──────\n",
       "     ├───┤      ░   │             ░ ├───┤└╥┘┌─┐   \n",
       "q_1: ┤ H ├──────░───┼─────────■───░─┤ H ├─╫─┤M├───\n",
       "     ├───┤      ░   │  ┌───┐  │   ░ ├───┤ ║ └╥┘┌─┐\n",
       "q_2: ┤ H ├──────░───┼──┤ I ├──┼───░─┤ H ├─╫──╫─┤M├\n",
       "     ├───┤┌───┐ ░ ┌─┴─┐└───┘┌─┴─┐ ░ └───┘ ║  ║ └╥┘\n",
       "q_3: ┤ H ├┤ Z ├─░─┤ X ├─────┤ X ├─░───────╫──╫──╫─\n",
       "     └───┘└───┘ ░ └───┘     └───┘ ░       ║  ║  ║ \n",
       "c: 3/═════════════════════════════════════╩══╩══╩═\n",
       "                                          0  1  2 "
      ]
     },
     "execution_count": 3,
     "metadata": {},
     "output_type": "execute_result"
    }
   ],
   "source": [
    "from qiskit import QuantumCircuit\n",
    "\n",
    "\n",
    "s = '011'   # the hidden binary string\n",
    "n = 3 # number of bits used to represent s\n",
    "\n",
    "\n",
    "# We need a circuit with n qubits, plus one auxiliary qubit\n",
    "# We also need n classical bits to write the output to\n",
    "qc = QuantumCircuit(n+1, n)\n",
    "\n",
    "# Put auxiliary in the minus state |->\n",
    "# We leave the other n qubits in just |0>\n",
    "qc.h(n)\n",
    "qc.z(n)\n",
    "\n",
    "# Apply Hadamard gates to each of the n \"main\" qubits (excluding the auxiliary)\n",
    "# before querying the oracle\n",
    "for i in range(n):\n",
    "    qc.h(i)\n",
    "    \n",
    "# Apply barrier\n",
    "qc.barrier()\n",
    "\n",
    "# Apply the inner-product oracle\n",
    "s = s[::-1] # reverse s to fit qiskit's qubit ordering\n",
    "for q in range(n):\n",
    "    if s[q] == '0':\n",
    "        qc.i(q)\n",
    "    else:\n",
    "        qc.cx(q, n)\n",
    "        \n",
    "# Apply barrier\n",
    "qc.barrier()\n",
    "\n",
    "# Apply Hadamard gates after querying the oracle\n",
    "for i in range(n):\n",
    "    qc.h(i)\n",
    "\n",
    "\n",
    "# Measurement\n",
    "for i in range(n):\n",
    "    qc.measure(i, i)\n",
    "\n",
    "qc.draw()"
   ]
  },
  {
   "cell_type": "markdown",
   "metadata": {},
   "source": [
    "## Translation to Jaqal\n",
    "\n",
    "Translation from Qiskit to Jaqal occurs in two steps. First, the above circuit must be unrolled to QSCOUT's native gate set, composed of ion compatible instructions. Then, we can directly translate that circuit object into a Jaqal circuit object."
   ]
  },
  {
   "cell_type": "code",
   "execution_count": 8,
   "metadata": {},
   "outputs": [
    {
     "ename": "QiskitError",
     "evalue": "\"Cannot unroll the circuit to the given basis, dict_keys(['jaqalr', 'sx', 'sxdg', 'sy', 'sydg', 's', 'sdg', 'x', 'y', 'z', 'rz', 'jaqalms']). Instruction id not found in equivalence library and no rule found to expand.\"",
     "output_type": "error",
     "traceback": [
      "\u001b[1;31m---------------------------------------------------------------------------\u001b[0m",
      "\u001b[1;31mQiskitError\u001b[0m                               Traceback (most recent call last)",
      "\u001b[1;32mc:\\Users\\piegu\\Documents\\PIRQ\\PIRQ_Draft\\Module 2\\Jaqal\\examples\\JaqPaq.ipynb Cell 6'\u001b[0m in \u001b[0;36m<cell line: 7>\u001b[1;34m()\u001b[0m\n\u001b[0;32m      <a href='vscode-notebook-cell:/c%3A/Users/piegu/Documents/PIRQ/PIRQ_Draft/Module%202/Jaqal/examples/JaqPaq.ipynb#ch0000004?line=1'>2</a>\u001b[0m \u001b[39mfrom\u001b[39;00m \u001b[39mjaqalpaq\u001b[39;00m\u001b[39m.\u001b[39;00m\u001b[39mtranspilers\u001b[39;00m\u001b[39m.\u001b[39;00m\u001b[39mqiskit\u001b[39;00m \u001b[39mimport\u001b[39;00m ion_pass_manager, jaqal_circuit_from_qiskit_circuit\n\u001b[0;32m      <a href='vscode-notebook-cell:/c%3A/Users/piegu/Documents/PIRQ/PIRQ_Draft/Module%202/Jaqal/examples/JaqPaq.ipynb#ch0000004?line=3'>4</a>\u001b[0m \u001b[39m# ion_pass_manager provides a qiskit PassManager object which is supposed to \u001b[39;00m\n\u001b[0;32m      <a href='vscode-notebook-cell:/c%3A/Users/piegu/Documents/PIRQ/PIRQ_Draft/Module%202/Jaqal/examples/JaqPaq.ipynb#ch0000004?line=4'>5</a>\u001b[0m \u001b[39m# unroll a qiskit circuit to Jaqal gates, however it struggles\u001b[39;00m\n\u001b[0;32m      <a href='vscode-notebook-cell:/c%3A/Users/piegu/Documents/PIRQ/PIRQ_Draft/Module%202/Jaqal/examples/JaqPaq.ipynb#ch0000004?line=5'>6</a>\u001b[0m \u001b[39m# with Qiskit 'I' gate\u001b[39;00m\n\u001b[1;32m----> <a href='vscode-notebook-cell:/c%3A/Users/piegu/Documents/PIRQ/PIRQ_Draft/Module%202/Jaqal/examples/JaqPaq.ipynb#ch0000004?line=6'>7</a>\u001b[0m ion_qc \u001b[39m=\u001b[39m ion_pass_manager()\u001b[39m.\u001b[39;49mrun(qc)\n\u001b[0;32m     <a href='vscode-notebook-cell:/c%3A/Users/piegu/Documents/PIRQ/PIRQ_Draft/Module%202/Jaqal/examples/JaqPaq.ipynb#ch0000004?line=9'>10</a>\u001b[0m ion_qc\u001b[39m.\u001b[39mdraw()\n",
      "File \u001b[1;32m~\\AppData\\Roaming\\Python\\Python38\\site-packages\\qiskit\\transpiler\\passmanager.py:222\u001b[0m, in \u001b[0;36mPassManager.run\u001b[1;34m(self, circuits, output_name, callback)\u001b[0m\n\u001b[0;32m    220\u001b[0m     \u001b[39mreturn\u001b[39;00m circuits\n\u001b[0;32m    221\u001b[0m \u001b[39mif\u001b[39;00m \u001b[39misinstance\u001b[39m(circuits, QuantumCircuit):\n\u001b[1;32m--> 222\u001b[0m     \u001b[39mreturn\u001b[39;00m \u001b[39mself\u001b[39;49m\u001b[39m.\u001b[39;49m_run_single_circuit(circuits, output_name, callback)\n\u001b[0;32m    223\u001b[0m \u001b[39mif\u001b[39;00m \u001b[39mlen\u001b[39m(circuits) \u001b[39m==\u001b[39m \u001b[39m1\u001b[39m:\n\u001b[0;32m    224\u001b[0m     \u001b[39mreturn\u001b[39;00m \u001b[39mself\u001b[39m\u001b[39m.\u001b[39m_run_single_circuit(circuits[\u001b[39m0\u001b[39m], output_name, callback)\n",
      "File \u001b[1;32m~\\AppData\\Roaming\\Python\\Python38\\site-packages\\qiskit\\transpiler\\passmanager.py:277\u001b[0m, in \u001b[0;36mPassManager._run_single_circuit\u001b[1;34m(self, circuit, output_name, callback)\u001b[0m\n\u001b[0;32m    265\u001b[0m \u001b[39m\"\"\"Run all the passes on a ``circuit``.\u001b[39;00m\n\u001b[0;32m    266\u001b[0m \n\u001b[0;32m    267\u001b[0m \u001b[39mArgs:\u001b[39;00m\n\u001b[1;32m   (...)\u001b[0m\n\u001b[0;32m    274\u001b[0m \u001b[39m    The transformed circuit.\u001b[39;00m\n\u001b[0;32m    275\u001b[0m \u001b[39m\"\"\"\u001b[39;00m\n\u001b[0;32m    276\u001b[0m running_passmanager \u001b[39m=\u001b[39m \u001b[39mself\u001b[39m\u001b[39m.\u001b[39m_create_running_passmanager()\n\u001b[1;32m--> 277\u001b[0m result \u001b[39m=\u001b[39m running_passmanager\u001b[39m.\u001b[39;49mrun(circuit, output_name\u001b[39m=\u001b[39;49moutput_name, callback\u001b[39m=\u001b[39;49mcallback)\n\u001b[0;32m    278\u001b[0m \u001b[39mself\u001b[39m\u001b[39m.\u001b[39mproperty_set \u001b[39m=\u001b[39m running_passmanager\u001b[39m.\u001b[39mproperty_set\n\u001b[0;32m    279\u001b[0m \u001b[39mreturn\u001b[39;00m result\n",
      "File \u001b[1;32m~\\AppData\\Roaming\\Python\\Python38\\site-packages\\qiskit\\transpiler\\runningpassmanager.py:124\u001b[0m, in \u001b[0;36mRunningPassManager.run\u001b[1;34m(***failed resolving arguments***)\u001b[0m\n\u001b[0;32m    122\u001b[0m \u001b[39mfor\u001b[39;00m passset \u001b[39min\u001b[39;00m \u001b[39mself\u001b[39m\u001b[39m.\u001b[39mworking_list:\n\u001b[0;32m    123\u001b[0m     \u001b[39mfor\u001b[39;00m pass_ \u001b[39min\u001b[39;00m passset:\n\u001b[1;32m--> 124\u001b[0m         dag \u001b[39m=\u001b[39m \u001b[39mself\u001b[39;49m\u001b[39m.\u001b[39;49m_do_pass(pass_, dag, passset\u001b[39m.\u001b[39;49moptions)\n\u001b[0;32m    126\u001b[0m circuit \u001b[39m=\u001b[39m dag_to_circuit(dag)\n\u001b[0;32m    127\u001b[0m \u001b[39mif\u001b[39;00m output_name:\n",
      "File \u001b[1;32m~\\AppData\\Roaming\\Python\\Python38\\site-packages\\qiskit\\transpiler\\runningpassmanager.py:157\u001b[0m, in \u001b[0;36mRunningPassManager._do_pass\u001b[1;34m(self, pass_, dag, options)\u001b[0m\n\u001b[0;32m    155\u001b[0m \u001b[39m# Run the pass itself, if not already run\u001b[39;00m\n\u001b[0;32m    156\u001b[0m \u001b[39mif\u001b[39;00m pass_ \u001b[39mnot\u001b[39;00m \u001b[39min\u001b[39;00m \u001b[39mself\u001b[39m\u001b[39m.\u001b[39mvalid_passes:\n\u001b[1;32m--> 157\u001b[0m     dag \u001b[39m=\u001b[39m \u001b[39mself\u001b[39;49m\u001b[39m.\u001b[39;49m_run_this_pass(pass_, dag)\n\u001b[0;32m    159\u001b[0m     \u001b[39m# update the valid_passes property\u001b[39;00m\n\u001b[0;32m    160\u001b[0m     \u001b[39mself\u001b[39m\u001b[39m.\u001b[39m_update_valid_passes(pass_)\n",
      "File \u001b[1;32m~\\AppData\\Roaming\\Python\\Python38\\site-packages\\qiskit\\transpiler\\runningpassmanager.py:186\u001b[0m, in \u001b[0;36mRunningPassManager._run_this_pass\u001b[1;34m(self, pass_, dag)\u001b[0m\n\u001b[0;32m    183\u001b[0m \u001b[39mif\u001b[39;00m pass_\u001b[39m.\u001b[39mis_transformation_pass:\n\u001b[0;32m    184\u001b[0m     \u001b[39m# Measure time if we have a callback or logging set\u001b[39;00m\n\u001b[0;32m    185\u001b[0m     start_time \u001b[39m=\u001b[39m time()\n\u001b[1;32m--> 186\u001b[0m     new_dag \u001b[39m=\u001b[39m pass_\u001b[39m.\u001b[39;49mrun(dag)\n\u001b[0;32m    187\u001b[0m     end_time \u001b[39m=\u001b[39m time()\n\u001b[0;32m    188\u001b[0m     run_time \u001b[39m=\u001b[39m end_time \u001b[39m-\u001b[39m start_time\n",
      "File \u001b[1;32m~\\AppData\\Roaming\\Python\\Python38\\site-packages\\qiskit\\transpiler\\passes\\basis\\unroll_custom_definitions.py:86\u001b[0m, in \u001b[0;36mUnrollCustomDefinitions.run\u001b[1;34m(self, dag)\u001b[0m\n\u001b[0;32m     83\u001b[0m         \u001b[39mcontinue\u001b[39;00m\n\u001b[0;32m     85\u001b[0m     \u001b[39m# opaque node\u001b[39;00m\n\u001b[1;32m---> 86\u001b[0m     \u001b[39mraise\u001b[39;00m QiskitError(\n\u001b[0;32m     87\u001b[0m         \u001b[39m\"\u001b[39m\u001b[39mCannot unroll the circuit to the given basis, \u001b[39m\u001b[39m%s\u001b[39;00m\u001b[39m. \u001b[39m\u001b[39m\"\u001b[39m\n\u001b[0;32m     88\u001b[0m         \u001b[39m\"\u001b[39m\u001b[39mInstruction \u001b[39m\u001b[39m%s\u001b[39;00m\u001b[39m not found in equivalence library \u001b[39m\u001b[39m\"\u001b[39m\n\u001b[0;32m     89\u001b[0m         \u001b[39m\"\u001b[39m\u001b[39mand no rule found to expand.\u001b[39m\u001b[39m\"\u001b[39m \u001b[39m%\u001b[39m (\u001b[39mstr\u001b[39m(\u001b[39mself\u001b[39m\u001b[39m.\u001b[39m_basis_gates), node\u001b[39m.\u001b[39mop\u001b[39m.\u001b[39mname)\n\u001b[0;32m     90\u001b[0m     )\n\u001b[0;32m     91\u001b[0m decomposition \u001b[39m=\u001b[39m circuit_to_dag(node\u001b[39m.\u001b[39mop\u001b[39m.\u001b[39mdefinition)\n\u001b[0;32m     92\u001b[0m unrolled_dag \u001b[39m=\u001b[39m UnrollCustomDefinitions(\u001b[39mself\u001b[39m\u001b[39m.\u001b[39m_equiv_lib, \u001b[39mself\u001b[39m\u001b[39m.\u001b[39m_basis_gates)\u001b[39m.\u001b[39mrun(\n\u001b[0;32m     93\u001b[0m     decomposition\n\u001b[0;32m     94\u001b[0m )\n",
      "\u001b[1;31mQiskitError\u001b[0m: \"Cannot unroll the circuit to the given basis, dict_keys(['jaqalr', 'sx', 'sxdg', 'sy', 'sydg', 's', 'sdg', 'x', 'y', 'z', 'rz', 'jaqalms']). Instruction id not found in equivalence library and no rule found to expand.\""
     ]
    }
   ],
   "source": [
    "from qiskit.transpiler import PassManager\n",
    "from jaqalpaq.transpilers.qiskit import ion_pass_manager, jaqal_circuit_from_qiskit_circuit\n",
    "\n",
    "# ion_pass_manager provides a qiskit PassManager object which is supposed to \n",
    "# unroll a qiskit circuit to Jaqal gates, however it struggles\n",
    "# with Qiskit 'I' gate\n",
    "ion_qc = ion_pass_manager().run(qc)\n"
   ]
  },
  {
   "cell_type": "code",
   "execution_count": 10,
   "metadata": {},
   "outputs": [
    {
     "name": "stdout",
     "output_type": "stream",
     "text": [
      "['__call__', '__class__', '__delattr__', '__dict__', '__dir__', '__doc__', '__eq__', '__format__', '__ge__', '__getattribute__', '__gt__', '__hash__', '__init__', '__init_subclass__', '__le__', '__lt__', '__module__', '__ne__', '__new__', '__reduce__', '__reduce_ex__', '__repr__', '__setattr__', '__sizeof__', '__str__', '__subclasshook__', '__weakref__', '_basis_gates', '_equiv_lib', '_hash', 'is_analysis_pass', 'is_transformation_pass', 'name', 'preserves', 'property_set', 'requires', 'run']\n"
     ]
    }
   ],
   "source": [
    "# In order to deal with I, we need to add a relation to the Equivalence Library\n",
    "# of a pass called 'Unroll Custom Definitions'. To get at that pass:\n",
    "pm = ion_pass_manager()\n",
    "passes_array_dict_array = pm.passes()\n",
    "passes_array_dict = passes_array_dict_array[0]\n",
    "passes_array = passes_array_dict['passes']\n",
    "unroll_custom_defs = passes_array[0]\n",
    "print(dir(unroll_custom_defs))\n",
    "\n"
   ]
  },
  {
   "cell_type": "code",
   "execution_count": 36,
   "metadata": {},
   "outputs": [
    {
     "name": "stdout",
     "output_type": "stream",
     "text": [
      "dict_items([('_base', None), ('_map', {Key(name='h', num_qubits=1): Entry(search_base=True, equivalences=[Equivalence(params=[], circuit=<qiskit.circuit.quantumcircuit.QuantumCircuit object at 0x0000020DCBA69CA0>), Equivalence(params=[], circuit=<qiskit.circuit.quantumcircuit.QuantumCircuit object at 0x0000020DCD07CEB0>), Equivalence(params=[], circuit=<qiskit.circuit.quantumcircuit.QuantumCircuit object at 0x0000020DCD08C070>)]), Key(name='ch', num_qubits=2): Entry(search_base=True, equivalences=[Equivalence(params=[], circuit=<qiskit.circuit.quantumcircuit.QuantumCircuit object at 0x0000020DA70581F0>)]), Key(name='p', num_qubits=1): Entry(search_base=True, equivalences=[Equivalence(params=[Parameter(theta)], circuit=<qiskit.circuit.quantumcircuit.QuantumCircuit object at 0x0000020DCB9710A0>), Equivalence(params=[Parameter(theta)], circuit=<qiskit.circuit.quantumcircuit.QuantumCircuit object at 0x0000020DCCEAB580>)]), Key(name='cp', num_qubits=2): Entry(search_base=True, equivalences=[Equivalence(params=[Parameter(theta)], circuit=<qiskit.circuit.quantumcircuit.QuantumCircuit object at 0x0000020DCCEABA90>), Equivalence(params=[Parameter(theta)], circuit=<qiskit.circuit.quantumcircuit.QuantumCircuit object at 0x0000020DCCEABDC0>)]), Key(name='r', num_qubits=1): Entry(search_base=True, equivalences=[Equivalence(params=[Parameter(theta), Parameter(phi)], circuit=<qiskit.circuit.quantumcircuit.QuantumCircuit object at 0x0000020DCCFE35B0>)]), Key(name='rccx', num_qubits=3): Entry(search_base=True, equivalences=[Equivalence(params=[], circuit=<qiskit.circuit.quantumcircuit.QuantumCircuit object at 0x0000020DCCFE39A0>)]), Key(name='rx', num_qubits=1): Entry(search_base=True, equivalences=[Equivalence(params=[Parameter(theta)], circuit=<qiskit.circuit.quantumcircuit.QuantumCircuit object at 0x0000020DCCFE3CA0>)]), Key(name='crx', num_qubits=2): Entry(search_base=True, equivalences=[Equivalence(params=[Parameter(theta)], circuit=<qiskit.circuit.quantumcircuit.QuantumCircuit object at 0x0000020DCCFF1100>), Equivalence(params=[Parameter(theta)], circuit=<qiskit.circuit.quantumcircuit.QuantumCircuit object at 0x0000020DCCFF1580>)]), Key(name='rxx', num_qubits=2): Entry(search_base=True, equivalences=[Equivalence(params=[Parameter(theta)], circuit=<qiskit.circuit.quantumcircuit.QuantumCircuit object at 0x0000020DCCFF1A00>)]), Key(name='rzx', num_qubits=2): Entry(search_base=True, equivalences=[Equivalence(params=[Parameter(theta)], circuit=<qiskit.circuit.quantumcircuit.QuantumCircuit object at 0x0000020DCCFF1E20>), Equivalence(params=[Parameter(theta)], circuit=<qiskit.circuit.quantumcircuit.QuantumCircuit object at 0x0000020DCD009640>)]), Key(name='ry', num_qubits=1): Entry(search_base=True, equivalences=[Equivalence(params=[Parameter(theta)], circuit=<qiskit.circuit.quantumcircuit.QuantumCircuit object at 0x0000020DCCFFB0A0>)]), Key(name='cry', num_qubits=2): Entry(search_base=True, equivalences=[Equivalence(params=[Parameter(theta)], circuit=<qiskit.circuit.quantumcircuit.QuantumCircuit object at 0x0000020DCCFFB490>)]), Key(name='ryy', num_qubits=2): Entry(search_base=True, equivalences=[Equivalence(params=[Parameter(theta)], circuit=<qiskit.circuit.quantumcircuit.QuantumCircuit object at 0x0000020DCCFFB8B0>)]), Key(name='rz', num_qubits=1): Entry(search_base=True, equivalences=[Equivalence(params=[Parameter(theta)], circuit=<qiskit.circuit.quantumcircuit.QuantumCircuit object at 0x0000020DCCFFBAF0>), Equivalence(params=[Parameter(theta)], circuit=<qiskit.circuit.quantumcircuit.QuantumCircuit object at 0x0000020DCCFFBD30>)]), Key(name='crz', num_qubits=2): Entry(search_base=True, equivalences=[Equivalence(params=[Parameter(theta)], circuit=<qiskit.circuit.quantumcircuit.QuantumCircuit object at 0x0000020DCD009100>)]), Key(name='rzz', num_qubits=2): Entry(search_base=True, equivalences=[Equivalence(params=[Parameter(theta)], circuit=<qiskit.circuit.quantumcircuit.QuantumCircuit object at 0x0000020DCD009460>)]), Key(name='ecr', num_qubits=2): Entry(search_base=True, equivalences=[Equivalence(params=[], circuit=<qiskit.circuit.quantumcircuit.QuantumCircuit object at 0x0000020DCD009910>)]), Key(name='s', num_qubits=1): Entry(search_base=True, equivalences=[Equivalence(params=[], circuit=<qiskit.circuit.quantumcircuit.QuantumCircuit object at 0x0000020DCD009AF0>)]), Key(name='sdg', num_qubits=1): Entry(search_base=True, equivalences=[Equivalence(params=[], circuit=<qiskit.circuit.quantumcircuit.QuantumCircuit object at 0x0000020DCD009C10>), Equivalence(params=[], circuit=<qiskit.circuit.quantumcircuit.QuantumCircuit object at 0x0000020DCD009D00>), Equivalence(params=[], circuit=<qiskit.circuit.quantumcircuit.QuantumCircuit object at 0x0000020DCD009DF0>), Equivalence(params=[], circuit=<qiskit.circuit.quantumcircuit.QuantumCircuit object at 0x0000020DCD009EB0>)]), Key(name='swap', num_qubits=2): Entry(search_base=True, equivalences=[Equivalence(params=[], circuit=<qiskit.circuit.quantumcircuit.QuantumCircuit object at 0x0000020DCD0141F0>)]), Key(name='iswap', num_qubits=2): Entry(search_base=True, equivalences=[Equivalence(params=[], circuit=<qiskit.circuit.quantumcircuit.QuantumCircuit object at 0x0000020DCD014580>)]), Key(name='sx', num_qubits=1): Entry(search_base=True, equivalences=[Equivalence(params=[], circuit=<qiskit.circuit.quantumcircuit.QuantumCircuit object at 0x0000020DCD0147F0>), Equivalence(params=[], circuit=<qiskit.circuit.quantumcircuit.QuantumCircuit object at 0x0000020DCD0149D0>)]), Key(name='sxdg', num_qubits=1): Entry(search_base=True, equivalences=[Equivalence(params=[], circuit=<qiskit.circuit.quantumcircuit.QuantumCircuit object at 0x0000020DCD014AF0>), Equivalence(params=[], circuit=<qiskit.circuit.quantumcircuit.QuantumCircuit object at 0x0000020DCD014CD0>)]), Key(name='csx', num_qubits=2): Entry(search_base=True, equivalences=[Equivalence(params=[], circuit=<qiskit.circuit.quantumcircuit.QuantumCircuit object at 0x0000020DCD014EE0>), Equivalence(params=[], circuit=<qiskit.circuit.quantumcircuit.QuantumCircuit object at 0x0000020DCD0221C0>)]), Key(name='dcx', num_qubits=2): Entry(search_base=True, equivalences=[Equivalence(params=[], circuit=<qiskit.circuit.quantumcircuit.QuantumCircuit object at 0x0000020DCD022430>), Equivalence(params=[], circuit=<qiskit.circuit.quantumcircuit.QuantumCircuit object at 0x0000020DCD0226D0>)]), Key(name='cswap', num_qubits=3): Entry(search_base=True, equivalences=[Equivalence(params=[], circuit=<qiskit.circuit.quantumcircuit.QuantumCircuit object at 0x0000020DCD022A30>)]), Key(name='t', num_qubits=1): Entry(search_base=True, equivalences=[Equivalence(params=[], circuit=<qiskit.circuit.quantumcircuit.QuantumCircuit object at 0x0000020DCD022C10>)]), Key(name='tdg', num_qubits=1): Entry(search_base=True, equivalences=[Equivalence(params=[], circuit=<qiskit.circuit.quantumcircuit.QuantumCircuit object at 0x0000020DCD022D30>)]), Key(name='u', num_qubits=1): Entry(search_base=True, equivalences=[Equivalence(params=[Parameter(theta), Parameter(phi), Parameter(lam)], circuit=<qiskit.circuit.quantumcircuit.QuantumCircuit object at 0x0000020DCD02F040>)]), Key(name='cu', num_qubits=2): Entry(search_base=True, equivalences=[Equivalence(params=[Parameter(theta), Parameter(phi), Parameter(lam), Parameter(gamma)], circuit=<qiskit.circuit.quantumcircuit.QuantumCircuit object at 0x0000020DCD02FB50>), Equivalence(params=[Parameter(theta), Parameter(phi), Parameter(lam), Parameter(gamma)], circuit=<qiskit.circuit.quantumcircuit.QuantumCircuit object at 0x0000020DCD03D0A0>)]), Key(name='u1', num_qubits=1): Entry(search_base=True, equivalences=[Equivalence(params=[Parameter(theta)], circuit=<qiskit.circuit.quantumcircuit.QuantumCircuit object at 0x0000020DCD03D190>), Equivalence(params=[Parameter(theta)], circuit=<qiskit.circuit.quantumcircuit.QuantumCircuit object at 0x0000020DCD03D340>), Equivalence(params=[Parameter(theta)], circuit=<qiskit.circuit.quantumcircuit.QuantumCircuit object at 0x0000020DCD03D400>)]), Key(name='cu1', num_qubits=2): Entry(search_base=True, equivalences=[Equivalence(params=[Parameter(theta)], circuit=<qiskit.circuit.quantumcircuit.QuantumCircuit object at 0x0000020DCD03D8E0>)]), Key(name='u2', num_qubits=1): Entry(search_base=True, equivalences=[Equivalence(params=[Parameter(phi), Parameter(lam)], circuit=<qiskit.circuit.quantumcircuit.QuantumCircuit object at 0x0000020DCD03DC10>), Equivalence(params=[Parameter(phi), Parameter(lam)], circuit=<qiskit.circuit.quantumcircuit.QuantumCircuit object at 0x0000020DCD03DF40>)]), Key(name='u3', num_qubits=1): Entry(search_base=True, equivalences=[Equivalence(params=[Parameter(theta), Parameter(phi), Parameter(lam)], circuit=<qiskit.circuit.quantumcircuit.QuantumCircuit object at 0x0000020DCD04D4C0>), Equivalence(params=[Parameter(theta), Parameter(phi), Parameter(lam)], circuit=<qiskit.circuit.quantumcircuit.QuantumCircuit object at 0x0000020DCD04D820>)]), Key(name='cu3', num_qubits=2): Entry(search_base=True, equivalences=[Equivalence(params=[Parameter(theta), Parameter(phi), Parameter(lam)], circuit=<qiskit.circuit.quantumcircuit.QuantumCircuit object at 0x0000020DCD04DD60>)]), Key(name='x', num_qubits=1): Entry(search_base=True, equivalences=[Equivalence(params=[], circuit=<qiskit.circuit.quantumcircuit.QuantumCircuit object at 0x0000020DCD05A280>), Equivalence(params=[], circuit=<qiskit.circuit.quantumcircuit.QuantumCircuit object at 0x0000020DCD05A3A0>), Equivalence(params=[], circuit=<qiskit.circuit.quantumcircuit.QuantumCircuit object at 0x0000020DCD07CC40>)]), Key(name='cx', num_qubits=2): Entry(search_base=True, equivalences=[Equivalence(params=[], circuit=<qiskit.circuit.quantumcircuit.QuantumCircuit object at 0x0000020DCD05A700>), Equivalence(params=[], circuit=<qiskit.circuit.quantumcircuit.QuantumCircuit object at 0x0000020DCD05A940>), Equivalence(params=[], circuit=<qiskit.circuit.quantumcircuit.QuantumCircuit object at 0x0000020DCD05AB20>), Equivalence(params=[], circuit=<qiskit.circuit.quantumcircuit.QuantumCircuit object at 0x0000020DCD05AD00>), Equivalence(params=[], circuit=<qiskit.circuit.quantumcircuit.QuantumCircuit object at 0x0000020DCD05AEE0>), Equivalence(params=[], circuit=<qiskit.circuit.quantumcircuit.QuantumCircuit object at 0x0000020DCD066340>), Equivalence(params=[], circuit=<qiskit.circuit.quantumcircuit.QuantumCircuit object at 0x0000020DCD066760>), Equivalence(params=[], circuit=<qiskit.circuit.quantumcircuit.QuantumCircuit object at 0x0000020DCD0669D0>), Equivalence(params=[], circuit=<qiskit.circuit.quantumcircuit.QuantumCircuit object at 0x0000020DCD066C70>), Equivalence(params=[], circuit=<qiskit.circuit.quantumcircuit.QuantumCircuit object at 0x0000020DCD066EE0>)]), Key(name='ccx', num_qubits=3): Entry(search_base=True, equivalences=[Equivalence(params=[], circuit=<qiskit.circuit.quantumcircuit.QuantumCircuit object at 0x0000020DCD0714C0>), Equivalence(params=[], circuit=<qiskit.circuit.quantumcircuit.QuantumCircuit object at 0x0000020DCD071C40>)]), Key(name='y', num_qubits=1): Entry(search_base=True, equivalences=[Equivalence(params=[], circuit=<qiskit.circuit.quantumcircuit.QuantumCircuit object at 0x0000020DCD071F70>), Equivalence(params=[], circuit=<qiskit.circuit.quantumcircuit.QuantumCircuit object at 0x0000020DCD07C160>), Equivalence(params=[], circuit=<qiskit.circuit.quantumcircuit.QuantumCircuit object at 0x0000020DCD07C310>), Equivalence(params=[], circuit=<qiskit.circuit.quantumcircuit.QuantumCircuit object at 0x0000020DCD07CD60>)]), Key(name='cy', num_qubits=2): Entry(search_base=True, equivalences=[Equivalence(params=[], circuit=<qiskit.circuit.quantumcircuit.QuantumCircuit object at 0x0000020DCD07C610>)]), Key(name='z', num_qubits=1): Entry(search_base=True, equivalences=[Equivalence(params=[], circuit=<qiskit.circuit.quantumcircuit.QuantumCircuit object at 0x0000020DCD07C790>), Equivalence(params=[], circuit=<qiskit.circuit.quantumcircuit.QuantumCircuit object at 0x0000020DCD07C880>)]), Key(name='cz', num_qubits=2): Entry(search_base=True, equivalences=[Equivalence(params=[], circuit=<qiskit.circuit.quantumcircuit.QuantumCircuit object at 0x0000020DCD07CAC0>)])})])\n"
     ]
    }
   ],
   "source": [
    "# Now, we get the equivalence library and add the relation\n",
    "# I_Px (Jaqal Identity gate with same duration as Px) = I\n",
    "equiv_lib = unroll_custom_defs._equiv_lib\n",
    "#print(dir(equiv_lib))\n",
    "#print(equiv_lib.__dict__.items())\n",
    "print(equiv_lib.__dict__['_base'].__dict__.items())\n",
    "# equiv_lib.add_equivalence()\n",
    "\n",
    "\n",
    "#pm._equiv_lib.append()\n",
    "#jaq_compat = pm.run(qc)\n",
    "\n",
    "#jaqc = jaqal_circuit_from_qiskit_circuit(jaq_compat) #qc, qiskit_to_jaq_map)\n",
    "#print(generate_jaqal_program(jaqc))"
   ]
  }
 ],
 "metadata": {
  "kernelspec": {
   "display_name": "Python 3.8.3 64-bit",
   "language": "python",
   "name": "python3"
  },
  "language_info": {
   "codemirror_mode": {
    "name": "ipython",
    "version": 3
   },
   "file_extension": ".py",
   "mimetype": "text/x-python",
   "name": "python",
   "nbconvert_exporter": "python",
   "pygments_lexer": "ipython3",
   "version": "3.8.3"
  },
  "orig_nbformat": 4,
  "vscode": {
   "interpreter": {
    "hash": "995d16ebf5e1c92414f66722f6b0c9a85a83273b46dad51bd9b391cad0ce3002"
   }
  }
 },
 "nbformat": 4,
 "nbformat_minor": 2
}
