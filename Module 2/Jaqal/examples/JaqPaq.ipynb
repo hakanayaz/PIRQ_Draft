{
 "cells": [
  {
   "cell_type": "markdown",
   "metadata": {},
   "source": [
    "# Jaqal to IR\n",
    "\n",
    "In this tutorial we will examine Jaqal. [Jaqal](https://www.sandia.gov/quantum/quantum-information-sciences/projects/qscout-jaqal/) (Just Another Quantum Assembly Language) is the QASM built by Sandia Labs for the [QSCOUT](https://www.sandia.gov/quantum/quantum-information-sciences/projects/qscout/) trapped-ion backend.\n",
    "\n",
    "## JaqalPaq\n",
    "\n",
    "We will primarily be using [JaqalPaq](https://gitlab.com/jaqal/jaqalpaq), the python package for Jaqal meta-programming. For details about JaqalPaq installation, see their [guide](https://gitlab.com/jaqal/jaqalpaq).\n",
    "\n",
    "## Basic Usage Example\n",
    "\n",
    "We've provided the `Sxx_circuit.jaqal` file in this repository: to confirm that your installation is valid, run the following code cell. You should see an idealized result array from the noiseless emulator: 50% |00>, 50% |11>"
   ]
  },
  {
   "cell_type": "code",
   "execution_count": 1,
   "metadata": {},
   "outputs": [
    {
     "name": "stdout",
     "output_type": "stream",
     "text": [
      "Requirement already satisfied: pygsti in /Users/hakanayaz/opt/anaconda3/lib/python3.9/site-packages (0.9.10.1)\n",
      "Requirement already satisfied: plotly in /Users/hakanayaz/opt/anaconda3/lib/python3.9/site-packages (from pygsti) (5.6.0)\n",
      "Requirement already satisfied: scipy in /Users/hakanayaz/opt/anaconda3/lib/python3.9/site-packages (from pygsti) (1.7.3)\n",
      "Requirement already satisfied: pandas in /Users/hakanayaz/opt/anaconda3/lib/python3.9/site-packages (from pygsti) (1.4.2)\n",
      "Requirement already satisfied: numpy>=1.15.0 in /Users/hakanayaz/opt/anaconda3/lib/python3.9/site-packages (from pygsti) (1.23.0)\n",
      "Requirement already satisfied: python-dateutil>=2.8.1 in /Users/hakanayaz/opt/anaconda3/lib/python3.9/site-packages (from pandas->pygsti) (2.8.2)\n",
      "Requirement already satisfied: pytz>=2020.1 in /Users/hakanayaz/opt/anaconda3/lib/python3.9/site-packages (from pandas->pygsti) (2021.3)\n",
      "Requirement already satisfied: six>=1.5 in /Users/hakanayaz/opt/anaconda3/lib/python3.9/site-packages (from python-dateutil>=2.8.1->pandas->pygsti) (1.16.0)\n",
      "Requirement already satisfied: tenacity>=6.2.0 in /Users/hakanayaz/opt/anaconda3/lib/python3.9/site-packages (from plotly->pygsti) (8.0.1)\n",
      "Collecting numpy>=1.15.0\n",
      "  Downloading numpy-1.22.4-cp39-cp39-macosx_10_15_x86_64.whl (17.7 MB)\n",
      "\u001b[K     |████████████████████████████████| 17.7 MB 7.6 MB/s eta 0:00:01\n",
      "\u001b[?25hInstalling collected packages: numpy\n",
      "  Attempting uninstall: numpy\n",
      "    Found existing installation: numpy 1.23.0\n",
      "    Uninstalling numpy-1.23.0:\n",
      "      Successfully uninstalled numpy-1.23.0\n",
      "\u001b[31mERROR: pip's dependency resolver does not currently take into account all the packages that are installed. This behaviour is the source of the following dependency conflicts.\n",
      "daal4py 2021.5.0 requires daal==2021.4.0, which is not installed.\n",
      "numba 0.55.1 requires numpy<1.22,>=1.18, but you have numpy 1.22.4 which is incompatible.\u001b[0m\n",
      "Successfully installed numpy-1.22.4\n",
      "Note: you may need to restart the kernel to use updated packages.\n"
     ]
    }
   ],
   "source": [
    "pip install pygsti"
   ]
  },
  {
   "cell_type": "code",
   "execution_count": 2,
   "metadata": {},
   "outputs": [
    {
     "name": "stdout",
     "output_type": "stream",
     "text": [
      "Requirement already satisfied: numpy in /Users/hakanayaz/opt/anaconda3/lib/python3.9/site-packages (1.22.4)\n",
      "Collecting numpy\n",
      "  Using cached numpy-1.23.0-cp39-cp39-macosx_10_9_x86_64.whl (18.1 MB)\n",
      "Installing collected packages: numpy\n",
      "  Attempting uninstall: numpy\n",
      "    Found existing installation: numpy 1.22.4\n",
      "    Uninstalling numpy-1.22.4:\n",
      "      Successfully uninstalled numpy-1.22.4\n",
      "\u001b[31mERROR: pip's dependency resolver does not currently take into account all the packages that are installed. This behaviour is the source of the following dependency conflicts.\n",
      "daal4py 2021.5.0 requires daal==2021.4.0, which is not installed.\n",
      "scipy 1.7.3 requires numpy<1.23.0,>=1.16.5, but you have numpy 1.23.0 which is incompatible.\n",
      "numba 0.55.1 requires numpy<1.22,>=1.18, but you have numpy 1.23.0 which is incompatible.\u001b[0m\n",
      "Successfully installed numpy-1.23.0\n",
      "Note: you may need to restart the kernel to use updated packages.\n"
     ]
    }
   ],
   "source": [
    "pip install --upgrade numpy"
   ]
  },
  {
   "cell_type": "code",
   "execution_count": 3,
   "metadata": {},
   "outputs": [
    {
     "name": "stderr",
     "output_type": "stream",
     "text": [
      "/Users/hakanayaz/opt/anaconda3/lib/python3.9/site-packages/scipy/__init__.py:146: UserWarning: A NumPy version >=1.16.5 and <1.23.0 is required for this version of SciPy (detected version 1.23.0\n",
      "  warnings.warn(f\"A NumPy version >={np_minversion} and <{np_maxversion}\"\n"
     ]
    },
    {
     "ename": "ModuleNotFoundError",
     "evalue": "No module named 'pygsti.objects'",
     "output_type": "error",
     "traceback": [
      "\u001b[0;31m---------------------------------------------------------------------------\u001b[0m",
      "\u001b[0;31mModuleNotFoundError\u001b[0m                       Traceback (most recent call last)",
      "Input \u001b[0;32mIn [3]\u001b[0m, in \u001b[0;36m<cell line: 3>\u001b[0;34m()\u001b[0m\n\u001b[1;32m      1\u001b[0m \u001b[38;5;28;01mimport\u001b[39;00m \u001b[38;5;21;01mjaqalpaq\u001b[39;00m\n\u001b[1;32m      2\u001b[0m \u001b[38;5;28;01mfrom\u001b[39;00m \u001b[38;5;21;01mjaqalpaq\u001b[39;00m\u001b[38;5;21;01m.\u001b[39;00m\u001b[38;5;21;01mparser\u001b[39;00m \u001b[38;5;28;01mimport\u001b[39;00m parse_jaqal_file\n\u001b[0;32m----> 3\u001b[0m \u001b[38;5;28;01mfrom\u001b[39;00m \u001b[38;5;21;01mjaqalpaq\u001b[39;00m\u001b[38;5;21;01m.\u001b[39;00m\u001b[38;5;21;01memulator\u001b[39;00m \u001b[38;5;28;01mimport\u001b[39;00m run_jaqal_circuit\n\u001b[1;32m      4\u001b[0m \u001b[38;5;28;01mfrom\u001b[39;00m \u001b[38;5;21;01mjaqalpaq\u001b[39;00m\u001b[38;5;21;01m.\u001b[39;00m\u001b[38;5;21;01mgenerator\u001b[39;00m \u001b[38;5;28;01mimport\u001b[39;00m generate_jaqal_program\n\u001b[1;32m      6\u001b[0m JaqalCircuitObject \u001b[38;5;241m=\u001b[39m parse_jaqal_file(\u001b[38;5;124m\"\u001b[39m\u001b[38;5;124mSxx_circuit.jaqal\u001b[39m\u001b[38;5;124m\"\u001b[39m)\n",
      "File \u001b[0;32m~/opt/anaconda3/lib/python3.9/site-packages/jaqalpaq/emulator/__init__.py:4\u001b[0m, in \u001b[0;36m<module>\u001b[0;34m\u001b[0m\n\u001b[1;32m      1\u001b[0m \u001b[38;5;66;03m# Copyright 2020 National Technology & Engineering Solutions of Sandia, LLC (NTESS).\u001b[39;00m\n\u001b[1;32m      2\u001b[0m \u001b[38;5;66;03m# Under the terms of Contract DE-NA0003525 with NTESS, the U.S. Government retains\u001b[39;00m\n\u001b[1;32m      3\u001b[0m \u001b[38;5;66;03m# certain rights in this software.\u001b[39;00m\n\u001b[0;32m----> 4\u001b[0m \u001b[38;5;28;01mfrom\u001b[39;00m \u001b[38;5;21;01m.\u001b[39;00m\u001b[38;5;21;01mfrontend\u001b[39;00m \u001b[38;5;28;01mimport\u001b[39;00m \u001b[38;5;241m*\u001b[39m\n\u001b[1;32m      5\u001b[0m \u001b[38;5;28;01mfrom\u001b[39;00m \u001b[38;5;21;01m.\u001b[39;00m\u001b[38;5;21;01mpygsti\u001b[39;00m \u001b[38;5;28;01mimport\u001b[39;00m UnitarySerializedEmulator\n\u001b[1;32m      7\u001b[0m __all__ \u001b[38;5;241m=\u001b[39m [\n\u001b[1;32m      8\u001b[0m     \u001b[38;5;124m\"\u001b[39m\u001b[38;5;124mrun_jaqal_string\u001b[39m\u001b[38;5;124m\"\u001b[39m,\n\u001b[1;32m      9\u001b[0m     \u001b[38;5;124m\"\u001b[39m\u001b[38;5;124mrun_jaqal_file\u001b[39m\u001b[38;5;124m\"\u001b[39m,\n\u001b[1;32m     10\u001b[0m     \u001b[38;5;124m\"\u001b[39m\u001b[38;5;124mrun_jaqal_circuit\u001b[39m\u001b[38;5;124m\"\u001b[39m,\n\u001b[1;32m     11\u001b[0m     \u001b[38;5;124m\"\u001b[39m\u001b[38;5;124mUnitarySerializedEmulator\u001b[39m\u001b[38;5;124m\"\u001b[39m,\n\u001b[1;32m     12\u001b[0m ]\n",
      "File \u001b[0;32m~/opt/anaconda3/lib/python3.9/site-packages/jaqalpaq/emulator/frontend.py:6\u001b[0m, in \u001b[0;36m<module>\u001b[0;34m\u001b[0m\n\u001b[1;32m      4\u001b[0m \u001b[38;5;28;01mfrom\u001b[39;00m \u001b[38;5;21;01mjaqalpaq\u001b[39;00m\u001b[38;5;21;01m.\u001b[39;00m\u001b[38;5;21;01mparser\u001b[39;00m \u001b[38;5;28;01mimport\u001b[39;00m parse_jaqal_file, parse_jaqal_string\n\u001b[1;32m      5\u001b[0m \u001b[38;5;28;01mfrom\u001b[39;00m \u001b[38;5;21;01mjaqalpaq\u001b[39;00m\u001b[38;5;21;01m.\u001b[39;00m\u001b[38;5;21;01mcore\u001b[39;00m\u001b[38;5;21;01m.\u001b[39;00m\u001b[38;5;21;01malgorithm\u001b[39;00m \u001b[38;5;28;01mimport\u001b[39;00m expand_macros, fill_in_let\n\u001b[0;32m----> 6\u001b[0m \u001b[38;5;28;01mfrom\u001b[39;00m \u001b[38;5;21;01m.\u001b[39;00m\u001b[38;5;21;01mpygsti\u001b[39;00m \u001b[38;5;28;01mimport\u001b[39;00m UnitarySerializedEmulator\n\u001b[1;32m      9\u001b[0m \u001b[38;5;28;01mdef\u001b[39;00m \u001b[38;5;21mrun_jaqal_circuit\u001b[39m(circuit, backend\u001b[38;5;241m=\u001b[39m\u001b[38;5;28;01mNone\u001b[39;00m):\n\u001b[1;32m     10\u001b[0m     \u001b[38;5;124;03m\"\"\"Execute a Jaqal :class:`~jaqalpaq.core.Circuit` in a noiseless emulator.\u001b[39;00m\n\u001b[1;32m     11\u001b[0m \n\u001b[1;32m     12\u001b[0m \u001b[38;5;124;03m    :param Circuit circuit: The Jaqalpaq circuit to be run.\u001b[39;00m\n\u001b[0;32m   (...)\u001b[0m\n\u001b[1;32m     24\u001b[0m \n\u001b[1;32m     25\u001b[0m \u001b[38;5;124;03m    \"\"\"\u001b[39;00m\n",
      "File \u001b[0;32m~/opt/anaconda3/lib/python3.9/site-packages/jaqalpaq/emulator/pygsti/__init__.py:1\u001b[0m, in \u001b[0;36m<module>\u001b[0;34m\u001b[0m\n\u001b[0;32m----> 1\u001b[0m \u001b[38;5;28;01mfrom\u001b[39;00m \u001b[38;5;21;01m.\u001b[39;00m\u001b[38;5;21;01mbackends\u001b[39;00m \u001b[38;5;28;01mimport\u001b[39;00m \u001b[38;5;241m*\u001b[39m\n",
      "File \u001b[0;32m~/opt/anaconda3/lib/python3.9/site-packages/jaqalpaq/emulator/pygsti/backends.py:11\u001b[0m, in \u001b[0;36m<module>\u001b[0;34m\u001b[0m\n\u001b[1;32m      8\u001b[0m \u001b[38;5;28;01mfrom\u001b[39;00m \u001b[38;5;21;01mjaqalpaq\u001b[39;00m\u001b[38;5;21;01m.\u001b[39;00m\u001b[38;5;21;01mcore\u001b[39;00m\u001b[38;5;21;01m.\u001b[39;00m\u001b[38;5;21;01malgorithm\u001b[39;00m\u001b[38;5;21;01m.\u001b[39;00m\u001b[38;5;21;01mwalkers\u001b[39;00m \u001b[38;5;28;01mimport\u001b[39;00m TraceSerializer\n\u001b[1;32m      9\u001b[0m \u001b[38;5;28;01mfrom\u001b[39;00m \u001b[38;5;21;01mjaqalpaq\u001b[39;00m\u001b[38;5;21;01m.\u001b[39;00m\u001b[38;5;21;01memulator\u001b[39;00m\u001b[38;5;21;01m.\u001b[39;00m\u001b[38;5;21;01mbackend\u001b[39;00m \u001b[38;5;28;01mimport\u001b[39;00m IndependentSubcircuitsBackend\n\u001b[0;32m---> 11\u001b[0m \u001b[38;5;28;01mfrom\u001b[39;00m \u001b[38;5;21;01m.\u001b[39;00m\u001b[38;5;21;01mcircuit\u001b[39;00m \u001b[38;5;28;01mimport\u001b[39;00m pygsti_circuit_from_gatelist, pygsti_circuit_from_circuit\n\u001b[1;32m     12\u001b[0m \u001b[38;5;28;01mfrom\u001b[39;00m \u001b[38;5;21;01m.\u001b[39;00m\u001b[38;5;21;01mmodel\u001b[39;00m \u001b[38;5;28;01mimport\u001b[39;00m (\n\u001b[1;32m     13\u001b[0m     build_noiseless_native_model,\n\u001b[1;32m     14\u001b[0m     pygsti_independent_noisy_gate,\n\u001b[1;32m     15\u001b[0m     JaqalOpFactory,\n\u001b[1;32m     16\u001b[0m )\n\u001b[1;32m     19\u001b[0m \u001b[38;5;28;01mclass\u001b[39;00m \u001b[38;5;21;01mpyGSTiEmulator\u001b[39;00m(IndependentSubcircuitsBackend):\n",
      "File \u001b[0;32m~/opt/anaconda3/lib/python3.9/site-packages/jaqalpaq/emulator/pygsti/circuit.py:7\u001b[0m, in \u001b[0;36m<module>\u001b[0;34m\u001b[0m\n\u001b[1;32m      4\u001b[0m \u001b[38;5;28;01mfrom\u001b[39;00m \u001b[38;5;21;01mcollections\u001b[39;00m \u001b[38;5;28;01mimport\u001b[39;00m defaultdict\n\u001b[1;32m      6\u001b[0m \u001b[38;5;28;01mimport\u001b[39;00m \u001b[38;5;21;01mpygsti\u001b[39;00m\n\u001b[0;32m----> 7\u001b[0m \u001b[38;5;28;01mfrom\u001b[39;00m \u001b[38;5;21;01mpygsti\u001b[39;00m\u001b[38;5;21;01m.\u001b[39;00m\u001b[38;5;21;01mobjects\u001b[39;00m \u001b[38;5;28;01mimport\u001b[39;00m Circuit, CircuitLabel, Label\n\u001b[1;32m      9\u001b[0m \u001b[38;5;28;01mfrom\u001b[39;00m \u001b[38;5;21;01mjaqalpaq\u001b[39;00m \u001b[38;5;28;01mimport\u001b[39;00m JaqalError\n\u001b[1;32m     10\u001b[0m \u001b[38;5;28;01mfrom\u001b[39;00m \u001b[38;5;21;01mjaqalpaq\u001b[39;00m\u001b[38;5;21;01m.\u001b[39;00m\u001b[38;5;21;01mcore\u001b[39;00m \u001b[38;5;28;01mimport\u001b[39;00m Macro\n",
      "\u001b[0;31mModuleNotFoundError\u001b[0m: No module named 'pygsti.objects'"
     ]
    }
   ],
   "source": [
    "import jaqalpaq\n",
    "from jaqalpaq.parser import parse_jaqal_file\n",
    "from jaqalpaq.emulator import run_jaqal_circuit\n",
    "from jaqalpaq.generator import generate_jaqal_program\n",
    "\n",
    "JaqalCircuitObject = parse_jaqal_file(\"Sxx_circuit.jaqal\")\n",
    "JaqalCircuitResults = run_jaqal_circuit(JaqalCircuitObject)\n",
    "print(f\"Probabilities: {JaqalCircuitResults.subcircuits[0].probability_by_str}\")\n",
    "JaqalProgram = generate_jaqal_program(JaqalCircuitObject)"
   ]
  },
  {
   "cell_type": "markdown",
   "metadata": {},
   "source": [
    "## Translating to Jaqal\n",
    "\n",
    "Jaqal has built in capability to take circuits from a variety of widly used languages (Qiskit, Quil, pytket, Cirq) and turn them into Jaqal code which can run on QSCOUT. We will walk through the transpilation of our Bernstein-Vazirani circuit from Qiskit into `bernstein_vazirani.jaqal`."
   ]
  },
  {
   "cell_type": "code",
   "execution_count": null,
   "metadata": {},
   "outputs": [],
   "source": [
    "from qiskit import QuantumCircuit\n",
    "\n",
    "\n",
    "s = '011'   # the hidden binary string\n",
    "n = 3 # number of bits used to represent s\n",
    "\n",
    "\n",
    "# We need a circuit with n qubits, plus one auxiliary qubit\n",
    "# We also need n classical bits to write the output to\n",
    "qc = QuantumCircuit(n+1, n)\n",
    "\n",
    "# Put auxiliary in the minus state |->\n",
    "# We leave the other n qubits in just |0>\n",
    "qc.h(n)\n",
    "qc.z(n)\n",
    "\n",
    "# Apply Hadamard gates to each of the n \"main\" qubits (excluding the auxiliary)\n",
    "# before querying the oracle\n",
    "for i in range(n):\n",
    "    qc.h(i)\n",
    "    \n",
    "# Apply barrier\n",
    "qc.barrier()\n",
    "\n",
    "# Apply the inner-product oracle\n",
    "s = s[::-1] # reverse s to fit qiskit's qubit ordering\n",
    "for q in range(n):\n",
    "    if s[q] == '0':\n",
    "        qc.i(q)\n",
    "    else:\n",
    "        qc.cx(q, n)\n",
    "        \n",
    "# Apply barrier\n",
    "qc.barrier()\n",
    "\n",
    "# Apply Hadamard gates after querying the oracle\n",
    "for i in range(n):\n",
    "    qc.h(i)\n",
    "\n",
    "\n",
    "# Measurement\n",
    "for i in range(n):\n",
    "    qc.measure(i, i)\n",
    "\n",
    "qc.draw()"
   ]
  },
  {
   "cell_type": "markdown",
   "metadata": {},
   "source": [
    "## Translation to Jaqal\n",
    "\n",
    "Translation from Qiskit to Jaqal occurs in two steps. First, the above circuit must be unrolled to QSCOUT's native gate set, composed of ion compatible instructions. Then, we can directly translate that circuit object into a Jaqal circuit object."
   ]
  },
  {
   "cell_type": "code",
   "execution_count": null,
   "metadata": {},
   "outputs": [],
   "source": [
    "from qiskit.transpiler import PassManager\n",
    "from jaqalpaq.transpilers.qiskit import ion_pass_manager, jaqal_circuit_from_qiskit_circuit\n",
    "\n",
    "# ion_pass_manager provides a qiskit PassManager object which is supposed to \n",
    "# unroll a qiskit circuit to Jaqal gates, however it struggles\n",
    "# with Qiskit 'I' gate\n",
    "ion_qc = ion_pass_manager().run(qc)\n"
   ]
  },
  {
   "cell_type": "code",
   "execution_count": null,
   "metadata": {},
   "outputs": [],
   "source": [
    "# In order to deal with I, we need to add a relation to the Equivalence Library\n",
    "# of a pass called 'Unroll Custom Definitions'. To get at that pass:\n",
    "pm = ion_pass_manager()\n",
    "passes_array_dict_array = pm.passes()\n",
    "passes_array_dict = passes_array_dict_array[0]\n",
    "passes_array = passes_array_dict['passes']\n",
    "unroll_custom_defs = passes_array[0]\n",
    "print(dir(unroll_custom_defs))\n",
    "\n"
   ]
  },
  {
   "cell_type": "code",
   "execution_count": null,
   "metadata": {},
   "outputs": [],
   "source": [
    "# Now, we get the equivalence library and add the relation\n",
    "# I_Px (Jaqal Identity gate with same duration as Px) = I\n",
    "equiv_lib = unroll_custom_defs._equiv_lib\n",
    "#print(dir(equiv_lib))\n",
    "#print(equiv_lib.__dict__.items())\n",
    "print(equiv_lib.__dict__['_base'].__dict__.items())\n",
    "# equiv_lib.add_equivalence()\n",
    "\n",
    "\n",
    "#pm._equiv_lib.append()\n",
    "#jaq_compat = pm.run(qc)\n",
    "\n",
    "#jaqc = jaqal_circuit_from_qiskit_circuit(jaq_compat) #qc, qiskit_to_jaq_map)\n",
    "#print(generate_jaqal_program(jaqc))"
   ]
  }
 ],
 "metadata": {
  "kernelspec": {
   "display_name": "Python 3 (ipykernel)",
   "language": "python",
   "name": "python3"
  },
  "language_info": {
   "codemirror_mode": {
    "name": "ipython",
    "version": 3
   },
   "file_extension": ".py",
   "mimetype": "text/x-python",
   "name": "python",
   "nbconvert_exporter": "python",
   "pygments_lexer": "ipython3",
   "version": "3.9.12"
  },
  "vscode": {
   "interpreter": {
    "hash": "995d16ebf5e1c92414f66722f6b0c9a85a83273b46dad51bd9b391cad0ce3002"
   }
  }
 },
 "nbformat": 4,
 "nbformat_minor": 2
}
