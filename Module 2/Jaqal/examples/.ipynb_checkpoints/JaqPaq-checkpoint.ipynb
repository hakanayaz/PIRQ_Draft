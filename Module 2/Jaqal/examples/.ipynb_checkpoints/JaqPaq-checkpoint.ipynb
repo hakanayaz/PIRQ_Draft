{
 "cells": [
  {
   "cell_type": "markdown",
   "metadata": {},
   "source": [
    "# Jaqal to IR\n",
    "\n",
    "In this tutorial we will examine Jaqal. [Jaqal](https://www.sandia.gov/quantum/quantum-information-sciences/projects/qscout-jaqal/) (Just Another Quantum Assembly Language) is the QASM built by Sandia Labs for the [QSCOUT](https://www.sandia.gov/quantum/quantum-information-sciences/projects/qscout/) trapped-ion backend.\n",
    "\n",
    "## JaqalPaq\n",
    "\n",
    "We will primarily be using [JaqalPaq](https://gitlab.com/jaqal/jaqalpaq), the python package for Jaqal meta-programming. For details about JaqalPaq installation, see their [guide](https://gitlab.com/jaqal/jaqalpaq).\n",
    "\n",
    "## Basic Usage Example\n",
    "\n",
    "We've provided the `Sxx_circuit.jaqal` file in this repository: to confirm that your installation is valid, run the following code cell. You should see an idealized result array from the noiseless emulator: 50% |00>, 50% |11>"
   ]
  },
  {
   "cell_type": "code",
   "execution_count": 1,
   "metadata": {},
   "outputs": [
    {
     "name": "stdout",
     "output_type": "stream",
     "text": [
      "Requirement already satisfied: jaqalpaq in /Users/hakanayaz/opt/anaconda3/lib/python3.9/site-packages (1.0.0)\n",
      "Requirement already satisfied: sly in /Users/hakanayaz/opt/anaconda3/lib/python3.9/site-packages (from jaqalpaq) (0.4)\n",
      "Note: you may need to restart the kernel to use updated packages.\n"
     ]
    }
   ],
   "source": [
    "pip install jaqalpaq"
   ]
  },
  {
   "cell_type": "code",
   "execution_count": 2,
   "metadata": {},
   "outputs": [
    {
     "name": "stdout",
     "output_type": "stream",
     "text": [
      "Requirement already satisfied: pygsti in /Users/hakanayaz/opt/anaconda3/lib/python3.9/site-packages (0.9.10.1)\n",
      "Requirement already satisfied: numpy>=1.15.0 in /Users/hakanayaz/opt/anaconda3/lib/python3.9/site-packages (from pygsti) (1.21.5)\n",
      "Requirement already satisfied: plotly in /Users/hakanayaz/opt/anaconda3/lib/python3.9/site-packages (from pygsti) (5.6.0)\n",
      "Requirement already satisfied: pandas in /Users/hakanayaz/opt/anaconda3/lib/python3.9/site-packages (from pygsti) (1.4.2)\n",
      "Requirement already satisfied: scipy in /Users/hakanayaz/opt/anaconda3/lib/python3.9/site-packages (from pygsti) (1.7.3)\n",
      "Requirement already satisfied: python-dateutil>=2.8.1 in /Users/hakanayaz/opt/anaconda3/lib/python3.9/site-packages (from pandas->pygsti) (2.8.2)\n",
      "Requirement already satisfied: pytz>=2020.1 in /Users/hakanayaz/opt/anaconda3/lib/python3.9/site-packages (from pandas->pygsti) (2021.3)\n",
      "Requirement already satisfied: six>=1.5 in /Users/hakanayaz/opt/anaconda3/lib/python3.9/site-packages (from python-dateutil>=2.8.1->pandas->pygsti) (1.16.0)\n",
      "Requirement already satisfied: tenacity>=6.2.0 in /Users/hakanayaz/opt/anaconda3/lib/python3.9/site-packages (from plotly->pygsti) (8.0.1)\n",
      "Note: you may need to restart the kernel to use updated packages.\n"
     ]
    }
   ],
   "source": [
    "pip install pygsti"
   ]
  },
  {
   "cell_type": "code",
   "execution_count": 3,
   "metadata": {},
   "outputs": [
    {
     "ename": "ValueError",
     "evalue": "numpy.ndarray size changed, may indicate binary incompatibility. Expected 96 from C header, got 88 from PyObject",
     "output_type": "error",
     "traceback": [
      "\u001b[0;31m---------------------------------------------------------------------------\u001b[0m",
      "\u001b[0;31mValueError\u001b[0m                                Traceback (most recent call last)",
      "Input \u001b[0;32mIn [3]\u001b[0m, in \u001b[0;36m<cell line: 3>\u001b[0;34m()\u001b[0m\n\u001b[1;32m      1\u001b[0m \u001b[38;5;28;01mimport\u001b[39;00m \u001b[38;5;21;01mjaqalpaq\u001b[39;00m\n\u001b[1;32m      2\u001b[0m \u001b[38;5;28;01mfrom\u001b[39;00m \u001b[38;5;21;01mjaqalpaq\u001b[39;00m\u001b[38;5;21;01m.\u001b[39;00m\u001b[38;5;21;01mparser\u001b[39;00m \u001b[38;5;28;01mimport\u001b[39;00m parse_jaqal_file\n\u001b[0;32m----> 3\u001b[0m \u001b[38;5;28;01mfrom\u001b[39;00m \u001b[38;5;21;01mjaqalpaq\u001b[39;00m\u001b[38;5;21;01m.\u001b[39;00m\u001b[38;5;21;01memulator\u001b[39;00m \u001b[38;5;28;01mimport\u001b[39;00m run_jaqal_circuit\n\u001b[1;32m      4\u001b[0m \u001b[38;5;28;01mfrom\u001b[39;00m \u001b[38;5;21;01mjaqalpaq\u001b[39;00m\u001b[38;5;21;01m.\u001b[39;00m\u001b[38;5;21;01mgenerator\u001b[39;00m \u001b[38;5;28;01mimport\u001b[39;00m generate_jaqal_program\n\u001b[1;32m      6\u001b[0m JaqalCircuitObject \u001b[38;5;241m=\u001b[39m parse_jaqal_file(\u001b[38;5;124m\"\u001b[39m\u001b[38;5;124mSxx_circuit.jaqal\u001b[39m\u001b[38;5;124m\"\u001b[39m)\n",
      "File \u001b[0;32m~/opt/anaconda3/lib/python3.9/site-packages/jaqalpaq/emulator/__init__.py:4\u001b[0m, in \u001b[0;36m<module>\u001b[0;34m\u001b[0m\n\u001b[1;32m      1\u001b[0m \u001b[38;5;66;03m# Copyright 2020 National Technology & Engineering Solutions of Sandia, LLC (NTESS).\u001b[39;00m\n\u001b[1;32m      2\u001b[0m \u001b[38;5;66;03m# Under the terms of Contract DE-NA0003525 with NTESS, the U.S. Government retains\u001b[39;00m\n\u001b[1;32m      3\u001b[0m \u001b[38;5;66;03m# certain rights in this software.\u001b[39;00m\n\u001b[0;32m----> 4\u001b[0m \u001b[38;5;28;01mfrom\u001b[39;00m \u001b[38;5;21;01m.\u001b[39;00m\u001b[38;5;21;01mfrontend\u001b[39;00m \u001b[38;5;28;01mimport\u001b[39;00m \u001b[38;5;241m*\u001b[39m\n\u001b[1;32m      5\u001b[0m \u001b[38;5;28;01mfrom\u001b[39;00m \u001b[38;5;21;01m.\u001b[39;00m\u001b[38;5;21;01mpygsti\u001b[39;00m \u001b[38;5;28;01mimport\u001b[39;00m UnitarySerializedEmulator\n\u001b[1;32m      7\u001b[0m __all__ \u001b[38;5;241m=\u001b[39m [\n\u001b[1;32m      8\u001b[0m     \u001b[38;5;124m\"\u001b[39m\u001b[38;5;124mrun_jaqal_string\u001b[39m\u001b[38;5;124m\"\u001b[39m,\n\u001b[1;32m      9\u001b[0m     \u001b[38;5;124m\"\u001b[39m\u001b[38;5;124mrun_jaqal_file\u001b[39m\u001b[38;5;124m\"\u001b[39m,\n\u001b[1;32m     10\u001b[0m     \u001b[38;5;124m\"\u001b[39m\u001b[38;5;124mrun_jaqal_circuit\u001b[39m\u001b[38;5;124m\"\u001b[39m,\n\u001b[1;32m     11\u001b[0m     \u001b[38;5;124m\"\u001b[39m\u001b[38;5;124mUnitarySerializedEmulator\u001b[39m\u001b[38;5;124m\"\u001b[39m,\n\u001b[1;32m     12\u001b[0m ]\n",
      "File \u001b[0;32m~/opt/anaconda3/lib/python3.9/site-packages/jaqalpaq/emulator/frontend.py:6\u001b[0m, in \u001b[0;36m<module>\u001b[0;34m\u001b[0m\n\u001b[1;32m      4\u001b[0m \u001b[38;5;28;01mfrom\u001b[39;00m \u001b[38;5;21;01mjaqalpaq\u001b[39;00m\u001b[38;5;21;01m.\u001b[39;00m\u001b[38;5;21;01mparser\u001b[39;00m \u001b[38;5;28;01mimport\u001b[39;00m parse_jaqal_file, parse_jaqal_string\n\u001b[1;32m      5\u001b[0m \u001b[38;5;28;01mfrom\u001b[39;00m \u001b[38;5;21;01mjaqalpaq\u001b[39;00m\u001b[38;5;21;01m.\u001b[39;00m\u001b[38;5;21;01mcore\u001b[39;00m\u001b[38;5;21;01m.\u001b[39;00m\u001b[38;5;21;01malgorithm\u001b[39;00m \u001b[38;5;28;01mimport\u001b[39;00m expand_macros, fill_in_let\n\u001b[0;32m----> 6\u001b[0m \u001b[38;5;28;01mfrom\u001b[39;00m \u001b[38;5;21;01m.\u001b[39;00m\u001b[38;5;21;01mpygsti\u001b[39;00m \u001b[38;5;28;01mimport\u001b[39;00m UnitarySerializedEmulator\n\u001b[1;32m      9\u001b[0m \u001b[38;5;28;01mdef\u001b[39;00m \u001b[38;5;21mrun_jaqal_circuit\u001b[39m(circuit, backend\u001b[38;5;241m=\u001b[39m\u001b[38;5;28;01mNone\u001b[39;00m):\n\u001b[1;32m     10\u001b[0m     \u001b[38;5;124;03m\"\"\"Execute a Jaqal :class:`~jaqalpaq.core.Circuit` in a noiseless emulator.\u001b[39;00m\n\u001b[1;32m     11\u001b[0m \n\u001b[1;32m     12\u001b[0m \u001b[38;5;124;03m    :param Circuit circuit: The Jaqalpaq circuit to be run.\u001b[39;00m\n\u001b[0;32m   (...)\u001b[0m\n\u001b[1;32m     24\u001b[0m \n\u001b[1;32m     25\u001b[0m \u001b[38;5;124;03m    \"\"\"\u001b[39;00m\n",
      "File \u001b[0;32m~/opt/anaconda3/lib/python3.9/site-packages/jaqalpaq/emulator/pygsti/__init__.py:1\u001b[0m, in \u001b[0;36m<module>\u001b[0;34m\u001b[0m\n\u001b[0;32m----> 1\u001b[0m \u001b[38;5;28;01mfrom\u001b[39;00m \u001b[38;5;21;01m.\u001b[39;00m\u001b[38;5;21;01mbackends\u001b[39;00m \u001b[38;5;28;01mimport\u001b[39;00m \u001b[38;5;241m*\u001b[39m\n",
      "File \u001b[0;32m~/opt/anaconda3/lib/python3.9/site-packages/jaqalpaq/emulator/pygsti/backends.py:6\u001b[0m, in \u001b[0;36m<module>\u001b[0;34m\u001b[0m\n\u001b[1;32m      1\u001b[0m \u001b[38;5;66;03m# Copyright 2020 National Technology & Engineering Solutions of Sandia, LLC (NTESS).\u001b[39;00m\n\u001b[1;32m      2\u001b[0m \u001b[38;5;66;03m# Under the terms of Contract DE-NA0003525 with NTESS, the U.S. Government retains\u001b[39;00m\n\u001b[1;32m      3\u001b[0m \u001b[38;5;66;03m# certain rights in this software.\u001b[39;00m\n\u001b[1;32m      4\u001b[0m \u001b[38;5;28;01mfrom\u001b[39;00m \u001b[38;5;21;01mnumpy\u001b[39;00m \u001b[38;5;28;01mimport\u001b[39;00m array\n\u001b[0;32m----> 6\u001b[0m \u001b[38;5;28;01mimport\u001b[39;00m \u001b[38;5;21;01mpygsti\u001b[39;00m\n\u001b[1;32m      8\u001b[0m \u001b[38;5;28;01mfrom\u001b[39;00m \u001b[38;5;21;01mjaqalpaq\u001b[39;00m\u001b[38;5;21;01m.\u001b[39;00m\u001b[38;5;21;01mcore\u001b[39;00m\u001b[38;5;21;01m.\u001b[39;00m\u001b[38;5;21;01malgorithm\u001b[39;00m\u001b[38;5;21;01m.\u001b[39;00m\u001b[38;5;21;01mwalkers\u001b[39;00m \u001b[38;5;28;01mimport\u001b[39;00m TraceSerializer\n\u001b[1;32m      9\u001b[0m \u001b[38;5;28;01mfrom\u001b[39;00m \u001b[38;5;21;01mjaqalpaq\u001b[39;00m\u001b[38;5;21;01m.\u001b[39;00m\u001b[38;5;21;01memulator\u001b[39;00m\u001b[38;5;21;01m.\u001b[39;00m\u001b[38;5;21;01mbackend\u001b[39;00m \u001b[38;5;28;01mimport\u001b[39;00m IndependentSubcircuitsBackend\n",
      "File \u001b[0;32m~/opt/anaconda3/lib/python3.9/site-packages/pygsti/__init__.py:11\u001b[0m, in \u001b[0;36m<module>\u001b[0;34m\u001b[0m\n\u001b[1;32m      1\u001b[0m \u001b[38;5;66;03m#***************************************************************************************************\u001b[39;00m\n\u001b[1;32m      2\u001b[0m \u001b[38;5;66;03m# Copyright 2015, 2019 National Technology & Engineering Solutions of Sandia, LLC (NTESS).\u001b[39;00m\n\u001b[1;32m      3\u001b[0m \u001b[38;5;66;03m# Under the terms of Contract DE-NA0003525 with NTESS, the U.S. Government retains certain rights\u001b[39;00m\n\u001b[0;32m   (...)\u001b[0m\n\u001b[1;32m      7\u001b[0m \u001b[38;5;66;03m# http://www.apache.org/licenses/LICENSE-2.0 or in the LICENSE file in the root pyGSTi directory.\u001b[39;00m\n\u001b[1;32m      8\u001b[0m \u001b[38;5;66;03m#***************************************************************************************************\u001b[39;00m\n\u001b[1;32m      9\u001b[0m \u001b[38;5;124;03m\"\"\" A Python implementation of LinearOperator Set Tomography \"\"\"\u001b[39;00m\n\u001b[0;32m---> 11\u001b[0m \u001b[38;5;28;01mfrom\u001b[39;00m \u001b[38;5;21;01m.\u001b[39;00m \u001b[38;5;28;01mimport\u001b[39;00m baseobjs\n\u001b[1;32m     12\u001b[0m \u001b[38;5;28;01mfrom\u001b[39;00m \u001b[38;5;21;01m.\u001b[39;00m \u001b[38;5;28;01mimport\u001b[39;00m algorithms \u001b[38;5;28;01mas\u001b[39;00m alg\n\u001b[1;32m     13\u001b[0m \u001b[38;5;28;01mfrom\u001b[39;00m \u001b[38;5;21;01m.\u001b[39;00m \u001b[38;5;28;01mimport\u001b[39;00m circuits\n",
      "File \u001b[0;32m~/opt/anaconda3/lib/python3.9/site-packages/pygsti/baseobjs/__init__.py:23\u001b[0m, in \u001b[0;36m<module>\u001b[0;34m\u001b[0m\n\u001b[1;32m     21\u001b[0m \u001b[38;5;28;01mfrom\u001b[39;00m \u001b[38;5;21;01m.\u001b[39;00m\u001b[38;5;21;01mresourceallocation\u001b[39;00m \u001b[38;5;28;01mimport\u001b[39;00m ResourceAllocation\n\u001b[1;32m     22\u001b[0m \u001b[38;5;28;01mfrom\u001b[39;00m \u001b[38;5;21;01m.\u001b[39;00m\u001b[38;5;21;01mqubitgraph\u001b[39;00m \u001b[38;5;28;01mimport\u001b[39;00m QubitGraph\n\u001b[0;32m---> 23\u001b[0m \u001b[38;5;28;01mfrom\u001b[39;00m \u001b[38;5;21;01m.\u001b[39;00m\u001b[38;5;21;01merrorgenbasis\u001b[39;00m \u001b[38;5;28;01mimport\u001b[39;00m ElementaryErrorgenBasis, ExplicitElementaryErrorgenBasis, CompleteElementaryErrorgenBasis\n\u001b[1;32m     24\u001b[0m \u001b[38;5;28;01mfrom\u001b[39;00m \u001b[38;5;21;01m.\u001b[39;00m\u001b[38;5;21;01merrorgenspace\u001b[39;00m \u001b[38;5;28;01mimport\u001b[39;00m ErrorgenSpace\n\u001b[1;32m     25\u001b[0m \u001b[38;5;28;01mfrom\u001b[39;00m \u001b[38;5;21;01m.\u001b[39;00m\u001b[38;5;21;01munitarygatefunction\u001b[39;00m \u001b[38;5;28;01mimport\u001b[39;00m UnitaryGateFunction\n",
      "File \u001b[0;32m~/opt/anaconda3/lib/python3.9/site-packages/pygsti/baseobjs/errorgenbasis.py:19\u001b[0m, in \u001b[0;36m<module>\u001b[0;34m\u001b[0m\n\u001b[1;32m     17\u001b[0m \u001b[38;5;28;01mfrom\u001b[39;00m \u001b[38;5;21;01mpygsti\u001b[39;00m\u001b[38;5;21;01m.\u001b[39;00m\u001b[38;5;21;01mbaseobjs\u001b[39;00m \u001b[38;5;28;01mimport\u001b[39;00m Basis \u001b[38;5;28;01mas\u001b[39;00m _Basis\n\u001b[1;32m     18\u001b[0m \u001b[38;5;28;01mfrom\u001b[39;00m \u001b[38;5;21;01mpygsti\u001b[39;00m\u001b[38;5;21;01m.\u001b[39;00m\u001b[38;5;21;01mbaseobjs\u001b[39;00m\u001b[38;5;21;01m.\u001b[39;00m\u001b[38;5;21;01merrorgenlabel\u001b[39;00m \u001b[38;5;28;01mimport\u001b[39;00m GlobalElementaryErrorgenLabel \u001b[38;5;28;01mas\u001b[39;00m _GlobalElementaryErrorgenLabel\n\u001b[0;32m---> 19\u001b[0m \u001b[38;5;28;01mfrom\u001b[39;00m \u001b[38;5;21;01mpygsti\u001b[39;00m\u001b[38;5;21;01m.\u001b[39;00m\u001b[38;5;21;01mtools\u001b[39;00m \u001b[38;5;28;01mimport\u001b[39;00m optools \u001b[38;5;28;01mas\u001b[39;00m _ot\n\u001b[1;32m     22\u001b[0m \u001b[38;5;28;01mclass\u001b[39;00m \u001b[38;5;21;01mElementaryErrorgenBasis\u001b[39;00m(\u001b[38;5;28mobject\u001b[39m):\n\u001b[1;32m     23\u001b[0m     \u001b[38;5;124;03m\"\"\"\u001b[39;00m\n\u001b[1;32m     24\u001b[0m \u001b[38;5;124;03m    A basis for error-generator space defined by a set of elementary error generators.\u001b[39;00m\n\u001b[1;32m     25\u001b[0m \n\u001b[1;32m     26\u001b[0m \u001b[38;5;124;03m    Elements are ordered (have definite indices) and labeled.\u001b[39;00m\n\u001b[1;32m     27\u001b[0m \u001b[38;5;124;03m    Intersection and union can be performed as a set.\u001b[39;00m\n\u001b[1;32m     28\u001b[0m \u001b[38;5;124;03m    \"\"\"\u001b[39;00m\n",
      "File \u001b[0;32m~/opt/anaconda3/lib/python3.9/site-packages/pygsti/tools/__init__.py:13\u001b[0m, in \u001b[0;36m<module>\u001b[0;34m\u001b[0m\n\u001b[1;32m      1\u001b[0m \u001b[38;5;124;03m\"\"\"\u001b[39;00m\n\u001b[1;32m      2\u001b[0m \u001b[38;5;124;03mpyGSTi Tools Python Package\u001b[39;00m\n\u001b[1;32m      3\u001b[0m \u001b[38;5;124;03m\"\"\"\u001b[39;00m\n\u001b[1;32m      4\u001b[0m \u001b[38;5;66;03m#***************************************************************************************************\u001b[39;00m\n\u001b[1;32m      5\u001b[0m \u001b[38;5;66;03m# Copyright 2015, 2019 National Technology & Engineering Solutions of Sandia, LLC (NTESS).\u001b[39;00m\n\u001b[1;32m      6\u001b[0m \u001b[38;5;66;03m# Under the terms of Contract DE-NA0003525 with NTESS, the U.S. Government retains certain rights\u001b[39;00m\n\u001b[0;32m   (...)\u001b[0m\n\u001b[1;32m     10\u001b[0m \u001b[38;5;66;03m# http://www.apache.org/licenses/LICENSE-2.0 or in the LICENSE file in the root pyGSTi directory.\u001b[39;00m\n\u001b[1;32m     11\u001b[0m \u001b[38;5;66;03m#***************************************************************************************************\u001b[39;00m\n\u001b[0;32m---> 13\u001b[0m \u001b[38;5;28;01mfrom\u001b[39;00m \u001b[38;5;21;01m.\u001b[39;00m\u001b[38;5;21;01mbasistools\u001b[39;00m \u001b[38;5;28;01mimport\u001b[39;00m \u001b[38;5;241m*\u001b[39m\n\u001b[1;32m     14\u001b[0m \u001b[38;5;28;01mfrom\u001b[39;00m \u001b[38;5;21;01m.\u001b[39;00m\u001b[38;5;21;01mchi2fns\u001b[39;00m \u001b[38;5;28;01mimport\u001b[39;00m \u001b[38;5;241m*\u001b[39m\n\u001b[1;32m     15\u001b[0m \u001b[38;5;28;01mfrom\u001b[39;00m \u001b[38;5;21;01m.\u001b[39;00m\u001b[38;5;21;01medesigntools\u001b[39;00m \u001b[38;5;28;01mimport\u001b[39;00m \u001b[38;5;241m*\u001b[39m\n",
      "File \u001b[0;32m~/opt/anaconda3/lib/python3.9/site-packages/pygsti/tools/basistools.py:524\u001b[0m, in \u001b[0;36m<module>\u001b[0;34m\u001b[0m\n\u001b[1;32m    521\u001b[0m qtvec_to_stdmx \u001b[38;5;241m=\u001b[39m partial(vec_to_stdmx, basis\u001b[38;5;241m=\u001b[39m\u001b[38;5;124m'\u001b[39m\u001b[38;5;124mqt\u001b[39m\u001b[38;5;124m'\u001b[39m)\n\u001b[1;32m    522\u001b[0m stdvec_to_stdmx \u001b[38;5;241m=\u001b[39m partial(vec_to_stdmx, basis\u001b[38;5;241m=\u001b[39m\u001b[38;5;124m'\u001b[39m\u001b[38;5;124mstd\u001b[39m\u001b[38;5;124m'\u001b[39m)\n\u001b[0;32m--> 524\u001b[0m \u001b[38;5;28;01mfrom\u001b[39;00m \u001b[38;5;21;01m.\u001b[39;00m \u001b[38;5;28;01mimport\u001b[39;00m matrixtools \u001b[38;5;28;01mas\u001b[39;00m _mt\n\u001b[1;32m    527\u001b[0m \u001b[38;5;28;01mdef\u001b[39;00m \u001b[38;5;21mstdmx_to_vec\u001b[39m(m, basis):\n\u001b[1;32m    528\u001b[0m     \u001b[38;5;124;03m\"\"\"\u001b[39;00m\n\u001b[1;32m    529\u001b[0m \u001b[38;5;124;03m    Convert a matrix in the standard basis to a vector in the Pauli basis.\u001b[39;00m\n\u001b[1;32m    530\u001b[0m \n\u001b[0;32m   (...)\u001b[0m\n\u001b[1;32m    544\u001b[0m \u001b[38;5;124;03m        The vector, length 4 or 16 respectively.\u001b[39;00m\n\u001b[1;32m    545\u001b[0m \u001b[38;5;124;03m    \"\"\"\u001b[39;00m\n",
      "File \u001b[0;32m~/opt/anaconda3/lib/python3.9/site-packages/pygsti/tools/matrixtools.py:26\u001b[0m, in \u001b[0;36m<module>\u001b[0;34m\u001b[0m\n\u001b[1;32m     23\u001b[0m \u001b[38;5;28;01mfrom\u001b[39;00m \u001b[38;5;21;01mpygsti\u001b[39;00m\u001b[38;5;21;01m.\u001b[39;00m\u001b[38;5;21;01mtools\u001b[39;00m\u001b[38;5;21;01m.\u001b[39;00m\u001b[38;5;21;01mbasistools\u001b[39;00m \u001b[38;5;28;01mimport\u001b[39;00m change_basis\n\u001b[1;32m     25\u001b[0m \u001b[38;5;28;01mtry\u001b[39;00m:\n\u001b[0;32m---> 26\u001b[0m     \u001b[38;5;28;01mfrom\u001b[39;00m \u001b[38;5;21;01m.\u001b[39;00m \u001b[38;5;28;01mimport\u001b[39;00m fastcalc \u001b[38;5;28;01mas\u001b[39;00m _fastcalc\n\u001b[1;32m     27\u001b[0m \u001b[38;5;28;01mexcept\u001b[39;00m \u001b[38;5;167;01mImportError\u001b[39;00m:\n\u001b[1;32m     28\u001b[0m     _fastcalc \u001b[38;5;241m=\u001b[39m \u001b[38;5;28;01mNone\u001b[39;00m\n",
      "File \u001b[0;32m~/opt/anaconda3/lib/python3.9/site-packages/pygsti/tools/fastcalc.pyx:1\u001b[0m, in \u001b[0;36minit pygsti.tools.fastcalc\u001b[0;34m()\u001b[0m\n",
      "\u001b[0;31mValueError\u001b[0m: numpy.ndarray size changed, may indicate binary incompatibility. Expected 96 from C header, got 88 from PyObject"
     ]
    }
   ],
   "source": [
    "import jaqalpaq\n",
    "from jaqalpaq.parser import parse_jaqal_file\n",
    "from jaqalpaq.emulator import run_jaqal_circuit\n",
    "from jaqalpaq.generator import generate_jaqal_program\n",
    "\n",
    "JaqalCircuitObject = parse_jaqal_file(\"Sxx_circuit.jaqal\")\n",
    "JaqalCircuitResults = run_jaqal_circuit(JaqalCircuitObject)\n",
    "print(f\"Probabilities: {JaqalCircuitResults.subcircuits[0].probability_by_str}\")\n",
    "JaqalProgram = generate_jaqal_program(JaqalCircuitObject)"
   ]
  },
  {
   "cell_type": "markdown",
   "metadata": {},
   "source": [
    "## Translating, Transpiling, and Lowering from Jaqal\n",
    "\n",
    "In order to bring Jaqal to LLVM IR, we will leverage the built in capability of JaqalPaq to export a Jaqal program to a Qiskit circuit. Then, we can transpile, export as OpenQASM, and lower to IR using qcor as we've done previously. We will recreate the Bernstein-Vazirani circuit we've been using this far in `bernstein_vazirani.jaqal`."
   ]
  },
  {
   "cell_type": "code",
   "execution_count": 20,
   "metadata": {},
   "outputs": [
    {
     "name": "stdout",
     "output_type": "stream",
     "text": [
      "['__call__', '__class__', '__delattr__', '__dict__', '__dir__', '__doc__', '__eq__', '__format__', '__ge__', '__getattribute__', '__gt__', '__hash__', '__init__', '__init_subclass__', '__le__', '__lt__', '__module__', '__ne__', '__new__', '__reduce__', '__reduce_ex__', '__repr__', '__setattr__', '__sizeof__', '__str__', '__subclasshook__', '__weakref__', '_basis_gates', '_equiv_lib', '_hash', 'is_analysis_pass', 'is_transformation_pass', 'name', 'preserves', 'property_set', 'requires', 'run']\n",
      "<qiskit.circuit.equivalence.EquivalenceLibrary object at 0x0000028EEEBC5250>\n"
     ]
    }
   ],
   "source": [
    "from qiskit import QuantumCircuit\n",
    "from jaqalpaq.transpilers.qiskit import ion_pass_manager, jaqal_circuit_from_qiskit_circuit\n",
    "\n",
    "\n",
    "### Lets defined a new circuit of your choice with no measurements\n",
    "\n",
    "s = '011'   # the hidden binary string\n",
    "n = 3 # number of bits used to represent s\n",
    "\n",
    "\n",
    "# We need a circuit with n qubits, plus one auxiliary qubit\n",
    "# We also need n classical bits to write the output to\n",
    "qc = QuantumCircuit(n+1, n)\n",
    "\n",
    "# Put auxiliary in the minus state |->\n",
    "# We leave the other n qubits in just |0>\n",
    "qc.h(n)\n",
    "qc.z(n)\n",
    "\n",
    "# Apply Hadamard gates to each of the n \"main\" qubits (excluding the auxiliary)\n",
    "# before querying the oracle\n",
    "for i in range(n):\n",
    "    qc.h(i)\n",
    "    \n",
    "# Apply barrier\n",
    "qc.barrier()\n",
    "\n",
    "# Apply the inner-product oracle\n",
    "s = s[::-1] # reverse s to fit qiskit's qubit ordering\n",
    "for q in range(n):\n",
    "    if s[q] == '0':\n",
    "        qc.i(q)\n",
    "    else:\n",
    "        qc.cx(q, n)\n",
    "        \n",
    "# Apply barrier\n",
    "qc.barrier()\n",
    "\n",
    "# Apply Hadamard gates after querying the oracle\n",
    "for i in range(n):\n",
    "    qc.h(i)\n",
    "\n",
    "\n",
    "# Measurement\n",
    "for i in range(n):\n",
    "    qc.measure(i, i)\n",
    "\n",
    "\n",
    "# This is supposed to unroll a qiskit circuit to Jaqal gates, however it struggles\n",
    "# with Qiskit 'I' gate\n",
    "pm = ion_pass_manager()\n",
    "\n",
    "# In order to deal with I, we need to add a relation to the Equivalence Library\n",
    "# of a pass called 'Unroll Custom Definitions'. To get at that pass:\n",
    "passes_array_dict_array = pm.passes()\n",
    "passes_array_dict = passes_array_dict_array[0]\n",
    "passes_array = passes_array_dict['passes']\n",
    "unroll_custom_defs = passes_array[0]\n",
    "\n",
    "\n",
    "# Now, we get the equivalence library and add the relation\n",
    "# I_Px (Jaqal Identity gate with same duration as Px) = I\n",
    "equiv_lib = unroll_custom_defs._equiv_lib\n",
    "equiv_lib.add_equivalence()\n",
    "\n",
    "\n",
    "\n",
    "\n",
    "#pm._equiv_lib.append()\n",
    "#jaq_compat = pm.run(qc)\n",
    "\n",
    "#jaqc = jaqal_circuit_from_qiskit_circuit(jaq_compat) #qc, qiskit_to_jaq_map)\n",
    "#print(generate_jaqal_program(jaqc))\n",
    "\n"
   ]
  }
 ],
 "metadata": {
  "kernelspec": {
   "display_name": "Python 3 (ipykernel)",
   "language": "python",
   "name": "python3"
  },
  "language_info": {
   "codemirror_mode": {
    "name": "ipython",
    "version": 3
   },
   "file_extension": ".py",
   "mimetype": "text/x-python",
   "name": "python",
   "nbconvert_exporter": "python",
   "pygments_lexer": "ipython3",
   "version": "3.9.12"
  },
  "vscode": {
   "interpreter": {
    "hash": "995d16ebf5e1c92414f66722f6b0c9a85a83273b46dad51bd9b391cad0ce3002"
   }
  }
 },
 "nbformat": 4,
 "nbformat_minor": 2
}
