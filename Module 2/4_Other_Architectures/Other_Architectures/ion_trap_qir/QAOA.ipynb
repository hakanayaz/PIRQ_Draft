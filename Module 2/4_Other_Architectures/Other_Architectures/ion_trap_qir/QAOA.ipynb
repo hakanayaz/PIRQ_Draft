{
 "cells": [
  {
   "cell_type": "markdown",
   "metadata": {},
   "source": [
    "# Max Cut QAOA - Pennylane\n",
    "\n",
    "In this notebook, we present an implementation of the Hybrid Max Cut QAOA using Xanadu's Pennylane Python framework. [Here](https://pennylane.ai/qml/demos/tutorial_qaoa_maxcut.html) is the source.\n",
    "\n",
    "For information about the max cut problem, see [here](https://en.wikipedia.org/wiki/Maximum_cut).\n",
    "\n",
    "The first step is to import the Pennylane package and set up our graph. Make sure you have Pennylane installed:\n",
    "```terminal\n",
    "pip install pennylane\n",
    "```"
   ]
  },
  {
   "cell_type": "code",
   "execution_count": 1,
   "metadata": {},
   "outputs": [],
   "source": [
    "import pennylane as qml\n",
    "from pennylane import numpy as np\n",
    "\n",
    "n_vertices = 4\n",
    "graph = [(0, 1), (0, 3), (1, 2), (2, 3)]"
   ]
  },
  {
   "cell_type": "markdown",
   "metadata": {},
   "source": [
    "As you can see, we specify the number of vertices and define the edge list of the graph. Visually, our graph looks like this:\n",
    "\n",
    "![Graph in question](graph.png)\n",
    "\n",
    "Our QAOA will be made up of __2p__ parameters and layers. Each layer will be defined by a parameterizable unitary operator. The cost layers will be comprised of the operator U_C and are parametrized by gamma_1, ..., gamma_p and similarly the mixing layers will be made up of U_B paramterized by beta_1, ..., beta_p. We define these custom gates below:"
   ]
  },
  {
   "cell_type": "code",
   "execution_count": 2,
   "metadata": {},
   "outputs": [],
   "source": [
    "n_qubits = n_vertices\n",
    "\n",
    "# Mixing operator, a one qubit gate\n",
    "def U_B(beta_i):\n",
    "    for qubit in range(n_qubits):\n",
    "        qml.RX(2 * beta_i, wires = qubit)\n",
    "\n",
    "# The cost operator is a two qubit gate, as it contains a few CNOT's\n",
    "def U_C(gamma_i):\n",
    "    for edge in graph:\n",
    "        qubit1 = edge[0]\n",
    "        qubit2 = edge[1]\n",
    "        qml.CNOT(wires = [qubit1, qubit2])\n",
    "        qml.RZ(gamma_i, wires = qubit2)\n",
    "        qml.CNOT(wires = [qubit1, qubit2])"
   ]
  },
  {
   "cell_type": "markdown",
   "metadata": {},
   "source": [
    "With these custom unitary's in hand, we can continue on to define the quantum circuit and specify the quantum backend it will run on. We put all of the qubits in a uniform superposition with Hadamard gates, perform the cost and mixing steps __p__ times, and then measure some subset of qubits (or __wires__, in the Pennylane terminology)."
   ]
  },
  {
   "cell_type": "code",
   "execution_count": 3,
   "metadata": {},
   "outputs": [],
   "source": [
    "# Backend\n",
    "device = qml.device(\"default.qubit\", wires = n_qubits, shots = 1)\n",
    "\n",
    "# Used to measure in the computational basis\n",
    "pauli_z = [[1, 0], [0, -1]]\n",
    "pauli_z_2 = np.kron(pauli_z, pauli_z, requires_grad = False)\n",
    "\n",
    "# Marks this function as a \"QNode\", meaning it should be run on quantum hardware\n",
    "@qml.qnode(device)\n",
    "def circuit(gammas, betas, edge=None, p=1):\n",
    "    for qubit in range(n_qubits):\n",
    "        qml.Hadamard(wires = qubit)\n",
    "    \n",
    "    for i in range(p):\n",
    "        U_C(gammas[i])\n",
    "        U_B(betas[i])\n",
    "\n",
    "    if edge is None:\n",
    "        return qml.sample()\n",
    "\n",
    "    return qml.expval(qml.Hermitian(pauli_z_2, wires = edge))"
   ]
  },
  {
   "cell_type": "markdown",
   "metadata": {},
   "source": [
    "Finally, we define a utility function for converting between bit strings and base 10 integers. Now, we're ready to run our QAOA. This takes place in several steps:\n",
    "\n",
    "1. Initialize parameters\n",
    "2. Define the \"objective function\" we wish the classical optimizer to minimize (or maximize the negative)"
   ]
  },
  {
   "cell_type": "code",
   "execution_count": 10,
   "metadata": {},
   "outputs": [
    {
     "name": "stdout",
     "output_type": "stream",
     "text": [
      "\n",
      "p=1\n",
      "Objective after step     1:  1.0000000\n",
      "Optimized (gamma, beta) vectors:\n",
      "[[0.50409429]\n",
      " [0.50612332]]\n",
      "Most frequently sampled bit string is: 0000\n",
      "\n",
      "p=2\n",
      "Objective after step     1:  3.0000000\n",
      "Optimized (gamma, beta) vectors:\n",
      "[[ 0.50212234 -0.49052642]\n",
      " [-0.49847768  0.50738513]]\n",
      "Most frequently sampled bit string is: 1010\n"
     ]
    }
   ],
   "source": [
    "def bitstring_to_int(bit_string_sample):\n",
    "    bit_string = \"\".join(str(bs) for bs in bit_string_sample)\n",
    "    return int(bit_string, base=2)\n",
    "\n",
    "def qaoa_maxcut(p=1):\n",
    "    print(\"\\np={:d}\".format(p))\n",
    "\n",
    "    # initialize the parameters near zero\n",
    "    init_params = 0.01 * np.random.rand(2, p, requires_grad=True)\n",
    "    # print(init_params)\n",
    "    # init_params = np.tensor_wrapper([1.0, 1.0], requires_grad=True)\n",
    "\n",
    "    # minimize the negative of the objective function\n",
    "    def objective(params):\n",
    "        gammas = params[0]\n",
    "        betas = params[1]\n",
    "        neg_obj = 0\n",
    "        for edge in graph:\n",
    "            # objective for the MaxCut problem\n",
    "            neg_obj -= 0.5 * (1 - circuit(gammas, betas, edge=edge, p=p))\n",
    "        return neg_obj\n",
    "\n",
    "    # initialize optimizer: Adagrad works well empirically\n",
    "    opt = qml.AdagradOptimizer(stepsize=0.5)\n",
    "\n",
    "    # optimize parameters in objective\n",
    "    params = init_params\n",
    "    steps = 1\n",
    "    for i in range(steps):\n",
    "        params = opt.step(objective, params)\n",
    "        # if (i + 1) % 5 == 0:\n",
    "        print(\"Objective after step {:5d}: {: .7f}\".format(i + 1, -objective(params)))\n",
    "\n",
    "    # sample measured bitstrings 100 times\n",
    "    bit_strings = []\n",
    "    n_samples = 100\n",
    "    for i in range(0, n_samples):\n",
    "        bit_strings.append(bitstring_to_int(circuit(params[0], params[1], edge=None, p=p)))\n",
    "\n",
    "    # print optimal parameters and most frequently sampled bitstring\n",
    "    counts = np.bincount(np.array(bit_strings))\n",
    "    most_freq_bit_string = np.argmax(counts)\n",
    "    print(\"Optimized (gamma, beta) vectors:\\n{}\".format(params[:, :p]))\n",
    "    print(\"Most frequently sampled bit string is: {:04b}\".format(most_freq_bit_string))\n",
    "\n",
    "    return -objective(params), bit_strings\n",
    "\n",
    "\n",
    "# perform qaoa on our graph with p=1,2 and\n",
    "# keep the bitstring sample lists\n",
    "bitstrings1 = qaoa_maxcut(p=1)[1]\n",
    "bitstrings2 = qaoa_maxcut(p=2)[1]\n",
    "\n",
    "# Transpilation\n",
    "# Dump to Qiskit -> QASM"
   ]
  }
 ],
 "metadata": {
  "kernelspec": {
   "display_name": "Python 3.8.3 64-bit",
   "language": "python",
   "name": "python3"
  },
  "language_info": {
   "codemirror_mode": {
    "name": "ipython",
    "version": 3
   },
   "file_extension": ".py",
   "mimetype": "text/x-python",
   "name": "python",
   "nbconvert_exporter": "python",
   "pygments_lexer": "ipython3",
   "version": "3.8.3"
  },
  "orig_nbformat": 4,
  "vscode": {
   "interpreter": {
    "hash": "995d16ebf5e1c92414f66722f6b0c9a85a83273b46dad51bd9b391cad0ce3002"
   }
  }
 },
 "nbformat": 4,
 "nbformat_minor": 2
}
