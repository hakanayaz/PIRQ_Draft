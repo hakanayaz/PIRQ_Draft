{
 "cells": [
  {
   "cell_type": "code",
   "execution_count": 1,
   "metadata": {},
   "outputs": [
    {
     "name": "stderr",
     "output_type": "stream",
     "text": [
      "\u001b[32m\u001b[1m    Updating\u001b[22m\u001b[39m registry at `C:\\Users\\piegu\\.julia\\registries\\General.toml`\n",
      "\u001b[32m\u001b[1m   Resolving\u001b[22m\u001b[39m package versions...\n",
      "\u001b[32m\u001b[1m  No Changes\u001b[22m\u001b[39m to `C:\\Users\\piegu\\.julia\\environments\\v1.7\\Project.toml`\n",
      "\u001b[32m\u001b[1m  No Changes\u001b[22m\u001b[39m to `C:\\Users\\piegu\\.julia\\environments\\v1.7\\Manifest.toml`\n"
     ]
    }
   ],
   "source": [
    "using Pkg\n",
    "Pkg.add(\"OpenQASM\")"
   ]
  },
  {
   "cell_type": "code",
   "execution_count": 3,
   "metadata": {},
   "outputs": [
    {
     "data": {
      "text/plain": [
       "\"OPENQASM 3.0;\\ninclude \\\"stdgates.inc\\\";\\n\\n// Source: https://quantumcomputing.com/strangeworks/projects/getting-started-bell-state/files/bell-qasm.qasm\\n\\n// This is a basic quantum circuit that creates an entangled pair\\n\\nqreg q[2];\\t\\t    // create a quantum register with 2 qu\" ⋯ 145 bytes ⋯ \"// perform control-not gate on both qubits\\n// z q[1];\\n// an entangled state of the Bell-pair form has been created!\\n  \\nmeasure q[0] -> c[0];\\t//measure one qubit, and put outcome in one bit\\nmeasure q[1] -> c[1];\\t//measure the other qubit, and put outcome in the other bit\""
      ]
     },
     "execution_count": 3,
     "metadata": {},
     "output_type": "execute_result"
    }
   ],
   "source": [
    "bell = \"\"\"OPENQASM 3.0;\n",
    "include \"stdgates.inc\";\n",
    "\n",
    "// Source: https://quantumcomputing.com/strangeworks/projects/getting-started-bell-state/files/bell-qasm.qasm\n",
    "\n",
    "// This is a basic quantum circuit that creates an entangled pair\n",
    "\n",
    "qreg q[2];\t\t    // create a quantum register with 2 qubits\n",
    "creg c[2]; \t\t    // create a classical register with 2 bits\n",
    "U(pi/2, 0, pi) q[0];  // perform Hadamard gate on one qubit\n",
    "CX q[0],q[1];  \t    // perform control-not gate on both qubits\n",
    "// z q[1];\n",
    "// an entangled state of the Bell-pair form has been created!\n",
    "  \n",
    "measure q[0] -> c[0];\t//measure one qubit, and put outcome in one bit\n",
    "measure q[1] -> c[1];\t//measure the other qubit, and put outcome in the other bit\"\"\""
   ]
  },
  {
   "cell_type": "code",
   "execution_count": 5,
   "metadata": {},
   "outputs": [
    {
     "ename": "LoadError",
     "evalue": "MethodError: no method matching run(::String)\n\u001b[0mClosest candidates are:\n\u001b[0m  run(\u001b[91m::Base.AbstractCmd\u001b[39m, \u001b[91m::Any...\u001b[39m; wait) at C:\\Users\\piegu\\AppData\\Local\\Programs\\Julia-1.7.3\\share\\julia\\base\\process.jl:452",
     "output_type": "error",
     "traceback": [
      "MethodError: no method matching run(::String)\n\u001b[0mClosest candidates are:\n\u001b[0m  run(\u001b[91m::Base.AbstractCmd\u001b[39m, \u001b[91m::Any...\u001b[39m; wait) at C:\\Users\\piegu\\AppData\\Local\\Programs\\Julia-1.7.3\\share\\julia\\base\\process.jl:452",
      "",
      "Stacktrace:",
      " [1] top-level scope",
      "   @ In[5]:3",
      " [2] eval",
      "   @ .\\boot.jl:373 [inlined]",
      " [3] include_string(mapexpr::typeof(REPL.softscope), mod::Module, code::String, filename::String)",
      "   @ Base .\\loading.jl:1196"
     ]
    }
   ],
   "source": [
    "using OpenQASM\n",
    "\n",
    "OpenQASM.run(bell)"
   ]
  }
 ],
 "metadata": {
  "kernelspec": {
   "display_name": "Julia 1.7.3",
   "language": "julia",
   "name": "julia-1.7"
  },
  "language_info": {
   "file_extension": ".jl",
   "mimetype": "application/julia",
   "name": "julia",
   "version": "1.7.3"
  },
  "orig_nbformat": 4
 },
 "nbformat": 4,
 "nbformat_minor": 2
}
