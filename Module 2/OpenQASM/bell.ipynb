{
 "cells": [
  {
   "cell_type": "code",
   "execution_count": 21,
   "metadata": {},
   "outputs": [
    {
     "name": "stderr",
     "output_type": "stream",
     "text": [
      "\u001b[32m\u001b[1m   Resolving\u001b[22m\u001b[39m package versions...\n",
      "\u001b[32m\u001b[1m   Installed\u001b[22m\u001b[39m MacroTools ─ v0.5.9\n",
      "\u001b[32m\u001b[1m   Installed\u001b[22m\u001b[39m PyCall ───── v1.93.1\n",
      "\u001b[32m\u001b[1m    Updating\u001b[22m\u001b[39m `C:\\Users\\piegu\\.julia\\environments\\v1.7\\Project.toml`\n",
      " \u001b[90m [438e738f] \u001b[39m\u001b[92m+ PyCall v1.93.1\u001b[39m\n",
      "\u001b[32m\u001b[1m    Updating\u001b[22m\u001b[39m `C:\\Users\\piegu\\.julia\\environments\\v1.7\\Manifest.toml`\n",
      " \u001b[90m [1914dd2f] \u001b[39m\u001b[92m+ MacroTools v0.5.9\u001b[39m\n",
      " \u001b[90m [438e738f] \u001b[39m\u001b[92m+ PyCall v1.93.1\u001b[39m\n",
      "\u001b[32m\u001b[1m    Building\u001b[22m\u001b[39m PyCall → `C:\\Users\\piegu\\.julia\\scratchspaces\\44cfe95a-1eb2-52ea-b672-e2afdf69b78f\\1fc929f47d7c151c839c5fc1375929766fb8edcc\\build.log`\n",
      "\u001b[32m\u001b[1mPrecompiling\u001b[22m\u001b[39m project...\n",
      "\u001b[32m  ✓ \u001b[39m\u001b[90mMacroTools\u001b[39m\n",
      "\u001b[32m  ✓ \u001b[39mPyCall\n",
      "  2 dependencies successfully precompiled in 20 seconds (26 already precompiled)\n"
     ]
    }
   ],
   "source": [
    "using Pkg\n",
    "Pkg.add(\"PyCall\")"
   ]
  },
  {
   "cell_type": "code",
   "execution_count": 23,
   "metadata": {},
   "outputs": [
    {
     "ename": "LoadError",
     "evalue": "PyError (PyImport_ImportModule\n\nThe Python package qiskit could not be imported by pyimport. Usually this means\nthat you did not install qiskit in the Python version being used by PyCall.\n\nPyCall is currently configured to use the Julia-specific Python distribution\ninstalled by the Conda.jl package.  To install the qiskit module, you can\nuse `pyimport_conda(\"qiskit\", PKG)`, where PKG is the Anaconda\npackage that contains the module qiskit, or alternatively you can use the\nConda package directly (via `using Conda` followed by `Conda.add` etcetera).\n\nAlternatively, if you want to use a different Python distribution on your\nsystem, such as a system-wide Python (as opposed to the Julia-specific Python),\nyou can re-configure PyCall with that Python.   As explained in the PyCall\ndocumentation, set ENV[\"PYTHON\"] to the path/name of the python executable\nyou want to use, run Pkg.build(\"PyCall\"), and re-launch Julia.\n\n) <class 'ModuleNotFoundError'>\nModuleNotFoundError(\"No module named 'qiskit'\")\n",
     "output_type": "error",
     "traceback": [
      "PyError (PyImport_ImportModule\n\nThe Python package qiskit could not be imported by pyimport. Usually this means\nthat you did not install qiskit in the Python version being used by PyCall.\n\nPyCall is currently configured to use the Julia-specific Python distribution\ninstalled by the Conda.jl package.  To install the qiskit module, you can\nuse `pyimport_conda(\"qiskit\", PKG)`, where PKG is the Anaconda\npackage that contains the module qiskit, or alternatively you can use the\nConda package directly (via `using Conda` followed by `Conda.add` etcetera).\n\nAlternatively, if you want to use a different Python distribution on your\nsystem, such as a system-wide Python (as opposed to the Julia-specific Python),\nyou can re-configure PyCall with that Python.   As explained in the PyCall\ndocumentation, set ENV[\"PYTHON\"] to the path/name of the python executable\nyou want to use, run Pkg.build(\"PyCall\"), and re-launch Julia.\n\n) <class 'ModuleNotFoundError'>\nModuleNotFoundError(\"No module named 'qiskit'\")\n",
      "",
      "Stacktrace:",
      " [1] pyimport(name::String)",
      "   @ PyCall C:\\Users\\piegu\\.julia\\packages\\PyCall\\7a7w0\\src\\PyCall.jl:550",
      " [2] top-level scope",
      "   @ In[23]:3",
      " [3] eval",
      "   @ .\\boot.jl:373 [inlined]",
      " [4] include_string(mapexpr::typeof(REPL.softscope), mod::Module, code::String, filename::String)",
      "   @ Base .\\loading.jl:1196"
     ]
    }
   ],
   "source": [
    "using PyCall\n",
    "\n",
    "qiskit = pyimport(\"qiskit\")\n",
    "plt = pyimport(\"matplotlib.pyplot\")\n",
    "\n",
    "qc = qiskit.QuantumCircuit.from_qasm_file(\"bell.qasm\")\n",
    "backend = qiskit.Aer.get_backend(\"qasm_simulator\")\n",
    "job = qiskit.execute(qc, backend, shots=2048)\n",
    "result = job.result()\n",
    "\n",
    "ax1 = qc.draw(\"mpl\")\n",
    "ax1.suptitle(\"Bell test circuit\")\n",
    "ax2 = visualization.plot_histogram(result.get_counts(qc))\n",
    "ax2.suptitle(\"Results\")\n",
    "plt.show()"
   ]
  }
 ],
 "metadata": {
  "kernelspec": {
   "display_name": "Julia 1.7.3",
   "language": "julia",
   "name": "julia-1.7"
  },
  "language_info": {
   "file_extension": ".jl",
   "mimetype": "application/julia",
   "name": "julia",
   "version": "1.7.3"
  },
  "orig_nbformat": 4
 },
 "nbformat": 4,
 "nbformat_minor": 2
}
